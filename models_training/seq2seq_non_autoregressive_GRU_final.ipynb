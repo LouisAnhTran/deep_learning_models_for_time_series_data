{
  "cells": [
    {
      "cell_type": "markdown",
      "metadata": {
        "id": "N7u2dQY3sb6N"
      },
      "source": [
        "# Implementing an autoregressive Seq2Seq model using GRU architecture\n",
        "\n",
        "### About this notebook\n",
        "\n",
        "This notebook was created as a deliverable for the group project under 50.039 Deep Learning course at the Singapore University of Technology and Design.\n",
        "\n",
        "**Author:** Group 09 - Cohort 01"
      ]
    },
    {
      "cell_type": "markdown",
      "metadata": {
        "id": "MP_zt6Z-sj5K"
      },
      "source": [
        "## Define device for Torch - preferred CUDA for accelerated computation"
      ]
    },
    {
      "cell_type": "code",
      "execution_count": 1,
      "metadata": {
        "colab": {
          "base_uri": "https://localhost:8080/"
        },
        "id": "Jm9aTM4Dsp7F",
        "outputId": "c7b32e2b-0d8c-4830-bc7d-1aaf0f59bc09"
      },
      "outputs": [
        {
          "name": "stdout",
          "output_type": "stream",
          "text": [
            "CUDA is available: False\n"
          ]
        }
      ],
      "source": [
        "# Matplotlib\n",
        "import torch\n",
        "\n",
        "# Define device for torch\n",
        "use_cuda = True\n",
        "print(\"CUDA is available:\", torch.cuda.is_available())\n",
        "device = torch.device(\"cuda\" if (use_cuda and torch.cuda.is_available()) else \"cpu\")"
      ]
    },
    {
      "cell_type": "markdown",
      "metadata": {},
      "source": [
        "## Load model hyperparameters from the configuration file"
      ]
    },
    {
      "cell_type": "code",
      "execution_count": 2,
      "metadata": {},
      "outputs": [
        {
          "name": "stdout",
          "output_type": "stream",
          "text": [
            "HIDDEN_SIZE: 64\n",
            "FEATURE_SIZE: 4\n",
            "LEARNING_RATE: 0.001\n",
            "NUMBER_LAYERS: 2\n",
            "DROPOUT_RATE: 0.1\n",
            "N_OUTPUTS: 7\n",
            "N_INPUTS: 30\n",
            "NUM_EPOCHS: 1051\n"
          ]
        }
      ],
      "source": [
        "import sys\n",
        "import os\n",
        "\n",
        "sys.path.append(os.path.abspath(\"..\"))  # or path to your root project\n",
        "\n",
        "from config.config_GRU import (\n",
        "    HIDDEN_SIZE, \n",
        "    FEATURE_SIZE,\n",
        "    LEARNING_RATE, \n",
        "    NUMBER_LAYERS,\n",
        "    DROPOUT_RATE,\n",
        "    N_OUTPUTS,\n",
        "    N_INPUTS,\n",
        "    NUM_EPOCHS\n",
        ")\n",
        "\n",
        "print(\"HIDDEN_SIZE:\", HIDDEN_SIZE)\n",
        "print(\"FEATURE_SIZE:\", FEATURE_SIZE)\n",
        "print(\"LEARNING_RATE:\", LEARNING_RATE)\n",
        "print(\"NUMBER_LAYERS:\", NUMBER_LAYERS)\n",
        "print(\"DROPOUT_RATE:\", DROPOUT_RATE)\n",
        "print(\"N_OUTPUTS:\", N_OUTPUTS)\n",
        "print(\"N_INPUTS:\", N_INPUTS)\n",
        "print(\"NUM_EPOCHS:\", NUM_EPOCHS)"
      ]
    },
    {
      "cell_type": "code",
      "execution_count": 3,
      "metadata": {},
      "outputs": [],
      "source": [
        "# import random\n",
        "# import numpy as np\n",
        "# import torch\n",
        "\n",
        "# def set_seed(seed):\n",
        "#     random.seed(seed)\n",
        "#     np.random.seed(seed)\n",
        "#     torch.manual_seed(seed)\n",
        "#     torch.cuda.manual_seed(seed)\n",
        "#     torch.cuda.manual_seed_all(seed)  # if using multi-GPU\n",
        "\n",
        "#     # Ensures deterministic behavior\n",
        "#     torch.backends.cudnn.deterministic = True\n",
        "#     torch.backends.cudnn.benchmark = False\n",
        "    \n",
        "# set_seed(42)  # or whatever seed you want"
      ]
    },
    {
      "cell_type": "markdown",
      "metadata": {
        "id": "zDGEj8Cjs0dt"
      },
      "source": [
        "## Import train and test dataset"
      ]
    },
    {
      "cell_type": "markdown",
      "metadata": {
        "id": "9IWPk8NOs2mU"
      },
      "source": [
        "### Define load dataset function"
      ]
    },
    {
      "cell_type": "code",
      "execution_count": 4,
      "metadata": {
        "id": "6t7CqX5tzPII"
      },
      "outputs": [],
      "source": [
        "import pandas as pd\n",
        "\n",
        "def load_dataset(train_path, test_path):\n",
        "    # Load and drop date column\n",
        "    train_df = pd.read_csv(train_path, parse_dates=['date']).drop(columns=['date'])\n",
        "    test_df = pd.read_csv(test_path, parse_dates=['date']).drop(columns=['date'])\n",
        "\n",
        "    # Normalize using training statistics\n",
        "    stats = train_df.describe().transpose()\n",
        "\n",
        "    def normalize(df):\n",
        "        return (df - stats[\"mean\"]) / stats[\"std\"]\n",
        "\n",
        "    train_norm = normalize(train_df)\n",
        "    test_norm = normalize(test_df)\n",
        "\n",
        "    return train_norm, test_norm, stats"
      ]
    },
    {
      "cell_type": "markdown",
      "metadata": {
        "id": "a1vDADPDtENq"
      },
      "source": [
        "### Load train and test dataset"
      ]
    },
    {
      "cell_type": "code",
      "execution_count": 5,
      "metadata": {
        "id": "taRAOhsLxbs9"
      },
      "outputs": [],
      "source": [
        "# Load dataset from file\n",
        "train_file_path = '../dataset/train/DailyDelhiClimateTrain.csv'\n",
        "test_file_path = '../dataset/test/DailyDelhiClimateTest.csv'\n",
        "train_data, test_data, stats = load_dataset(train_file_path, test_file_path)"
      ]
    },
    {
      "cell_type": "code",
      "execution_count": 6,
      "metadata": {
        "colab": {
          "base_uri": "https://localhost:8080/",
          "height": 204
        },
        "id": "ppLCQaAGt2_G",
        "outputId": "db5cd5c6-052f-4ef6-a0ca-773749d746e0"
      },
      "outputs": [
        {
          "data": {
            "text/html": [
              "<div>\n",
              "<style scoped>\n",
              "    .dataframe tbody tr th:only-of-type {\n",
              "        vertical-align: middle;\n",
              "    }\n",
              "\n",
              "    .dataframe tbody tr th {\n",
              "        vertical-align: top;\n",
              "    }\n",
              "\n",
              "    .dataframe thead th {\n",
              "        text-align: right;\n",
              "    }\n",
              "</style>\n",
              "<table border=\"1\" class=\"dataframe\">\n",
              "  <thead>\n",
              "    <tr style=\"text-align: right;\">\n",
              "      <th></th>\n",
              "      <th>meantemp</th>\n",
              "      <th>humidity</th>\n",
              "      <th>wind_speed</th>\n",
              "      <th>meanpressure</th>\n",
              "    </tr>\n",
              "  </thead>\n",
              "  <tbody>\n",
              "    <tr>\n",
              "      <th>0</th>\n",
              "      <td>-2.108778</td>\n",
              "      <td>1.414955</td>\n",
              "      <td>-1.491189</td>\n",
              "      <td>0.025313</td>\n",
              "    </tr>\n",
              "    <tr>\n",
              "      <th>1</th>\n",
              "      <td>-2.462611</td>\n",
              "      <td>1.862191</td>\n",
              "      <td>-0.837909</td>\n",
              "      <td>0.037149</td>\n",
              "    </tr>\n",
              "    <tr>\n",
              "      <th>2</th>\n",
              "      <td>-2.494366</td>\n",
              "      <td>1.564034</td>\n",
              "      <td>-0.475464</td>\n",
              "      <td>0.041958</td>\n",
              "    </tr>\n",
              "    <tr>\n",
              "      <th>3</th>\n",
              "      <td>-2.290231</td>\n",
              "      <td>0.629806</td>\n",
              "      <td>-1.220816</td>\n",
              "      <td>0.033635</td>\n",
              "    </tr>\n",
              "    <tr>\n",
              "      <th>4</th>\n",
              "      <td>-2.653137</td>\n",
              "      <td>1.554095</td>\n",
              "      <td>-0.680070</td>\n",
              "      <td>0.029936</td>\n",
              "    </tr>\n",
              "  </tbody>\n",
              "</table>\n",
              "</div>"
            ],
            "text/plain": [
              "   meantemp  humidity  wind_speed  meanpressure\n",
              "0 -2.108778  1.414955   -1.491189      0.025313\n",
              "1 -2.462611  1.862191   -0.837909      0.037149\n",
              "2 -2.494366  1.564034   -0.475464      0.041958\n",
              "3 -2.290231  0.629806   -1.220816      0.033635\n",
              "4 -2.653137  1.554095   -0.680070      0.029936"
            ]
          },
          "execution_count": 6,
          "metadata": {},
          "output_type": "execute_result"
        }
      ],
      "source": [
        "train_data[:5]"
      ]
    },
    {
      "cell_type": "code",
      "execution_count": 7,
      "metadata": {
        "colab": {
          "base_uri": "https://localhost:8080/"
        },
        "id": "vd6UFFPyt5AQ",
        "outputId": "faf081e0-7aea-486a-d27b-61d76b9a8023"
      },
      "outputs": [
        {
          "data": {
            "text/plain": [
              "1462"
            ]
          },
          "execution_count": 7,
          "metadata": {},
          "output_type": "execute_result"
        }
      ],
      "source": [
        "# number of samples in train dataset\n",
        "len(train_data)"
      ]
    },
    {
      "cell_type": "markdown",
      "metadata": {
        "id": "8KZkxogdt63a"
      },
      "source": [
        "## Define Pytorch Dataset and Dataloader objects"
      ]
    },
    {
      "cell_type": "code",
      "execution_count": 8,
      "metadata": {
        "id": "g6QY_8vTuFX5"
      },
      "outputs": [],
      "source": [
        "import numpy as np\n",
        "import torch\n",
        "from torch.utils.data import Dataset, DataLoader"
      ]
    },
    {
      "cell_type": "markdown",
      "metadata": {
        "id": "t9EVWI1vuHgH"
      },
      "source": [
        "### Dataset object"
      ]
    },
    {
      "cell_type": "code",
      "execution_count": 9,
      "metadata": {
        "id": "FuPlwmeyz8mC"
      },
      "outputs": [],
      "source": [
        "class CustomDataset(Dataset):\n",
        "    def __init__(self, dataframe, n_inputs, n_outputs):\n",
        "        self.dataframe = dataframe\n",
        "        self.n_inputs = n_inputs\n",
        "        self.n_outputs = n_outputs\n",
        "        self.inputs = []\n",
        "        self.outputs = []\n",
        "        self.define_samples()\n",
        "\n",
        "    def define_samples(self):\n",
        "        data_array = self.dataframe.values\n",
        "        for i in range(len(data_array) - self.n_inputs - self.n_outputs):\n",
        "            input_seq = data_array[i:i+self.n_inputs, :]         # Sequence length of 30, incl all features\n",
        "            output_seq = data_array[i+self.n_inputs:i+self.n_inputs+self.n_outputs, :]  # Sequence length of 7, incl all features\n",
        "            self.inputs.append(input_seq)\n",
        "            self.outputs.append(output_seq)\n",
        "\n",
        "    def __len__(self):\n",
        "        return len(self.inputs)\n",
        "\n",
        "    def __getitem__(self, idx):\n",
        "        x = torch.tensor(self.inputs[idx], dtype=torch.float32)  # Shape: (n_inputs, 4)\n",
        "        y = torch.tensor(self.outputs[idx], dtype=torch.float32) # Shape: (n_outputs,)\n",
        "        return x, y"
      ]
    },
    {
      "cell_type": "code",
      "execution_count": 10,
      "metadata": {
        "id": "2joAhwcbz3s8"
      },
      "outputs": [],
      "source": [
        "n_inputs = N_INPUTS\n",
        "n_outputs = N_OUTPUTS\n",
        "\n",
        "train_dataset = CustomDataset(train_data, n_inputs, n_outputs)\n",
        "test_dataset = CustomDataset(test_data, n_inputs, n_outputs)"
      ]
    },
    {
      "cell_type": "code",
      "execution_count": 11,
      "metadata": {
        "colab": {
          "base_uri": "https://localhost:8080/"
        },
        "id": "RqE7_ibxuXJK",
        "outputId": "5329d756-6754-41f4-a111-397a7b400239"
      },
      "outputs": [
        {
          "data": {
            "text/plain": [
              "(tensor([[-2.1088e+00,  1.4150e+00, -1.4912e+00,  2.5313e-02],\n",
              "         [-2.4626e+00,  1.8622e+00, -8.3791e-01,  3.7149e-02],\n",
              "         [-2.4944e+00,  1.5640e+00, -4.7546e-01,  4.1958e-02],\n",
              "         [-2.2902e+00,  6.2981e-01, -1.2208e+00,  3.3635e-02],\n",
              "         [-2.6531e+00,  1.5541e+00, -6.8007e-01,  2.9936e-02],\n",
              "         [-2.5170e+00,  1.3136e+00, -1.1667e+00,  3.8259e-02],\n",
              "         [-2.5170e+00,  1.0631e+00, -1.1009e-01,  4.9356e-02],\n",
              "         [-2.2643e+00,  1.7547e-01,  7.4677e-02,  4.2222e-02],\n",
              "         [-1.5644e+00, -5.6779e-01,  1.2491e+00,  3.2710e-02],\n",
              "         [-1.9727e+00,  7.3245e-02,  1.3105e-01,  2.5313e-02],\n",
              "         [-1.3311e+00, -5.6566e-01,  8.2629e-01,  2.7955e-02],\n",
              "         [-1.5644e+00,  7.8882e-01,  1.4088e+00,  2.4784e-02],\n",
              "         [-1.3149e+00,  8.5839e-01, -4.7546e-01,  1.2366e-02],\n",
              "         [-1.7232e+00,  1.6336e+00, -1.3560e+00,  2.2538e-02],\n",
              "         [-1.4672e+00,  6.6104e-01, -1.3753e+00,  2.6369e-02],\n",
              "         [-1.5871e+00,  1.5442e+00, -1.4912e+00,  3.0861e-02],\n",
              "         [-1.2242e+00,  1.1963e+00, -3.4028e-01,  2.6237e-02],\n",
              "         [-1.5871e+00,  1.8721e+00,  4.7084e-01,  1.8839e-02],\n",
              "         [-1.7686e+00,  9.4784e-01, -2.0144e-01,  5.8603e-02],\n",
              "         [-1.9338e+00,  8.6549e-01,  3.6593e-01,  5.0941e-02],\n",
              "         [-1.9455e+00,  9.6772e-01, -1.0045e+00,  5.4904e-02],\n",
              "         [-2.1768e+00,  1.1267e+00, -8.1526e-01,  5.9343e-02],\n",
              "         [-1.5644e+00, -3.6079e-02, -6.1065e-01,  5.2130e-02],\n",
              "         [-1.5871e+00, -6.2634e-03, -1.3932e-01,  5.2130e-02],\n",
              "         [-1.8026e+00,  3.7140e-01, -2.7451e-01,  5.3517e-02],\n",
              "         [-1.7459e+00,  2.0245e-01, -4.8420e-04,  4.7506e-02],\n",
              "         [-1.7200e+00,  2.8622e-01, -2.7294e-01,  3.9051e-02],\n",
              "         [-1.4510e+00, -2.8454e-01, -6.8007e-01,  3.7334e-02],\n",
              "         [-1.5474e+00,  2.8196e-01, -7.8146e-01,  3.0630e-02],\n",
              "         [-1.4672e+00,  5.7585e-01, -1.2594e+00,  3.7466e-02]]),\n",
              " tensor([[-1.2650,  0.2879, -0.8423,  0.0405],\n",
              "         [-1.2922,  0.7292, -1.0045,  0.0272],\n",
              "         [-1.2534,  1.0018, -1.1999,  0.0335],\n",
              "         [-1.0201,  0.2862, -1.0841,  0.0232],\n",
              "         [-1.0978,  0.8059,  0.9453,  0.0192],\n",
              "         [-1.2072,  1.8846,  0.6407,  0.0292],\n",
              "         [-1.2015,  0.6298,  0.4014,  0.0420]]))"
            ]
          },
          "execution_count": 11,
          "metadata": {},
          "output_type": "execute_result"
        }
      ],
      "source": [
        "train_dataset[0]"
      ]
    },
    {
      "cell_type": "markdown",
      "metadata": {
        "id": "55AUsQGruap8"
      },
      "source": [
        "### Dataloader Object"
      ]
    },
    {
      "cell_type": "code",
      "execution_count": 12,
      "metadata": {
        "id": "Z1kkxtmP3cpG"
      },
      "outputs": [],
      "source": [
        "# Define batch size\n",
        "batch_size = 128\n",
        "\n",
        "# Random number generator (for reproducibility)\n",
        "generator = torch.Generator()  # Defaults to CPU, which DataLoader expects\n",
        "\n",
        "# Create DataLoader\n",
        "train_dataloader = DataLoader(\n",
        "    train_dataset,\n",
        "    batch_size=batch_size,\n",
        "    shuffle=True,\n",
        "    generator=generator\n",
        ")\n",
        "\n",
        "test_dataloader = DataLoader(\n",
        "    test_dataset,\n",
        "    batch_size=batch_size,\n",
        "    shuffle=False,  # Important: don't shuffle test data\n",
        "    generator=generator\n",
        ")"
      ]
    },
    {
      "cell_type": "code",
      "execution_count": 13,
      "metadata": {
        "colab": {
          "base_uri": "https://localhost:8080/"
        },
        "id": "uYd2irWlug20",
        "outputId": "a594428a-49b7-4bfc-9f07-76fb4d5aab0c"
      },
      "outputs": [
        {
          "name": "stdout",
          "output_type": "stream",
          "text": [
            "Input shape: torch.Size([128, 30, 4])\n",
            "Output shape: torch.Size([128, 7, 4])\n"
          ]
        }
      ],
      "source": [
        "# Visualize a sample\n",
        "sample = next(iter(train_dataloader))\n",
        "input_sample, output_sample = sample\n",
        "print(\"Input shape:\", input_sample.shape)\n",
        "print(\"Output shape:\", output_sample.shape)\n"
      ]
    },
    {
      "cell_type": "code",
      "execution_count": 14,
      "metadata": {
        "colab": {
          "base_uri": "https://localhost:8080/"
        },
        "id": "D6y-KAk3unqg",
        "outputId": "3fa248ab-acca-4efd-f986-8d0d83ad0dc7"
      },
      "outputs": [
        {
          "data": {
            "text/plain": [
              "12"
            ]
          },
          "execution_count": 14,
          "metadata": {},
          "output_type": "execute_result"
        }
      ],
      "source": [
        "len(train_dataloader)"
      ]
    },
    {
      "cell_type": "markdown",
      "metadata": {
        "id": "VsOnZ-HouqDe"
      },
      "source": [
        "## Define Model Architecture"
      ]
    },
    {
      "cell_type": "markdown",
      "metadata": {
        "id": "jmh7PjlyvNr2"
      },
      "source": [
        "### Our Encoder Model\n",
        "\n",
        "The EncoderGRU below processes input sequences using a Gated Recurrent Unit (GRU) network. It is designed to capture temporal dependencies and compress the full input sequence into a single hidden state that summarizes the important patterns and dynamics over time.\n",
        "\n",
        "Unlike the LSTM, the GRU architecture uses a simpler gating mechanism, making it computationally more efficient while still effectively learning long-term dependencies. This encoder takes in multivariate weather data (e.g., temperature, humidity, wind speed, pressure) and returns only the final hidden state — a compact representation of the entire sequence.\n",
        "\n",
        "This hidden state is then used to initialize the decoder in the sequence-to-sequence architecture, enabling the model to generate future predictions based on the learned context of the input sequence."
      ]
    },
    {
      "cell_type": "markdown",
      "metadata": {
        "id": "zjb0E2uy4QH7"
      },
      "source": [
        "#### Define Encoder class"
      ]
    },
    {
      "cell_type": "code",
      "execution_count": 15,
      "metadata": {
        "id": "ay2_O7__vqUE"
      },
      "outputs": [],
      "source": [
        "# Numpy\n",
        "import numpy as np\n",
        "# Torch\n",
        "import torch\n",
        "import torch.nn as nn"
      ]
    },
    {
      "cell_type": "code",
      "execution_count": 16,
      "metadata": {
        "id": "efgfQs-C4PdC"
      },
      "outputs": [],
      "source": [
        "class EncoderGRU(nn.Module):\n",
        "    def __init__(self, input_size, hidden_size, num_layers = 1, dropout = 0.0):\n",
        "        super(EncoderGRU, self).__init__()\n",
        "\n",
        "        self.hidden_size = hidden_size\n",
        "        self.num_layers = num_layers\n",
        "\n",
        "        self.gru = nn.GRU(input_size, hidden_size,\n",
        "                          num_layers = num_layers,\n",
        "                          dropout = dropout if num_layers > 1 else 0.0,\n",
        "                          batch_first = False)\n",
        "\n",
        "    def forward(self, input_seq):\n",
        "        # input_seq: (seq_len, batch_size, input_size)\n",
        "        output, hidden = self.gru(input_seq)\n",
        "        return hidden"
      ]
    },
    {
      "cell_type": "code",
      "execution_count": 17,
      "metadata": {
        "colab": {
          "base_uri": "https://localhost:8080/"
        },
        "id": "7uhXWtb46Sz2",
        "outputId": "7471197d-5fe8-4835-ea5e-130b9f402350"
      },
      "outputs": [
        {
          "name": "stdout",
          "output_type": "stream",
          "text": [
            "EncoderGRU(\n",
            "  (gru): GRU(4, 64)\n",
            ")\n"
          ]
        }
      ],
      "source": [
        "# Defining our EncoderRNN model\n",
        "hidden_size = HIDDEN_SIZE\n",
        "encoder_model = EncoderGRU(4, hidden_size)\n",
        "print(encoder_model)"
      ]
    },
    {
      "cell_type": "markdown",
      "metadata": {
        "id": "yXzAz8MMw1oV"
      },
      "source": [
        "#### Testing Encoder model"
      ]
    },
    {
      "cell_type": "code",
      "execution_count": 18,
      "metadata": {
        "colab": {
          "base_uri": "https://localhost:8080/"
        },
        "id": "sPZ8F6Ua6c0f",
        "outputId": "d0239c43-4529-4c65-b659-de3542b47905"
      },
      "outputs": [
        {
          "name": "stdout",
          "output_type": "stream",
          "text": [
            "Input shape to encoder: torch.Size([30, 128, 4])\n",
            "Encoder output (last hidden state) shape: torch.Size([1, 128, 64])\n",
            "Sample vector: tensor([[-0.0656,  0.0565, -0.1898,  ..., -0.2072,  0.1071, -0.1507],\n",
            "        [ 0.3022, -0.0464,  0.0334,  ...,  0.0326,  0.1489, -0.0624],\n",
            "        [-0.1079, -0.0622,  0.0041,  ..., -0.1914, -0.0222, -0.1529],\n",
            "        ...,\n",
            "        [ 0.1518, -0.0441,  0.0006,  ..., -0.0677,  0.0517,  0.0027],\n",
            "        [ 0.0181,  0.0115, -0.1432,  ..., -0.1574,  0.0936, -0.0231],\n",
            "        [-0.0394, -0.0956,  0.0421,  ..., -0.1467, -0.0243, -0.0919]],\n",
            "       grad_fn=<SelectBackward0>)\n"
          ]
        }
      ],
      "source": [
        "# Grab one batch from the train dataloader\n",
        "inputs, _ = next(iter(train_dataloader))  # inputs shape: (batch_size, seq_len, input_size)\n",
        "\n",
        "# Rearrange for GRU: (seq_len, batch_size, input_size)\n",
        "inputs = inputs.permute(1, 0, 2)  # (seq_len, batch_size, input_size)\n",
        "\n",
        "print(\"Input shape to encoder:\", inputs.shape)  # Should be (seq_len, batch_size, 4)\n",
        "\n",
        "# Pass through encoder\n",
        "encoder_out = encoder_model(inputs)\n",
        "\n",
        "print(\"Encoder output (last hidden state) shape:\", encoder_out.shape)  # (1, batch_size, hidden_size)\n",
        "print(\"Sample vector:\", encoder_out[0])"
      ]
    },
    {
      "cell_type": "markdown",
      "metadata": {
        "id": "Fcu36kIQ8OgR"
      },
      "source": [
        "### Our Decoder Model\n",
        "\n",
        "The DecoderGRU class is a PyTorch module designed to serve as the decoder in a sequence-to-sequence architecture. It processes input sequences using a Gated Recurrent Unit (GRU), which efficiently models temporal dependencies with a simpler structure than LSTM.\n",
        "\n",
        "At each decoding step, the model takes in a multivariate feature vector (e.g., temperature, humidity, wind speed, pressure) and a hidden state from the encoder. It produces the next predicted output through a linear layer that maps the GRU’s hidden state to the desired feature space.\n",
        "\n",
        "The decoder supports teacher forcing during training, using either the ground-truth features or its own previous prediction as input for the next step. This design enables it to generate multi-step forecasts in an autoregressive manner while retaining the context learned by the encoder."
      ]
    },
    {
      "cell_type": "markdown",
      "metadata": {
        "id": "sYc02pSlytwO"
      },
      "source": [
        "#### Define Decoder class"
      ]
    },
    {
      "cell_type": "code",
      "execution_count": 19,
      "metadata": {
        "id": "Tle-kYjf8AM9"
      },
      "outputs": [],
      "source": [
        "class DecoderGRU(nn.Module):\n",
        "    def __init__(self, hidden_size, feature_size, num_layers = 1, dropout = 0.0):\n",
        "        super(DecoderGRU, self).__init__()\n",
        "        self.hidden_size = hidden_size\n",
        "        self.feature_size = feature_size # 4 features\n",
        "        self.num_layers = num_layers\n",
        "\n",
        "        self.gru = nn.GRU(input_size=feature_size,\n",
        "                          hidden_size=hidden_size,\n",
        "                          num_layers=num_layers,\n",
        "                          dropout = dropout if num_layers > 1 else 0.0,\n",
        "                          batch_first=False)\n",
        "\n",
        "        self.linear = nn.Linear(hidden_size, feature_size)\n",
        "\n",
        "    def forward(self, x, hidden, output_length, target=None):\n",
        "        outputs = []\n",
        "        decoder_input = x  # shape: (1, batch_size, 4)\n",
        "\n",
        "        for i in range(output_length):\n",
        "            # One step forward through GRU\n",
        "            decoder_output, hidden = self.gru(decoder_input, hidden)\n",
        "            decoder_output = self.linear(decoder_output)  # shape: (1, batch_size, 4)\n",
        "            outputs.append(decoder_output)\n",
        "\n",
        "            if target is not None:\n",
        "                # Teacher forcing: use actual target\n",
        "                decoder_input = target[i].unsqueeze(0)  # shape: (1, batch_size, 4)\n",
        "            else:\n",
        "                # Auto-regressive: use own prediction\n",
        "                decoder_input = decoder_output.detach()  # detach to prevent gradient flow\n",
        "\n",
        "        return torch.cat(outputs, dim=0)  # shape: (output_length, batch_size, 4)"
      ]
    },
    {
      "cell_type": "code",
      "execution_count": 20,
      "metadata": {
        "colab": {
          "base_uri": "https://localhost:8080/"
        },
        "id": "M8E7-KNs8yQE",
        "outputId": "5eadd1f6-a22f-484f-94aa-ccbd933f7eaa"
      },
      "outputs": [
        {
          "name": "stdout",
          "output_type": "stream",
          "text": [
            "DecoderGRU(\n",
            "  (gru): GRU(4, 64)\n",
            "  (linear): Linear(in_features=64, out_features=4, bias=True)\n",
            ")\n"
          ]
        }
      ],
      "source": [
        "# Defining our DecoderRNN model\n",
        "decoder_model = DecoderGRU(hidden_size = hidden_size, feature_size = 4)\n",
        "print(decoder_model)"
      ]
    },
    {
      "cell_type": "markdown",
      "metadata": {
        "id": "36qOgPg3yw2r"
      },
      "source": [
        "#### Testing Decoder model"
      ]
    },
    {
      "cell_type": "code",
      "execution_count": 21,
      "metadata": {
        "colab": {
          "base_uri": "https://localhost:8080/"
        },
        "id": "iJDTmEKx96Mg",
        "outputId": "198e43c8-7353-4afd-ebd4-ac93673cf1ab"
      },
      "outputs": [
        {
          "name": "stdout",
          "output_type": "stream",
          "text": [
            "Decoder output shape: torch.Size([7, 128, 4])\n"
          ]
        }
      ],
      "source": [
        "# Testing our DecoderRNN model\n",
        "\n",
        "# Get a batch from dataloader\n",
        "inputs, _ = next(iter(train_dataloader))  # inputs: (batch_size, seq_length, input_size)\n",
        "\n",
        "# Permute for encoder: (seq_length, batch_size, input_size)\n",
        "encoder_input = inputs.permute(1, 0, 2)\n",
        "\n",
        "# Pass through encoder\n",
        "encoder_hidden = encoder_model(encoder_input)  # shape: (1, batch_size, hidden_size)\n",
        "\n",
        "# Initial decoder input: zeros, shape (1, batch_size, 1)\n",
        "decoder_input = torch.zeros(1, inputs.size(0), 4).to(encoder_input.device)\n",
        "\n",
        "# Run decoder\n",
        "decoder_output = decoder_model(decoder_input, encoder_hidden, n_outputs)\n",
        "\n",
        "# Output shape: (T_out, B, 1)\n",
        "print(\"Decoder output shape:\", decoder_output.shape)"
      ]
    },
    {
      "cell_type": "markdown",
      "metadata": {
        "id": "oVmud6MSy3FG"
      },
      "source": [
        "### Our Seq2Seq Model\n",
        "\n",
        "By assembling the EncoderGRU and DecoderGRU classes, the Seq2SeqGRU class implements a sequence-to-sequence model using an encoder-decoder architecture built with GRUs.\n",
        "\n",
        "The encoder processes the entire input sequence — consisting of multiple time steps and multiple weather features — and compresses it into a final hidden state. This hidden state captures the temporal patterns and context of the input data and serves as the initial memory for the decoder.\n",
        "\n",
        "The decoder then uses this context to generate the output sequence one timestep at a time, predicting all target features (e.g., temperature, humidity, wind speed, pressure) for each future step. During training, it can optionally use teacher forcing, feeding the ground-truth values into subsequent steps to improve convergence.\n",
        "\n",
        "This design enables the model to make informed, multi-step forecasts of all relevant features based on learned temporal dynamics from the input sequence."
      ]
    },
    {
      "cell_type": "markdown",
      "metadata": {
        "id": "ISTxq5dazrZp"
      },
      "source": [
        "#### Define Seq2Seq class"
      ]
    },
    {
      "cell_type": "code",
      "execution_count": null,
      "metadata": {},
      "outputs": [],
      "source": [
        "# def init_weights(m):\n",
        "#     if isinstance(m, nn.GRU):\n",
        "#         for name, param in m.named_parameters():\n",
        "#             if 'weight_ih' in name:\n",
        "#                 nn.init.xavier_uniform_(param.data)\n",
        "#             elif 'weight_hh' in name:\n",
        "#                 nn.init.orthogonal_(param.data)\n",
        "#             elif 'bias' in name:\n",
        "#                 nn.init.constant_(param.data, 0)\n",
        "#     elif isinstance(m, nn.Linear):\n",
        "#         nn.init.xavier_uniform_(m.weight)\n",
        "#         if m.bias is not None:\n",
        "#             nn.init.constant_(m.bias, 0)"
      ]
    },
    {
      "cell_type": "code",
      "execution_count": null,
      "metadata": {
        "id": "LM1wdc2P-0Y0"
      },
      "outputs": [],
      "source": [
        "class Seq2SeqGRU(nn.Module):\n",
        "    def __init__(self, hidden_size, feature_size, output_size, num_layers=1, dropout=0.0):\n",
        "        super(Seq2SeqGRU, self).__init__()\n",
        "\n",
        "        self.output_length = output_size\n",
        "\n",
        "        self.encoder = EncoderGRU(input_size=feature_size, # 4 features\n",
        "                                  hidden_size=hidden_size,\n",
        "                                  num_layers= num_layers,\n",
        "                                  dropout=dropout)\n",
        "\n",
        "        self.decoder = DecoderGRU(hidden_size=hidden_size,\n",
        "                                  feature_size=feature_size,\n",
        "                                  num_layers=num_layers,\n",
        "                                  dropout=dropout)  # 4 features\n",
        "        # self.encoder.apply(init_weights)\n",
        "        # self.decoder.apply(init_weights)\n",
        "\n",
        "    def forward(self, inputs, outputs=None):\n",
        "        \"\"\"\n",
        "        Args:\n",
        "            inputs: shape (seq_len, batch_size, input_size=4)\n",
        "            outputs: optional teacher forcing target, shape (output_length, batch_size, 1)\n",
        "        \"\"\"\n",
        "        hidden = self.encoder(inputs)  # returns (1, batch_size, hidden_size)\n",
        "\n",
        "        # Initial decoder input: zeros (1, batch_size, 4)\n",
        "        decoder_input = torch.zeros(1, inputs.shape[1], self.decoder.feature_size).to(inputs.device)\n",
        "\n",
        "        # Pass to decoder\n",
        "        output = self.decoder(decoder_input, hidden, self.output_length, outputs)\n",
        "        return output  # shape: (output_length, batch_size, 1)"
      ]
    },
    {
      "cell_type": "code",
      "execution_count": 24,
      "metadata": {},
      "outputs": [],
      "source": [
        "dropout_rate = DROPOUT_RATE"
      ]
    },
    {
      "cell_type": "code",
      "execution_count": 25,
      "metadata": {
        "colab": {
          "base_uri": "https://localhost:8080/"
        },
        "id": "q_jTm_nWAsxB",
        "outputId": "33c2b165-22ad-46cf-cade-3ef6c6a59d7b"
      },
      "outputs": [
        {
          "name": "stdout",
          "output_type": "stream",
          "text": [
            "Seq2SeqGRU(\n",
            "  (encoder): EncoderGRU(\n",
            "    (gru): GRU(4, 64)\n",
            "  )\n",
            "  (decoder): DecoderGRU(\n",
            "    (gru): GRU(4, 64)\n",
            "    (linear): Linear(in_features=64, out_features=4, bias=True)\n",
            "  )\n",
            ")\n"
          ]
        }
      ],
      "source": [
        "# Defining our Seq2Seq model\n",
        "seq2seq_model = Seq2SeqGRU(hidden_size = hidden_size, \\\n",
        "                          feature_size = 4, \\\n",
        "                          output_size = n_outputs, \\\n",
        "                          dropout=dropout_rate)\n",
        "print(seq2seq_model)"
      ]
    },
    {
      "cell_type": "markdown",
      "metadata": {
        "id": "4VFe3IH43Frj"
      },
      "source": [
        "#### Testing seq2seq model"
      ]
    },
    {
      "cell_type": "code",
      "execution_count": 26,
      "metadata": {
        "colab": {
          "base_uri": "https://localhost:8080/"
        },
        "id": "I4527_oiAwig",
        "outputId": "16c06e3d-866f-4062-cadf-a24ab6ea673a"
      },
      "outputs": [
        {
          "name": "stdout",
          "output_type": "stream",
          "text": [
            "Input shape: torch.Size([30, 128, 4])\n",
            "Target shape: torch.Size([7, 128, 4])\n",
            "Output shape: torch.Size([7, 128, 4])\n"
          ]
        }
      ],
      "source": [
        "# Instantiate model\n",
        "seq2seq_model = Seq2SeqGRU(hidden_size=hidden_size, feature_size = 4, output_size=n_outputs).to(device)\n",
        "\n",
        "# Get a batch from the dataloader\n",
        "inputs, outputs = next(iter(train_dataloader))  # shapes: (B, T_in, 4), (B, T_out)\n",
        "\n",
        "inputs = inputs.to(device)\n",
        "outputs = outputs.to(device)\n",
        "\n",
        "# Permute to (seq_length, batch_size, input_size)\n",
        "inputs = inputs.permute(1, 0, 2)\n",
        "outputs = outputs.permute(1, 0, 2)\n",
        "\n",
        "print(\"Input shape:\", inputs.shape)   # (input_seq_len, batch_size, 4)\n",
        "print(\"Target shape:\", outputs.shape) # (output_seq_len, batch_size, 1)\n",
        "\n",
        "# Forward pass\n",
        "seq2seq_out = seq2seq_model(inputs, outputs)\n",
        "\n",
        "print(\"Output shape:\", seq2seq_out.shape)  # (output_seq_len, batch_size, 1)"
      ]
    },
    {
      "cell_type": "markdown",
      "metadata": {
        "id": "NCSgP6gY3VhG"
      },
      "source": [
        "## Model training"
      ]
    },
    {
      "cell_type": "markdown",
      "metadata": {
        "id": "vncKaJfE3WWw"
      },
      "source": [
        "### Define function for training\n"
      ]
    },
    {
      "cell_type": "code",
      "execution_count": 27,
      "metadata": {
        "id": "Oo20b4OTBkmO"
      },
      "outputs": [],
      "source": [
        "loss_storage = []\n",
        "\n",
        "def train(dataloader, model, num_epochs, learning_rate, device):\n",
        "    # Set model to training mode\n",
        "    model.train()\n",
        "\n",
        "    criterion = nn.MSELoss()\n",
        "    optimizer = torch.optim.Adam(model.parameters(), lr=learning_rate)\n",
        "\n",
        "    for epoch in range(num_epochs):\n",
        "        total_loss = 0\n",
        "\n",
        "        for inputs, targets in dataloader:\n",
        "            # Move to device\n",
        "            inputs = inputs.to(device)\n",
        "            targets = targets.to(device)\n",
        "\n",
        "            # Reshape to (seq_len, batch_size, input_size)\n",
        "            inputs = inputs.permute(1, 0, 2)  # (T_in, B, 4)\n",
        "            targets = targets.permute(1, 0, 2)  # (T_out, B, 4)\n",
        "\n",
        "            # Zero gradients\n",
        "            optimizer.zero_grad()\n",
        "\n",
        "            # Forward pass with teacher forcing\n",
        "            predictions = model(inputs, targets)\n",
        "\n",
        "            # Compute loss\n",
        "            loss = criterion(predictions, targets)\n",
        "            total_loss += loss.item()\n",
        "\n",
        "            # Backward pass and optimize\n",
        "            loss.backward()\n",
        "            optimizer.step()\n",
        "\n",
        "        avg_loss = total_loss / len(dataloader)\n",
        "        loss_storage.append(avg_loss)\n",
        "\n",
        "        # Print loss periodically\n",
        "        if (epoch + 1) % 25 == 0 or epoch == 0:\n",
        "            print(f\"Epoch {epoch + 1}/{num_epochs}, Avg Loss: {avg_loss:.4f}\")"
      ]
    },
    {
      "cell_type": "markdown",
      "metadata": {
        "id": "ovTHSMzJ5iCc"
      },
      "source": [
        "### Instantiate a model from Seq2Seq class"
      ]
    },
    {
      "cell_type": "code",
      "execution_count": 28,
      "metadata": {},
      "outputs": [
        {
          "name": "stdout",
          "output_type": "stream",
          "text": [
            "HIDDEN_SIZE: 64\n",
            "FEATURE_SIZE: 4\n",
            "LEARNING_RATE: 0.001\n",
            "NUMBER_LAYERS: 2\n",
            "DROPOUT_RATE: 0.1\n",
            "N_OUTPUTS: 7\n",
            "N_INPUTS: 30\n",
            "NUM_EPOCHS: 1051\n"
          ]
        }
      ],
      "source": [
        "print(\"HIDDEN_SIZE:\", HIDDEN_SIZE)\n",
        "print(\"FEATURE_SIZE:\", FEATURE_SIZE)\n",
        "print(\"LEARNING_RATE:\", LEARNING_RATE)\n",
        "print(\"NUMBER_LAYERS:\", NUMBER_LAYERS)\n",
        "print(\"DROPOUT_RATE:\", DROPOUT_RATE)\n",
        "print(\"N_OUTPUTS:\", N_OUTPUTS)\n",
        "print(\"N_INPUTS:\", N_INPUTS)\n",
        "print(\"NUM_EPOCHS:\", NUM_EPOCHS)"
      ]
    },
    {
      "cell_type": "code",
      "execution_count": 29,
      "metadata": {
        "id": "HtTLM6dH5t-C"
      },
      "outputs": [],
      "source": [
        "# Hyperparameters\n",
        "hidden_size = HIDDEN_SIZE\n",
        "feature_size = FEATURE_SIZE\n",
        "learning_rate = LEARNING_RATE\n",
        "num_epochs = NUM_EPOCHS\n",
        "num_layers = NUMBER_LAYERS\n",
        "\n",
        "seq2seq_model = Seq2SeqGRU(hidden_size=hidden_size,\n",
        "                           feature_size = feature_size,\n",
        "                           output_size=n_outputs,\n",
        "                           num_layers=num_layers,\n",
        "                           dropout=dropout_rate).to(device)"
      ]
    },
    {
      "cell_type": "code",
      "execution_count": 30,
      "metadata": {
        "colab": {
          "base_uri": "https://localhost:8080/"
        },
        "id": "s5fRqAso7T_h",
        "outputId": "c2fe9119-5b86-4c80-d794-3f2b94276f02"
      },
      "outputs": [
        {
          "data": {
            "text/plain": [
              "Seq2SeqGRU(\n",
              "  (encoder): EncoderGRU(\n",
              "    (gru): GRU(4, 64, num_layers=2, dropout=0.1)\n",
              "  )\n",
              "  (decoder): DecoderGRU(\n",
              "    (gru): GRU(4, 64, num_layers=2, dropout=0.1)\n",
              "    (linear): Linear(in_features=64, out_features=4, bias=True)\n",
              "  )\n",
              ")"
            ]
          },
          "execution_count": 30,
          "metadata": {},
          "output_type": "execute_result"
        }
      ],
      "source": [
        "seq2seq_model"
      ]
    },
    {
      "cell_type": "markdown",
      "metadata": {
        "id": "KDOXCMEn7j7T"
      },
      "source": [
        "### Train model"
      ]
    },
    {
      "cell_type": "code",
      "execution_count": 31,
      "metadata": {
        "colab": {
          "base_uri": "https://localhost:8080/"
        },
        "id": "Sgw31xOfC6AY",
        "outputId": "96a2c0c7-13ee-4684-eba7-b58f56d9f3df"
      },
      "outputs": [
        {
          "name": "stdout",
          "output_type": "stream",
          "text": [
            "Epoch 1/1051, Avg Loss: 0.7874\n",
            "Epoch 25/1051, Avg Loss: 0.4763\n",
            "Epoch 50/1051, Avg Loss: 0.3188\n",
            "Epoch 75/1051, Avg Loss: 0.2376\n",
            "Epoch 100/1051, Avg Loss: 0.1817\n",
            "Epoch 125/1051, Avg Loss: 0.1464\n",
            "Epoch 150/1051, Avg Loss: 0.1288\n",
            "Epoch 175/1051, Avg Loss: 0.1073\n",
            "Epoch 200/1051, Avg Loss: 0.0952\n",
            "Epoch 225/1051, Avg Loss: 0.0867\n",
            "Epoch 250/1051, Avg Loss: 0.0746\n",
            "Epoch 275/1051, Avg Loss: 0.0685\n",
            "Epoch 300/1051, Avg Loss: 0.0638\n",
            "Epoch 325/1051, Avg Loss: 0.0570\n",
            "Epoch 350/1051, Avg Loss: 0.0528\n",
            "Epoch 375/1051, Avg Loss: 0.0503\n",
            "Epoch 400/1051, Avg Loss: 0.0461\n",
            "Epoch 425/1051, Avg Loss: 0.0451\n",
            "Epoch 450/1051, Avg Loss: 0.0403\n",
            "Epoch 475/1051, Avg Loss: 0.0389\n",
            "Epoch 500/1051, Avg Loss: 0.0356\n",
            "Epoch 525/1051, Avg Loss: 0.0341\n",
            "Epoch 550/1051, Avg Loss: 0.0328\n",
            "Epoch 575/1051, Avg Loss: 0.0317\n",
            "Epoch 600/1051, Avg Loss: 0.0292\n",
            "Epoch 625/1051, Avg Loss: 0.0286\n",
            "Epoch 650/1051, Avg Loss: 0.0263\n",
            "Epoch 675/1051, Avg Loss: 0.0246\n",
            "Epoch 700/1051, Avg Loss: 0.0240\n",
            "Epoch 725/1051, Avg Loss: 0.0234\n",
            "Epoch 750/1051, Avg Loss: 0.0228\n",
            "Epoch 775/1051, Avg Loss: 0.0221\n",
            "Epoch 800/1051, Avg Loss: 0.0208\n",
            "Epoch 825/1051, Avg Loss: 0.0203\n",
            "Epoch 850/1051, Avg Loss: 0.0200\n",
            "Epoch 875/1051, Avg Loss: 0.0197\n",
            "Epoch 900/1051, Avg Loss: 0.0183\n",
            "Epoch 925/1051, Avg Loss: 0.0178\n",
            "Epoch 950/1051, Avg Loss: 0.0173\n",
            "Epoch 975/1051, Avg Loss: 0.0166\n",
            "Epoch 1000/1051, Avg Loss: 0.0166\n",
            "Epoch 1025/1051, Avg Loss: 0.0163\n",
            "Epoch 1050/1051, Avg Loss: 0.0155\n",
            "4min 26s ± 0 ns per loop (mean ± std. dev. of 1 run, 1 loop each)\n"
          ]
        }
      ],
      "source": [
        "# Run training for warm-up\n",
        "%timeit -r 1 -n 1 train( dataloader=train_dataloader, model=seq2seq_model, num_epochs=num_epochs, learning_rate=1e-3, device=device)"
      ]
    },
    {
      "cell_type": "markdown",
      "metadata": {
        "id": "YU-CPRVk8EhT"
      },
      "source": [
        "### Save the model parameter"
      ]
    },
    {
      "cell_type": "code",
      "execution_count": 32,
      "metadata": {
        "colab": {
          "base_uri": "https://localhost:8080/"
        },
        "id": "PVy_etnL8H1x",
        "outputId": "59622a62-3306-4e38-a95b-564c11568415"
      },
      "outputs": [
        {
          "name": "stdout",
          "output_type": "stream",
          "text": [
            "Model saved to: ../models_weights_storage/seq2seq_non_autoregressive_GRU.pth\n"
          ]
        }
      ],
      "source": [
        "# save model before eval\n",
        "import torch\n",
        "import os\n",
        "\n",
        "model_name=\"seq2seq_non_autoregressive_GRU\"\n",
        "\n",
        "# Path to save model\n",
        "model_path = os.path.join(\"../models_weights_storage\", f'{model_name}.pth')\n",
        "\n",
        "# Save the model's state dict\n",
        "torch.save(seq2seq_model.state_dict(), model_path)\n",
        "print(f\"Model saved to: {model_path}\")"
      ]
    },
    {
      "cell_type": "code",
      "execution_count": 33,
      "metadata": {
        "colab": {
          "base_uri": "https://localhost:8080/"
        },
        "id": "BX-8ROTC9QXv",
        "outputId": "27cffafe-c0fc-44cb-facf-6aa9faa2bb24"
      },
      "outputs": [
        {
          "data": {
            "text/plain": [
              "[0.7874322757124901,\n",
              " 0.5894788205623627,\n",
              " 0.541904183725516,\n",
              " 0.5359515622258186,\n",
              " 0.519736814002196,\n",
              " 0.5257951815923055,\n",
              " 0.7234972019990286,\n",
              " 0.5103893727064133,\n",
              " 0.7121068115035692,\n",
              " 0.5030940361320972,\n",
              " 0.5000896006822586,\n",
              " 0.5027795433998108,\n",
              " 0.5063986591994762,\n",
              " 0.48864343017339706,\n",
              " 0.4956877566874027,\n",
              " 0.49416852990786236,\n",
              " 0.693846178551515,\n",
              " 0.4947747737169266,\n",
              " 0.48308172325293225,\n",
              " 0.48273734375834465,\n",
              " 0.6893561370670795,\n",
              " 0.47845655928055447,\n",
              " 0.49877534185846645,\n",
              " 0.6934425147871176,\n",
              " 0.4762617846330007,\n",
              " 0.6756971068680286,\n",
              " 0.48894770940144855,\n",
              " 0.47202783947189647,\n",
              " 0.46913491437832516,\n",
              " 0.46961454302072525,\n",
              " 0.46501755341887474,\n",
              " 0.46472348272800446,\n",
              " 0.4523320260147254,\n",
              " 0.45348607500394184,\n",
              " 0.44238077476620674,\n",
              " 0.4341822452843189,\n",
              " 0.4318187013268471,\n",
              " 0.42624026785294217,\n",
              " 0.4042626805603504,\n",
              " 0.4021430139740308,\n",
              " 0.39584704612692195,\n",
              " 0.40382956092556316,\n",
              " 0.38280554860830307,\n",
              " 0.3726456935207049,\n",
              " 0.36226819331447285,\n",
              " 0.35645640393098194,\n",
              " 0.35064202298720676,\n",
              " 0.34497925514976185,\n",
              " 0.333493201682965,\n",
              " 0.3188409072657426,\n",
              " 0.31512198100487393,\n",
              " 0.31346894552310306,\n",
              " 0.3095301662882169,\n",
              " 0.2998638041317463,\n",
              " 0.3072895171741645,\n",
              " 0.3242502386371295,\n",
              " 0.31528935581445694,\n",
              " 0.29458940277496976,\n",
              " 0.28536369403203327,\n",
              " 0.28011076028148335,\n",
              " 0.273235522210598,\n",
              " 0.2669941335916519,\n",
              " 0.26676860203345615,\n",
              " 0.26552030940850574,\n",
              " 0.2591094734768073,\n",
              " 0.26668598751227063,\n",
              " 0.25922344128290814,\n",
              " 0.24608458951115608,\n",
              " 0.24769129355748495,\n",
              " 0.24310602992773056,\n",
              " 0.2389933504164219,\n",
              " 0.25154809653759,\n",
              " 0.25672197714447975,\n",
              " 0.23261606320738792,\n",
              " 0.23764441286524138,\n",
              " 0.24201022957762083,\n",
              " 0.2266399823129177,\n",
              " 0.23785839850703874,\n",
              " 0.21834840873877207,\n",
              " 0.22644426797827086,\n",
              " 0.22282378996411958,\n",
              " 0.22525579233964285,\n",
              " 0.20965644965569177,\n",
              " 0.2106842907766501,\n",
              " 0.21142216523488364,\n",
              " 0.21226064984997114,\n",
              " 0.2046111561357975,\n",
              " 0.20918703700105348,\n",
              " 0.19943147525191307,\n",
              " 0.2010692929228147,\n",
              " 0.19520589212576547,\n",
              " 0.19694514572620392,\n",
              " 0.19696610793471336,\n",
              " 0.18875413884719214,\n",
              " 0.18930070226391157,\n",
              " 0.18805677443742752,\n",
              " 0.19267032916347185,\n",
              " 0.18286613747477531,\n",
              " 0.1805587112903595,\n",
              " 0.1817244179546833,\n",
              " 0.1792112092177073,\n",
              " 0.1751048043370247,\n",
              " 0.18221154808998108,\n",
              " 0.17356876656413078,\n",
              " 0.17267128204305968,\n",
              " 0.17113637924194336,\n",
              " 0.17024421443541846,\n",
              " 0.17065438628196716,\n",
              " 0.16855941712856293,\n",
              " 0.1644195852180322,\n",
              " 0.16428120185931525,\n",
              " 0.16260257239143053,\n",
              " 0.16370323672890663,\n",
              " 0.15593272695938745,\n",
              " 0.1572888381779194,\n",
              " 0.15682226916154227,\n",
              " 0.15606925760706267,\n",
              " 0.15687898298104605,\n",
              " 0.15701141953468323,\n",
              " 0.15746852258841196,\n",
              " 0.15463491280873617,\n",
              " 0.15444653232892355,\n",
              " 0.15221682315071425,\n",
              " 0.15022433549165726,\n",
              " 0.14636935045321783,\n",
              " 0.14576778436700502,\n",
              " 0.14974397296706835,\n",
              " 0.1442422717809677,\n",
              " 0.14217407008012137,\n",
              " 0.1417194021244844,\n",
              " 0.1433807605256637,\n",
              " 0.1468614066640536,\n",
              " 0.14339624717831612,\n",
              " 0.13771523038546243,\n",
              " 0.13702018931508064,\n",
              " 0.135933772350351,\n",
              " 0.13427836944659552,\n",
              " 0.13373591688772044,\n",
              " 0.13329695972303549,\n",
              " 0.13138757646083832,\n",
              " 0.13389242688814798,\n",
              " 0.13227019707361856,\n",
              " 0.13165969029068947,\n",
              " 0.13150862293938795,\n",
              " 0.1271650611112515,\n",
              " 0.12707008235156536,\n",
              " 0.12796744207541147,\n",
              " 0.12961465554932752,\n",
              " 0.12847812411685786,\n",
              " 0.12883786236246428,\n",
              " 0.12784200720489025,\n",
              " 0.1281742174178362,\n",
              " 0.12270682925979297,\n",
              " 0.1215177271515131,\n",
              " 0.1201145313680172,\n",
              " 0.12067364839216073,\n",
              " 0.12074908800423145,\n",
              " 0.11981667764484882,\n",
              " 0.11709106216828029,\n",
              " 0.11711266202231248,\n",
              " 0.11537366236249606,\n",
              " 0.11431774124503136,\n",
              " 0.11417900025844574,\n",
              " 0.1151398563136657,\n",
              " 0.1119672991335392,\n",
              " 0.11610571915904681,\n",
              " 0.11453613576789697,\n",
              " 0.11042371330161889,\n",
              " 0.11066528595983982,\n",
              " 0.11056321300566196,\n",
              " 0.10979799119134744,\n",
              " 0.11171652190387249,\n",
              " 0.11174974280099075,\n",
              " 0.10970991291105747,\n",
              " 0.10732311569154263,\n",
              " 0.10673076969881852,\n",
              " 0.10618760623037815,\n",
              " 0.10549755021929741,\n",
              " 0.10703371030588944,\n",
              " 0.10665398463606834,\n",
              " 0.1030322394023339,\n",
              " 0.10445775898794334,\n",
              " 0.10293287845949332,\n",
              " 0.10657462663948536,\n",
              " 0.10250651588042577,\n",
              " 0.10195177234709263,\n",
              " 0.10339650760094325,\n",
              " 0.10328368283808231,\n",
              " 0.10349853460987408,\n",
              " 0.10292658147712548,\n",
              " 0.09951368533074856,\n",
              " 0.10034504160284996,\n",
              " 0.09943908701340358,\n",
              " 0.09698511411746343,\n",
              " 0.09709103032946587,\n",
              " 0.09759481189151605,\n",
              " 0.09837571034828822,\n",
              " 0.09638671328624089,\n",
              " 0.09554218190411727,\n",
              " 0.09524767349163692,\n",
              " 0.09380033984780312,\n",
              " 0.09260581930478413,\n",
              " 0.09127327613532543,\n",
              " 0.09132720654209454,\n",
              " 0.09259517056246598,\n",
              " 0.09007229283452034,\n",
              " 0.09109402447938919,\n",
              " 0.09222128987312317,\n",
              " 0.09071456020077069,\n",
              " 0.08868868773182233,\n",
              " 0.09108037998278935,\n",
              " 0.08812947136660416,\n",
              " 0.08852493825058143,\n",
              " 0.08657551060120265,\n",
              " 0.08755309941867988,\n",
              " 0.08944826883574326,\n",
              " 0.08697113767266273,\n",
              " 0.08858059719204903,\n",
              " 0.08623297698795795,\n",
              " 0.08655131297806899,\n",
              " 0.08473804034292698,\n",
              " 0.0850969236344099,\n",
              " 0.08638345325986545,\n",
              " 0.08781038783490658,\n",
              " 0.0866631834457318,\n",
              " 0.0853878806034724,\n",
              " 0.08571891114115715,\n",
              " 0.08410294416050117,\n",
              " 0.08429662324488163,\n",
              " 0.08335249063869317,\n",
              " 0.08196717066069444,\n",
              " 0.08334669967492421,\n",
              " 0.08189918100833893,\n",
              " 0.0811940599232912,\n",
              " 0.0797939607873559,\n",
              " 0.08034172902504604,\n",
              " 0.08082072933514912,\n",
              " 0.07877606091399987,\n",
              " 0.08073258462051551,\n",
              " 0.07919271787007649,\n",
              " 0.07890006216863792,\n",
              " 0.0787335888793071,\n",
              " 0.0770612998555104,\n",
              " 0.07811469087998073,\n",
              " 0.07662321192522843,\n",
              " 0.076834703485171,\n",
              " 0.07538180767248075,\n",
              " 0.07562891766428947,\n",
              " 0.07412757351994514,\n",
              " 0.07464194856584072,\n",
              " 0.07578396797180176,\n",
              " 0.07579775527119637,\n",
              " 0.074884503458937,\n",
              " 0.07643103537460168,\n",
              " 0.07717525586485863,\n",
              " 0.07458746805787086,\n",
              " 0.07402705680578947,\n",
              " 0.07387957784036796,\n",
              " 0.07574539259076118,\n",
              " 0.07712655949095885,\n",
              " 0.07295411825180054,\n",
              " 0.07267964072525501,\n",
              " 0.07238468900322914,\n",
              " 0.07247404629985492,\n",
              " 0.07151956297457218,\n",
              " 0.07299161391953628,\n",
              " 0.06995853657523791,\n",
              " 0.07251582418878873,\n",
              " 0.07054335810244083,\n",
              " 0.06996516759196918,\n",
              " 0.07104471450050671,\n",
              " 0.07065662493308385,\n",
              " 0.07006756712992986,\n",
              " 0.06761704261104266,\n",
              " 0.06851841385165851,\n",
              " 0.06879500920573871,\n",
              " 0.0692129045103987,\n",
              " 0.06819076463580132,\n",
              " 0.06730788977195819,\n",
              " 0.06853269785642624,\n",
              " 0.06905562399576108,\n",
              " 0.06705817890663941,\n",
              " 0.06843104772269726,\n",
              " 0.0690723607937495,\n",
              " 0.06668035003046195,\n",
              " 0.0674263620749116,\n",
              " 0.06719179389377435,\n",
              " 0.0692825261503458,\n",
              " 0.0670595212529103,\n",
              " 0.06548140073815982,\n",
              " 0.06481801097591718,\n",
              " 0.06502929640312989,\n",
              " 0.06385209287206332,\n",
              " 0.06509478203952312,\n",
              " 0.06612814838687579,\n",
              " 0.06587129831314087,\n",
              " 0.06366572963694732,\n",
              " 0.06312742984543245,\n",
              " 0.0638335042943557,\n",
              " 0.0637785280123353,\n",
              " 0.06440422404557467,\n",
              " 0.0634368546307087,\n",
              " 0.062092168567081295,\n",
              " 0.06275421349952619,\n",
              " 0.06268009822815657,\n",
              " 0.06156302957485119,\n",
              " 0.061567943232754864,\n",
              " 0.06258787866681814,\n",
              " 0.06356760766357183,\n",
              " 0.06199356075376272,\n",
              " 0.06095849350094795,\n",
              " 0.06027253189434608,\n",
              " 0.06122712573657433,\n",
              " 0.059751867627104126,\n",
              " 0.059551951475441456,\n",
              " 0.05933573345343272,\n",
              " 0.05919887560109297,\n",
              " 0.05963866474727789,\n",
              " 0.058815645364423595,\n",
              " 0.05964276505013307,\n",
              " 0.06002962154646715,\n",
              " 0.06091126799583435,\n",
              " 0.059138134121894836,\n",
              " 0.057952490635216236,\n",
              " 0.05701821825156609,\n",
              " 0.058057595354815326,\n",
              " 0.059546587988734245,\n",
              " 0.05868589164068302,\n",
              " 0.05630887889613708,\n",
              " 0.05687127417574326,\n",
              " 0.05797347861031691,\n",
              " 0.05765371831754843,\n",
              " 0.05631853795299927,\n",
              " 0.056254018718997635,\n",
              " 0.05806116200983524,\n",
              " 0.0572492570305864,\n",
              " 0.05649173445999622,\n",
              " 0.05537842524548372,\n",
              " 0.05522821998844544,\n",
              " 0.05452284558365742,\n",
              " 0.055278265538314976,\n",
              " 0.054865624755620956,\n",
              " 0.05416685498009125,\n",
              " 0.0551149599875013,\n",
              " 0.05512354957560698,\n",
              " 0.05440892341236273,\n",
              " 0.052919247498114906,\n",
              " 0.052695355067650475,\n",
              " 0.05233028344810009,\n",
              " 0.052770049311220646,\n",
              " 0.05278630368411541,\n",
              " 0.05282453106095394,\n",
              " 0.05263794337709745,\n",
              " 0.05246969840178887,\n",
              " 0.05403142298261324,\n",
              " 0.052355583446721234,\n",
              " 0.05243891260276238,\n",
              " 0.05208516400307417,\n",
              " 0.05205119960010052,\n",
              " 0.05248061412324508,\n",
              " 0.051838881336152554,\n",
              " 0.051775286284585796,\n",
              " 0.05057441319028536,\n",
              " 0.05136204200486342,\n",
              " 0.0505236592143774,\n",
              " 0.05011541427423557,\n",
              " 0.051049513121445976,\n",
              " 0.05103116234143575,\n",
              " 0.05143618335326513,\n",
              " 0.051699709768096604,\n",
              " 0.051702444752057396,\n",
              " 0.05082654611517986,\n",
              " 0.05036180807898442,\n",
              " 0.05017617344856262,\n",
              " 0.05029029647509257,\n",
              " 0.04981615704794725,\n",
              " 0.04965025217582782,\n",
              " 0.04843701981008053,\n",
              " 0.0491636653120319,\n",
              " 0.04910051729530096,\n",
              " 0.0494328731050094,\n",
              " 0.04768957135577997,\n",
              " 0.048975867219269276,\n",
              " 0.04885785343746344,\n",
              " 0.04846474248915911,\n",
              " 0.048506420105695724,\n",
              " 0.047943154660363994,\n",
              " 0.047765119622151055,\n",
              " 0.04870131239295006,\n",
              " 0.04823049561431011,\n",
              " 0.04807170759886503,\n",
              " 0.047342175928254925,\n",
              " 0.047594763028124966,\n",
              " 0.04637787863612175,\n",
              " 0.046257594289879,\n",
              " 0.045790984916190304,\n",
              " 0.04633511913319429,\n",
              " 0.04645610973238945,\n",
              " 0.04733337524036566,\n",
              " 0.04605340460936228,\n",
              " 0.045314267898599304,\n",
              " 0.045367311065395675,\n",
              " 0.04597401556869348,\n",
              " 0.045703100971877575,\n",
              " 0.04487221967428923,\n",
              " 0.045611852779984474,\n",
              " 0.04483794358869394,\n",
              " 0.0453120997796456,\n",
              " 0.04437179397791624,\n",
              " 0.044216872192919254,\n",
              " 0.044644568425913654,\n",
              " 0.04437169929345449,\n",
              " 0.044742921056846775,\n",
              " 0.043807462168236576,\n",
              " 0.04450255849709114,\n",
              " 0.04435041422645251,\n",
              " 0.044376897625625134,\n",
              " 0.043060543946921825,\n",
              " 0.04317032266408205,\n",
              " 0.04374045475075642,\n",
              " 0.04383621923625469,\n",
              " 0.04282873806854089,\n",
              " 0.043247729229430355,\n",
              " 0.043926398269832134,\n",
              " 0.0450847822551926,\n",
              " 0.044885170025130115,\n",
              " 0.04505394957959652,\n",
              " 0.04220962462325891,\n",
              " 0.04257216118276119,\n",
              " 0.04236390131215254,\n",
              " 0.042216950406630836,\n",
              " 0.0423379922285676,\n",
              " 0.042453289652864136,\n",
              " 0.04213178250938654,\n",
              " 0.04232968483120203,\n",
              " 0.04227840341627598,\n",
              " 0.042227688866357006,\n",
              " 0.04138291999697685,\n",
              " 0.04206183273345232,\n",
              " 0.041475861022869744,\n",
              " 0.04252568570276102,\n",
              " 0.04243159697701534,\n",
              " 0.041310902374486126,\n",
              " 0.041884186677634716,\n",
              " 0.040663883090019226,\n",
              " 0.04086686826000611,\n",
              " 0.04128710522005955,\n",
              " 0.04184009972959757,\n",
              " 0.04114822546641032,\n",
              " 0.04026703163981438,\n",
              " 0.04032177415986856,\n",
              " 0.040003666343788304,\n",
              " 0.04021846689283848,\n",
              " 0.042196160492797695,\n",
              " 0.04069928700725237,\n",
              " 0.03971633935968081,\n",
              " 0.04042985662817955,\n",
              " 0.040681300684809685,\n",
              " 0.04047405036787192,\n",
              " 0.04087302181869745,\n",
              " 0.03991703813274702,\n",
              " 0.04010349946717421,\n",
              " 0.039639098569750786,\n",
              " 0.039558924113710724,\n",
              " 0.039049942046403885,\n",
              " 0.03957168199121952,\n",
              " 0.039481728027264275,\n",
              " 0.03823736977453033,\n",
              " 0.039584881936510406,\n",
              " 0.03966803134729465,\n",
              " 0.039108517890175186,\n",
              " 0.03892946491638819,\n",
              " 0.039499022687474884,\n",
              " 0.03860113707681497,\n",
              " 0.038875387671093144,\n",
              " 0.038481285174687706,\n",
              " 0.0383073997994264,\n",
              " 0.03892849199473858,\n",
              " 0.03828890932102998,\n",
              " 0.03887446721394857,\n",
              " 0.03786082814137141,\n",
              " 0.037507529370486736,\n",
              " 0.03790766807893912,\n",
              " 0.03830200402686993,\n",
              " 0.03722295009841522,\n",
              " 0.03659497791280349,\n",
              " 0.03706090648969015,\n",
              " 0.03681803091118733,\n",
              " 0.037135316990315914,\n",
              " 0.03704933263361454,\n",
              " 0.03659068327397108,\n",
              " 0.03702862715969483,\n",
              " 0.038087982994814716,\n",
              " 0.036582477390766144,\n",
              " 0.03671522128085295,\n",
              " 0.03528125584125519,\n",
              " 0.035085305416335665,\n",
              " 0.03603056073188782,\n",
              " 0.03580016642808914,\n",
              " 0.03564987424761057,\n",
              " 0.035632288083434105,\n",
              " 0.03549678654720386,\n",
              " 0.03565712304164966,\n",
              " 0.035695276223123074,\n",
              " 0.03629238655169805,\n",
              " 0.03586250636726618,\n",
              " 0.0363047473753492,\n",
              " 0.035384489533801876,\n",
              " 0.03524645417928696,\n",
              " 0.035206989385187626,\n",
              " 0.03503672840694586,\n",
              " 0.03568337516238292,\n",
              " 0.03412463841959834,\n",
              " 0.03504167078062892,\n",
              " 0.03397558396682143,\n",
              " 0.034076040921111904,\n",
              " 0.03434403985738754,\n",
              " 0.035620651518305145,\n",
              " 0.034458800218999386,\n",
              " 0.03483156363169352,\n",
              " 0.03390538366511464,\n",
              " 0.03399573204418024,\n",
              " 0.034987946040928364,\n",
              " 0.03520561351130406,\n",
              " 0.03412406177570423,\n",
              " 0.03474260773509741,\n",
              " 0.03426088703175386,\n",
              " 0.03426156844943762,\n",
              " 0.034512972459197044,\n",
              " 0.03287123298893372,\n",
              " 0.03362891109039386,\n",
              " 0.03359838823477427,\n",
              " 0.03320430483048161,\n",
              " 0.03362774569541216,\n",
              " 0.03349560204272469,\n",
              " 0.0338768120855093,\n",
              " 0.03400876807669798,\n",
              " 0.03365523895869652,\n",
              " 0.0331059981447955,\n",
              " 0.03305272354433934,\n",
              " 0.03279661200940609,\n",
              " 0.033370201320697866,\n",
              " 0.033290139865130186,\n",
              " 0.032728615372131266,\n",
              " 0.03246934898197651,\n",
              " 0.03249260845283667,\n",
              " 0.03273048313955466,\n",
              " 0.03258242985854546,\n",
              " 0.03249251237139106,\n",
              " 0.03276444816341003,\n",
              " 0.03236682697509726,\n",
              " 0.03197258633250991,\n",
              " 0.03195960090185205,\n",
              " 0.03213387836391727,\n",
              " 0.0328767541795969,\n",
              " 0.033880850144972406,\n",
              " 0.033411130929986634,\n",
              " 0.03359031739334265,\n",
              " 0.033791509146491684,\n",
              " 0.03221805098777016,\n",
              " 0.032199033380796514,\n",
              " 0.03190830427532395,\n",
              " 0.03241479443386197,\n",
              " 0.03203771465147535,\n",
              " 0.03215695125982165,\n",
              " 0.03099291631951928,\n",
              " 0.03132792375981808,\n",
              " 0.03099826428418358,\n",
              " 0.030951145570725203,\n",
              " 0.031308619460711874,\n",
              " 0.030840867819885414,\n",
              " 0.03139524363602201,\n",
              " 0.03173327166587114,\n",
              " 0.0326581047847867,\n",
              " 0.03174877678975463,\n",
              " 0.031456741970032454,\n",
              " 0.03142933081835508,\n",
              " 0.03221326740458608,\n",
              " 0.03121541440486908,\n",
              " 0.031020018737763166,\n",
              " 0.030900096520781517,\n",
              " 0.03058135990674297,\n",
              " 0.03015277162194252,\n",
              " 0.030170967026303213,\n",
              " 0.030050876705596846,\n",
              " 0.03029238075638811,\n",
              " 0.03074584963421027,\n",
              " 0.030189894139766693,\n",
              " 0.029631213440249365,\n",
              " 0.029651163922001917,\n",
              " 0.030424564455946285,\n",
              " 0.030581778691460688,\n",
              " 0.029939920641481876,\n",
              " 0.030082193358490866,\n",
              " 0.02950761156777541,\n",
              " 0.029844187820951145,\n",
              " 0.02985990916689237,\n",
              " 0.02919176531334718,\n",
              " 0.029562413382033508,\n",
              " 0.029160295923550923,\n",
              " 0.029623105035473902,\n",
              " 0.02898399842282136,\n",
              " 0.02857795466358463,\n",
              " 0.02860432242353757,\n",
              " 0.02927555221443375,\n",
              " 0.029051165096461773,\n",
              " 0.028954466339200735,\n",
              " 0.028849932365119457,\n",
              " 0.029619519754002493,\n",
              " 0.028825412970036268,\n",
              " 0.028569930077840883,\n",
              " 0.029255857535948355,\n",
              " 0.029045473628987867,\n",
              " 0.028923258495827515,\n",
              " 0.02967022607723872,\n",
              " 0.028829199417183798,\n",
              " 0.02869652894635995,\n",
              " 0.02889342388759057,\n",
              " 0.02839808709298571,\n",
              " 0.02864611443753044,\n",
              " 0.028860865471263725,\n",
              " 0.029022411598513525,\n",
              " 0.02931983458499114,\n",
              " 0.028619075504442055,\n",
              " 0.0285894440797468,\n",
              " 0.0276400128689905,\n",
              " 0.02771095574523012,\n",
              " 0.027910809498280287,\n",
              " 0.027578397188335657,\n",
              " 0.02874421204129855,\n",
              " 0.028348299209028482,\n",
              " 0.028383740223944187,\n",
              " 0.027860828675329685,\n",
              " 0.02794965806727608,\n",
              " 0.028025321972866852,\n",
              " 0.02762252263103922,\n",
              " 0.02716408157721162,\n",
              " 0.026762569323182106,\n",
              " 0.02745988576983412,\n",
              " 0.026981722718725603,\n",
              " 0.02719386216873924,\n",
              " 0.027142235698799293,\n",
              " 0.026863873470574617,\n",
              " 0.026678433486570913,\n",
              " 0.026763676820943754,\n",
              " 0.026624873590966065,\n",
              " 0.026861673065771658,\n",
              " 0.026531251923491556,\n",
              " 0.026574740341554087,\n",
              " 0.02632419252768159,\n",
              " 0.026607524137943983,\n",
              " 0.026677491919447977,\n",
              " 0.026552009706695873,\n",
              " 0.026592944593479235,\n",
              " 0.0266722581970195,\n",
              " 0.026548863543818395,\n",
              " 0.026452545852710802,\n",
              " 0.026492165867239237,\n",
              " 0.027229459956288338,\n",
              " 0.02728165111814936,\n",
              " 0.02708917825172345,\n",
              " 0.026402618425587814,\n",
              " 0.026394137647002935,\n",
              " 0.027293593777964514,\n",
              " 0.026519321991751593,\n",
              " 0.02592210005968809,\n",
              " 0.025568740908056498,\n",
              " 0.02621787569175164,\n",
              " 0.02582770586013794,\n",
              " 0.026323868582646053,\n",
              " 0.025752364192157984,\n",
              " 0.025894072217245896,\n",
              " 0.025425344395140808,\n",
              " 0.025372556100289028,\n",
              " 0.024597425013780594,\n",
              " 0.02519196504727006,\n",
              " 0.025451356700311106,\n",
              " 0.025391550889859598,\n",
              " 0.02549880634372433,\n",
              " 0.02651155258839329,\n",
              " 0.025525067777683336,\n",
              " 0.02527700566376249,\n",
              " 0.025604790231833856,\n",
              " 0.0259437117104729,\n",
              " 0.025664323164771,\n",
              " 0.025539278828849394,\n",
              " 0.02552712879454096,\n",
              " 0.024820877549548943,\n",
              " 0.02482875995337963,\n",
              " 0.025343980950613815,\n",
              " 0.024494238508244354,\n",
              " 0.024293531042834122,\n",
              " 0.024126574707527954,\n",
              " 0.024426167830824852,\n",
              " 0.02480350776265065,\n",
              " 0.02521971318249901,\n",
              " 0.02426910726353526,\n",
              " 0.024377474561333656,\n",
              " 0.02458591138323148,\n",
              " 0.024007462120304506,\n",
              " 0.02432365467151006,\n",
              " 0.024188159654537838,\n",
              " 0.024578689287106197,\n",
              " 0.024590968309591215,\n",
              " 0.027186795913924772,\n",
              " 0.02607456563661496,\n",
              " 0.02566671681900819,\n",
              " 0.024440761810789507,\n",
              " 0.024363344845672447,\n",
              " 0.024120114898929994,\n",
              " 0.02449313240746657,\n",
              " 0.024376544635742903,\n",
              " 0.02410202892497182,\n",
              " 0.023795961247136194,\n",
              " 0.02375094670181473,\n",
              " 0.023664995407064755,\n",
              " 0.024066063885887463,\n",
              " 0.02408416693409284,\n",
              " 0.023360201778511207,\n",
              " 0.023919569017986458,\n",
              " 0.023507125210016966,\n",
              " 0.023725206032395363,\n",
              " 0.024031563351551693,\n",
              " 0.023282060399651527,\n",
              " 0.023447031776110332,\n",
              " 0.023541146734108526,\n",
              " 0.023581968620419502,\n",
              " 0.023023463785648346,\n",
              " 0.023226310188571613,\n",
              " 0.02295715610186259,\n",
              " 0.0232504786302646,\n",
              " 0.022880394011735916,\n",
              " 0.023592721670866013,\n",
              " 0.023532028310000896,\n",
              " 0.02311395046611627,\n",
              " 0.023293971549719572,\n",
              " 0.022887145945181448,\n",
              " 0.022766591670612495,\n",
              " 0.022617253785332043,\n",
              " 0.02312539021174113,\n",
              " 0.023047893773764372,\n",
              " 0.02352300410469373,\n",
              " 0.023166051289687555,\n",
              " 0.023518306358406942,\n",
              " 0.022894923575222492,\n",
              " 0.022667010004321735,\n",
              " 0.022928101010620594,\n",
              " 0.022521444130688906,\n",
              " 0.022782377433031797,\n",
              " 0.022759358398616314,\n",
              " 0.022106582298874855,\n",
              " 0.022694408583144348,\n",
              " 0.02241860640545686,\n",
              " 0.02237344579771161,\n",
              " 0.022355386366446812,\n",
              " 0.02271990431472659,\n",
              " 0.02204773776854078,\n",
              " 0.021948309460033972,\n",
              " 0.02216820806885759,\n",
              " 0.02276692461843292,\n",
              " 0.022345153770099085,\n",
              " 0.02235847106203437,\n",
              " 0.021429214160889387,\n",
              " 0.021770447337379057,\n",
              " 0.021868581417948008,\n",
              " 0.022322275520612795,\n",
              " 0.022755914833396673,\n",
              " 0.022230092901736498,\n",
              " 0.021765081988026697,\n",
              " 0.021703138792266447,\n",
              " 0.02178019021327297,\n",
              " 0.02220549325769146,\n",
              " 0.0219879443757236,\n",
              " 0.02200004830956459,\n",
              " 0.022119614761322737,\n",
              " 0.02172216633334756,\n",
              " 0.021316248302658398,\n",
              " 0.021518199394146603,\n",
              " 0.021711053637166817,\n",
              " 0.022010847305258114,\n",
              " 0.022124203387647867,\n",
              " 0.021854706729451816,\n",
              " 0.02174138107026617,\n",
              " 0.02157175789276759,\n",
              " 0.022329677051554125,\n",
              " 0.021942875658472378,\n",
              " 0.021044975146651268,\n",
              " 0.020774703472852707,\n",
              " 0.021068408153951168,\n",
              " 0.02097479036698739,\n",
              " 0.020487637103845675,\n",
              " 0.021105362257609766,\n",
              " 0.021176585151503485,\n",
              " 0.022035752267887194,\n",
              " 0.02140350127592683,\n",
              " 0.021642887809624273,\n",
              " 0.021463788424928982,\n",
              " 0.021791593326876562,\n",
              " 0.0210898135167857,\n",
              " 0.020827627430359524,\n",
              " 0.020922268585612375,\n",
              " 0.020340866409242153,\n",
              " 0.02020271448418498,\n",
              " 0.02062965479368965,\n",
              " 0.02058087397987644,\n",
              " 0.020836483376721542,\n",
              " 0.020839839552839596,\n",
              " 0.021111966265986364,\n",
              " 0.02045933824653427,\n",
              " 0.02056841381515066,\n",
              " 0.02082231252764662,\n",
              " 0.02071641820172469,\n",
              " 0.020949312020093203,\n",
              " 0.020647602155804634,\n",
              " 0.020813373227914173,\n",
              " 0.020642937005807955,\n",
              " 0.02022942326342066,\n",
              " 0.020052035028735798,\n",
              " 0.020155698526650667,\n",
              " 0.019729632573823135,\n",
              " 0.019767817420264084,\n",
              " 0.020252097708483536,\n",
              " 0.020420134377976257,\n",
              " 0.020458070561289787,\n",
              " 0.020317433091501396,\n",
              " 0.02041010232642293,\n",
              " 0.020382283565898735,\n",
              " 0.02048957844575246,\n",
              " 0.021031307832648356,\n",
              " 0.020471336785703897,\n",
              " 0.02004953908423583,\n",
              " 0.019973724925269682,\n",
              " 0.020136266481131315,\n",
              " 0.02037627436220646,\n",
              " 0.020252168954660494,\n",
              " 0.020350158369789522,\n",
              " 0.02041121292859316,\n",
              " 0.020232848667850096,\n",
              " 0.020050092445065577,\n",
              " 0.020158304056773584,\n",
              " 0.020636363110194605,\n",
              " 0.02060414229830106,\n",
              " 0.020126222322384518,\n",
              " 0.02011139349391063,\n",
              " 0.019885169186939795,\n",
              " 0.019123219264050324,\n",
              " 0.020328172792991,\n",
              " 0.019882286277910072,\n",
              " 0.019903397808472317,\n",
              " 0.020039944754292566,\n",
              " 0.01988848438486457,\n",
              " 0.019689259274552267,\n",
              " 0.019761183609565098,\n",
              " 0.019316050068785746,\n",
              " 0.018903234042227268,\n",
              " 0.019177722589423258,\n",
              " 0.01947526168078184,\n",
              " 0.01994877556959788,\n",
              " 0.019553928015132744,\n",
              " 0.01940220237399141,\n",
              " 0.0200726930052042,\n",
              " 0.019274462790538866,\n",
              " 0.019026268739253283,\n",
              " 0.01897762172544996,\n",
              " 0.018926612256715696,\n",
              " 0.019271731842309237,\n",
              " 0.018767560211320717,\n",
              " 0.019100305158644915,\n",
              " 0.01899379367629687,\n",
              " 0.019306684688975412,\n",
              " 0.018822319184740383,\n",
              " 0.0190571672283113,\n",
              " 0.019556635214636724,\n",
              " 0.01936980647345384,\n",
              " 0.019738283473998308,\n",
              " 0.01925407365585367,\n",
              " 0.018786862803002197,\n",
              " 0.01858369292070468,\n",
              " 0.019152346688012283,\n",
              " 0.01843365856135885,\n",
              " 0.018255912543584902,\n",
              " 0.01903193009396394,\n",
              " 0.01903158783291777,\n",
              " 0.018914762729158003,\n",
              " 0.018348127448310454,\n",
              " 0.018722649042805035,\n",
              " 0.018867406994104385,\n",
              " 0.01884307401875655,\n",
              " 0.0190317848076423,\n",
              " 0.018838624625156324,\n",
              " 0.018518712216367323,\n",
              " 0.01806955939779679,\n",
              " 0.0184656602020065,\n",
              " 0.018248888819168013,\n",
              " 0.01803948326657216,\n",
              " 0.01801861822605133,\n",
              " 0.01807080830136935,\n",
              " 0.018807157098005216,\n",
              " 0.018327736450980108,\n",
              " 0.018334542711575825,\n",
              " 0.01832874647031228,\n",
              " 0.01816511309395234,\n",
              " 0.018122192472219467,\n",
              " 0.01745321461930871,\n",
              " 0.017882251025487978,\n",
              " 0.017911762930452824,\n",
              " 0.018133175404121477,\n",
              " 0.018242729051659506,\n",
              " 0.01794229509929816,\n",
              " 0.018390904180705547,\n",
              " 0.01833447425936659,\n",
              " 0.018121228087693453,\n",
              " 0.018086459177235763,\n",
              " 0.01826362203185757,\n",
              " 0.018561299424618483,\n",
              " 0.01805115460107724,\n",
              " 0.01783914165571332,\n",
              " 0.01767947416131695,\n",
              " 0.01748225496460994,\n",
              " 0.017578907621403534,\n",
              " 0.018047256395220757,\n",
              " 0.017609838861972094,\n",
              " 0.01819742890074849,\n",
              " 0.018781715693573158,\n",
              " 0.017792207499345142,\n",
              " 0.01824763013670842,\n",
              " 0.0177648919634521,\n",
              " 0.017575865145772696,\n",
              " 0.017329394506911438,\n",
              " 0.017435816427071888,\n",
              " 0.017317983011404674,\n",
              " 0.01742501525829236,\n",
              " 0.01787610352039337,\n",
              " 0.01767627289518714,\n",
              " 0.017425789187351864,\n",
              " 0.017440777737647295,\n",
              " 0.017216308352847893,\n",
              " 0.017066484782844782,\n",
              " 0.01770116559540232,\n",
              " 0.016978533162424963,\n",
              " 0.017266718825946253,\n",
              " 0.017381259084989626,\n",
              " 0.01723147400965293,\n",
              " 0.01734204093615214,\n",
              " 0.01730497134849429,\n",
              " 0.017208011200030644,\n",
              " 0.01745827201132973,\n",
              " 0.017529868831237156,\n",
              " 0.017340902627135318,\n",
              " 0.017287088402857382,\n",
              " 0.017453758666912716,\n",
              " 0.017376271697382133,\n",
              " 0.016994277325769264,\n",
              " 0.016753332999845345,\n",
              " 0.01701430828931431,\n",
              " 0.01685781031847,\n",
              " 0.016952067303160828,\n",
              " 0.016643523859481018,\n",
              " 0.017251936718821526,\n",
              " 0.016636167808125418,\n",
              " 0.016687992804994185,\n",
              " 0.01649844879284501,\n",
              " 0.016685588130106527,\n",
              " 0.016724160096297663,\n",
              " 0.016594826088597376,\n",
              " 0.016663518889496725,\n",
              " 0.016818251150349777,\n",
              " 0.01697662651228408,\n",
              " 0.017033017706125975,\n",
              " 0.016951622674241662,\n",
              " 0.016762373968958855,\n",
              " 0.016371474290887516,\n",
              " 0.016390465432778,\n",
              " 0.01696453181405862,\n",
              " 0.01659901727301379,\n",
              " 0.01676813078423341,\n",
              " 0.01684105737755696,\n",
              " 0.01660576827513675,\n",
              " 0.01648345038605233,\n",
              " 0.01644650132705768,\n",
              " 0.016198636420692008,\n",
              " 0.01593663830620547,\n",
              " 0.01630726200528443,\n",
              " 0.01619190365696947,\n",
              " 0.01619710315329333,\n",
              " 0.017003340103353064,\n",
              " 0.017239868485679228,\n",
              " 0.016844522673636675,\n",
              " 0.016849646500001352,\n",
              " 0.016484054426352184,\n",
              " 0.017193875974044204,\n",
              " 0.016397283955787618,\n",
              " 0.016668940739085276,\n",
              " 0.016034019955744345,\n",
              " 0.016608527395874262,\n",
              " 0.016785307554528117,\n",
              " 0.016553507341692846,\n",
              " 0.016532831514875095,\n",
              " 0.01649837731383741,\n",
              " 0.01657608151435852,\n",
              " ...]"
            ]
          },
          "execution_count": 33,
          "metadata": {},
          "output_type": "execute_result"
        }
      ],
      "source": [
        "loss_storage"
      ]
    },
    {
      "cell_type": "markdown",
      "metadata": {
        "id": "pjH1rVzx9T1m"
      },
      "source": [
        "## Plot loss curve during model training"
      ]
    },
    {
      "cell_type": "markdown",
      "metadata": {
        "id": "8b7Jqi989WN9"
      },
      "source": [
        "### Define a function to plot the loss curve"
      ]
    },
    {
      "cell_type": "code",
      "execution_count": null,
      "metadata": {},
      "outputs": [],
      "source": [
        "import matplotlib.pyplot as plt\n",
        "\n",
        "def plot_loss_curve(loss_storage, tick_interval=50, save_path=None):\n",
        "    plt.figure(figsize=(12, 6))\n",
        "\n",
        "    epochs = list(range(1, len(loss_storage) + 1))\n",
        "\n",
        "    # Plot the loss\n",
        "    plt.plot(\n",
        "        epochs,\n",
        "        loss_storage,\n",
        "        color='royalblue',\n",
        "        marker='o',\n",
        "        linestyle='-',\n",
        "        linewidth=2,\n",
        "        markersize=4,\n",
        "        label='Training Loss'\n",
        "    )\n",
        "\n",
        "    # Title & labels\n",
        "    plt.title(\"Training Loss Curve\", fontsize=18, fontweight='bold')\n",
        "    plt.xlabel(\"Epoch\", fontsize=14)\n",
        "    plt.ylabel(\"Loss\", fontsize=14)\n",
        "\n",
        "    # Show ticks every 50 epochs\n",
        "    tick_positions = list(range(0, len(loss_storage) + 1, tick_interval))\n",
        "    plt.xticks(ticks=tick_positions, labels=[str(t) for t in tick_positions], fontsize=12)\n",
        "    plt.yticks(fontsize=12)\n",
        "\n",
        "    # Grid, legend and layout\n",
        "    plt.grid(True, linestyle='--', linewidth=0.5)\n",
        "    plt.legend(fontsize=12)\n",
        "    plt.tight_layout()\n",
        "\n",
        "    if save_path:\n",
        "        plt.savefig(save_path, dpi=300, bbox_inches='tight')\n",
        "        print(f\"Loss curve saved to: {save_path}\")\n",
        "\n",
        "    plt.show()"
      ]
    },
    {
      "cell_type": "markdown",
      "metadata": {
        "id": "5k0WfEjH9a0f"
      },
      "source": [
        "### Plot the loss curve and save the image"
      ]
    },
    {
      "cell_type": "code",
      "execution_count": 36,
      "metadata": {
        "colab": {
          "base_uri": "https://localhost:8080/",
          "height": 397
        },
        "id": "uFqbs3SY9cFu",
        "outputId": "3d7944a0-492e-4c85-de45-5fb783c69894"
      },
      "outputs": [
        {
          "name": "stdout",
          "output_type": "stream",
          "text": [
            "Loss curve saved to: ../images_model_training_and_eval/seq2seq_non_autoregressive_GRU_loss_training_curve.png\n"
          ]
        },
        {
          "data": {
            "image/png": "[encoded data removed]",
            "text/plain": [
              "<Figure size 1200x600 with 1 Axes>"
            ]
          },
          "metadata": {},
          "output_type": "display_data"
        }
      ],
      "source": [
        "save_path=\"../images_model_training_and_eval/seq2seq_non_autoregressive_GRU_loss_training_curve.png\"\n",
        "\n",
        "plot_loss_curve(loss_storage,save_path=save_path)"
      ]
    },
    {
      "cell_type": "markdown",
      "metadata": {
        "id": "_fxbuLWi9uEi"
      },
      "source": [
        "## Model Evaluation"
      ]
    },
    {
      "cell_type": "markdown",
      "metadata": {
        "id": "QXbiluyc9wil"
      },
      "source": [
        "### Define evaluation model function"
      ]
    },
    {
      "cell_type": "code",
      "execution_count": 37,
      "metadata": {
        "id": "Vr_PC6oJE4DB"
      },
      "outputs": [],
      "source": [
        "def evaluate_model(model, dataloader, seed_value):\n",
        "    model.eval()\n",
        "    torch.manual_seed(seed_value)\n",
        "    torch.cuda.manual_seed_all(seed_value)\n",
        "    np.random.seed(seed_value)\n",
        "\n",
        "    inputs, outputs = next(iter(dataloader))\n",
        "    inputs = inputs.to(device)\n",
        "    outputs = outputs.to(device)\n",
        "\n",
        "    inputs_seq = inputs.permute(1, 0, 2)\n",
        "    outputs_seq = outputs.permute(1, 0, 2)\n",
        "\n",
        "    pred = model(inputs_seq)\n",
        "\n",
        "    true_vals = outputs_seq.cpu().numpy()[:, 0, :]\n",
        "    pred_vals = pred.detach().cpu().numpy()[:, 0, :]\n",
        "\n",
        "    print(\"Ground truth:\\n\", true_vals.T)\n",
        "    print(\"Prediction:\\n\", pred_vals.T)\n",
        "    print(\"MAE:\", np.mean(np.abs(true_vals - pred_vals)))\n",
        "\n",
        "    feature_mae = np.mean(np.abs(true_vals - pred_vals), axis=(0, 1))\n",
        "    print(\"Feature-wise MAE:\", feature_mae)"
      ]
    },
    {
      "cell_type": "code",
      "execution_count": 38,
      "metadata": {
        "colab": {
          "base_uri": "https://localhost:8080/"
        },
        "id": "qcy37yO99-y3",
        "outputId": "bbded23c-223e-4e18-a9a1-c9eb55588560"
      },
      "outputs": [
        {
          "name": "stdout",
          "output_type": "stream",
          "text": [
            "Ground truth:\n",
            " [[-1.2752299  -1.3943083  -1.1437798  -1.3417282  -0.9247994  -0.93411076\n",
            "  -1.1712726 ]\n",
            " [ 0.9080867   1.0646194   0.3442977   1.0381919   1.0034971   1.0053803\n",
            "   0.53042036]\n",
            " [-0.47729036 -0.37316027 -0.82754606 -1.0846328   0.6615639   0.28450337\n",
            "   0.49154565]\n",
            " [ 0.02438779  0.03548462  0.04330284  0.03674562  0.01828454  0.01723326\n",
            "   0.027162  ]]\n",
            "Prediction:\n",
            " [[-0.9378413  -0.5842093  -0.562536   -0.5881455  -0.6409206  -0.86929137\n",
            "  -0.6688036 ]\n",
            " [ 0.26794216 -0.23429191 -0.1576419  -0.08996108  0.2601241   1.1650022\n",
            "   0.48088124]\n",
            " [-0.9054407   0.49211824  0.4722507   0.06604744  0.7579722  -0.40764654\n",
            "  -0.0392233 ]\n",
            " [ 0.04532102  0.03839114  0.11613205 -0.21334645 -0.07255337 -0.21607491\n",
            "  -0.23614952]]\n",
            "MAE: 0.49473628\n",
            "Feature-wise MAE: 0.49473628\n"
          ]
        }
      ],
      "source": [
        "seed_value=187\n",
        "\n",
        "evaluate_model(seq2seq_model,test_dataloader,seed_value)"
      ]
    },
    {
      "cell_type": "markdown",
      "metadata": {
        "id": "HcznHsF1-HER"
      },
      "source": [
        "#### Define function to plot prediction versus ground truth"
      ]
    },
    {
      "cell_type": "code",
      "execution_count": 39,
      "metadata": {
        "id": "it_Lf04A-asC"
      },
      "outputs": [],
      "source": [
        "import matplotlib.pyplot as plt\n",
        "import numpy as np\n",
        "import torch\n",
        "\n",
        "def model_evaluation_and_visualizations(model, dataloader, device, stats=None, indices=[2486, 2986]):\n",
        "    feature_names = ['meantemp', 'humidity', 'wind_speed', 'meanpressure']\n",
        "    colors = ['#1f77b4', '#ff7f0e', '#2ca02c', '#d62728']  # Custom colors per feature\n",
        "\n",
        "    plt.style.use('ggplot')  # Consistent, readable plotting style\n",
        "    model.eval()\n",
        "\n",
        "    num_features = len(feature_names)\n",
        "    num_samples = len(indices)\n",
        "\n",
        "    fig, axs = plt.subplots(num_samples, num_features, figsize=(5 * num_features, 4 * num_samples))\n",
        "\n",
        "    for row, seed in enumerate(indices):\n",
        "        g = torch.Generator()\n",
        "        g.manual_seed(seed)\n",
        "\n",
        "        # Rebuild a deterministic DataLoader with shuffling\n",
        "        data_iter = iter(torch.utils.data.DataLoader(\n",
        "            dataloader.dataset, batch_size=32, shuffle=True, generator=g\n",
        "        ))\n",
        "\n",
        "        inputs, outputs = next(data_iter)\n",
        "        inputs, outputs = inputs.to(device), outputs.to(device)\n",
        "\n",
        "        # Permute for (seq_len, batch, feature)\n",
        "        inputs_seq = inputs.permute(1, 0, 2)      # (T_in, B, F)\n",
        "        outputs_seq = outputs.permute(1, 0, 2)    # (T_out, B, F)\n",
        "        preds = model(inputs_seq)                # (T_out, B, F)\n",
        "\n",
        "        b = 0  # Visualize the first sample in the batch\n",
        "\n",
        "        # Get the data for sample b\n",
        "        x = inputs_seq[:, b, :].detach().cpu().numpy()      # (T_in, F)\n",
        "        y_true = outputs_seq[:, b, :].detach().cpu().numpy()  # (T_out, F)\n",
        "        y_pred = preds[:, b, :].detach().cpu().numpy()        # (T_out, F)\n",
        "\n",
        "        # Denormalize if stats are provided\n",
        "        if stats is not None:\n",
        "            for i, name in enumerate(feature_names):\n",
        "                mean = stats.loc[name, 'mean']\n",
        "                std = stats.loc[name, 'std']\n",
        "                x[:, i] = x[:, i] * std + mean\n",
        "                y_true[:, i] = y_true[:, i] * std + mean\n",
        "                y_pred[:, i] = y_pred[:, i] * std + mean\n",
        "\n",
        "        # Time steps\n",
        "        t_input = list(range(x.shape[0]))\n",
        "        t_output = [x.shape[0] + i + 1 for i in range(y_true.shape[0])]\n",
        "        mse = np.mean((y_true - y_pred) ** 2)\n",
        "\n",
        "        # Plot each feature separately\n",
        "        for col in range(num_features):\n",
        "            ax = axs[row, col] if num_samples > 1 else axs[col]\n",
        "            feature = feature_names[col]\n",
        "            color = colors[col % len(colors)]\n",
        "\n",
        "            # Input sequence\n",
        "            ax.plot(t_input, x[:, col], linestyle='--', linewidth=2, label=\"Input\", color=color)\n",
        "            # Ground truth output\n",
        "            ax.scatter(t_output, y_true[:, col], label=\"True\", color=color, marker='o', s=50, edgecolors='black', linewidth=0.5)\n",
        "            # Predicted output\n",
        "            ax.scatter(t_output, y_pred[:, col], label=\"Pred\", color='black', marker='x', s=60)\n",
        "\n",
        "            ax.set_title(f\"{feature} | seed={seed} | MSE={mse:.4f}\", fontsize=11)\n",
        "            ax.grid(True)\n",
        "\n",
        "            if row == num_samples - 1:\n",
        "                ax.set_xlabel(\"Timestep\")\n",
        "            if col == 0:\n",
        "                ax.set_ylabel(\"Value\")\n",
        "            if row == 0:\n",
        "                ax.legend(loc='upper center', fontsize=8)\n",
        "\n",
        "    plt.tight_layout()\n",
        "    plt.show()\n",
        "\n"
      ]
    },
    {
      "cell_type": "code",
      "execution_count": 40,
      "metadata": {
        "colab": {
          "base_uri": "https://localhost:8080/",
          "height": 307
        },
        "id": "jJVzlAry-fo8",
        "outputId": "4fc6a7c6-7442-436d-f176-e5434e4aa6f0"
      },
      "outputs": [
        {
          "data": {
            "image/png": "[encoded data removed]",
            "text/plain": [
              "<Figure size 2000x800 with 8 Axes>"
            ]
          },
          "metadata": {},
          "output_type": "display_data"
        }
      ],
      "source": [
        "# Visualize\n",
        "model_evaluation_and_visualizations(seq2seq_model, test_dataloader, device)"
      ]
    }
  ],
  "metadata": {
    "accelerator": "GPU",
    "colab": {
      "gpuType": "T4",
      "machine_shape": "hm",
      "provenance": []
    },
    "kernelspec": {
      "display_name": "Python 3",
      "name": "python3"
    },
    "language_info": {
      "name": "python"
    }
  },
  "nbformat": 4,
  "nbformat_minor": 0
}
