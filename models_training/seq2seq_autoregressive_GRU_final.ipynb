{
  "cells": [
    {
      "cell_type": "markdown",
      "metadata": {
        "id": "N7u2dQY3sb6N"
      },
      "source": [
        "# Implementing an autoregressive Seq2Seq model using GRU architecture\n",
        "\n",
        "### About this notebook\n",
        "\n",
        "This notebook was created as a deliverable for the group project under 50.039 Deep Learning course at the Singapore University of Technology and Design.\n",
        "\n",
        "**Author:** Group 09 - Cohort 01"
      ]
    },
    {
      "cell_type": "markdown",
      "metadata": {
        "id": "MP_zt6Z-sj5K"
      },
      "source": [
        "## Define device for Torch - preferred CUDA for accelerated computation"
      ]
    },
    {
      "cell_type": "code",
      "execution_count": 36,
      "metadata": {
        "colab": {
          "base_uri": "https://localhost:8080/"
        },
        "id": "Jm9aTM4Dsp7F",
        "outputId": "39c47c21-08b4-4dea-a783-ed758e675d0a"
      },
      "outputs": [
        {
          "name": "stdout",
          "output_type": "stream",
          "text": [
            "CUDA is available: False\n"
          ]
        }
      ],
      "source": [
        "# Matplotlib\n",
        "import torch\n",
        "\n",
        "# Define device for torch\n",
        "use_cuda = True\n",
        "print(\"CUDA is available:\", torch.cuda.is_available())\n",
        "device = torch.device(\"cuda\" if (use_cuda and torch.cuda.is_available()) else \"cpu\")"
      ]
    },
    {
      "cell_type": "markdown",
      "metadata": {
        "id": "zDGEj8Cjs0dt"
      },
      "source": [
        "## Import train and test dataset"
      ]
    },
    {
      "cell_type": "markdown",
      "metadata": {
        "id": "9IWPk8NOs2mU"
      },
      "source": [
        "### Define load dataset function"
      ]
    },
    {
      "cell_type": "code",
      "execution_count": 37,
      "metadata": {
        "id": "6t7CqX5tzPII"
      },
      "outputs": [],
      "source": [
        "import pandas as pd\n",
        "\n",
        "def load_dataset(train_path, test_path):\n",
        "    # Load and drop date column\n",
        "    train_df = pd.read_csv(train_path, parse_dates=['date']).drop(columns=['date'])\n",
        "    test_df = pd.read_csv(test_path, parse_dates=['date']).drop(columns=['date'])\n",
        "\n",
        "    # Normalize using training statistics\n",
        "    stats = train_df.describe().transpose()\n",
        "\n",
        "    def normalize(df):\n",
        "        return (df - stats[\"mean\"]) / stats[\"std\"]\n",
        "\n",
        "    train_norm = normalize(train_df)\n",
        "    test_norm = normalize(test_df)\n",
        "\n",
        "    return train_norm, test_norm, stats"
      ]
    },
    {
      "cell_type": "markdown",
      "metadata": {
        "id": "a1vDADPDtENq"
      },
      "source": [
        "### Load train and test dataset"
      ]
    },
    {
      "cell_type": "code",
      "execution_count": 38,
      "metadata": {
        "id": "taRAOhsLxbs9"
      },
      "outputs": [],
      "source": [
        "# Load dataset from file\n",
        "train_file_path = '../dataset/train/DailyDelhiClimateTrain.csv'\n",
        "test_file_path = '../dataset/test/DailyDelhiClimateTest.csv'\n",
        "train_data, test_data, stats = load_dataset(train_file_path, test_file_path)"
      ]
    },
    {
      "cell_type": "code",
      "execution_count": 39,
      "metadata": {
        "colab": {
          "base_uri": "https://localhost:8080/",
          "height": 204
        },
        "id": "ppLCQaAGt2_G",
        "outputId": "e7454241-4b84-4139-af2c-e8da5386a763"
      },
      "outputs": [
        {
          "data": {
            "text/html": [
              "<div>\n",
              "<style scoped>\n",
              "    .dataframe tbody tr th:only-of-type {\n",
              "        vertical-align: middle;\n",
              "    }\n",
              "\n",
              "    .dataframe tbody tr th {\n",
              "        vertical-align: top;\n",
              "    }\n",
              "\n",
              "    .dataframe thead th {\n",
              "        text-align: right;\n",
              "    }\n",
              "</style>\n",
              "<table border=\"1\" class=\"dataframe\">\n",
              "  <thead>\n",
              "    <tr style=\"text-align: right;\">\n",
              "      <th></th>\n",
              "      <th>meantemp</th>\n",
              "      <th>humidity</th>\n",
              "      <th>wind_speed</th>\n",
              "      <th>meanpressure</th>\n",
              "    </tr>\n",
              "  </thead>\n",
              "  <tbody>\n",
              "    <tr>\n",
              "      <th>0</th>\n",
              "      <td>-2.108778</td>\n",
              "      <td>1.414955</td>\n",
              "      <td>-1.491189</td>\n",
              "      <td>0.025313</td>\n",
              "    </tr>\n",
              "    <tr>\n",
              "      <th>1</th>\n",
              "      <td>-2.462611</td>\n",
              "      <td>1.862191</td>\n",
              "      <td>-0.837909</td>\n",
              "      <td>0.037149</td>\n",
              "    </tr>\n",
              "    <tr>\n",
              "      <th>2</th>\n",
              "      <td>-2.494366</td>\n",
              "      <td>1.564034</td>\n",
              "      <td>-0.475464</td>\n",
              "      <td>0.041958</td>\n",
              "    </tr>\n",
              "    <tr>\n",
              "      <th>3</th>\n",
              "      <td>-2.290231</td>\n",
              "      <td>0.629806</td>\n",
              "      <td>-1.220816</td>\n",
              "      <td>0.033635</td>\n",
              "    </tr>\n",
              "    <tr>\n",
              "      <th>4</th>\n",
              "      <td>-2.653137</td>\n",
              "      <td>1.554095</td>\n",
              "      <td>-0.680070</td>\n",
              "      <td>0.029936</td>\n",
              "    </tr>\n",
              "  </tbody>\n",
              "</table>\n",
              "</div>"
            ],
            "text/plain": [
              "   meantemp  humidity  wind_speed  meanpressure\n",
              "0 -2.108778  1.414955   -1.491189      0.025313\n",
              "1 -2.462611  1.862191   -0.837909      0.037149\n",
              "2 -2.494366  1.564034   -0.475464      0.041958\n",
              "3 -2.290231  0.629806   -1.220816      0.033635\n",
              "4 -2.653137  1.554095   -0.680070      0.029936"
            ]
          },
          "execution_count": 39,
          "metadata": {},
          "output_type": "execute_result"
        }
      ],
      "source": [
        "train_data[:5]"
      ]
    },
    {
      "cell_type": "code",
      "execution_count": 40,
      "metadata": {
        "colab": {
          "base_uri": "https://localhost:8080/"
        },
        "id": "vd6UFFPyt5AQ",
        "outputId": "b3f3acec-7f35-4b86-f019-72e4a364acbf"
      },
      "outputs": [
        {
          "data": {
            "text/plain": [
              "1462"
            ]
          },
          "execution_count": 40,
          "metadata": {},
          "output_type": "execute_result"
        }
      ],
      "source": [
        "# number of samples in train dataset\n",
        "len(train_data)"
      ]
    },
    {
      "cell_type": "markdown",
      "metadata": {
        "id": "8KZkxogdt63a"
      },
      "source": [
        "## Define Pytorch Dataset and Dataloader objects"
      ]
    },
    {
      "cell_type": "code",
      "execution_count": 41,
      "metadata": {
        "id": "g6QY_8vTuFX5"
      },
      "outputs": [],
      "source": [
        "import numpy as np\n",
        "import torch\n",
        "from torch.utils.data import Dataset, DataLoader"
      ]
    },
    {
      "cell_type": "markdown",
      "metadata": {
        "id": "t9EVWI1vuHgH"
      },
      "source": [
        "### Dataset object"
      ]
    },
    {
      "cell_type": "code",
      "execution_count": 42,
      "metadata": {
        "id": "FuPlwmeyz8mC"
      },
      "outputs": [],
      "source": [
        "class CustomDataset(Dataset):\n",
        "    def __init__(self, dataframe, n_inputs, n_outputs):\n",
        "        self.dataframe = dataframe\n",
        "        self.n_inputs = n_inputs\n",
        "        self.n_outputs = n_outputs\n",
        "        self.inputs = []\n",
        "        self.outputs = []\n",
        "        self.define_samples()\n",
        "\n",
        "    def define_samples(self):\n",
        "        data_array = self.dataframe.values\n",
        "        for i in range(len(data_array) - self.n_inputs - self.n_outputs):\n",
        "            input_seq = data_array[i:i+self.n_inputs, :]         # Sequence length of 30, incl all features\n",
        "            output_seq = data_array[i+self.n_inputs:i+self.n_inputs+self.n_outputs, :]  # Sequence length of 7, incl all features\n",
        "            self.inputs.append(input_seq)\n",
        "            self.outputs.append(output_seq)\n",
        "\n",
        "    def __len__(self):\n",
        "        return len(self.inputs)\n",
        "\n",
        "    def __getitem__(self, idx):\n",
        "        x = torch.tensor(self.inputs[idx], dtype=torch.float32)  # Shape: (n_inputs, 4)\n",
        "        y = torch.tensor(self.outputs[idx], dtype=torch.float32) # Shape: (n_outputs,)\n",
        "        return x, y"
      ]
    },
    {
      "cell_type": "code",
      "execution_count": 43,
      "metadata": {
        "id": "2joAhwcbz3s8"
      },
      "outputs": [],
      "source": [
        "n_inputs = 30\n",
        "n_outputs = 7\n",
        "train_dataset = CustomDataset(train_data, n_inputs, n_outputs)\n",
        "test_dataset = CustomDataset(test_data, n_inputs, n_outputs)"
      ]
    },
    {
      "cell_type": "code",
      "execution_count": 44,
      "metadata": {
        "colab": {
          "base_uri": "https://localhost:8080/"
        },
        "id": "RqE7_ibxuXJK",
        "outputId": "bc8ee132-2aec-407e-ccb0-5b99bd0e57e7"
      },
      "outputs": [
        {
          "data": {
            "text/plain": [
              "(tensor([[-2.1088e+00,  1.4150e+00, -1.4912e+00,  2.5313e-02],\n",
              "         [-2.4626e+00,  1.8622e+00, -8.3791e-01,  3.7149e-02],\n",
              "         [-2.4944e+00,  1.5640e+00, -4.7546e-01,  4.1958e-02],\n",
              "         [-2.2902e+00,  6.2981e-01, -1.2208e+00,  3.3635e-02],\n",
              "         [-2.6531e+00,  1.5541e+00, -6.8007e-01,  2.9936e-02],\n",
              "         [-2.5170e+00,  1.3136e+00, -1.1667e+00,  3.8259e-02],\n",
              "         [-2.5170e+00,  1.0631e+00, -1.1009e-01,  4.9356e-02],\n",
              "         [-2.2643e+00,  1.7547e-01,  7.4677e-02,  4.2222e-02],\n",
              "         [-1.5644e+00, -5.6779e-01,  1.2491e+00,  3.2710e-02],\n",
              "         [-1.9727e+00,  7.3245e-02,  1.3105e-01,  2.5313e-02],\n",
              "         [-1.3311e+00, -5.6566e-01,  8.2629e-01,  2.7955e-02],\n",
              "         [-1.5644e+00,  7.8882e-01,  1.4088e+00,  2.4784e-02],\n",
              "         [-1.3149e+00,  8.5839e-01, -4.7546e-01,  1.2366e-02],\n",
              "         [-1.7232e+00,  1.6336e+00, -1.3560e+00,  2.2538e-02],\n",
              "         [-1.4672e+00,  6.6104e-01, -1.3753e+00,  2.6369e-02],\n",
              "         [-1.5871e+00,  1.5442e+00, -1.4912e+00,  3.0861e-02],\n",
              "         [-1.2242e+00,  1.1963e+00, -3.4028e-01,  2.6237e-02],\n",
              "         [-1.5871e+00,  1.8721e+00,  4.7084e-01,  1.8839e-02],\n",
              "         [-1.7686e+00,  9.4784e-01, -2.0144e-01,  5.8603e-02],\n",
              "         [-1.9338e+00,  8.6549e-01,  3.6593e-01,  5.0941e-02],\n",
              "         [-1.9455e+00,  9.6772e-01, -1.0045e+00,  5.4904e-02],\n",
              "         [-2.1768e+00,  1.1267e+00, -8.1526e-01,  5.9343e-02],\n",
              "         [-1.5644e+00, -3.6079e-02, -6.1065e-01,  5.2130e-02],\n",
              "         [-1.5871e+00, -6.2634e-03, -1.3932e-01,  5.2130e-02],\n",
              "         [-1.8026e+00,  3.7140e-01, -2.7451e-01,  5.3517e-02],\n",
              "         [-1.7459e+00,  2.0245e-01, -4.8420e-04,  4.7506e-02],\n",
              "         [-1.7200e+00,  2.8622e-01, -2.7294e-01,  3.9051e-02],\n",
              "         [-1.4510e+00, -2.8454e-01, -6.8007e-01,  3.7334e-02],\n",
              "         [-1.5474e+00,  2.8196e-01, -7.8146e-01,  3.0630e-02],\n",
              "         [-1.4672e+00,  5.7585e-01, -1.2594e+00,  3.7466e-02]]),\n",
              " tensor([[-1.2650,  0.2879, -0.8423,  0.0405],\n",
              "         [-1.2922,  0.7292, -1.0045,  0.0272],\n",
              "         [-1.2534,  1.0018, -1.1999,  0.0335],\n",
              "         [-1.0201,  0.2862, -1.0841,  0.0232],\n",
              "         [-1.0978,  0.8059,  0.9453,  0.0192],\n",
              "         [-1.2072,  1.8846,  0.6407,  0.0292],\n",
              "         [-1.2015,  0.6298,  0.4014,  0.0420]]))"
            ]
          },
          "execution_count": 44,
          "metadata": {},
          "output_type": "execute_result"
        }
      ],
      "source": [
        "train_dataset[0]"
      ]
    },
    {
      "cell_type": "markdown",
      "metadata": {
        "id": "55AUsQGruap8"
      },
      "source": [
        "### Dataloader Object"
      ]
    },
    {
      "cell_type": "code",
      "execution_count": 45,
      "metadata": {
        "id": "Z1kkxtmP3cpG"
      },
      "outputs": [],
      "source": [
        "# Define batch size\n",
        "batch_size = 128\n",
        "\n",
        "# Random number generator (for reproducibility)\n",
        "generator = torch.Generator()  # Defaults to CPU, which DataLoader expects\n",
        "\n",
        "# Create DataLoader\n",
        "train_dataloader = DataLoader(\n",
        "    train_dataset,\n",
        "    batch_size=batch_size,\n",
        "    shuffle=True,\n",
        "    generator=generator\n",
        ")\n",
        "\n",
        "test_dataloader = DataLoader(\n",
        "    test_dataset,\n",
        "    batch_size=batch_size,\n",
        "    shuffle=False,  # Important: don't shuffle test data\n",
        "    generator=generator\n",
        ")"
      ]
    },
    {
      "cell_type": "code",
      "execution_count": 46,
      "metadata": {
        "colab": {
          "base_uri": "https://localhost:8080/"
        },
        "id": "uYd2irWlug20",
        "outputId": "4afe775b-9854-4757-8f14-2955a0bcb67d"
      },
      "outputs": [
        {
          "name": "stdout",
          "output_type": "stream",
          "text": [
            "Input shape: torch.Size([128, 30, 4])\n",
            "Output shape: torch.Size([128, 7, 4])\n"
          ]
        }
      ],
      "source": [
        "# Visualize a sample\n",
        "sample = next(iter(train_dataloader))\n",
        "input_sample, output_sample = sample\n",
        "print(\"Input shape:\", input_sample.shape)\n",
        "print(\"Output shape:\", output_sample.shape)\n"
      ]
    },
    {
      "cell_type": "code",
      "execution_count": 47,
      "metadata": {
        "colab": {
          "base_uri": "https://localhost:8080/"
        },
        "id": "D6y-KAk3unqg",
        "outputId": "3e239ef4-10e1-47e0-fb87-5422aadf0a58"
      },
      "outputs": [
        {
          "data": {
            "text/plain": [
              "12"
            ]
          },
          "execution_count": 47,
          "metadata": {},
          "output_type": "execute_result"
        }
      ],
      "source": [
        "len(train_dataloader)"
      ]
    },
    {
      "cell_type": "markdown",
      "metadata": {
        "id": "VsOnZ-HouqDe"
      },
      "source": [
        "## Define Model Architecture"
      ]
    },
    {
      "cell_type": "markdown",
      "metadata": {
        "id": "jmh7PjlyvNr2"
      },
      "source": [
        "### Our Encoder Model\n",
        "\n",
        "The EncoderGRU below processes input sequences using a Gated Recurrent Unit (GRU) network. It is designed to capture temporal dependencies and compress the full input sequence into a single hidden state that summarizes the important patterns and dynamics over time.\n",
        "\n",
        "Unlike the LSTM, the GRU architecture uses a simpler gating mechanism, making it computationally more efficient while still effectively learning long-term dependencies. This encoder takes in multivariate weather data (e.g., temperature, humidity, wind speed, pressure) and returns only the final hidden state — a compact representation of the entire sequence.\n",
        "\n",
        "This hidden state is then used to initialize the decoder in the sequence-to-sequence architecture, enabling the model to generate future predictions based on the learned context of the input sequence."
      ]
    },
    {
      "cell_type": "markdown",
      "metadata": {
        "id": "zjb0E2uy4QH7"
      },
      "source": [
        "#### Define Encoder class"
      ]
    },
    {
      "cell_type": "code",
      "execution_count": 48,
      "metadata": {
        "id": "ay2_O7__vqUE"
      },
      "outputs": [],
      "source": [
        "# Numpy\n",
        "import numpy as np\n",
        "# Torch\n",
        "import torch\n",
        "import torch.nn as nn"
      ]
    },
    {
      "cell_type": "code",
      "execution_count": 49,
      "metadata": {
        "id": "efgfQs-C4PdC"
      },
      "outputs": [],
      "source": [
        "class EncoderGRU(nn.Module):\n",
        "    def __init__(self, input_size, hidden_size, num_layers = 1, dropout = 0.0):\n",
        "        super(EncoderGRU, self).__init__()\n",
        "\n",
        "        self.hidden_size = hidden_size\n",
        "        self.num_layers = num_layers\n",
        "\n",
        "        self.gru = nn.GRU(input_size, hidden_size,\n",
        "                          num_layers = num_layers,\n",
        "                          dropout = dropout if num_layers > 1 else 0.0,\n",
        "                          batch_first = False)\n",
        "\n",
        "    def forward(self, input_seq):\n",
        "        # input_seq: (seq_len, batch_size, input_size)\n",
        "        output, hidden = self.gru(input_seq)\n",
        "        return hidden"
      ]
    },
    {
      "cell_type": "code",
      "execution_count": 50,
      "metadata": {
        "colab": {
          "base_uri": "https://localhost:8080/"
        },
        "id": "7uhXWtb46Sz2",
        "outputId": "16cefdb0-e18e-4a7b-c41c-8051acb843a7"
      },
      "outputs": [
        {
          "name": "stdout",
          "output_type": "stream",
          "text": [
            "EncoderGRU(\n",
            "  (gru): GRU(4, 64)\n",
            ")\n"
          ]
        }
      ],
      "source": [
        "# Defining our EncoderRNN model\n",
        "hidden_size = 64\n",
        "encoder_model = EncoderGRU(4, hidden_size)\n",
        "print(encoder_model)"
      ]
    },
    {
      "cell_type": "markdown",
      "metadata": {
        "id": "yXzAz8MMw1oV"
      },
      "source": [
        "#### Testing Encoder model"
      ]
    },
    {
      "cell_type": "code",
      "execution_count": 51,
      "metadata": {
        "colab": {
          "base_uri": "https://localhost:8080/"
        },
        "id": "sPZ8F6Ua6c0f",
        "outputId": "d7bb1d10-f74a-4ced-9ead-1088df48e18a"
      },
      "outputs": [
        {
          "name": "stdout",
          "output_type": "stream",
          "text": [
            "Input shape to encoder: torch.Size([30, 128, 4])\n",
            "Encoder output (last hidden state) shape: torch.Size([1, 128, 64])\n",
            "Sample vector: tensor([[ 0.0535,  0.1689, -0.0360,  ...,  0.2040,  0.2909,  0.0632],\n",
            "        [-0.0471, -0.2873,  0.1211,  ...,  0.1014,  0.0280, -0.1570],\n",
            "        [-0.0169,  0.0341,  0.0433,  ...,  0.2830,  0.2021,  0.0351],\n",
            "        ...,\n",
            "        [ 0.0056, -0.1472,  0.0920,  ...,  0.1528,  0.0344, -0.1557],\n",
            "        [ 0.0620,  0.0798,  0.0093,  ...,  0.1521,  0.1773, -0.0777],\n",
            "        [-0.0029, -0.0883,  0.0809,  ...,  0.2587,  0.1261, -0.0617]],\n",
            "       grad_fn=<SelectBackward0>)\n"
          ]
        }
      ],
      "source": [
        "# Grab one batch from the train dataloader\n",
        "inputs, _ = next(iter(train_dataloader))  # inputs shape: (batch_size, seq_len, input_size)\n",
        "\n",
        "# Rearrange for GRU: (seq_len, batch_size, input_size)\n",
        "inputs = inputs.permute(1, 0, 2)  # (seq_len, batch_size, input_size)\n",
        "\n",
        "print(\"Input shape to encoder:\", inputs.shape)  # Should be (seq_len, batch_size, 4)\n",
        "\n",
        "# Pass through encoder\n",
        "encoder_out = encoder_model(inputs)\n",
        "\n",
        "print(\"Encoder output (last hidden state) shape:\", encoder_out.shape)  # (1, batch_size, hidden_size)\n",
        "print(\"Sample vector:\", encoder_out[0])"
      ]
    },
    {
      "cell_type": "markdown",
      "metadata": {
        "id": "Fcu36kIQ8OgR"
      },
      "source": [
        "### Our Decoder Model\n",
        "\n",
        "The DecoderGRU class is a PyTorch module designed to serve as the decoder in a sequence-to-sequence architecture. It processes input sequences using a Gated Recurrent Unit (GRU), which efficiently models temporal dependencies with a simpler structure than LSTM.\n",
        "\n",
        "At each decoding step, the model takes in a multivariate feature vector (e.g., temperature, humidity, wind speed, pressure) and a hidden state from the encoder. It produces the next predicted output through a linear layer that maps the GRU’s hidden state to the desired feature space.\n",
        "\n",
        "The decoder supports teacher forcing during training, using either the ground-truth features or its own previous prediction as input for the next step. This design enables it to generate multi-step forecasts in an autoregressive manner while retaining the context learned by the encoder."
      ]
    },
    {
      "cell_type": "markdown",
      "metadata": {
        "id": "sYc02pSlytwO"
      },
      "source": [
        "#### Define Decoder class"
      ]
    },
    {
      "cell_type": "code",
      "execution_count": 52,
      "metadata": {
        "id": "Tle-kYjf8AM9"
      },
      "outputs": [],
      "source": [
        "class DecoderGRU(nn.Module):\n",
        "    def __init__(self, hidden_size, feature_size, num_layers = 1, dropout = 0.0):\n",
        "        super(DecoderGRU, self).__init__()\n",
        "        self.hidden_size = hidden_size\n",
        "        self.feature_size = feature_size # 4 features\n",
        "\n",
        "        self.gru = nn.GRU(input_size=feature_size,\n",
        "                          hidden_size=hidden_size,\n",
        "                          dropout = dropout if num_layers > 1 else 0.0,\n",
        "                          batch_first=False)\n",
        "\n",
        "        self.linear = nn.Linear(hidden_size, feature_size)\n",
        "\n",
        "    def forward(self, x, hidden, output_length, target=None):\n",
        "        outputs = []\n",
        "        decoder_input = x  # shape: (1, batch_size, 4)\n",
        "\n",
        "        for i in range(output_length):\n",
        "            # One step forward through GRU\n",
        "            decoder_output, hidden = self.gru(decoder_input, hidden)\n",
        "            decoder_output = self.linear(decoder_output)  # shape: (1, batch_size, 4)\n",
        "            outputs.append(decoder_output)\n",
        "\n",
        "            if target is not None:\n",
        "                # Teacher forcing: use actual target\n",
        "                decoder_input = target[i].unsqueeze(0)  # shape: (1, batch_size, 4)\n",
        "            else:\n",
        "                # Auto-regressive: use own prediction\n",
        "                decoder_input = decoder_output.detach()  # detach to prevent gradient flow\n",
        "\n",
        "        return torch.cat(outputs, dim=0)  # shape: (output_length, batch_size, 4)"
      ]
    },
    {
      "cell_type": "code",
      "execution_count": 53,
      "metadata": {
        "colab": {
          "base_uri": "https://localhost:8080/"
        },
        "id": "M8E7-KNs8yQE",
        "outputId": "0d5dfdf8-286b-4446-f07e-832f1d359e9e"
      },
      "outputs": [
        {
          "name": "stdout",
          "output_type": "stream",
          "text": [
            "DecoderGRU(\n",
            "  (gru): GRU(4, 64)\n",
            "  (linear): Linear(in_features=64, out_features=4, bias=True)\n",
            ")\n"
          ]
        }
      ],
      "source": [
        "# Defining our DecoderRNN model\n",
        "decoder_model = DecoderGRU(hidden_size = hidden_size, feature_size = 4)\n",
        "print(decoder_model)"
      ]
    },
    {
      "cell_type": "markdown",
      "metadata": {
        "id": "36qOgPg3yw2r"
      },
      "source": [
        "#### Testing Decoder model"
      ]
    },
    {
      "cell_type": "code",
      "execution_count": 54,
      "metadata": {
        "colab": {
          "base_uri": "https://localhost:8080/"
        },
        "id": "iJDTmEKx96Mg",
        "outputId": "546c3523-da0b-4c27-822b-7365e2c1b22e"
      },
      "outputs": [
        {
          "name": "stdout",
          "output_type": "stream",
          "text": [
            "Decoder output shape: torch.Size([7, 128, 4])\n"
          ]
        }
      ],
      "source": [
        "# Testing our DecoderRNN model\n",
        "\n",
        "# Get a batch from dataloader\n",
        "inputs, _ = next(iter(train_dataloader))  # inputs: (batch_size, seq_length, input_size)\n",
        "\n",
        "# Permute for encoder: (seq_length, batch_size, input_size)\n",
        "encoder_input = inputs.permute(1, 0, 2)\n",
        "\n",
        "# Pass through encoder\n",
        "encoder_hidden = encoder_model(encoder_input)  # shape: (1, batch_size, hidden_size)\n",
        "\n",
        "# Initial decoder input: zeros, shape (1, batch_size, 1)\n",
        "decoder_input = torch.zeros(1, inputs.size(0), 4).to(encoder_input.device)\n",
        "\n",
        "# Run decoder\n",
        "decoder_output = decoder_model(decoder_input, encoder_hidden, n_outputs)\n",
        "\n",
        "# Output shape: (T_out, B, 1)\n",
        "print(\"Decoder output shape:\", decoder_output.shape)"
      ]
    },
    {
      "cell_type": "markdown",
      "metadata": {
        "id": "oVmud6MSy3FG"
      },
      "source": [
        "### Our Seq2Seq Model\n",
        "\n",
        "By assembling the EncoderGRU and DecoderGRU classes, the Seq2SeqGRU class implements a sequence-to-sequence model using an encoder-decoder architecture built with GRUs.\n",
        "\n",
        "The encoder processes the entire input sequence — consisting of multiple time steps and multiple weather features — and compresses it into a final hidden state. This hidden state captures the temporal patterns and context of the input data and serves as the initial memory for the decoder.\n",
        "\n",
        "The decoder then uses this context to generate the output sequence one timestep at a time, predicting all target features (e.g., temperature, humidity, wind speed, pressure) for each future step. During training, it can optionally use teacher forcing, feeding the ground-truth values into subsequent steps to improve convergence.\n",
        "\n",
        "This design enables the model to make informed, multi-step forecasts of all relevant features based on learned temporal dynamics from the input sequence."
      ]
    },
    {
      "cell_type": "markdown",
      "metadata": {
        "id": "ISTxq5dazrZp"
      },
      "source": [
        "#### Define Seq2Seq class"
      ]
    },
    {
      "cell_type": "code",
      "execution_count": 55,
      "metadata": {
        "id": "LM1wdc2P-0Y0"
      },
      "outputs": [],
      "source": [
        "class Seq2SeqGRU(nn.Module):\n",
        "    def __init__(self, hidden_size, feature_size, output_size, num_layers=1):\n",
        "        super(Seq2SeqGRU, self).__init__()\n",
        "\n",
        "        self.output_length = output_size\n",
        "\n",
        "        self.encoder = EncoderGRU(input_size=feature_size, # 4 features\n",
        "                                  hidden_size=hidden_size,\n",
        "                                  num_layers= num_layers)\n",
        "\n",
        "        self.decoder = DecoderGRU(hidden_size=hidden_size,\n",
        "                                  feature_size=feature_size,\n",
        "                                  num_layers=num_layers)  # 4 features\n",
        "\n",
        "    def forward(self, inputs, outputs=None):\n",
        "        \"\"\"\n",
        "        Args:\n",
        "            inputs: shape (seq_len, batch_size, input_size=4)\n",
        "            outputs: optional teacher forcing target, shape (output_length, batch_size, 1)\n",
        "        \"\"\"\n",
        "        hidden = self.encoder(inputs)  # returns (1, batch_size, hidden_size)\n",
        "\n",
        "        # Initial decoder input: zeros (1, batch_size, 4)\n",
        "        decoder_input = torch.zeros(1, inputs.shape[1], self.decoder.feature_size).to(inputs.device)\n",
        "\n",
        "        # Pass to decoder\n",
        "        output = self.decoder(decoder_input, hidden, self.output_length, outputs)\n",
        "        return output  # shape: (output_length, batch_size, 1)"
      ]
    },
    {
      "cell_type": "code",
      "execution_count": 56,
      "metadata": {
        "colab": {
          "base_uri": "https://localhost:8080/"
        },
        "id": "q_jTm_nWAsxB",
        "outputId": "9fd0f8ea-ab39-4fbd-d447-cd30f2843aa0"
      },
      "outputs": [
        {
          "name": "stdout",
          "output_type": "stream",
          "text": [
            "Seq2SeqGRU(\n",
            "  (encoder): EncoderGRU(\n",
            "    (gru): GRU(4, 64)\n",
            "  )\n",
            "  (decoder): DecoderGRU(\n",
            "    (gru): GRU(4, 64)\n",
            "    (linear): Linear(in_features=64, out_features=4, bias=True)\n",
            "  )\n",
            ")\n"
          ]
        }
      ],
      "source": [
        "# Defining our Seq2Seq model\n",
        "seq2seq_model = Seq2SeqGRU(hidden_size = hidden_size, \\\n",
        "                          feature_size = 4, \\\n",
        "                          output_size = n_outputs)\n",
        "print(seq2seq_model)"
      ]
    },
    {
      "cell_type": "markdown",
      "metadata": {
        "id": "4VFe3IH43Frj"
      },
      "source": [
        "#### Testing seq2seq model"
      ]
    },
    {
      "cell_type": "code",
      "execution_count": 57,
      "metadata": {
        "colab": {
          "base_uri": "https://localhost:8080/"
        },
        "id": "I4527_oiAwig",
        "outputId": "139e545d-04e9-4806-c3bb-5928fb342ed4"
      },
      "outputs": [
        {
          "name": "stdout",
          "output_type": "stream",
          "text": [
            "Input shape: torch.Size([30, 128, 4])\n",
            "Target shape: torch.Size([7, 128, 4])\n",
            "Output shape: torch.Size([7, 128, 4])\n"
          ]
        }
      ],
      "source": [
        "# Instantiate model\n",
        "seq2seq_model = Seq2SeqGRU(hidden_size=hidden_size, feature_size = 4, output_size=n_outputs).to(device)\n",
        "\n",
        "# Get a batch from the dataloader\n",
        "inputs, outputs = next(iter(train_dataloader))  # shapes: (B, T_in, 4), (B, T_out)\n",
        "\n",
        "inputs = inputs.to(device)\n",
        "outputs = outputs.to(device)\n",
        "\n",
        "# Permute to (seq_length, batch_size, input_size)\n",
        "inputs = inputs.permute(1, 0, 2)\n",
        "outputs = outputs.permute(1, 0, 2)\n",
        "\n",
        "print(\"Input shape:\", inputs.shape)   # (input_seq_len, batch_size, 4)\n",
        "print(\"Target shape:\", outputs.shape) # (output_seq_len, batch_size, 1)\n",
        "\n",
        "# Forward pass\n",
        "seq2seq_out = seq2seq_model(inputs, outputs)\n",
        "\n",
        "print(\"Output shape:\", seq2seq_out.shape)  # (output_seq_len, batch_size, 1)"
      ]
    },
    {
      "cell_type": "markdown",
      "metadata": {
        "id": "NCSgP6gY3VhG"
      },
      "source": [
        "## Model training"
      ]
    },
    {
      "cell_type": "markdown",
      "metadata": {
        "id": "vncKaJfE3WWw"
      },
      "source": [
        "### Define function for training\n"
      ]
    },
    {
      "cell_type": "code",
      "execution_count": 58,
      "metadata": {
        "id": "Oo20b4OTBkmO"
      },
      "outputs": [],
      "source": [
        "loss_storage = []\n",
        "\n",
        "def train(dataloader, model, num_epochs, learning_rate, device):\n",
        "    # Set model to training mode\n",
        "    model.train()\n",
        "\n",
        "    criterion = nn.MSELoss()\n",
        "    optimizer = torch.optim.Adam(model.parameters(), lr=learning_rate)\n",
        "\n",
        "    for epoch in range(num_epochs):\n",
        "        total_loss = 0\n",
        "\n",
        "        for inputs, targets in dataloader:\n",
        "            # Move to device\n",
        "            inputs = inputs.to(device)\n",
        "            targets = targets.to(device)\n",
        "\n",
        "            # Reshape to (seq_len, batch_size, input_size)\n",
        "            inputs = inputs.permute(1, 0, 2)  # (T_in, B, 4)\n",
        "            targets = targets.permute(1, 0, 2)  # (T_out, B, 4)\n",
        "\n",
        "            # Zero gradients\n",
        "            optimizer.zero_grad()\n",
        "\n",
        "            # Forward pass without teacher forcing\n",
        "            predictions = model(inputs)\n",
        "\n",
        "            # Compute loss\n",
        "            loss = criterion(predictions, targets)\n",
        "            total_loss += loss.item()\n",
        "\n",
        "            # Backward pass and optimize\n",
        "            loss.backward()\n",
        "            optimizer.step()\n",
        "\n",
        "        avg_loss = total_loss / len(dataloader)\n",
        "        loss_storage.append(avg_loss)\n",
        "\n",
        "        # Print loss periodically\n",
        "        if (epoch + 1) % 25 == 0 or epoch == 0:\n",
        "            print(f\"Epoch {epoch + 1}/{num_epochs}, Avg Loss: {avg_loss:.4f}\")"
      ]
    },
    {
      "cell_type": "markdown",
      "metadata": {
        "id": "ovTHSMzJ5iCc"
      },
      "source": [
        "### Instantiate a model from Seq2Seq class"
      ]
    },
    {
      "cell_type": "code",
      "execution_count": 59,
      "metadata": {
        "id": "HtTLM6dH5t-C"
      },
      "outputs": [],
      "source": [
        "# Hyperparameters\n",
        "hidden_size = 64\n",
        "feature_size = 4\n",
        "num_epochs = 1051\n",
        "num_layers = 1\n",
        "dropout_rate = 0.1\n",
        "\n",
        "seq2seq_model = Seq2SeqGRU(hidden_size=hidden_size,\n",
        "                           feature_size = feature_size,\n",
        "                           output_size=n_outputs,\n",
        "                           num_layers=num_layers).to(device)"
      ]
    },
    {
      "cell_type": "code",
      "execution_count": 60,
      "metadata": {
        "colab": {
          "base_uri": "https://localhost:8080/"
        },
        "id": "s5fRqAso7T_h",
        "outputId": "c180c002-fbc5-4666-be36-435f520f1f5d"
      },
      "outputs": [
        {
          "data": {
            "text/plain": [
              "Seq2SeqGRU(\n",
              "  (encoder): EncoderGRU(\n",
              "    (gru): GRU(4, 64)\n",
              "  )\n",
              "  (decoder): DecoderGRU(\n",
              "    (gru): GRU(4, 64)\n",
              "    (linear): Linear(in_features=64, out_features=4, bias=True)\n",
              "  )\n",
              ")"
            ]
          },
          "execution_count": 60,
          "metadata": {},
          "output_type": "execute_result"
        }
      ],
      "source": [
        "seq2seq_model"
      ]
    },
    {
      "cell_type": "markdown",
      "metadata": {
        "id": "KDOXCMEn7j7T"
      },
      "source": [
        "### Train model"
      ]
    },
    {
      "cell_type": "code",
      "execution_count": 61,
      "metadata": {
        "colab": {
          "base_uri": "https://localhost:8080/"
        },
        "id": "Sgw31xOfC6AY",
        "outputId": "373e432e-234a-4ef5-b06c-0600165522bc"
      },
      "outputs": [
        {
          "name": "stdout",
          "output_type": "stream",
          "text": [
            "Epoch 1/1051, Avg Loss: 0.9386\n",
            "Epoch 25/1051, Avg Loss: 0.5676\n",
            "Epoch 50/1051, Avg Loss: 0.5339\n",
            "Epoch 75/1051, Avg Loss: 0.5204\n",
            "Epoch 100/1051, Avg Loss: 0.4795\n",
            "Epoch 125/1051, Avg Loss: 0.4141\n",
            "Epoch 150/1051, Avg Loss: 0.3364\n",
            "Epoch 175/1051, Avg Loss: 0.4792\n",
            "Epoch 200/1051, Avg Loss: 0.2417\n",
            "Epoch 225/1051, Avg Loss: 0.2227\n",
            "Epoch 250/1051, Avg Loss: 0.2056\n",
            "Epoch 275/1051, Avg Loss: 0.3871\n",
            "Epoch 300/1051, Avg Loss: 0.1978\n",
            "Epoch 325/1051, Avg Loss: 0.1865\n",
            "Epoch 350/1051, Avg Loss: 0.1772\n",
            "Epoch 375/1051, Avg Loss: 0.1699\n",
            "Epoch 400/1051, Avg Loss: 0.1664\n",
            "Epoch 425/1051, Avg Loss: 0.1613\n",
            "Epoch 450/1051, Avg Loss: 0.1607\n",
            "Epoch 475/1051, Avg Loss: 0.1451\n",
            "Epoch 500/1051, Avg Loss: 0.1412\n",
            "Epoch 525/1051, Avg Loss: 0.1328\n",
            "Epoch 550/1051, Avg Loss: 0.1318\n",
            "Epoch 575/1051, Avg Loss: 0.1238\n",
            "Epoch 600/1051, Avg Loss: 0.1226\n",
            "Epoch 625/1051, Avg Loss: 0.1129\n",
            "Epoch 650/1051, Avg Loss: 0.1117\n",
            "Epoch 675/1051, Avg Loss: 0.1093\n",
            "Epoch 700/1051, Avg Loss: 0.1014\n",
            "Epoch 725/1051, Avg Loss: 0.1021\n",
            "Epoch 750/1051, Avg Loss: 0.0926\n",
            "Epoch 775/1051, Avg Loss: 0.0945\n",
            "Epoch 800/1051, Avg Loss: 0.0936\n",
            "Epoch 825/1051, Avg Loss: 0.0873\n",
            "Epoch 850/1051, Avg Loss: 0.0837\n",
            "Epoch 875/1051, Avg Loss: 0.0879\n",
            "Epoch 900/1051, Avg Loss: 0.0786\n",
            "Epoch 925/1051, Avg Loss: 0.0782\n",
            "Epoch 950/1051, Avg Loss: 0.0745\n",
            "Epoch 975/1051, Avg Loss: 0.0786\n",
            "Epoch 1000/1051, Avg Loss: 0.0719\n",
            "Epoch 1025/1051, Avg Loss: 0.0681\n",
            "Epoch 1050/1051, Avg Loss: 0.0707\n",
            "2min 23s ± 0 ns per loop (mean ± std. dev. of 1 run, 1 loop each)\n"
          ]
        }
      ],
      "source": [
        "# Run training for warm-up\n",
        "%timeit -r 1 -n 1 train( dataloader=train_dataloader, model=seq2seq_model, num_epochs=num_epochs, learning_rate=1e-3, device=device)"
      ]
    },
    {
      "cell_type": "markdown",
      "metadata": {
        "id": "YU-CPRVk8EhT"
      },
      "source": [
        "### Save the model parameter"
      ]
    },
    {
      "cell_type": "code",
      "execution_count": 62,
      "metadata": {
        "colab": {
          "base_uri": "https://localhost:8080/"
        },
        "id": "PVy_etnL8H1x",
        "outputId": "c8010039-b282-405e-81d7-f0d165f520da"
      },
      "outputs": [
        {
          "name": "stdout",
          "output_type": "stream",
          "text": [
            "Model saved to: ../models_weights_storage/seq2seq_autoregressive_GRU.pth\n"
          ]
        }
      ],
      "source": [
        "# save model before eval\n",
        "import torch\n",
        "import os\n",
        "\n",
        "model_name=\"seq2seq_autoregressive_GRU\"\n",
        "\n",
        "# Path to save model\n",
        "model_path = os.path.join(\"../models_weights_storage\", f'{model_name}.pth')\n",
        "\n",
        "# Save the model's state dict\n",
        "torch.save(seq2seq_model.state_dict(), model_path)\n",
        "print(f\"Model saved to: {model_path}\")"
      ]
    },
    {
      "cell_type": "code",
      "execution_count": 63,
      "metadata": {
        "colab": {
          "base_uri": "https://localhost:8080/"
        },
        "id": "BX-8ROTC9QXv",
        "outputId": "53dd3642-94e6-4bd2-e0fc-ac7e335f7469"
      },
      "outputs": [
        {
          "data": {
            "text/plain": [
              "[0.9385927120844523,\n",
              " 0.8596075028181076,\n",
              " 0.6767063985268275,\n",
              " 0.6475376412272453,\n",
              " 0.6083792895078659,\n",
              " 0.6046109547217687,\n",
              " 0.8012128472328186,\n",
              " 0.5830618267258009,\n",
              " 0.789835512638092,\n",
              " 0.5800436263283094,\n",
              " 0.5765925620992979,\n",
              " 0.584359327952067,\n",
              " 0.5870299190282822,\n",
              " 0.5692386689285437,\n",
              " 0.580870953698953,\n",
              " 0.578011321524779,\n",
              " 0.7795119558771452,\n",
              " 0.5772674530744553,\n",
              " 0.568706102669239,\n",
              " 0.5662617161870003,\n",
              " 0.7762067119280497,\n",
              " 0.5639270320534706,\n",
              " 0.5810741533835729,\n",
              " 0.7876809736092886,\n",
              " 0.5675991276899973,\n",
              " 0.7646722719073296,\n",
              " 0.5794305900732676,\n",
              " 0.5599488516648611,\n",
              " 0.5630603681008021,\n",
              " 0.5607845087846121,\n",
              " 0.5572095240155855,\n",
              " 0.5578034073114395,\n",
              " 0.5467560216784477,\n",
              " 0.5544634511073431,\n",
              " 0.5519059921304384,\n",
              " 0.5474513471126556,\n",
              " 0.5613803764184316,\n",
              " 0.5606189394990603,\n",
              " 0.5470295796791712,\n",
              " 0.5515228187044462,\n",
              " 0.5552331308523814,\n",
              " 0.5560456290841103,\n",
              " 0.5376918688416481,\n",
              " 0.5421640699108442,\n",
              " 0.543484702706337,\n",
              " 0.5440014600753784,\n",
              " 0.5527350430687269,\n",
              " 0.5476895645260811,\n",
              " 0.5392289112011591,\n",
              " 0.5338540648420652,\n",
              " 0.537229468425115,\n",
              " 0.5383144418398539,\n",
              " 0.5389382069309553,\n",
              " 0.534677321712176,\n",
              " 0.5379108463724455,\n",
              " 0.540415016313394,\n",
              " 0.5342967137694359,\n",
              " 0.5347299054265022,\n",
              " 0.5264375781019529,\n",
              " 0.5279678801695505,\n",
              " 0.5308408339818319,\n",
              " 0.5263557632764181,\n",
              " 0.5271734346946081,\n",
              " 0.5318569590648016,\n",
              " 0.5264133214950562,\n",
              " 0.5367793291807175,\n",
              " 0.5298413758476576,\n",
              " 0.5207878922422727,\n",
              " 0.5189464688301086,\n",
              " 0.5152337029576302,\n",
              " 0.517175454646349,\n",
              " 0.537607915699482,\n",
              " 0.7223429580529531,\n",
              " 0.5130195009211699,\n",
              " 0.5203747848669688,\n",
              " 0.7153210242589315,\n",
              " 0.519144540031751,\n",
              " 0.7198494498928388,\n",
              " 0.5035855745275816,\n",
              " 0.5216148582597574,\n",
              " 0.7049258016049862,\n",
              " 0.526879295706749,\n",
              " 0.5069465488195419,\n",
              " 0.5079820876320204,\n",
              " 0.5064128835995992,\n",
              " 0.5123053453862667,\n",
              " 0.5024873663981756,\n",
              " 0.5195814644296964,\n",
              " 0.4962384067475796,\n",
              " 0.5057916020353636,\n",
              " 0.49761931349833805,\n",
              " 0.4965045352776845,\n",
              " 0.689421479900678,\n",
              " 0.49153803288936615,\n",
              " 0.48980526874462765,\n",
              " 0.4820283291240533,\n",
              " 0.49413712943593663,\n",
              " 0.4780958543221156,\n",
              " 0.47245538607239723,\n",
              " 0.47948458790779114,\n",
              " 0.47224535048007965,\n",
              " 0.468511663377285,\n",
              " 0.47780132790406543,\n",
              " 0.46279344831903774,\n",
              " 0.4621108223994573,\n",
              " 0.45809021840492886,\n",
              " 0.4585851952433586,\n",
              " 0.46320900445183116,\n",
              " 0.4553327225148678,\n",
              " 0.4464496734241645,\n",
              " 0.4445800768832366,\n",
              " 0.44473013405998546,\n",
              " 0.44770486031969386,\n",
              " 0.43526338040828705,\n",
              " 0.43854766214887303,\n",
              " 0.4314946060379346,\n",
              " 0.4341994511584441,\n",
              " 0.4235997262100379,\n",
              " 0.4226325626174609,\n",
              " 0.5592183570067087,\n",
              " 0.4146730825304985,\n",
              " 0.41937756165862083,\n",
              " 0.4072765161593755,\n",
              " 0.41595127433538437,\n",
              " 0.41412047669291496,\n",
              " 0.40386828655997914,\n",
              " 0.40341347828507423,\n",
              " 0.38907841965556145,\n",
              " 0.38981764887770015,\n",
              " 0.38667111471295357,\n",
              " 0.3805748000741005,\n",
              " 0.3723783815900485,\n",
              " 0.38008636608719826,\n",
              " 0.37123508999745053,\n",
              " 0.36670693506797153,\n",
              " 0.3602089087168376,\n",
              " 0.35163408393661183,\n",
              " 0.34862183779478073,\n",
              " 0.34215065091848373,\n",
              " 0.33966918165485066,\n",
              " 0.46712949126958847,\n",
              " 0.4446564018726349,\n",
              " 0.42882533743977547,\n",
              " 0.3983269010980924,\n",
              " 0.3709911108016968,\n",
              " 0.35535430411497754,\n",
              " 0.35238995651404065,\n",
              " 0.3368679992854595,\n",
              " 0.34001555914680165,\n",
              " 0.33642314995328587,\n",
              " 0.3401942054430644,\n",
              " 0.32470181460181874,\n",
              " 0.3150788185497125,\n",
              " 0.320386382440726,\n",
              " 0.3298635681470235,\n",
              " 0.3096986984213193,\n",
              " 0.3043040956060092,\n",
              " 0.2956093115111192,\n",
              " 0.2969447175661723,\n",
              " 0.29871656621495885,\n",
              " 0.2886960878968239,\n",
              " 0.28756900628407794,\n",
              " 0.28658774370948475,\n",
              " 0.2898360304534435,\n",
              " 0.27970755845308304,\n",
              " 0.2926325450340907,\n",
              " 0.2877459488809109,\n",
              " 0.2861249732474486,\n",
              " 0.30731411650776863,\n",
              " 0.288977740953366,\n",
              " 0.32107601190606755,\n",
              " 0.39525826399525005,\n",
              " 0.31489502886931103,\n",
              " 0.32242968678474426,\n",
              " 0.47916990021864575,\n",
              " 0.40367482602596283,\n",
              " 0.34905404473344487,\n",
              " 0.34138700490196544,\n",
              " 0.3695010741551717,\n",
              " 0.31104042877753574,\n",
              " 0.2788562700152397,\n",
              " 0.2796660189827283,\n",
              " 0.27243507901827496,\n",
              " 0.26608385021487874,\n",
              " 0.29103992134332657,\n",
              " 0.27152056122819584,\n",
              " 0.2623264516393344,\n",
              " 0.2724371552467346,\n",
              " 0.2669815793633461,\n",
              " 0.2643396904071172,\n",
              " 0.25864511852463085,\n",
              " 0.24724464242657027,\n",
              " 0.24440427869558334,\n",
              " 0.2465438904861609,\n",
              " 0.24812990302840868,\n",
              " 0.24803049365679422,\n",
              " 0.26470452671249706,\n",
              " 0.27021488050619763,\n",
              " 0.25415276487668353,\n",
              " 0.24170158679286638,\n",
              " 0.24941196789344153,\n",
              " 0.2632528282701969,\n",
              " 0.23606875849266848,\n",
              " 0.23553612704078355,\n",
              " 0.24052686244249344,\n",
              " 0.2431934413810571,\n",
              " 0.23163737480839094,\n",
              " 0.23115921020507812,\n",
              " 0.2468412220478058,\n",
              " 0.2736437867085139,\n",
              " 0.2613958915074666,\n",
              " 0.2306819868584474,\n",
              " 0.2331013965109984,\n",
              " 0.24322362740834555,\n",
              " 0.22771181166172028,\n",
              " 0.23156018927693367,\n",
              " 0.22628341615200043,\n",
              " 0.24347972124814987,\n",
              " 0.2314827429751555,\n",
              " 0.22625142087539038,\n",
              " 0.22160076846679053,\n",
              " 0.2195987825592359,\n",
              " 0.22769814108808836,\n",
              " 0.22096042335033417,\n",
              " 0.2227423576017221,\n",
              " 0.2259090170264244,\n",
              " 0.23470729837814966,\n",
              " 0.2215535156428814,\n",
              " 0.2409954828520616,\n",
              " 0.2686958226064841,\n",
              " 0.2493322379887104,\n",
              " 0.22478137165308,\n",
              " 0.22451663886507353,\n",
              " 0.2291777841746807,\n",
              " 0.21900433177749315,\n",
              " 0.21640872582793236,\n",
              " 0.2227820431192716,\n",
              " 0.21540223931272826,\n",
              " 0.22025658935308456,\n",
              " 0.21109319478273392,\n",
              " 0.21731575578451157,\n",
              " 0.2103303832312425,\n",
              " 0.21839126820365587,\n",
              " 0.20800723508000374,\n",
              " 0.211600624024868,\n",
              " 0.2107152690490087,\n",
              " 0.20770846183101335,\n",
              " 0.21086815496285757,\n",
              " 0.21032494058211645,\n",
              " 0.2055615708231926,\n",
              " 0.21067328875263533,\n",
              " 0.2077497902015845,\n",
              " 0.20674678310751915,\n",
              " 0.22031557808319727,\n",
              " 0.21210388466715813,\n",
              " 0.20549203331271806,\n",
              " 0.20064383621017137,\n",
              " 0.21018126979470253,\n",
              " 0.2071948821345965,\n",
              " 0.21315722291668257,\n",
              " 0.2039564810693264,\n",
              " 0.20097819715738297,\n",
              " 0.20125722140073776,\n",
              " 0.20076377193133035,\n",
              " 0.2036505602300167,\n",
              " 0.20328882957498232,\n",
              " 0.19627914081017175,\n",
              " 0.19990437229474387,\n",
              " 0.21295567601919174,\n",
              " 0.20636061827341715,\n",
              " 0.19862277805805206,\n",
              " 0.1957093688348929,\n",
              " 0.20168409496545792,\n",
              " 0.2625958000620206,\n",
              " 0.3870939699312051,\n",
              " 0.3888205836216609,\n",
              " 0.3852662146091461,\n",
              " 0.3869118069609006,\n",
              " 0.34589989731709164,\n",
              " 0.3420139439404011,\n",
              " 0.2762623292704423,\n",
              " 0.24626463651657104,\n",
              " 0.2538069350024064,\n",
              " 0.2414222148557504,\n",
              " 0.2285405769944191,\n",
              " 0.2676388882100582,\n",
              " 0.22125535582502684,\n",
              " 0.20978824670116106,\n",
              " 0.20427217334508896,\n",
              " 0.20121251046657562,\n",
              " 0.1996958740055561,\n",
              " 0.1996022549768289,\n",
              " 0.19564492565890154,\n",
              " 0.20302147790789604,\n",
              " 0.21023424218098322,\n",
              " 0.2019877222677072,\n",
              " 0.20050397887825966,\n",
              " 0.19377493237455687,\n",
              " 0.19973599538207054,\n",
              " 0.19777758543690047,\n",
              " 0.19214441875616708,\n",
              " 0.19815854479869208,\n",
              " 0.18764069738487402,\n",
              " 0.19493128235141435,\n",
              " 0.1895454761882623,\n",
              " 0.18883498758077621,\n",
              " 0.18764293752610683,\n",
              " 0.18953057999412218,\n",
              " 0.19061263899008432,\n",
              " 0.18868654345472655,\n",
              " 0.18742831299702326,\n",
              " 0.18938625852266947,\n",
              " 0.18889367952942848,\n",
              " 0.18812435865402222,\n",
              " 0.18740665291746458,\n",
              " 0.19122780362764993,\n",
              " 0.19153741747140884,\n",
              " 0.18940013647079468,\n",
              " 0.1849945286909739,\n",
              " 0.19109106933077177,\n",
              " 0.18768533815940222,\n",
              " 0.18728992094596228,\n",
              " 0.1855808546145757,\n",
              " 0.18629792829354605,\n",
              " 0.18646268422404924,\n",
              " 0.18291721368829408,\n",
              " 0.18419808025161424,\n",
              " 0.18031778434912363,\n",
              " 0.18924587840835252,\n",
              " 0.1823267141977946,\n",
              " 0.1862877681851387,\n",
              " 0.1807441028455893,\n",
              " 0.1889772079885006,\n",
              " 0.18546156585216522,\n",
              " 0.18481448044379553,\n",
              " 0.18114028498530388,\n",
              " 0.18388997142513594,\n",
              " 0.19248666365941366,\n",
              " 0.18260177969932556,\n",
              " 0.17973626777529716,\n",
              " 0.17969706654548645,\n",
              " 0.1775831306974093,\n",
              " 0.18008070811629295,\n",
              " 0.18901566540201506,\n",
              " 0.17795263727506003,\n",
              " 0.17792422821124396,\n",
              " 0.1783256952961286,\n",
              " 0.1754494495689869,\n",
              " 0.17515973870952925,\n",
              " 0.17722224444150925,\n",
              " 0.18625988066196442,\n",
              " 0.1805710233747959,\n",
              " 0.18010535836219788,\n",
              " 0.17455210909247398,\n",
              " 0.17370699842770895,\n",
              " 0.17514470343788466,\n",
              " 0.17447555189331374,\n",
              " 0.17283495391408601,\n",
              " 0.17884386703372002,\n",
              " 0.17744152868787447,\n",
              " 0.17717240254084268,\n",
              " 0.17169401546319327,\n",
              " 0.1700463971743981,\n",
              " 0.17267789194981256,\n",
              " 0.1755713460346063,\n",
              " 0.17214306319753328,\n",
              " 0.1716317062576612,\n",
              " 0.1762662815550963,\n",
              " 0.17838523040215173,\n",
              " 0.18687862902879715,\n",
              " 0.17016630743940672,\n",
              " 0.17168067768216133,\n",
              " 0.17105639725923538,\n",
              " 0.17053990811109543,\n",
              " 0.16990421836574873,\n",
              " 0.16837800790866217,\n",
              " 0.16754991809527078,\n",
              " 0.16553820172945657,\n",
              " 0.1705403452118238,\n",
              " 0.16639857863386473,\n",
              " 0.1692690464357535,\n",
              " 0.1657076838115851,\n",
              " 0.1690877303481102,\n",
              " 0.16872207447886467,\n",
              " 0.16892522821823755,\n",
              " 0.1645028367638588,\n",
              " 0.1673632189631462,\n",
              " 0.16551240906119347,\n",
              " 0.16513934234778085,\n",
              " 0.1721887787183126,\n",
              " 0.16653760274251303,\n",
              " 0.16836418335636458,\n",
              " 0.1716057024896145,\n",
              " 0.1670661891500155,\n",
              " 0.1690524953107039,\n",
              " 0.17105726401011148,\n",
              " 0.16572976484894753,\n",
              " 0.1644428956011931,\n",
              " 0.17191729322075844,\n",
              " 0.1664223608871301,\n",
              " 0.1639129233856996,\n",
              " 0.16304037968317667,\n",
              " 0.16128428652882576,\n",
              " 0.1623042238255342,\n",
              " 0.1651099994778633,\n",
              " 0.15959227830171585,\n",
              " 0.1616764118274053,\n",
              " 0.16205831492940584,\n",
              " 0.16938704252243042,\n",
              " 0.16499427830179533,\n",
              " 0.16394463181495667,\n",
              " 0.15875150760014853,\n",
              " 0.1556063567598661,\n",
              " 0.15957460552453995,\n",
              " 0.15706815446416536,\n",
              " 0.1619222859541575,\n",
              " 0.16678379848599434,\n",
              " 0.15857400496800741,\n",
              " 0.15954706196983656,\n",
              " 0.1571589857339859,\n",
              " 0.15555681909124056,\n",
              " 0.15814036751786867,\n",
              " 0.15263070911169052,\n",
              " 0.15755011017123857,\n",
              " 0.16130547473827997,\n",
              " 0.16809323181708655,\n",
              " 0.16901218021909395,\n",
              " 0.15923466781775156,\n",
              " 0.1612887904047966,\n",
              " 0.16597608849406242,\n",
              " 0.18218431745966276,\n",
              " 0.18711812297503153,\n",
              " 0.29500405117869377,\n",
              " 0.27006082360943157,\n",
              " 0.33314353972673416,\n",
              " 0.2570146918296814,\n",
              " 0.22587654863794646,\n",
              " 0.18810257067282996,\n",
              " 0.1936845233043035,\n",
              " 0.18274267514546713,\n",
              " 0.1861192286014557,\n",
              " 0.1804834008216858,\n",
              " 0.17148074011007944,\n",
              " 0.16547431920965514,\n",
              " 0.16177401940027872,\n",
              " 0.16367175430059433,\n",
              " 0.15612497553229332,\n",
              " 0.16024355217814445,\n",
              " 0.15911059081554413,\n",
              " 0.16068956007560095,\n",
              " 0.1619237388173739,\n",
              " 0.15842091043790182,\n",
              " 0.15586509058872858,\n",
              " 0.15383918086687723,\n",
              " 0.1546190120279789,\n",
              " 0.1571704000234604,\n",
              " 0.1549648679792881,\n",
              " 0.150178341815869,\n",
              " 0.15090875327587128,\n",
              " 0.1563141035536925,\n",
              " 0.1497731606165568,\n",
              " 0.15148853758970895,\n",
              " 0.1477573805799087,\n",
              " 0.1544147071739038,\n",
              " 0.14892938484748205,\n",
              " 0.15037045379479727,\n",
              " 0.15530932446320853,\n",
              " 0.14659437847634157,\n",
              " 0.14441823214292526,\n",
              " 0.1511990918467442,\n",
              " 0.14893179262677828,\n",
              " 0.15261713291207948,\n",
              " 0.1494033212463061,\n",
              " 0.14769217247764269,\n",
              " 0.14512777142226696,\n",
              " 0.14603990564743677,\n",
              " 0.14337031729519367,\n",
              " 0.1434862141807874,\n",
              " 0.14680520196755728,\n",
              " 0.14672290285428366,\n",
              " 0.14449827497204146,\n",
              " 0.14402462542057037,\n",
              " 0.14336954057216644,\n",
              " 0.14391080290079117,\n",
              " 0.1406832399467627,\n",
              " 0.14082102291285992,\n",
              " 0.14212724938988686,\n",
              " 0.14171655600269636,\n",
              " 0.14214434226353964,\n",
              " 0.14511726051568985,\n",
              " 0.14525186084210873,\n",
              " 0.15047779058416685,\n",
              " 0.1479821279644966,\n",
              " 0.1471493182082971,\n",
              " 0.1422242975483338,\n",
              " 0.14326604455709457,\n",
              " 0.13975393089155355,\n",
              " 0.14400714077055454,\n",
              " 0.1421440082291762,\n",
              " 0.14115538820624352,\n",
              " 0.14517908046642938,\n",
              " 0.14171165165801844,\n",
              " 0.14237465461095175,\n",
              " 0.14523120721181235,\n",
              " 0.14378952731688818,\n",
              " 0.14129904036720595,\n",
              " 0.13911078870296478,\n",
              " 0.14255432722469172,\n",
              " 0.13913288960854212,\n",
              " 0.1413327424476544,\n",
              " 0.14146401298542818,\n",
              " 0.13860401511192322,\n",
              " 0.13721690202752748,\n",
              " 0.136675293246905,\n",
              " 0.13717829311887422,\n",
              " 0.1388407126069069,\n",
              " 0.1351199373602867,\n",
              " 0.1378000850478808,\n",
              " 0.13928584257761636,\n",
              " 0.1434949574371179,\n",
              " 0.1345369735111793,\n",
              " 0.13501114087800184,\n",
              " 0.13405954589446387,\n",
              " 0.13343595278759798,\n",
              " 0.1327868557224671,\n",
              " 0.13599786907434464,\n",
              " 0.1399717846264442,\n",
              " 0.1408326675494512,\n",
              " 0.14005271531641483,\n",
              " 0.13698163876930872,\n",
              " 0.13735110498964787,\n",
              " 0.13954797325034937,\n",
              " 0.13834668571750322,\n",
              " 0.1331573606779178,\n",
              " 0.13247550589342913,\n",
              " 0.13318475956718126,\n",
              " 0.13235195353627205,\n",
              " 0.13073230845232806,\n",
              " 0.13115092553198338,\n",
              " 0.13581352246304354,\n",
              " 0.12981251254677773,\n",
              " 0.13260652869939804,\n",
              " 0.1325750481337309,\n",
              " 0.13167999063928923,\n",
              " 0.13378121455510458,\n",
              " 0.13185055367648602,\n",
              " 0.1300845698763927,\n",
              " 0.130859375,\n",
              " 0.1324540295948585,\n",
              " 0.13177394618590674,\n",
              " 0.13513686694204807,\n",
              " 0.13394905626773834,\n",
              " 0.12933179984490076,\n",
              " 0.131160461033384,\n",
              " 0.12837907982369265,\n",
              " 0.1311548159768184,\n",
              " 0.1338407608369986,\n",
              " 0.13145170050362745,\n",
              " 0.13293873829146227,\n",
              " 0.1452264916151762,\n",
              " 0.13935770653188229,\n",
              " 0.13806715297202268,\n",
              " 0.13384780722359815,\n",
              " 0.13041687880953154,\n",
              " 0.12545630832513174,\n",
              " 0.12734280029932657,\n",
              " 0.12430574124058087,\n",
              " 0.12586534271637598,\n",
              " 0.12543572982152304,\n",
              " 0.12604770498971143,\n",
              " 0.12597443598012129,\n",
              " 0.12657269711295763,\n",
              " 0.1280970349907875,\n",
              " 0.12483672425150871,\n",
              " 0.12381029811998208,\n",
              " 0.12303406558930874,\n",
              " 0.12309044847885768,\n",
              " 0.1284768134355545,\n",
              " 0.1366948572297891,\n",
              " 0.13021491654217243,\n",
              " 0.1280841982613007,\n",
              " 0.12507926610608897,\n",
              " 0.12237452529370785,\n",
              " 0.12220668730636437,\n",
              " 0.12259594288965066,\n",
              " 0.12959015679856142,\n",
              " 0.12597057099143663,\n",
              " 0.121068033700188,\n",
              " 0.12428098482390244,\n",
              " 0.1259232380737861,\n",
              " 0.12247513669232528,\n",
              " 0.12243358790874481,\n",
              " 0.12325323683520158,\n",
              " 0.12175580859184265,\n",
              " 0.11943385191261768,\n",
              " 0.12117241757611434,\n",
              " 0.1238550419608752,\n",
              " 0.1248589555422465,\n",
              " 0.12261145003139973,\n",
              " 0.12257589648167293,\n",
              " 0.1272161447753509,\n",
              " 0.12860366764167944,\n",
              " 0.1314222253859043,\n",
              " 0.11978537899752457,\n",
              " 0.12162210357685883,\n",
              " 0.11834695438543956,\n",
              " 0.12111663073301315,\n",
              " 0.12195074806610744,\n",
              " 0.12362193999191125,\n",
              " 0.11952664020160834,\n",
              " 0.11852151962618034,\n",
              " 0.1175622424731652,\n",
              " 0.11825399287045002,\n",
              " 0.11677887228627999,\n",
              " 0.11870339574913184,\n",
              " 0.12508103748162588,\n",
              " 0.13198914378881454,\n",
              " 0.12406431511044502,\n",
              " 0.12573997676372528,\n",
              " 0.12536572913328806,\n",
              " 0.11911532034476598,\n",
              " 0.11619445743660133,\n",
              " 0.11855096618334453,\n",
              " 0.11549573764204979,\n",
              " 0.11292890397210915,\n",
              " 0.11466207976142566,\n",
              " 0.1181340403854847,\n",
              " 0.11804491840302944,\n",
              " 0.11404942907392979,\n",
              " 0.1156800842533509,\n",
              " 0.11598098153869311,\n",
              " 0.11785066438217957,\n",
              " 0.11626994423568249,\n",
              " 0.11803694690267245,\n",
              " 0.12192647407452266,\n",
              " 0.1226486141482989,\n",
              " 0.1170253890256087,\n",
              " 0.11672830767929554,\n",
              " 0.11831525713205338,\n",
              " 0.11233881550530593,\n",
              " 0.1154169427851836,\n",
              " 0.11589057805637519,\n",
              " 0.11239265029629071,\n",
              " 0.11550455478330453,\n",
              " 0.11409811116755009,\n",
              " 0.1182433230181535,\n",
              " 0.11617870504657428,\n",
              " 0.11452428251504898,\n",
              " 0.11270345437029998,\n",
              " 0.11168958495060603,\n",
              " 0.11416489941378434,\n",
              " 0.10782448885341485,\n",
              " 0.10945602444310983,\n",
              " 0.11223153583705425,\n",
              " 0.11353787779808044,\n",
              " 0.11594804376363754,\n",
              " 0.11956337901453178,\n",
              " 0.11199661158025265,\n",
              " 0.11303471835951011,\n",
              " 0.10901794272164504,\n",
              " 0.11274874769151211,\n",
              " 0.1187871980170409,\n",
              " 0.12338292536636193,\n",
              " 0.12351498380303383,\n",
              " 0.118620449056228,\n",
              " 0.11586074903607368,\n",
              " 0.11288328965504964,\n",
              " 0.11778477455178897,\n",
              " 0.12994371416668096,\n",
              " 0.1184686782459418,\n",
              " 0.11584273787836234,\n",
              " 0.11213747039437294,\n",
              " 0.10711496882140636,\n",
              " 0.10649719275534153,\n",
              " 0.1092943400144577,\n",
              " 0.11126374391218026,\n",
              " 0.11159226546684901,\n",
              " 0.11039510990182559,\n",
              " 0.1073184988150994,\n",
              " 0.10698791469136874,\n",
              " 0.10715216708679993,\n",
              " 0.10462665930390358,\n",
              " 0.10923884188135465,\n",
              " 0.1133683379739523,\n",
              " 0.1139769038806359,\n",
              " 0.11207072188456853,\n",
              " 0.1087759571770827,\n",
              " 0.10798666439950466,\n",
              " 0.10787654854357243,\n",
              " 0.10616176140805085,\n",
              " 0.10578391887247562,\n",
              " 0.10746893162528674,\n",
              " 0.10728059026102225,\n",
              " 0.10908629869421323,\n",
              " 0.1072476568321387,\n",
              " 0.10552650565902393,\n",
              " 0.10335441368321578,\n",
              " 0.10346831815938155,\n",
              " 0.10129673033952713,\n",
              " 0.1013831328600645,\n",
              " 0.10396058112382889,\n",
              " 0.10553617154558499,\n",
              " 0.10420556552708149,\n",
              " 0.1033849697560072,\n",
              " 0.10451014153659344,\n",
              " 0.10171690334876378,\n",
              " 0.10398036117355029,\n",
              " 0.10101830214262009,\n",
              " 0.10499723876516025,\n",
              " 0.10433752524356048,\n",
              " 0.10168803421159585,\n",
              " 0.10175814914206664,\n",
              " 0.10514170862734318,\n",
              " 0.10240542764465015,\n",
              " 0.10067714502414067,\n",
              " 0.10151261029144128,\n",
              " 0.10423314571380615,\n",
              " 0.10772026951114337,\n",
              " 0.10456935502588749,\n",
              " 0.11076228134334087,\n",
              " 0.11104582560559113,\n",
              " 0.11108559245864551,\n",
              " 0.10407662391662598,\n",
              " 0.10373058232168357,\n",
              " 0.10208977572619915,\n",
              " 0.10385554345945518,\n",
              " 0.10852394563456376,\n",
              " 0.10683074903984864,\n",
              " 0.1307410721977552,\n",
              " 0.1321676125129064,\n",
              " 0.12268966933091481,\n",
              " 0.11860030020276706,\n",
              " 0.11203643182913463,\n",
              " 0.10887270793318748,\n",
              " 0.09980494839449723,\n",
              " 0.10055539570748806,\n",
              " 0.09722413371006648,\n",
              " 0.09649191548426946,\n",
              " 0.09540988939503829,\n",
              " 0.09790146164596081,\n",
              " 0.09987324041624863,\n",
              " 0.10307725332677364,\n",
              " 0.10030231811106205,\n",
              " 0.09953464940190315,\n",
              " 0.09781288169324398,\n",
              " 0.09645986060301463,\n",
              " 0.09389371362825234,\n",
              " 0.09355595459540685,\n",
              " 0.0950900527338187,\n",
              " 0.09258634659151237,\n",
              " 0.09339691077669461,\n",
              " 0.09428818027178447,\n",
              " 0.0953013530621926,\n",
              " 0.0962062186251084,\n",
              " 0.09450390934944153,\n",
              " 0.09689564816653728,\n",
              " 0.09860196585456531,\n",
              " 0.09763514064252377,\n",
              " 0.09854723947743575,\n",
              " 0.1005586814135313,\n",
              " 0.09960514555374782,\n",
              " 0.09614814134935538,\n",
              " 0.09440395360191663,\n",
              " 0.09518787637352943,\n",
              " 0.09489127310613792,\n",
              " 0.09416561884184678,\n",
              " 0.09321675511697929,\n",
              " 0.09385233062009017,\n",
              " 0.0930101927369833,\n",
              " 0.0896825147792697,\n",
              " 0.09122523168722789,\n",
              " 0.09162214895089467,\n",
              " 0.09180834144353867,\n",
              " 0.0911019363751014,\n",
              " 0.09449849277734756,\n",
              " 0.09397066508730252,\n",
              " 0.09474264333645503,\n",
              " 0.09496460296213627,\n",
              " 0.09858998780449231,\n",
              " 0.09751641688247521,\n",
              " 0.09417315696676572,\n",
              " 0.09878638945519924,\n",
              " 0.0974847674369812,\n",
              " 0.09406577112774055,\n",
              " 0.09194098164637883,\n",
              " 0.09460212476551533,\n",
              " 0.09711575818558534,\n",
              " 0.09873591301341851,\n",
              " 0.09633101647098859,\n",
              " 0.0922991478194793,\n",
              " 0.09242267782489459,\n",
              " 0.09329323843121529,\n",
              " 0.09115987519423167,\n",
              " 0.09217191860079765,\n",
              " 0.09154979325830936,\n",
              " 0.09583921171724796,\n",
              " 0.09592308104038239,\n",
              " 0.09485405931870143,\n",
              " 0.09332544915378094,\n",
              " 0.09359092637896538,\n",
              " 0.09349934570491314,\n",
              " 0.09679035656154156,\n",
              " 0.09762659668922424,\n",
              " 0.09626931635042031,\n",
              " 0.10181744645039241,\n",
              " 0.1044614315032959,\n",
              " 0.09940232833226521,\n",
              " 0.10162097960710526,\n",
              " 0.10136125423014164,\n",
              " 0.09535837359726429,\n",
              " 0.09621332337458928,\n",
              " 0.0895882894595464,\n",
              " 0.0907284114509821,\n",
              " 0.08973522484302521,\n",
              " 0.09209436737000942,\n",
              " 0.0907906989256541,\n",
              " 0.08881643662850063,\n",
              " 0.09206380508840084,\n",
              " 0.09103578515350819,\n",
              " 0.0898544682810704,\n",
              " 0.09011118300259113,\n",
              " 0.0900516031930844,\n",
              " 0.08826081392665704,\n",
              " 0.08912444673478603,\n",
              " 0.08734531700611115,\n",
              " 0.0879034474492073,\n",
              " 0.08654329863687356,\n",
              " 0.0860832625379165,\n",
              " 0.0871139441927274,\n",
              " 0.08462564398845036,\n",
              " 0.08471547936399777,\n",
              " 0.08454176783561707,\n",
              " 0.08248439772675435,\n",
              " 0.08516456310947736,\n",
              " 0.08606118274231751,\n",
              " 0.08433344215154648,\n",
              " 0.08575212520857652,\n",
              " 0.08532623325785,\n",
              " 0.08711025553445022,\n",
              " 0.08785117603838444,\n",
              " 0.0881786048412323,\n",
              " 0.09064624086022377,\n",
              " 0.0917346899708112,\n",
              " 0.08615176876386006,\n",
              " 0.08642540064950784,\n",
              " 0.08353829601158698,\n",
              " 0.08559892761210601,\n",
              " 0.08495652551452319,\n",
              " 0.08494834663967292,\n",
              " 0.08368103081981342,\n",
              " 0.08312532274673383,\n",
              " 0.08195945744713147,\n",
              " 0.08489821292459965,\n",
              " 0.08356267896791299,\n",
              " 0.08249947987496853,\n",
              " 0.08488472054402034,\n",
              " 0.08397428877651691,\n",
              " 0.08499162333707015,\n",
              " 0.08046934412171443,\n",
              " 0.08433915426333745,\n",
              " 0.08383276996513207,\n",
              " 0.08255599687496822,\n",
              " 0.08347106166183949,\n",
              " 0.08664698588351409,\n",
              " 0.08889920947452386,\n",
              " 0.09215089740852515,\n",
              " 0.1046383169790109,\n",
              " 0.09914081046978633,\n",
              " 0.09220610248545806,\n",
              " 0.09675690314422052,\n",
              " 0.10148490592837334,\n",
              " 0.09980314721663792,\n",
              " 0.09685946814715862,\n",
              " 0.09019150833288829,\n",
              " 0.08787636645138264,\n",
              " 0.09034822136163712,\n",
              " 0.08856430277228355,\n",
              " 0.08576623474558194,\n",
              " 0.08378544387718041,\n",
              " 0.08601522507766883,\n",
              " 0.08124399309357007,\n",
              " 0.07939725617567699,\n",
              " 0.08097397660215695,\n",
              " 0.08250425942242146,\n",
              " 0.08073198298613231,\n",
              " 0.07893800362944603,\n",
              " 0.08086838262776534,\n",
              " 0.07999609286586444,\n",
              " 0.07993193157017231,\n",
              " 0.07975381799042225,\n",
              " 0.08122292595605056,\n",
              " 0.08164685095349948,\n",
              " 0.08088068477809429,\n",
              " 0.08120721268157165,\n",
              " 0.08012893951187532,\n",
              " 0.07978418997178476,\n",
              " 0.08210990577936172,\n",
              " 0.07930343598127365,\n",
              " 0.07817595079541206,\n",
              " 0.07864692807197571,\n",
              " 0.07707042433321476,\n",
              " 0.07719860908885796,\n",
              " 0.07928098986546199,\n",
              " 0.0804979285846154,\n",
              " 0.08233011700212955,\n",
              " 0.08411059031883876,\n",
              " 0.08119322173297405,\n",
              " 0.07969375575582187,\n",
              " 0.08209570993979771,\n",
              " 0.08311008599897225,\n",
              " 0.08773913234472275,\n",
              " 0.08795843025048573,\n",
              " 0.0862398911267519,\n",
              " 0.08424121824403603,\n",
              " 0.08141251063595216,\n",
              " 0.09009652522703011,\n",
              " 0.08421285326282184,\n",
              " 0.08210829210778077,\n",
              " 0.08170779546101888,\n",
              " 0.0823674922188123,\n",
              " 0.08014313069482644,\n",
              " 0.07883505026499431,\n",
              " 0.07853367862602074,\n",
              " 0.07889900666972001,\n",
              " 0.07822554496427377,\n",
              " 0.0797395749638478,\n",
              " 0.08269455780585606,\n",
              " 0.08349699154496193,\n",
              " 0.08097932798167069,\n",
              " 0.08147889251510303,\n",
              " 0.08271291106939316,\n",
              " 0.08459736468891303,\n",
              " 0.0823405838261048,\n",
              " 0.08095107413828373,\n",
              " 0.0803973867247502,\n",
              " 0.07967223475376765,\n",
              " 0.08090293904145558,\n",
              " 0.07865569305916627,\n",
              " 0.07766209915280342,\n",
              " 0.07666935212910175,\n",
              " 0.07863892118136089,\n",
              " 0.07575870367387931,\n",
              " 0.07544257802267869,\n",
              " 0.07430840159455936,\n",
              " 0.0755809402714173,\n",
              " 0.07558952458202839,\n",
              " 0.07535317291816075,\n",
              " 0.07503451655308406,\n",
              " 0.07482678070664406,\n",
              " 0.07453876174986362,\n",
              " 0.07317107574393351,\n",
              " 0.07356492926677068,\n",
              " 0.07499237917363644,\n",
              " 0.07716054531435172,\n",
              " 0.07731760914127032,\n",
              " 0.07647121759752433,\n",
              " 0.0754805418352286,\n",
              " 0.07866155977050464,\n",
              " 0.07771985481182735,\n",
              " 0.07932383691271146,\n",
              " 0.08392071848114331,\n",
              " 0.08240279493232568,\n",
              " 0.08605726870397727,\n",
              " 0.08360746378699939,\n",
              " 0.08313503799339135,\n",
              " 0.08168047728637855,\n",
              " 0.07992338885863622,\n",
              " 0.07974982758363088,\n",
              " 0.07828663165370624,\n",
              " 0.0754374557485183,\n",
              " 0.07926567954321702,\n",
              " 0.07840562922259171,\n",
              " 0.07926471283038457,\n",
              " 0.07909935836990674,\n",
              " 0.07863585092127323,\n",
              " 0.08020064420998096,\n",
              " 0.08159191968540351,\n",
              " 0.07972047912577788,\n",
              " 0.07905927424629529,\n",
              " 0.07530071213841438,\n",
              " 0.07418953689436118,\n",
              " 0.07223304733633995,\n",
              " 0.07360718864947557,\n",
              " 0.07023549731820822,\n",
              " 0.07102254902323087,\n",
              " 0.07216833780209224,\n",
              " 0.07385183870792389,\n",
              " 0.07632267723480861,\n",
              " 0.07576040737330914,\n",
              " 0.07405369573583205,\n",
              " 0.0728519530966878,\n",
              " 0.07590592590471108,\n",
              " 0.07450152064363162,\n",
              " 0.0731922946870327,\n",
              " 0.0765110645443201,\n",
              " 0.07349539920687675,\n",
              " 0.07309580904742081,\n",
              " 0.07353118620812893,\n",
              " 0.07297296697894733,\n",
              " 0.07187613037725289,\n",
              " ...]"
            ]
          },
          "execution_count": 63,
          "metadata": {},
          "output_type": "execute_result"
        }
      ],
      "source": [
        "loss_storage"
      ]
    },
    {
      "cell_type": "markdown",
      "metadata": {
        "id": "pjH1rVzx9T1m"
      },
      "source": [
        "## Plot loss curve during model training"
      ]
    },
    {
      "cell_type": "markdown",
      "metadata": {
        "id": "8b7Jqi989WN9"
      },
      "source": [
        "### Define a function to plot the loss curve"
      ]
    },
    {
      "cell_type": "code",
      "execution_count": 64,
      "metadata": {},
      "outputs": [],
      "source": [
        "import matplotlib.pyplot as plt\n",
        "\n",
        "def plot_loss_curve(loss_storage, tick_interval=50, save_path=None):\n",
        "    plt.figure(figsize=(12, 6))\n",
        "\n",
        "    epochs = list(range(1, len(loss_storage) + 1))\n",
        "\n",
        "    # Plot the loss\n",
        "    plt.plot(\n",
        "        epochs,\n",
        "        loss_storage,\n",
        "        color='royalblue',\n",
        "        marker='o',\n",
        "        linestyle='-',\n",
        "        linewidth=2,\n",
        "        markersize=4,\n",
        "        label='Training Loss'\n",
        "    )\n",
        "\n",
        "    # Title & labels\n",
        "    plt.title(\"Training Loss Curve\", fontsize=18, fontweight='bold')\n",
        "    plt.xlabel(\"Epoch\", fontsize=14)\n",
        "    plt.ylabel(\"Loss\", fontsize=14)\n",
        "\n",
        "    # Show ticks every 50 epochs\n",
        "    tick_positions = list(range(0, len(loss_storage) + 1, tick_interval))\n",
        "    plt.xticks(ticks=tick_positions, labels=[str(t) for t in tick_positions], fontsize=12)\n",
        "    plt.yticks(fontsize=12)\n",
        "\n",
        "    # Grid, legend and layout\n",
        "    plt.grid(True, linestyle='--', linewidth=0.5)\n",
        "    plt.legend(fontsize=12)\n",
        "    plt.tight_layout()\n",
        "\n",
        "    if save_path:\n",
        "        plt.savefig(save_path, dpi=300, bbox_inches='tight')\n",
        "        print(f\"Loss curve saved to: {save_path}\")\n",
        "\n",
        "    plt.show()"
      ]
    },
    {
      "cell_type": "markdown",
      "metadata": {
        "id": "5k0WfEjH9a0f"
      },
      "source": [
        "### Plot the loss curve and save the image"
      ]
    },
    {
      "cell_type": "code",
      "execution_count": 65,
      "metadata": {
        "colab": {
          "base_uri": "https://localhost:8080/",
          "height": 624
        },
        "id": "uFqbs3SY9cFu",
        "outputId": "b0354a2b-54c7-477d-be44-ce4ed290a3b4"
      },
      "outputs": [
        {
          "name": "stdout",
          "output_type": "stream",
          "text": [
            "Loss curve saved to: ../images_model_training_and_eval/seq2seq_autoregressive_GRU_loss_training_curve.png\n"
          ]
        },
        {
          "data": {
            "image/png": "[encoded data removed]",
            "text/plain": [
              "<Figure size 1200x600 with 1 Axes>"
            ]
          },
          "metadata": {},
          "output_type": "display_data"
        }
      ],
      "source": [
        "save_path=\"../images_model_training_and_eval/seq2seq_autoregressive_GRU_loss_training_curve.png\"\n",
        "plot_loss_curve(loss_storage,save_path=save_path)"
      ]
    },
    {
      "cell_type": "markdown",
      "metadata": {
        "id": "_fxbuLWi9uEi"
      },
      "source": [
        "## Model Evaluation"
      ]
    },
    {
      "cell_type": "markdown",
      "metadata": {
        "id": "QXbiluyc9wil"
      },
      "source": [
        "### Define evaluation model function"
      ]
    },
    {
      "cell_type": "code",
      "execution_count": 66,
      "metadata": {
        "id": "Vr_PC6oJE4DB"
      },
      "outputs": [],
      "source": [
        "def evaluate_model(model, dataloader, seed_value):\n",
        "    model.eval()\n",
        "    torch.manual_seed(seed_value)\n",
        "    torch.cuda.manual_seed_all(seed_value)\n",
        "    np.random.seed(seed_value)\n",
        "\n",
        "    inputs, outputs = next(iter(dataloader))\n",
        "    inputs = inputs.to(device)\n",
        "    outputs = outputs.to(device)\n",
        "\n",
        "    inputs_seq = inputs.permute(1, 0, 2)\n",
        "    outputs_seq = outputs.permute(1, 0, 2)\n",
        "\n",
        "    pred = model(inputs_seq)\n",
        "\n",
        "    true_vals = outputs_seq.cpu().numpy()[:, 0, :]\n",
        "    pred_vals = pred.detach().cpu().numpy()[:, 0, :]\n",
        "\n",
        "    print(\"Ground truth:\\n\", true_vals.T)\n",
        "    print(\"Prediction:\\n\", pred_vals.T)\n",
        "    print(\"MAE:\", np.mean(np.abs(true_vals - pred_vals)))\n",
        "\n",
        "    feature_mae = np.mean(np.abs(true_vals - pred_vals), axis=(0, 1))\n",
        "    print(\"Feature-wise MAE:\", feature_mae)"
      ]
    },
    {
      "cell_type": "code",
      "execution_count": 67,
      "metadata": {
        "colab": {
          "base_uri": "https://localhost:8080/"
        },
        "id": "qcy37yO99-y3",
        "outputId": "723ceea1-c9df-410a-a89b-8f350d7bb344"
      },
      "outputs": [
        {
          "name": "stdout",
          "output_type": "stream",
          "text": [
            "Ground truth:\n",
            " [[-1.2752299  -1.3943083  -1.1437798  -1.3417282  -0.9247994  -0.93411076\n",
            "  -1.1712726 ]\n",
            " [ 0.9080867   1.0646194   0.3442977   1.0381919   1.0034971   1.0053803\n",
            "   0.53042036]\n",
            " [-0.47729036 -0.37316027 -0.82754606 -1.0846328   0.6615639   0.28450337\n",
            "   0.49154565]\n",
            " [ 0.02438779  0.03548462  0.04330284  0.03674562  0.01828454  0.01723326\n",
            "   0.027162  ]]\n",
            "Prediction:\n",
            " [[-1.0463581  -0.81932545 -0.8348368  -0.8472067  -0.9499138  -1.0314204\n",
            "  -0.98643214]\n",
            " [ 0.835302    0.4710986   0.16563408 -0.12924032 -0.10905682  0.05934189\n",
            "   0.18448274]\n",
            " [-3.025795   -2.8700995  -2.0890913  -1.4501629  -0.36106068  0.51522994\n",
            "   0.17993152]\n",
            " [-0.03422436 -0.8632057   0.17967486  0.04304028 -0.24590576  0.10874164\n",
            "   0.06966281]]\n",
            "MAE: 0.5738274\n",
            "Feature-wise MAE: 0.5738274\n"
          ]
        }
      ],
      "source": [
        "seed_value=187\n",
        "\n",
        "evaluate_model(seq2seq_model,test_dataloader,seed_value)"
      ]
    },
    {
      "cell_type": "markdown",
      "metadata": {
        "id": "HcznHsF1-HER"
      },
      "source": [
        "#### Define function to plot prediction versus ground truth"
      ]
    },
    {
      "cell_type": "code",
      "execution_count": 68,
      "metadata": {
        "id": "it_Lf04A-asC"
      },
      "outputs": [],
      "source": [
        "import matplotlib.pyplot as plt\n",
        "import numpy as np\n",
        "import torch\n",
        "\n",
        "def model_evaluation_and_visualizations(model, dataloader, device, stats=None, indices=[2486, 2986]):\n",
        "    feature_names = ['meantemp', 'humidity', 'wind_speed', 'meanpressure']\n",
        "    colors = ['#1f77b4', '#ff7f0e', '#2ca02c', '#d62728']  # Custom colors per feature\n",
        "\n",
        "    plt.style.use('ggplot')  # Consistent, readable plotting style\n",
        "    model.eval()\n",
        "\n",
        "    num_features = len(feature_names)\n",
        "    num_samples = len(indices)\n",
        "\n",
        "    fig, axs = plt.subplots(num_samples, num_features, figsize=(5 * num_features, 4 * num_samples))\n",
        "\n",
        "    for row, seed in enumerate(indices):\n",
        "        g = torch.Generator()\n",
        "        g.manual_seed(seed)\n",
        "\n",
        "        # Rebuild a deterministic DataLoader with shuffling\n",
        "        data_iter = iter(torch.utils.data.DataLoader(\n",
        "            dataloader.dataset, batch_size=32, shuffle=True, generator=g\n",
        "        ))\n",
        "\n",
        "        inputs, outputs = next(data_iter)\n",
        "        inputs, outputs = inputs.to(device), outputs.to(device)\n",
        "\n",
        "        # Permute for (seq_len, batch, feature)\n",
        "        inputs_seq = inputs.permute(1, 0, 2)      # (T_in, B, F)\n",
        "        outputs_seq = outputs.permute(1, 0, 2)    # (T_out, B, F)\n",
        "        preds = model(inputs_seq)                # (T_out, B, F)\n",
        "\n",
        "        b = 0  # Visualize the first sample in the batch\n",
        "\n",
        "        # Get the data for sample b\n",
        "        x = inputs_seq[:, b, :].detach().cpu().numpy()      # (T_in, F)\n",
        "        y_true = outputs_seq[:, b, :].detach().cpu().numpy()  # (T_out, F)\n",
        "        y_pred = preds[:, b, :].detach().cpu().numpy()        # (T_out, F)\n",
        "\n",
        "        # Denormalize if stats are provided\n",
        "        if stats is not None:\n",
        "            for i, name in enumerate(feature_names):\n",
        "                mean = stats.loc[name, 'mean']\n",
        "                std = stats.loc[name, 'std']\n",
        "                x[:, i] = x[:, i] * std + mean\n",
        "                y_true[:, i] = y_true[:, i] * std + mean\n",
        "                y_pred[:, i] = y_pred[:, i] * std + mean\n",
        "\n",
        "        # Time steps\n",
        "        t_input = list(range(x.shape[0]))\n",
        "        t_output = [x.shape[0] + i + 1 for i in range(y_true.shape[0])]\n",
        "        mse = np.mean((y_true - y_pred) ** 2)\n",
        "\n",
        "        # Plot each feature separately\n",
        "        for col in range(num_features):\n",
        "            ax = axs[row, col] if num_samples > 1 else axs[col]\n",
        "            feature = feature_names[col]\n",
        "            color = colors[col % len(colors)]\n",
        "\n",
        "            # Input sequence\n",
        "            ax.plot(t_input, x[:, col], linestyle='--', linewidth=2, label=\"Input\", color=color)\n",
        "            # Ground truth output\n",
        "            ax.scatter(t_output, y_true[:, col], label=\"True\", color=color, marker='o', s=50, edgecolors='black', linewidth=0.5)\n",
        "            # Predicted output\n",
        "            ax.scatter(t_output, y_pred[:, col], label=\"Pred\", color='black', marker='x', s=60)\n",
        "\n",
        "            ax.set_title(f\"{feature} | seed={seed} | MSE={mse:.4f}\", fontsize=11)\n",
        "            ax.grid(True)\n",
        "\n",
        "            if row == num_samples - 1:\n",
        "                ax.set_xlabel(\"Timestep\")\n",
        "            if col == 0:\n",
        "                ax.set_ylabel(\"Value\")\n",
        "            if row == 0:\n",
        "                ax.legend(loc='upper center', fontsize=8)\n",
        "\n",
        "    plt.tight_layout()\n",
        "    plt.show()\n",
        "\n"
      ]
    },
    {
      "cell_type": "code",
      "execution_count": 69,
      "metadata": {
        "colab": {
          "base_uri": "https://localhost:8080/",
          "height": 527
        },
        "id": "jJVzlAry-fo8",
        "outputId": "96d3e7e9-1a22-424a-d96b-0f23828f8710"
      },
      "outputs": [
        {
          "data": {
            "image/png": "[encoded data removed]",
            "text/plain": [
              "<Figure size 2000x800 with 8 Axes>"
            ]
          },
          "metadata": {},
          "output_type": "display_data"
        }
      ],
      "source": [
        "# Visualize\n",
        "model_evaluation_and_visualizations(seq2seq_model, test_dataloader, device)"
      ]
    }
  ],
  "metadata": {
    "accelerator": "GPU",
    "colab": {
      "gpuType": "T4",
      "machine_shape": "hm",
      "provenance": []
    },
    "kernelspec": {
      "display_name": ".venv",
      "language": "python",
      "name": "python3"
    },
    "language_info": {
      "codemirror_mode": {
        "name": "ipython",
        "version": 3
      },
      "file_extension": ".py",
      "mimetype": "text/x-python",
      "name": "python",
      "nbconvert_exporter": "python",
      "pygments_lexer": "ipython3",
      "version": "3.11.11"
    }
  },
  "nbformat": 4,
  "nbformat_minor": 0
}
