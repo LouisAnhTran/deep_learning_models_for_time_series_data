{
  "cells": [
    {
      "cell_type": "markdown",
      "metadata": {
        "id": "N7u2dQY3sb6N"
      },
      "source": [
        "# Implementing an autoregressive Seq2Seq model using GRU architecture\n",
        "\n",
        "### About this notebook\n",
        "\n",
        "This notebook was created as a deliverable for the group project under 50.039 Deep Learning course at the Singapore University of Technology and Design.\n",
        "\n",
        "**Author:** Group 17 - Cohort 01"
      ]
    },
    {
      "cell_type": "markdown",
      "metadata": {
        "id": "MP_zt6Z-sj5K"
      },
      "source": [
        "## Define device for Torch - preferred CUDA for accelerated computation"
      ]
    },
    {
      "cell_type": "code",
      "execution_count": 1,
      "metadata": {
        "colab": {
          "base_uri": "https://localhost:8080/"
        },
        "id": "Jm9aTM4Dsp7F",
        "outputId": "39c47c21-08b4-4dea-a783-ed758e675d0a"
      },
      "outputs": [
        {
          "name": "stdout",
          "output_type": "stream",
          "text": [
            "CUDA is available: False\n"
          ]
        }
      ],
      "source": [
        "# Matplotlib\n",
        "import torch\n",
        "\n",
        "# Define device for torch\n",
        "use_cuda = True\n",
        "print(\"CUDA is available:\", torch.cuda.is_available())\n",
        "device = torch.device(\"cuda\" if (use_cuda and torch.cuda.is_available()) else \"cpu\")"
      ]
    },
    {
      "cell_type": "markdown",
      "metadata": {
        "id": "zDGEj8Cjs0dt"
      },
      "source": [
        "## Import train and test dataset"
      ]
    },
    {
      "cell_type": "markdown",
      "metadata": {
        "id": "9IWPk8NOs2mU"
      },
      "source": [
        "### Define load dataset function"
      ]
    },
    {
      "cell_type": "code",
      "execution_count": 3,
      "metadata": {
        "id": "6t7CqX5tzPII"
      },
      "outputs": [],
      "source": [
        "import pandas as pd\n",
        "\n",
        "def load_dataset(train_path, test_path):\n",
        "    # Load and drop date column\n",
        "    train_df = pd.read_csv(train_path, parse_dates=['date']).drop(columns=['date'])\n",
        "    test_df = pd.read_csv(test_path, parse_dates=['date']).drop(columns=['date'])\n",
        "\n",
        "    # Normalize using training statistics\n",
        "    stats = train_df.describe().transpose()\n",
        "\n",
        "    def normalize(df):\n",
        "        return (df - stats[\"mean\"]) / stats[\"std\"]\n",
        "\n",
        "    train_norm = normalize(train_df)\n",
        "    test_norm = normalize(test_df)\n",
        "\n",
        "    return train_norm, test_norm, stats"
      ]
    },
    {
      "cell_type": "markdown",
      "metadata": {
        "id": "a1vDADPDtENq"
      },
      "source": [
        "### Load train and test dataset"
      ]
    },
    {
      "cell_type": "code",
      "execution_count": 4,
      "metadata": {
        "id": "taRAOhsLxbs9"
      },
      "outputs": [],
      "source": [
        "# Load dataset from file\n",
        "train_file_path = '../dataset/train/DailyDelhiClimateTrain.csv'\n",
        "test_file_path = '../dataset/test/DailyDelhiClimateTest.csv'\n",
        "train_data, test_data, stats = load_dataset(train_file_path, test_file_path)"
      ]
    },
    {
      "cell_type": "code",
      "execution_count": 5,
      "metadata": {
        "colab": {
          "base_uri": "https://localhost:8080/",
          "height": 204
        },
        "id": "ppLCQaAGt2_G",
        "outputId": "e7454241-4b84-4139-af2c-e8da5386a763"
      },
      "outputs": [
        {
          "data": {
            "text/html": [
              "<div>\n",
              "<style scoped>\n",
              "    .dataframe tbody tr th:only-of-type {\n",
              "        vertical-align: middle;\n",
              "    }\n",
              "\n",
              "    .dataframe tbody tr th {\n",
              "        vertical-align: top;\n",
              "    }\n",
              "\n",
              "    .dataframe thead th {\n",
              "        text-align: right;\n",
              "    }\n",
              "</style>\n",
              "<table border=\"1\" class=\"dataframe\">\n",
              "  <thead>\n",
              "    <tr style=\"text-align: right;\">\n",
              "      <th></th>\n",
              "      <th>meantemp</th>\n",
              "      <th>humidity</th>\n",
              "      <th>wind_speed</th>\n",
              "      <th>meanpressure</th>\n",
              "    </tr>\n",
              "  </thead>\n",
              "  <tbody>\n",
              "    <tr>\n",
              "      <th>0</th>\n",
              "      <td>-2.108778</td>\n",
              "      <td>1.414955</td>\n",
              "      <td>-1.491189</td>\n",
              "      <td>0.025313</td>\n",
              "    </tr>\n",
              "    <tr>\n",
              "      <th>1</th>\n",
              "      <td>-2.462611</td>\n",
              "      <td>1.862191</td>\n",
              "      <td>-0.837909</td>\n",
              "      <td>0.037149</td>\n",
              "    </tr>\n",
              "    <tr>\n",
              "      <th>2</th>\n",
              "      <td>-2.494366</td>\n",
              "      <td>1.564034</td>\n",
              "      <td>-0.475464</td>\n",
              "      <td>0.041958</td>\n",
              "    </tr>\n",
              "    <tr>\n",
              "      <th>3</th>\n",
              "      <td>-2.290231</td>\n",
              "      <td>0.629806</td>\n",
              "      <td>-1.220816</td>\n",
              "      <td>0.033635</td>\n",
              "    </tr>\n",
              "    <tr>\n",
              "      <th>4</th>\n",
              "      <td>-2.653137</td>\n",
              "      <td>1.554095</td>\n",
              "      <td>-0.680070</td>\n",
              "      <td>0.029936</td>\n",
              "    </tr>\n",
              "  </tbody>\n",
              "</table>\n",
              "</div>"
            ],
            "text/plain": [
              "   meantemp  humidity  wind_speed  meanpressure\n",
              "0 -2.108778  1.414955   -1.491189      0.025313\n",
              "1 -2.462611  1.862191   -0.837909      0.037149\n",
              "2 -2.494366  1.564034   -0.475464      0.041958\n",
              "3 -2.290231  0.629806   -1.220816      0.033635\n",
              "4 -2.653137  1.554095   -0.680070      0.029936"
            ]
          },
          "execution_count": 5,
          "metadata": {},
          "output_type": "execute_result"
        }
      ],
      "source": [
        "train_data[:5]"
      ]
    },
    {
      "cell_type": "code",
      "execution_count": 6,
      "metadata": {
        "colab": {
          "base_uri": "https://localhost:8080/"
        },
        "id": "vd6UFFPyt5AQ",
        "outputId": "b3f3acec-7f35-4b86-f019-72e4a364acbf"
      },
      "outputs": [
        {
          "data": {
            "text/plain": [
              "1462"
            ]
          },
          "execution_count": 6,
          "metadata": {},
          "output_type": "execute_result"
        }
      ],
      "source": [
        "# number of samples in train dataset\n",
        "len(train_data)"
      ]
    },
    {
      "cell_type": "markdown",
      "metadata": {
        "id": "8KZkxogdt63a"
      },
      "source": [
        "## Define Pytorch Dataset and Dataloader objects"
      ]
    },
    {
      "cell_type": "code",
      "execution_count": 7,
      "metadata": {
        "id": "g6QY_8vTuFX5"
      },
      "outputs": [],
      "source": [
        "import numpy as np\n",
        "import torch\n",
        "from torch.utils.data import Dataset, DataLoader"
      ]
    },
    {
      "cell_type": "markdown",
      "metadata": {
        "id": "t9EVWI1vuHgH"
      },
      "source": [
        "### Dataset object"
      ]
    },
    {
      "cell_type": "code",
      "execution_count": 8,
      "metadata": {
        "id": "FuPlwmeyz8mC"
      },
      "outputs": [],
      "source": [
        "class CustomDataset(Dataset):\n",
        "    def __init__(self, dataframe, n_inputs, n_outputs):\n",
        "        self.dataframe = dataframe\n",
        "        self.n_inputs = n_inputs\n",
        "        self.n_outputs = n_outputs\n",
        "        self.inputs = []\n",
        "        self.outputs = []\n",
        "        self.define_samples()\n",
        "\n",
        "    def define_samples(self):\n",
        "        data_array = self.dataframe.values\n",
        "        for i in range(len(data_array) - self.n_inputs - self.n_outputs):\n",
        "            input_seq = data_array[i:i+self.n_inputs, :]         # Sequence length of 30, incl all features\n",
        "            output_seq = data_array[i+self.n_inputs:i+self.n_inputs+self.n_outputs, :]  # Sequence length of 7, incl all features\n",
        "            self.inputs.append(input_seq)\n",
        "            self.outputs.append(output_seq)\n",
        "\n",
        "    def __len__(self):\n",
        "        return len(self.inputs)\n",
        "\n",
        "    def __getitem__(self, idx):\n",
        "        x = torch.tensor(self.inputs[idx], dtype=torch.float32)  # Shape: (n_inputs, 4)\n",
        "        y = torch.tensor(self.outputs[idx], dtype=torch.float32) # Shape: (n_outputs,)\n",
        "        return x, y"
      ]
    },
    {
      "cell_type": "code",
      "execution_count": 9,
      "metadata": {
        "id": "2joAhwcbz3s8"
      },
      "outputs": [],
      "source": [
        "n_inputs = 30\n",
        "n_outputs = 7\n",
        "train_dataset = CustomDataset(train_data, n_inputs, n_outputs)\n",
        "test_dataset = CustomDataset(test_data, n_inputs, n_outputs)"
      ]
    },
    {
      "cell_type": "code",
      "execution_count": 10,
      "metadata": {
        "colab": {
          "base_uri": "https://localhost:8080/"
        },
        "id": "RqE7_ibxuXJK",
        "outputId": "bc8ee132-2aec-407e-ccb0-5b99bd0e57e7"
      },
      "outputs": [
        {
          "data": {
            "text/plain": [
              "(tensor([[-2.1088e+00,  1.4150e+00, -1.4912e+00,  2.5313e-02],\n",
              "         [-2.4626e+00,  1.8622e+00, -8.3791e-01,  3.7149e-02],\n",
              "         [-2.4944e+00,  1.5640e+00, -4.7546e-01,  4.1958e-02],\n",
              "         [-2.2902e+00,  6.2981e-01, -1.2208e+00,  3.3635e-02],\n",
              "         [-2.6531e+00,  1.5541e+00, -6.8007e-01,  2.9936e-02],\n",
              "         [-2.5170e+00,  1.3136e+00, -1.1667e+00,  3.8259e-02],\n",
              "         [-2.5170e+00,  1.0631e+00, -1.1009e-01,  4.9356e-02],\n",
              "         [-2.2643e+00,  1.7547e-01,  7.4677e-02,  4.2222e-02],\n",
              "         [-1.5644e+00, -5.6779e-01,  1.2491e+00,  3.2710e-02],\n",
              "         [-1.9727e+00,  7.3245e-02,  1.3105e-01,  2.5313e-02],\n",
              "         [-1.3311e+00, -5.6566e-01,  8.2629e-01,  2.7955e-02],\n",
              "         [-1.5644e+00,  7.8882e-01,  1.4088e+00,  2.4784e-02],\n",
              "         [-1.3149e+00,  8.5839e-01, -4.7546e-01,  1.2366e-02],\n",
              "         [-1.7232e+00,  1.6336e+00, -1.3560e+00,  2.2538e-02],\n",
              "         [-1.4672e+00,  6.6104e-01, -1.3753e+00,  2.6369e-02],\n",
              "         [-1.5871e+00,  1.5442e+00, -1.4912e+00,  3.0861e-02],\n",
              "         [-1.2242e+00,  1.1963e+00, -3.4028e-01,  2.6237e-02],\n",
              "         [-1.5871e+00,  1.8721e+00,  4.7084e-01,  1.8839e-02],\n",
              "         [-1.7686e+00,  9.4784e-01, -2.0144e-01,  5.8603e-02],\n",
              "         [-1.9338e+00,  8.6549e-01,  3.6593e-01,  5.0941e-02],\n",
              "         [-1.9455e+00,  9.6772e-01, -1.0045e+00,  5.4904e-02],\n",
              "         [-2.1768e+00,  1.1267e+00, -8.1526e-01,  5.9343e-02],\n",
              "         [-1.5644e+00, -3.6079e-02, -6.1065e-01,  5.2130e-02],\n",
              "         [-1.5871e+00, -6.2634e-03, -1.3932e-01,  5.2130e-02],\n",
              "         [-1.8026e+00,  3.7140e-01, -2.7451e-01,  5.3517e-02],\n",
              "         [-1.7459e+00,  2.0245e-01, -4.8420e-04,  4.7506e-02],\n",
              "         [-1.7200e+00,  2.8622e-01, -2.7294e-01,  3.9051e-02],\n",
              "         [-1.4510e+00, -2.8454e-01, -6.8007e-01,  3.7334e-02],\n",
              "         [-1.5474e+00,  2.8196e-01, -7.8146e-01,  3.0630e-02],\n",
              "         [-1.4672e+00,  5.7585e-01, -1.2594e+00,  3.7466e-02]]),\n",
              " tensor([[-1.2650,  0.2879, -0.8423,  0.0405],\n",
              "         [-1.2922,  0.7292, -1.0045,  0.0272],\n",
              "         [-1.2534,  1.0018, -1.1999,  0.0335],\n",
              "         [-1.0201,  0.2862, -1.0841,  0.0232],\n",
              "         [-1.0978,  0.8059,  0.9453,  0.0192],\n",
              "         [-1.2072,  1.8846,  0.6407,  0.0292],\n",
              "         [-1.2015,  0.6298,  0.4014,  0.0420]]))"
            ]
          },
          "execution_count": 10,
          "metadata": {},
          "output_type": "execute_result"
        }
      ],
      "source": [
        "train_dataset[0]"
      ]
    },
    {
      "cell_type": "markdown",
      "metadata": {
        "id": "55AUsQGruap8"
      },
      "source": [
        "### Dataloader Object"
      ]
    },
    {
      "cell_type": "code",
      "execution_count": 11,
      "metadata": {
        "id": "Z1kkxtmP3cpG"
      },
      "outputs": [],
      "source": [
        "# Define batch size\n",
        "batch_size = 128\n",
        "\n",
        "# Random number generator (for reproducibility)\n",
        "generator = torch.Generator()  # Defaults to CPU, which DataLoader expects\n",
        "\n",
        "# Create DataLoader\n",
        "train_dataloader = DataLoader(\n",
        "    train_dataset,\n",
        "    batch_size=batch_size,\n",
        "    shuffle=True,\n",
        "    generator=generator\n",
        ")\n",
        "\n",
        "test_dataloader = DataLoader(\n",
        "    test_dataset,\n",
        "    batch_size=batch_size,\n",
        "    shuffle=False,  # Important: don't shuffle test data\n",
        "    generator=generator\n",
        ")"
      ]
    },
    {
      "cell_type": "code",
      "execution_count": 12,
      "metadata": {
        "colab": {
          "base_uri": "https://localhost:8080/"
        },
        "id": "uYd2irWlug20",
        "outputId": "4afe775b-9854-4757-8f14-2955a0bcb67d"
      },
      "outputs": [
        {
          "name": "stdout",
          "output_type": "stream",
          "text": [
            "Input shape: torch.Size([128, 30, 4])\n",
            "Output shape: torch.Size([128, 7, 4])\n"
          ]
        }
      ],
      "source": [
        "# Visualize a sample\n",
        "sample = next(iter(train_dataloader))\n",
        "input_sample, output_sample = sample\n",
        "print(\"Input shape:\", input_sample.shape)\n",
        "print(\"Output shape:\", output_sample.shape)\n"
      ]
    },
    {
      "cell_type": "code",
      "execution_count": 13,
      "metadata": {
        "colab": {
          "base_uri": "https://localhost:8080/"
        },
        "id": "D6y-KAk3unqg",
        "outputId": "3e239ef4-10e1-47e0-fb87-5422aadf0a58"
      },
      "outputs": [
        {
          "data": {
            "text/plain": [
              "12"
            ]
          },
          "execution_count": 13,
          "metadata": {},
          "output_type": "execute_result"
        }
      ],
      "source": [
        "len(train_dataloader)"
      ]
    },
    {
      "cell_type": "markdown",
      "metadata": {
        "id": "VsOnZ-HouqDe"
      },
      "source": [
        "## Define Model Architecture"
      ]
    },
    {
      "cell_type": "markdown",
      "metadata": {
        "id": "jmh7PjlyvNr2"
      },
      "source": [
        "### Our Encoder Model\n",
        "\n",
        "The EncoderGRU below processes input sequences using a Gated Recurrent Unit (GRU) network. It is designed to capture temporal dependencies and compress the full input sequence into a single hidden state that summarizes the important patterns and dynamics over time.\n",
        "\n",
        "Unlike the LSTM, the GRU architecture uses a simpler gating mechanism, making it computationally more efficient while still effectively learning long-term dependencies. This encoder takes in multivariate weather data (e.g., temperature, humidity, wind speed, pressure) and returns only the final hidden state — a compact representation of the entire sequence.\n",
        "\n",
        "This hidden state is then used to initialize the decoder in the sequence-to-sequence architecture, enabling the model to generate future predictions based on the learned context of the input sequence."
      ]
    },
    {
      "cell_type": "markdown",
      "metadata": {
        "id": "zjb0E2uy4QH7"
      },
      "source": [
        "#### Define Encoder class"
      ]
    },
    {
      "cell_type": "code",
      "execution_count": 14,
      "metadata": {
        "id": "ay2_O7__vqUE"
      },
      "outputs": [],
      "source": [
        "# Numpy\n",
        "import numpy as np\n",
        "# Torch\n",
        "import torch\n",
        "import torch.nn as nn"
      ]
    },
    {
      "cell_type": "code",
      "execution_count": 15,
      "metadata": {
        "id": "efgfQs-C4PdC"
      },
      "outputs": [],
      "source": [
        "class EncoderGRU(nn.Module):\n",
        "    def __init__(self, input_size, hidden_size, num_layers = 1, dropout = 0.0):\n",
        "        super(EncoderGRU, self).__init__()\n",
        "\n",
        "        self.hidden_size = hidden_size\n",
        "        self.num_layers = num_layers\n",
        "\n",
        "        self.gru = nn.GRU(input_size, hidden_size,\n",
        "                          num_layers = num_layers,\n",
        "                          dropout = dropout if num_layers > 1 else 0.0,\n",
        "                          batch_first = False)\n",
        "\n",
        "    def forward(self, input_seq):\n",
        "        # input_seq: (seq_len, batch_size, input_size)\n",
        "        output, hidden = self.gru(input_seq)\n",
        "        return hidden"
      ]
    },
    {
      "cell_type": "code",
      "execution_count": 16,
      "metadata": {
        "colab": {
          "base_uri": "https://localhost:8080/"
        },
        "id": "7uhXWtb46Sz2",
        "outputId": "16cefdb0-e18e-4a7b-c41c-8051acb843a7"
      },
      "outputs": [
        {
          "name": "stdout",
          "output_type": "stream",
          "text": [
            "EncoderGRU(\n",
            "  (gru): GRU(4, 64)\n",
            ")\n"
          ]
        }
      ],
      "source": [
        "# Defining our EncoderRNN model\n",
        "hidden_size = 64\n",
        "encoder_model = EncoderGRU(4, hidden_size)\n",
        "print(encoder_model)"
      ]
    },
    {
      "cell_type": "markdown",
      "metadata": {
        "id": "yXzAz8MMw1oV"
      },
      "source": [
        "#### Testing Encoder model"
      ]
    },
    {
      "cell_type": "code",
      "execution_count": 17,
      "metadata": {
        "colab": {
          "base_uri": "https://localhost:8080/"
        },
        "id": "sPZ8F6Ua6c0f",
        "outputId": "d7bb1d10-f74a-4ced-9ead-1088df48e18a"
      },
      "outputs": [
        {
          "name": "stdout",
          "output_type": "stream",
          "text": [
            "Input shape to encoder: torch.Size([30, 128, 4])\n",
            "Encoder output (last hidden state) shape: torch.Size([1, 128, 64])\n",
            "Sample vector: tensor([[-0.1224,  0.0786,  0.2984,  ...,  0.1473, -0.2507,  0.0357],\n",
            "        [ 0.2762, -0.0958,  0.1083,  ...,  0.0892,  0.0996,  0.0788],\n",
            "        [ 0.0920, -0.0037,  0.2320,  ...,  0.1331, -0.1840, -0.0627],\n",
            "        ...,\n",
            "        [ 0.1962, -0.0896,  0.1374,  ...,  0.0976,  0.0267, -0.0421],\n",
            "        [-0.0138,  0.0079,  0.2214,  ...,  0.1135, -0.0613, -0.0083],\n",
            "        [ 0.1586, -0.0797,  0.1764,  ...,  0.1042, -0.1195, -0.0245]],\n",
            "       grad_fn=<SelectBackward0>)\n"
          ]
        }
      ],
      "source": [
        "# Grab one batch from the train dataloader\n",
        "inputs, _ = next(iter(train_dataloader))  # inputs shape: (batch_size, seq_len, input_size)\n",
        "\n",
        "# Rearrange for GRU: (seq_len, batch_size, input_size)\n",
        "inputs = inputs.permute(1, 0, 2)  # (seq_len, batch_size, input_size)\n",
        "\n",
        "print(\"Input shape to encoder:\", inputs.shape)  # Should be (seq_len, batch_size, 4)\n",
        "\n",
        "# Pass through encoder\n",
        "encoder_out = encoder_model(inputs)\n",
        "\n",
        "print(\"Encoder output (last hidden state) shape:\", encoder_out.shape)  # (1, batch_size, hidden_size)\n",
        "print(\"Sample vector:\", encoder_out[0])"
      ]
    },
    {
      "cell_type": "markdown",
      "metadata": {
        "id": "Fcu36kIQ8OgR"
      },
      "source": [
        "### Our Decoder Model\n",
        "\n",
        "The DecoderGRU class is a PyTorch module designed to serve as the decoder in a sequence-to-sequence architecture. It processes input sequences using a Gated Recurrent Unit (GRU), which efficiently models temporal dependencies with a simpler structure than LSTM.\n",
        "\n",
        "At each decoding step, the model takes in a multivariate feature vector (e.g., temperature, humidity, wind speed, pressure) and a hidden state from the encoder. It produces the next predicted output through a linear layer that maps the GRU’s hidden state to the desired feature space.\n",
        "\n",
        "The decoder supports teacher forcing during training, using either the ground-truth features or its own previous prediction as input for the next step. This design enables it to generate multi-step forecasts in an autoregressive manner while retaining the context learned by the encoder."
      ]
    },
    {
      "cell_type": "markdown",
      "metadata": {
        "id": "sYc02pSlytwO"
      },
      "source": [
        "#### Define Decoder class"
      ]
    },
    {
      "cell_type": "code",
      "execution_count": 18,
      "metadata": {
        "id": "Tle-kYjf8AM9"
      },
      "outputs": [],
      "source": [
        "class DecoderGRU(nn.Module):\n",
        "    def __init__(self, hidden_size, feature_size, num_layers = 1, dropout = 0.0):\n",
        "        super(DecoderGRU, self).__init__()\n",
        "        self.hidden_size = hidden_size\n",
        "        self.feature_size = feature_size # 4 features\n",
        "\n",
        "        self.gru = nn.GRU(input_size=feature_size,\n",
        "                          hidden_size=hidden_size,\n",
        "                          dropout = dropout if num_layers > 1 else 0.0,\n",
        "                          batch_first=False)\n",
        "\n",
        "        self.linear = nn.Linear(hidden_size, feature_size)\n",
        "\n",
        "    def forward(self, x, hidden, output_length, target=None):\n",
        "        outputs = []\n",
        "        decoder_input = x  # shape: (1, batch_size, 4)\n",
        "\n",
        "        for i in range(output_length):\n",
        "            # One step forward through GRU\n",
        "            decoder_output, hidden = self.gru(decoder_input, hidden)\n",
        "            decoder_output = self.linear(decoder_output)  # shape: (1, batch_size, 4)\n",
        "            outputs.append(decoder_output)\n",
        "\n",
        "            if target is not None:\n",
        "                # Teacher forcing: use actual target\n",
        "                decoder_input = target[i].unsqueeze(0)  # shape: (1, batch_size, 4)\n",
        "            else:\n",
        "                # Auto-regressive: use own prediction\n",
        "                decoder_input = decoder_output.detach()  # detach to prevent gradient flow\n",
        "\n",
        "        return torch.cat(outputs, dim=0)  # shape: (output_length, batch_size, 4)"
      ]
    },
    {
      "cell_type": "code",
      "execution_count": 19,
      "metadata": {
        "colab": {
          "base_uri": "https://localhost:8080/"
        },
        "id": "M8E7-KNs8yQE",
        "outputId": "0d5dfdf8-286b-4446-f07e-832f1d359e9e"
      },
      "outputs": [
        {
          "name": "stdout",
          "output_type": "stream",
          "text": [
            "DecoderGRU(\n",
            "  (gru): GRU(4, 64)\n",
            "  (linear): Linear(in_features=64, out_features=4, bias=True)\n",
            ")\n"
          ]
        }
      ],
      "source": [
        "# Defining our DecoderRNN model\n",
        "decoder_model = DecoderGRU(hidden_size = hidden_size, feature_size = 4)\n",
        "print(decoder_model)"
      ]
    },
    {
      "cell_type": "markdown",
      "metadata": {
        "id": "36qOgPg3yw2r"
      },
      "source": [
        "#### Testing Decoder model"
      ]
    },
    {
      "cell_type": "code",
      "execution_count": 20,
      "metadata": {
        "colab": {
          "base_uri": "https://localhost:8080/"
        },
        "id": "iJDTmEKx96Mg",
        "outputId": "546c3523-da0b-4c27-822b-7365e2c1b22e"
      },
      "outputs": [
        {
          "name": "stdout",
          "output_type": "stream",
          "text": [
            "Decoder output shape: torch.Size([7, 128, 4])\n"
          ]
        }
      ],
      "source": [
        "# Testing our DecoderRNN model\n",
        "\n",
        "# Get a batch from dataloader\n",
        "inputs, _ = next(iter(train_dataloader))  # inputs: (batch_size, seq_length, input_size)\n",
        "\n",
        "# Permute for encoder: (seq_length, batch_size, input_size)\n",
        "encoder_input = inputs.permute(1, 0, 2)\n",
        "\n",
        "# Pass through encoder\n",
        "encoder_hidden = encoder_model(encoder_input)  # shape: (1, batch_size, hidden_size)\n",
        "\n",
        "# Initial decoder input: zeros, shape (1, batch_size, 1)\n",
        "decoder_input = torch.zeros(1, inputs.size(0), 4).to(encoder_input.device)\n",
        "\n",
        "# Run decoder\n",
        "decoder_output = decoder_model(decoder_input, encoder_hidden, n_outputs)\n",
        "\n",
        "# Output shape: (T_out, B, 1)\n",
        "print(\"Decoder output shape:\", decoder_output.shape)"
      ]
    },
    {
      "cell_type": "markdown",
      "metadata": {
        "id": "oVmud6MSy3FG"
      },
      "source": [
        "### Our Seq2Seq Model\n",
        "\n",
        "By assembling the EncoderGRU and DecoderGRU classes, the Seq2SeqGRU class implements a sequence-to-sequence model using an encoder-decoder architecture built with GRUs.\n",
        "\n",
        "The encoder processes the entire input sequence — consisting of multiple time steps and multiple weather features — and compresses it into a final hidden state. This hidden state captures the temporal patterns and context of the input data and serves as the initial memory for the decoder.\n",
        "\n",
        "The decoder then uses this context to generate the output sequence one timestep at a time, predicting all target features (e.g., temperature, humidity, wind speed, pressure) for each future step. During training, it can optionally use teacher forcing, feeding the ground-truth values into subsequent steps to improve convergence.\n",
        "\n",
        "This design enables the model to make informed, multi-step forecasts of all relevant features based on learned temporal dynamics from the input sequence."
      ]
    },
    {
      "cell_type": "markdown",
      "metadata": {
        "id": "ISTxq5dazrZp"
      },
      "source": [
        "#### Define Seq2Seq class"
      ]
    },
    {
      "cell_type": "code",
      "execution_count": 21,
      "metadata": {
        "id": "LM1wdc2P-0Y0"
      },
      "outputs": [],
      "source": [
        "class Seq2SeqGRU(nn.Module):\n",
        "    def __init__(self, hidden_size, feature_size, output_size, num_layers=1):\n",
        "        super(Seq2SeqGRU, self).__init__()\n",
        "\n",
        "        self.output_length = output_size\n",
        "\n",
        "        self.encoder = EncoderGRU(input_size=feature_size, # 4 features\n",
        "                                  hidden_size=hidden_size,\n",
        "                                  num_layers= num_layers)\n",
        "\n",
        "        self.decoder = DecoderGRU(hidden_size=hidden_size,\n",
        "                                  feature_size=feature_size,\n",
        "                                  num_layers=num_layers)  # 4 features\n",
        "\n",
        "    def forward(self, inputs, outputs=None):\n",
        "        \"\"\"\n",
        "        Args:\n",
        "            inputs: shape (seq_len, batch_size, input_size=4)\n",
        "            outputs: optional teacher forcing target, shape (output_length, batch_size, 1)\n",
        "        \"\"\"\n",
        "        hidden = self.encoder(inputs)  # returns (1, batch_size, hidden_size)\n",
        "\n",
        "        # Initial decoder input: zeros (1, batch_size, 4)\n",
        "        decoder_input = torch.zeros(1, inputs.shape[1], self.decoder.feature_size).to(inputs.device)\n",
        "\n",
        "        # Pass to decoder\n",
        "        output = self.decoder(decoder_input, hidden, self.output_length, outputs)\n",
        "        return output  # shape: (output_length, batch_size, 1)"
      ]
    },
    {
      "cell_type": "code",
      "execution_count": 22,
      "metadata": {
        "colab": {
          "base_uri": "https://localhost:8080/"
        },
        "id": "q_jTm_nWAsxB",
        "outputId": "9fd0f8ea-ab39-4fbd-d447-cd30f2843aa0"
      },
      "outputs": [
        {
          "name": "stdout",
          "output_type": "stream",
          "text": [
            "Seq2SeqGRU(\n",
            "  (encoder): EncoderGRU(\n",
            "    (gru): GRU(4, 64)\n",
            "  )\n",
            "  (decoder): DecoderGRU(\n",
            "    (gru): GRU(4, 64)\n",
            "    (linear): Linear(in_features=64, out_features=4, bias=True)\n",
            "  )\n",
            ")\n"
          ]
        }
      ],
      "source": [
        "# Defining our Seq2Seq model\n",
        "seq2seq_model = Seq2SeqGRU(hidden_size = hidden_size, \\\n",
        "                          feature_size = 4, \\\n",
        "                          output_size = n_outputs)\n",
        "print(seq2seq_model)"
      ]
    },
    {
      "cell_type": "markdown",
      "metadata": {
        "id": "4VFe3IH43Frj"
      },
      "source": [
        "#### Testing seq2seq model"
      ]
    },
    {
      "cell_type": "code",
      "execution_count": 23,
      "metadata": {
        "colab": {
          "base_uri": "https://localhost:8080/"
        },
        "id": "I4527_oiAwig",
        "outputId": "139e545d-04e9-4806-c3bb-5928fb342ed4"
      },
      "outputs": [
        {
          "name": "stdout",
          "output_type": "stream",
          "text": [
            "Input shape: torch.Size([30, 128, 4])\n",
            "Target shape: torch.Size([7, 128, 4])\n",
            "Output shape: torch.Size([7, 128, 4])\n"
          ]
        }
      ],
      "source": [
        "# Instantiate model\n",
        "seq2seq_model = Seq2SeqGRU(hidden_size=hidden_size, feature_size = 4, output_size=n_outputs).to(device)\n",
        "\n",
        "# Get a batch from the dataloader\n",
        "inputs, outputs = next(iter(train_dataloader))  # shapes: (B, T_in, 4), (B, T_out)\n",
        "\n",
        "inputs = inputs.to(device)\n",
        "outputs = outputs.to(device)\n",
        "\n",
        "# Permute to (seq_length, batch_size, input_size)\n",
        "inputs = inputs.permute(1, 0, 2)\n",
        "outputs = outputs.permute(1, 0, 2)\n",
        "\n",
        "print(\"Input shape:\", inputs.shape)   # (input_seq_len, batch_size, 4)\n",
        "print(\"Target shape:\", outputs.shape) # (output_seq_len, batch_size, 1)\n",
        "\n",
        "# Forward pass\n",
        "seq2seq_out = seq2seq_model(inputs, outputs)\n",
        "\n",
        "print(\"Output shape:\", seq2seq_out.shape)  # (output_seq_len, batch_size, 1)"
      ]
    },
    {
      "cell_type": "markdown",
      "metadata": {
        "id": "NCSgP6gY3VhG"
      },
      "source": [
        "## Model training"
      ]
    },
    {
      "cell_type": "markdown",
      "metadata": {
        "id": "vncKaJfE3WWw"
      },
      "source": [
        "### Define function for training\n"
      ]
    },
    {
      "cell_type": "code",
      "execution_count": 24,
      "metadata": {
        "id": "Oo20b4OTBkmO"
      },
      "outputs": [],
      "source": [
        "loss_storage = []\n",
        "\n",
        "def train(dataloader, model, num_epochs, learning_rate, device):\n",
        "    # Set model to training mode\n",
        "    model.train()\n",
        "\n",
        "    criterion = nn.MSELoss()\n",
        "    optimizer = torch.optim.Adam(model.parameters(), lr=learning_rate)\n",
        "\n",
        "    for epoch in range(num_epochs):\n",
        "        total_loss = 0\n",
        "\n",
        "        for inputs, targets in dataloader:\n",
        "            # Move to device\n",
        "            inputs = inputs.to(device)\n",
        "            targets = targets.to(device)\n",
        "\n",
        "            # Reshape to (seq_len, batch_size, input_size)\n",
        "            inputs = inputs.permute(1, 0, 2)  # (T_in, B, 4)\n",
        "            targets = targets.permute(1, 0, 2)  # (T_out, B, 4)\n",
        "\n",
        "            # Zero gradients\n",
        "            optimizer.zero_grad()\n",
        "\n",
        "            # Forward pass without teacher forcing\n",
        "            predictions = model(inputs)\n",
        "\n",
        "            # Compute loss\n",
        "            loss = criterion(predictions, targets)\n",
        "            total_loss += loss.item()\n",
        "\n",
        "            # Backward pass and optimize\n",
        "            loss.backward()\n",
        "            optimizer.step()\n",
        "\n",
        "        avg_loss = total_loss / len(dataloader)\n",
        "        loss_storage.append(avg_loss)\n",
        "\n",
        "        # Print loss periodically\n",
        "        if (epoch + 1) % 25 == 0 or epoch == 0:\n",
        "            print(f\"Epoch {epoch + 1}/{num_epochs}, Avg Loss: {avg_loss:.4f}\")"
      ]
    },
    {
      "cell_type": "markdown",
      "metadata": {
        "id": "ovTHSMzJ5iCc"
      },
      "source": [
        "### Instantiate a model from Seq2Seq class"
      ]
    },
    {
      "cell_type": "code",
      "execution_count": 25,
      "metadata": {
        "id": "HtTLM6dH5t-C"
      },
      "outputs": [],
      "source": [
        "# Hyperparameters\n",
        "hidden_size = 64\n",
        "feature_size = 4\n",
        "num_epochs = 1051\n",
        "num_layers = 1\n",
        "dropout_rate = 0.1\n",
        "\n",
        "seq2seq_model = Seq2SeqGRU(hidden_size=hidden_size,\n",
        "                           feature_size = feature_size,\n",
        "                           output_size=n_outputs,\n",
        "                           num_layers=num_layers).to(device)"
      ]
    },
    {
      "cell_type": "code",
      "execution_count": 26,
      "metadata": {
        "colab": {
          "base_uri": "https://localhost:8080/"
        },
        "id": "s5fRqAso7T_h",
        "outputId": "c180c002-fbc5-4666-be36-435f520f1f5d"
      },
      "outputs": [
        {
          "data": {
            "text/plain": [
              "Seq2SeqGRU(\n",
              "  (encoder): EncoderGRU(\n",
              "    (gru): GRU(4, 64)\n",
              "  )\n",
              "  (decoder): DecoderGRU(\n",
              "    (gru): GRU(4, 64)\n",
              "    (linear): Linear(in_features=64, out_features=4, bias=True)\n",
              "  )\n",
              ")"
            ]
          },
          "execution_count": 26,
          "metadata": {},
          "output_type": "execute_result"
        }
      ],
      "source": [
        "seq2seq_model"
      ]
    },
    {
      "cell_type": "markdown",
      "metadata": {
        "id": "KDOXCMEn7j7T"
      },
      "source": [
        "### Train model"
      ]
    },
    {
      "cell_type": "code",
      "execution_count": 27,
      "metadata": {
        "colab": {
          "base_uri": "https://localhost:8080/"
        },
        "id": "Sgw31xOfC6AY",
        "outputId": "373e432e-234a-4ef5-b06c-0600165522bc"
      },
      "outputs": [
        {
          "name": "stdout",
          "output_type": "stream",
          "text": [
            "Epoch 1/1051, Avg Loss: 0.9455\n",
            "Epoch 25/1051, Avg Loss: 0.5632\n",
            "Epoch 50/1051, Avg Loss: 0.5309\n",
            "Epoch 75/1051, Avg Loss: 0.5156\n",
            "Epoch 100/1051, Avg Loss: 0.4561\n",
            "Epoch 125/1051, Avg Loss: 0.4142\n",
            "Epoch 150/1051, Avg Loss: 0.3648\n",
            "Epoch 175/1051, Avg Loss: 0.3803\n",
            "Epoch 200/1051, Avg Loss: 0.3312\n",
            "Epoch 225/1051, Avg Loss: 0.2508\n",
            "Epoch 250/1051, Avg Loss: 0.2278\n",
            "Epoch 275/1051, Avg Loss: 0.2291\n",
            "Epoch 300/1051, Avg Loss: 0.2144\n",
            "Epoch 325/1051, Avg Loss: 0.2072\n",
            "Epoch 350/1051, Avg Loss: 0.1952\n",
            "Epoch 375/1051, Avg Loss: 0.2698\n",
            "Epoch 400/1051, Avg Loss: 0.2576\n",
            "Epoch 425/1051, Avg Loss: 0.2225\n",
            "Epoch 450/1051, Avg Loss: 0.1924\n",
            "Epoch 475/1051, Avg Loss: 0.1731\n",
            "Epoch 500/1051, Avg Loss: 0.1671\n",
            "Epoch 525/1051, Avg Loss: 0.1632\n",
            "Epoch 550/1051, Avg Loss: 0.1564\n",
            "Epoch 575/1051, Avg Loss: 0.1525\n",
            "Epoch 600/1051, Avg Loss: 0.1481\n",
            "Epoch 625/1051, Avg Loss: 0.1386\n",
            "Epoch 650/1051, Avg Loss: 0.1373\n",
            "Epoch 675/1051, Avg Loss: 0.1345\n",
            "Epoch 700/1051, Avg Loss: 0.1298\n",
            "Epoch 725/1051, Avg Loss: 0.1292\n",
            "Epoch 750/1051, Avg Loss: 0.1188\n",
            "Epoch 775/1051, Avg Loss: 0.1158\n",
            "Epoch 800/1051, Avg Loss: 0.1154\n",
            "Epoch 825/1051, Avg Loss: 0.1159\n",
            "Epoch 850/1051, Avg Loss: 0.1056\n",
            "Epoch 875/1051, Avg Loss: 0.1072\n",
            "Epoch 900/1051, Avg Loss: 0.0982\n",
            "Epoch 925/1051, Avg Loss: 0.0994\n",
            "Epoch 950/1051, Avg Loss: 0.0937\n",
            "Epoch 975/1051, Avg Loss: 0.0918\n",
            "Epoch 1000/1051, Avg Loss: 0.0952\n",
            "Epoch 1025/1051, Avg Loss: 0.0935\n",
            "Epoch 1050/1051, Avg Loss: 0.0881\n",
            "2min 7s ± 0 ns per loop (mean ± std. dev. of 1 run, 1 loop each)\n"
          ]
        }
      ],
      "source": [
        "# Run training for warm-up\n",
        "%timeit -r 1 -n 1 train( dataloader=train_dataloader, model=seq2seq_model, num_epochs=num_epochs, learning_rate=1e-3, device=device)"
      ]
    },
    {
      "cell_type": "markdown",
      "metadata": {
        "id": "YU-CPRVk8EhT"
      },
      "source": [
        "### Save the model parameter"
      ]
    },
    {
      "cell_type": "code",
      "execution_count": 28,
      "metadata": {
        "colab": {
          "base_uri": "https://localhost:8080/"
        },
        "id": "PVy_etnL8H1x",
        "outputId": "c8010039-b282-405e-81d7-f0d165f520da"
      },
      "outputs": [
        {
          "name": "stdout",
          "output_type": "stream",
          "text": [
            "Model saved to: ../models_weights_storage/seq2seq_autoregressive_GRU.pth\n"
          ]
        }
      ],
      "source": [
        "# save model before eval\n",
        "import torch\n",
        "import os\n",
        "\n",
        "model_name=\"seq2seq_autoregressive_GRU\"\n",
        "\n",
        "# Path to save model\n",
        "model_path = os.path.join(\"../models_weights_storage\", f'{model_name}.pth')\n",
        "\n",
        "# Save the model's state dict\n",
        "torch.save(seq2seq_model.state_dict(), model_path)\n",
        "print(f\"Model saved to: {model_path}\")"
      ]
    },
    {
      "cell_type": "code",
      "execution_count": 29,
      "metadata": {
        "colab": {
          "base_uri": "https://localhost:8080/"
        },
        "id": "BX-8ROTC9QXv",
        "outputId": "53dd3642-94e6-4bd2-e0fc-ac7e335f7469"
      },
      "outputs": [
        {
          "data": {
            "text/plain": [
              "[0.9455341001351675,\n",
              " 0.8600345154603323,\n",
              " 0.6914380316932996,\n",
              " 0.6667453274130821,\n",
              " 0.6387574051817259,\n",
              " 0.6256062711278597,\n",
              " 0.8087780922651291,\n",
              " 0.5884080107013384,\n",
              " 0.7925985902547836,\n",
              " 0.5815499648451805,\n",
              " 0.5778966670234998,\n",
              " 0.5861604561408361,\n",
              " 0.5890441586573919,\n",
              " 0.5700510653356711,\n",
              " 0.5817037771145502,\n",
              " 0.5780560125907263,\n",
              " 0.7794516831636429,\n",
              " 0.5765343606472015,\n",
              " 0.5673201556007067,\n",
              " 0.5647308478752772,\n",
              " 0.7735962669054667,\n",
              " 0.561392160753409,\n",
              " 0.5776897867520651,\n",
              " 0.7835471481084824,\n",
              " 0.5631826395789782,\n",
              " 0.761085274318854,\n",
              " 0.574465699493885,\n",
              " 0.555794840057691,\n",
              " 0.5586794763803482,\n",
              " 0.5578469609220823,\n",
              " 0.5537554025650024,\n",
              " 0.5550508325298628,\n",
              " 0.5447007901966572,\n",
              " 0.5523976882298788,\n",
              " 0.5496148392558098,\n",
              " 0.5446039438247681,\n",
              " 0.5586985051631927,\n",
              " 0.5588970904548963,\n",
              " 0.545242115855217,\n",
              " 0.5497549946109453,\n",
              " 0.5535677696267763,\n",
              " 0.5534378911058108,\n",
              " 0.5362334797779719,\n",
              " 0.5401872545480728,\n",
              " 0.5413261825839678,\n",
              " 0.5418792913357416,\n",
              " 0.5496410230795542,\n",
              " 0.5440430293480555,\n",
              " 0.5370037804047266,\n",
              " 0.5308963308731715,\n",
              " 0.53581453114748,\n",
              " 0.5356845433513323,\n",
              " 0.5354322840770086,\n",
              " 0.5303615058461825,\n",
              " 0.5350367625554403,\n",
              " 0.5385085692008337,\n",
              " 0.5324082324902216,\n",
              " 0.5305486445625623,\n",
              " 0.5228739753365517,\n",
              " 0.5244610011577606,\n",
              " 0.5256468405326208,\n",
              " 0.5232169528802236,\n",
              " 0.522511214017868,\n",
              " 0.5294442052642504,\n",
              " 0.5225821832815806,\n",
              " 0.53074099868536,\n",
              " 0.5251125370462736,\n",
              " 0.5167009209593137,\n",
              " 0.5148674597342809,\n",
              " 0.5108933784067631,\n",
              " 0.5126560889184475,\n",
              " 0.5307696262995402,\n",
              " 0.7126188998421034,\n",
              " 0.5084205518166224,\n",
              " 0.5156155303120613,\n",
              " 0.7034688492616018,\n",
              " 0.512778694430987,\n",
              " 0.7055374346673489,\n",
              " 0.4983896103998025,\n",
              " 0.5142663083970547,\n",
              " 0.6933362955848376,\n",
              " 0.5194870581229528,\n",
              " 0.4934643767774105,\n",
              " 0.49589358518520993,\n",
              " 0.49121373395125073,\n",
              " 0.49952734510103863,\n",
              " 0.48628317564725876,\n",
              " 0.5057170490423838,\n",
              " 0.48066071917613346,\n",
              " 0.4871232534448306,\n",
              " 0.4785124734044075,\n",
              " 0.4782961035768191,\n",
              " 0.6450918739040693,\n",
              " 0.46858520060777664,\n",
              " 0.467472364505132,\n",
              " 0.4629390041033427,\n",
              " 0.47594017287095386,\n",
              " 0.4592411071062088,\n",
              " 0.4505942426621914,\n",
              " 0.45607635627190274,\n",
              " 0.4516458958387375,\n",
              " 0.44684314851959545,\n",
              " 0.45433834940195084,\n",
              " 0.4383167698979378,\n",
              " 0.4372469534476598,\n",
              " 0.43389523898561794,\n",
              " 0.431699737906456,\n",
              " 0.435163676738739,\n",
              " 0.4225531381865342,\n",
              " 0.41920508816838264,\n",
              " 0.4187123589217663,\n",
              " 0.41475725546479225,\n",
              " 0.418540404488643,\n",
              " 0.4349079355597496,\n",
              " 0.43275487174590427,\n",
              " 0.4091841938594977,\n",
              " 0.3993203031520049,\n",
              " 0.39007197320461273,\n",
              " 0.390585249910752,\n",
              " 0.4894987257818381,\n",
              " 0.3968367042640845,\n",
              " 0.39223463584979373,\n",
              " 0.37799639130632084,\n",
              " 0.3846071797112624,\n",
              " 0.41417483364542323,\n",
              " 0.4370722969373067,\n",
              " 0.41965623448292416,\n",
              " 0.37138690302769345,\n",
              " 0.3654032113651435,\n",
              " 0.3615780460337798,\n",
              " 0.35119974489013356,\n",
              " 0.34812991321086884,\n",
              " 0.3514646130303542,\n",
              " 0.3396555185317993,\n",
              " 0.3437045676012834,\n",
              " 0.3425455080966155,\n",
              " 0.32921409979462624,\n",
              " 0.32350020855665207,\n",
              " 0.32610983898242313,\n",
              " 0.3280315225323041,\n",
              " 0.40308470527331036,\n",
              " 0.40722370023528737,\n",
              " 0.39920607954263687,\n",
              " 0.40951838716864586,\n",
              " 0.4327407019833724,\n",
              " 0.3603009271124999,\n",
              " 0.365181278437376,\n",
              " 0.33775390436251956,\n",
              " 0.3683912418782711,\n",
              " 0.3647865292926629,\n",
              " 0.345839391152064,\n",
              " 0.40659625828266144,\n",
              " 0.38432808344562847,\n",
              " 0.36811207234859467,\n",
              " 0.3673784025013447,\n",
              " 0.35700173676013947,\n",
              " 0.3524019196629524,\n",
              " 0.3460485364000003,\n",
              " 0.3479829678932826,\n",
              " 0.3418428376317024,\n",
              " 0.380780428647995,\n",
              " 0.3535139473776023,\n",
              " 0.33343900367617607,\n",
              " 0.33758528158068657,\n",
              " 0.3234042761226495,\n",
              " 0.3398624112208684,\n",
              " 0.31766335169474286,\n",
              " 0.31086475153764087,\n",
              " 0.3276757349570592,\n",
              " 0.38473457222183544,\n",
              " 0.3277740168074767,\n",
              " 0.32529235755403835,\n",
              " 0.2918223738670349,\n",
              " 0.3948178291320801,\n",
              " 0.38032909482717514,\n",
              " 0.30966170132160187,\n",
              " 0.31572923560937244,\n",
              " 0.34218257913986844,\n",
              " 0.3185587227344513,\n",
              " 0.34261516357461613,\n",
              " 0.29979653283953667,\n",
              " 0.31595540046691895,\n",
              " 0.35346294194459915,\n",
              " 0.3078342316051324,\n",
              " 0.4095170038441817,\n",
              " 0.3442274493475755,\n",
              " 0.3046242433289687,\n",
              " 0.32768333827455837,\n",
              " 0.31259499366084736,\n",
              " 0.30643147230148315,\n",
              " 0.30347192163268727,\n",
              " 0.28943446775277454,\n",
              " 0.2850131293137868,\n",
              " 0.2883552039662997,\n",
              " 0.2919716437657674,\n",
              " 0.2842162922024727,\n",
              " 0.4569146086772283,\n",
              " 0.3693048022687435,\n",
              " 0.4797075589497884,\n",
              " 0.3312102531393369,\n",
              " 0.35345667724808055,\n",
              " 0.46974411110083264,\n",
              " 0.405784963319699,\n",
              " 0.4058082029223442,\n",
              " 0.35696463162700337,\n",
              " 0.32235095525781315,\n",
              " 0.29711468269427616,\n",
              " 0.3229612931609154,\n",
              " 0.4598405609528224,\n",
              " 0.6664271975557009,\n",
              " 0.3374495692551136,\n",
              " 0.3258826807141304,\n",
              " 0.2610843703150749,\n",
              " 0.27649353568752605,\n",
              " 0.25919006019830704,\n",
              " 0.3002859602371852,\n",
              " 0.2849707802136739,\n",
              " 0.2905401848256588,\n",
              " 0.28849921748042107,\n",
              " 0.26777854189276695,\n",
              " 0.25176666180292767,\n",
              " 0.24926610539356867,\n",
              " 0.2570910267531872,\n",
              " 0.247343593587478,\n",
              " 0.25082576647400856,\n",
              " 0.2532556317746639,\n",
              " 0.25950035577019054,\n",
              " 0.24736139550805092,\n",
              " 0.24465839192271233,\n",
              " 0.23915168394645056,\n",
              " 0.24210143089294434,\n",
              " 0.24535864467422167,\n",
              " 0.24534602463245392,\n",
              " 0.24671661853790283,\n",
              " 0.23894789442420006,\n",
              " 0.23929031441609064,\n",
              " 0.2442859709262848,\n",
              " 0.23985914389292398,\n",
              " 0.24455165614684424,\n",
              " 0.23450632517536482,\n",
              " 0.24254655092954636,\n",
              " 0.23401592671871185,\n",
              " 0.24097544824083647,\n",
              " 0.23000088706612587,\n",
              " 0.2366673710445563,\n",
              " 0.2325130539635817,\n",
              " 0.23215818405151367,\n",
              " 0.23509923617045084,\n",
              " 0.23275631045301756,\n",
              " 0.22777075693011284,\n",
              " 0.23435130094488463,\n",
              " 0.2300001010298729,\n",
              " 0.22896348933378854,\n",
              " 0.23487480357289314,\n",
              " 0.23451449597875276,\n",
              " 0.25203696514169377,\n",
              " 0.3418118916451931,\n",
              " 0.3211841993033886,\n",
              " 0.310126098493735,\n",
              " 0.30389291420578957,\n",
              " 0.2772025999923547,\n",
              " 0.26323602845271427,\n",
              " 0.2524726763367653,\n",
              " 0.24782536799709,\n",
              " 0.24505549296736717,\n",
              " 0.24451053018371263,\n",
              " 0.23873802771170935,\n",
              " 0.23666245738665262,\n",
              " 0.2532999776303768,\n",
              " 0.23062857116262117,\n",
              " 0.22727861007054648,\n",
              " 0.2276913250486056,\n",
              " 0.2350578928987185,\n",
              " 0.22855864465236664,\n",
              " 0.2291093667348226,\n",
              " 0.24015735959013304,\n",
              " 0.2330534333984057,\n",
              " 0.22472520296772322,\n",
              " 0.22419088209668794,\n",
              " 0.23199155181646347,\n",
              " 0.22246951485673586,\n",
              " 0.21883922442793846,\n",
              " 0.23152184734741846,\n",
              " 0.22951148450374603,\n",
              " 0.21952625488241514,\n",
              " 0.220857052753369,\n",
              " 0.22575912003715834,\n",
              " 0.2188065548737844,\n",
              " 0.2140201280514399,\n",
              " 0.21345597629745802,\n",
              " 0.21288402006030083,\n",
              " 0.2140019970635573,\n",
              " 0.20948763688405356,\n",
              " 0.22005038956801096,\n",
              " 0.22394113118449846,\n",
              " 0.21908475706974664,\n",
              " 0.2169609951476256,\n",
              " 0.2111661471426487,\n",
              " 0.217705017576615,\n",
              " 0.2143911806245645,\n",
              " 0.2104798083504041,\n",
              " 0.2175295166671276,\n",
              " 0.2046625129878521,\n",
              " 0.2119161250690619,\n",
              " 0.20535996556282043,\n",
              " 0.20428731168309847,\n",
              " 0.20505171517531076,\n",
              " 0.20659944663445154,\n",
              " 0.20735048378507295,\n",
              " 0.2059608573714892,\n",
              " 0.20769555618365607,\n",
              " 0.20583452035983404,\n",
              " 0.20919152970115343,\n",
              " 0.20918252815802893,\n",
              " 0.2044869214296341,\n",
              " 0.20674229289094606,\n",
              " 0.2100482607881228,\n",
              " 0.20750209068258604,\n",
              " 0.1999791574974855,\n",
              " 0.20542281617720923,\n",
              " 0.20135374118884405,\n",
              " 0.20258276288708052,\n",
              " 0.20144885157545409,\n",
              " 0.20279425010085106,\n",
              " 0.2072067273159822,\n",
              " 0.20245270058512688,\n",
              " 0.20350290834903717,\n",
              " 0.2004807082315286,\n",
              " 0.20544830585519472,\n",
              " 0.20055151482423147,\n",
              " 0.2035415085653464,\n",
              " 0.19796903307239214,\n",
              " 0.20525670299927393,\n",
              " 0.20380504180987677,\n",
              " 0.2010533610979716,\n",
              " 0.19717770566542944,\n",
              " 0.19856509317954382,\n",
              " 0.20907163371642432,\n",
              " 0.19913513834277788,\n",
              " 0.19856362914045653,\n",
              " 0.19618378827969232,\n",
              " 0.19262818122903505,\n",
              " 0.1953314964969953,\n",
              " 0.20525720591346422,\n",
              " 0.19328444947799048,\n",
              " 0.19448538248737654,\n",
              " 0.19541708628336588,\n",
              " 0.19151310250163078,\n",
              " 0.19099498043457666,\n",
              " 0.19515705481171608,\n",
              " 0.19932533924778303,\n",
              " 0.19503008325894675,\n",
              " 0.19454516470432281,\n",
              " 0.19173176710804304,\n",
              " 0.1968075434366862,\n",
              " 0.2531463901201884,\n",
              " 0.2612798052529494,\n",
              " 0.365090964982907,\n",
              " 0.40073583150903386,\n",
              " 0.33801161001125973,\n",
              " 0.3447597250342369,\n",
              " 0.29432960723837215,\n",
              " 0.2800880509118239,\n",
              " 0.2720680572092533,\n",
              " 0.2667872967819373,\n",
              " 0.2608817120393117,\n",
              " 0.25381804381807643,\n",
              " 0.2508404602607091,\n",
              " 0.3608766707281272,\n",
              " 0.35177551582455635,\n",
              " 0.30411245053013164,\n",
              " 0.31741372992595035,\n",
              " 0.288128321369489,\n",
              " 0.28860081111391384,\n",
              " 0.2698340378701687,\n",
              " 0.2630187248190244,\n",
              " 0.26819057762622833,\n",
              " 0.29122621690233547,\n",
              " 0.27143969014286995,\n",
              " 0.2513777216275533,\n",
              " 0.249014592419068,\n",
              " 0.2518199533224106,\n",
              " 0.24217613289753595,\n",
              " 0.24759340037902197,\n",
              " 0.2276057886580626,\n",
              " 0.2243108997742335,\n",
              " 0.2284874034424623,\n",
              " 0.2201429158449173,\n",
              " 0.2205695336063703,\n",
              " 0.2318921039501826,\n",
              " 0.2523142620921135,\n",
              " 0.2455622417231401,\n",
              " 0.26432116826375324,\n",
              " 0.26311126351356506,\n",
              " 0.3254278091092904,\n",
              " 0.30216335753599805,\n",
              " 0.2856171913444996,\n",
              " 0.2705037941535314,\n",
              " 0.26671017458041507,\n",
              " 0.2576025426387787,\n",
              " 0.25731678679585457,\n",
              " 0.25361240406831104,\n",
              " 0.2498896506925424,\n",
              " 0.2512306955953439,\n",
              " 0.25354042649269104,\n",
              " 0.2466301458577315,\n",
              " 0.24546571572621664,\n",
              " 0.24830682451526323,\n",
              " 0.24940103913346925,\n",
              " 0.24975519875685373,\n",
              " 0.24394246687491736,\n",
              " 0.2486318089067936,\n",
              " 0.23318689068158469,\n",
              " 0.23402690142393112,\n",
              " 0.23485726118087769,\n",
              " 0.23520020271341005,\n",
              " 0.2561705783009529,\n",
              " 0.22605432321627936,\n",
              " 0.22389975935220718,\n",
              " 0.22140845656394958,\n",
              " 0.23535755649209023,\n",
              " 0.21264918272693953,\n",
              " 0.20878039362529913,\n",
              " 0.21543173243602118,\n",
              " 0.22251622254649797,\n",
              " 0.21121754373113313,\n",
              " 0.21534961834549904,\n",
              " 0.20606244169175625,\n",
              " 0.2128388894100984,\n",
              " 0.20402996987104416,\n",
              " 0.22549786046147346,\n",
              " 0.23464305077989897,\n",
              " 0.24750999857982,\n",
              " 0.23618397240837416,\n",
              " 0.3224916954835256,\n",
              " 0.3212437170247237,\n",
              " 0.29918235912919044,\n",
              " 0.25190726419289905,\n",
              " 0.23270164554317793,\n",
              " 0.21519944195946059,\n",
              " 0.21052230025331178,\n",
              " 0.1971787835160891,\n",
              " 0.19418163845936456,\n",
              " 0.1906635823349158,\n",
              " 0.18735898534456888,\n",
              " 0.19363543763756752,\n",
              " 0.18536100536584854,\n",
              " 0.18636379142602286,\n",
              " 0.1882444272438685,\n",
              " 0.1924449404080709,\n",
              " 0.18936855966846147,\n",
              " 0.18822949503858885,\n",
              " 0.1811509976784388,\n",
              " 0.18111766998966536,\n",
              " 0.18427625050147375,\n",
              " 0.18591214468081793,\n",
              " 0.18190021440386772,\n",
              " 0.1776137873530388,\n",
              " 0.17711136862635612,\n",
              " 0.1828853078186512,\n",
              " 0.17716058219472566,\n",
              " 0.18009680757919946,\n",
              " 0.17479396238923073,\n",
              " 0.1846871574719747,\n",
              " 0.1780188779036204,\n",
              " 0.17729178567727408,\n",
              " 0.18621445323030153,\n",
              " 0.18124746903777122,\n",
              " 0.17394224057594934,\n",
              " 0.18418128415942192,\n",
              " 0.17827705293893814,\n",
              " 0.17811236654718718,\n",
              " 0.17763017242153487,\n",
              " 0.17627264683445296,\n",
              " 0.17311727131406465,\n",
              " 0.1720579688747724,\n",
              " 0.16964491767187914,\n",
              " 0.17170493304729462,\n",
              " 0.17384480560819307,\n",
              " 0.1737057939171791,\n",
              " 0.17220933735370636,\n",
              " 0.17540585125486055,\n",
              " 0.1700962409377098,\n",
              " 0.17011787245670953,\n",
              " 0.16879417250553766,\n",
              " 0.16808357710639635,\n",
              " 0.172013641645511,\n",
              " 0.16961735486984253,\n",
              " 0.1679512063662211,\n",
              " 0.16907542074720064,\n",
              " 0.17442874610424042,\n",
              " 0.1753470040857792,\n",
              " 0.1716027669608593,\n",
              " 0.16822057465712228,\n",
              " 0.1660971144835154,\n",
              " 0.16750098889072737,\n",
              " 0.1647194648782412,\n",
              " 0.17280917366345724,\n",
              " 0.16727550203601518,\n",
              " 0.16712547838687897,\n",
              " 0.17335845281680426,\n",
              " 0.16633488982915878,\n",
              " 0.1671807716290156,\n",
              " 0.1716871534784635,\n",
              " 0.16924024745821953,\n",
              " 0.16796409711241722,\n",
              " 0.16737747937440872,\n",
              " 0.17509672790765762,\n",
              " 0.16413239886363348,\n",
              " 0.16955283284187317,\n",
              " 0.16742646197477976,\n",
              " 0.16316760455568632,\n",
              " 0.16261878982186317,\n",
              " 0.166432565699021,\n",
              " 0.1710662916302681,\n",
              " 0.17040785774588585,\n",
              " 0.17404456064105034,\n",
              " 0.17598210647702217,\n",
              " 0.17719683423638344,\n",
              " 0.16804007440805435,\n",
              " 0.16069103156526884,\n",
              " 0.1679773566623529,\n",
              " 0.17054212341705957,\n",
              " 0.16642983381946883,\n",
              " 0.1632403222223123,\n",
              " 0.16336668655276299,\n",
              " 0.16959228863318762,\n",
              " 0.16820083061854044,\n",
              " 0.16328871063888073,\n",
              " 0.1607324667274952,\n",
              " 0.16043211395541826,\n",
              " 0.16917661453286806,\n",
              " 0.16101203734676042,\n",
              " 0.16209560632705688,\n",
              " 0.15691288808981577,\n",
              " 0.15976498275995255,\n",
              " 0.16075812528530756,\n",
              " 0.1574901727338632,\n",
              " 0.15653488039970398,\n",
              " 0.1579642357925574,\n",
              " 0.15793410936991373,\n",
              " 0.1610203025241693,\n",
              " 0.1606599042812983,\n",
              " 0.15945198511083922,\n",
              " 0.1570614936451117,\n",
              " 0.15668590118487677,\n",
              " 0.15628435711065927,\n",
              " 0.15693521747986475,\n",
              " 0.1569593126575152,\n",
              " 0.15643373876810074,\n",
              " 0.15755140160520872,\n",
              " 0.1622548128167788,\n",
              " 0.1549625905851523,\n",
              " 0.1573816935221354,\n",
              " 0.15652005498607954,\n",
              " 0.16292215759555498,\n",
              " 0.1593781846264998,\n",
              " 0.16790037229657173,\n",
              " 0.1642614553372065,\n",
              " 0.15695476345717907,\n",
              " 0.15564072939256826,\n",
              " 0.16103161002198854,\n",
              " 0.15389525393644968,\n",
              " 0.15224532783031464,\n",
              " 0.1502617560327053,\n",
              " 0.15244937626024088,\n",
              " 0.15427923326690993,\n",
              " 0.1566741205751896,\n",
              " 0.15764562040567398,\n",
              " 0.15256511668364206,\n",
              " 0.15327648321787515,\n",
              " 0.1526134635011355,\n",
              " 0.15602448706825575,\n",
              " 0.15390706434845924,\n",
              " 0.15253195414940515,\n",
              " 0.15264453490575156,\n",
              " 0.15108919392029443,\n",
              " 0.16337495421369871,\n",
              " 0.16062544286251068,\n",
              " 0.16162409695486227,\n",
              " 0.16261343037088713,\n",
              " 0.15947547554969788,\n",
              " 0.1519086410601934,\n",
              " 0.15446897720297179,\n",
              " 0.15192015593250593,\n",
              " 0.15431784465909004,\n",
              " 0.1528235301375389,\n",
              " 0.14796940423548222,\n",
              " 0.1485621059934298,\n",
              " 0.1458658358703057,\n",
              " 0.14644068976243338,\n",
              " 0.1471305638551712,\n",
              " 0.14784929528832436,\n",
              " 0.14663095151384672,\n",
              " 0.1441675741225481,\n",
              " 0.1453585351506869,\n",
              " 0.14595753885805607,\n",
              " 0.14966081455349922,\n",
              " 0.1499134600162506,\n",
              " 0.1480763020614783,\n",
              " 0.15258240699768066,\n",
              " 0.1468775855998198,\n",
              " 0.15185782685875893,\n",
              " 0.14738589463134608,\n",
              " 0.15072815182308355,\n",
              " 0.1461445273210605,\n",
              " 0.1507952343672514,\n",
              " 0.14693603416283926,\n",
              " 0.1466052271425724,\n",
              " 0.14323931808272997,\n",
              " 0.1453169509768486,\n",
              " 0.1452584539850553,\n",
              " 0.14505823949972788,\n",
              " 0.14158613979816437,\n",
              " 0.14096286644538245,\n",
              " 0.15082548186182976,\n",
              " 0.14789707710345587,\n",
              " 0.13939589324096838,\n",
              " 0.1435610745102167,\n",
              " 0.14234214772780737,\n",
              " 0.14281598788996538,\n",
              " 0.14051979966461658,\n",
              " 0.14245128010710081,\n",
              " 0.14368410656849542,\n",
              " 0.1385635988165935,\n",
              " 0.14218436181545258,\n",
              " 0.14847498635450998,\n",
              " 0.14793211470047632,\n",
              " 0.14318183933695158,\n",
              " 0.14455515642960867,\n",
              " 0.14464197121560574,\n",
              " 0.14766978596647581,\n",
              " 0.153808598096172,\n",
              " 0.1505903353293737,\n",
              " 0.1505563911050558,\n",
              " 0.1495176243285338,\n",
              " 0.14163977652788162,\n",
              " 0.14084421781202158,\n",
              " 0.14205798941353956,\n",
              " 0.1391639169305563,\n",
              " 0.13993927215536436,\n",
              " 0.13757210286955038,\n",
              " 0.13600210348765054,\n",
              " 0.13941059509913126,\n",
              " 0.14140393336613974,\n",
              " 0.1411139244834582,\n",
              " 0.13724631629884243,\n",
              " 0.13686643540859222,\n",
              " 0.13466687127947807,\n",
              " 0.1373287122696638,\n",
              " 0.14146266132593155,\n",
              " 0.1371749589840571,\n",
              " 0.1374574564397335,\n",
              " 0.1401763620475928,\n",
              " 0.13381198359032473,\n",
              " 0.13395192536214987,\n",
              " 0.13966737998028597,\n",
              " 0.1377662525822719,\n",
              " 0.1404999482134978,\n",
              " 0.1388762891292572,\n",
              " 0.1423470377922058,\n",
              " 0.14308402501046658,\n",
              " 0.1492726020514965,\n",
              " 0.15722720449169478,\n",
              " 0.1570807620882988,\n",
              " 0.14764411250750223,\n",
              " 0.14562887760500112,\n",
              " 0.1461848964293798,\n",
              " 0.145215205848217,\n",
              " 0.13718824088573456,\n",
              " 0.13739257181684175,\n",
              " 0.13657436954478422,\n",
              " 0.1315047269066175,\n",
              " 0.13128486275672913,\n",
              " 0.1344825141131878,\n",
              " 0.13362358075877032,\n",
              " 0.1376467365771532,\n",
              " 0.1389765962958336,\n",
              " 0.13726451558371386,\n",
              " 0.132465540120999,\n",
              " 0.1322451246281465,\n",
              " 0.13467438829441866,\n",
              " 0.13695221145947775,\n",
              " 0.1322292039791743,\n",
              " 0.13427428777019182,\n",
              " 0.13242263595263162,\n",
              " 0.1317010074853897,\n",
              " 0.13084092115362486,\n",
              " 0.13243096259733042,\n",
              " 0.1297239592919747,\n",
              " 0.12926463223993778,\n",
              " 0.129308819770813,\n",
              " 0.12944384974737963,\n",
              " 0.1346043882270654,\n",
              " 0.13394356270631155,\n",
              " 0.13102233658234277,\n",
              " 0.12756453019877276,\n",
              " 0.12885062210261822,\n",
              " 0.13036727843185267,\n",
              " 0.12976249679923058,\n",
              " 0.13468425969282785,\n",
              " 0.1331994074086348,\n",
              " 0.12801236162583032,\n",
              " 0.12984116934239864,\n",
              " 0.12719196329514185,\n",
              " 0.12660906091332436,\n",
              " 0.1313448566943407,\n",
              " 0.12833998476465544,\n",
              " 0.13491826690733433,\n",
              " 0.1271878027667602,\n",
              " 0.12560943638285002,\n",
              " 0.12370015867054462,\n",
              " 0.12597707969446978,\n",
              " 0.12186108405391376,\n",
              " 0.12234086853762467,\n",
              " 0.12353400513529778,\n",
              " 0.12748674489557743,\n",
              " 0.13260005228221416,\n",
              " 0.13011553386847177,\n",
              " 0.12545588426291943,\n",
              " 0.12641314913829169,\n",
              " 0.12707321594158807,\n",
              " 0.12329474277794361,\n",
              " 0.13349263866742453,\n",
              " 0.12916206382215023,\n",
              " 0.13326671595374742,\n",
              " 0.14555149028698602,\n",
              " 0.14751441280047098,\n",
              " 0.14992188413937887,\n",
              " 0.14276359106103578,\n",
              " 0.13360685606797537,\n",
              " 0.13115019661684832,\n",
              " 0.1262366051475207,\n",
              " 0.12965039908885956,\n",
              " 0.12892932817339897,\n",
              " 0.13590985784928003,\n",
              " 0.1268474217504263,\n",
              " 0.1270322830726703,\n",
              " 0.12413374582926433,\n",
              " 0.128010302161177,\n",
              " 0.12195268149177234,\n",
              " 0.12321587279438972,\n",
              " 0.11917259419957797,\n",
              " 0.12046673831840356,\n",
              " 0.12072231185932954,\n",
              " 0.11872684955596924,\n",
              " 0.11893502871195476,\n",
              " 0.11863009010752042,\n",
              " 0.11940486232439677,\n",
              " 0.11876075280209382,\n",
              " 0.12037596913675468,\n",
              " 0.12115200298527877,\n",
              " 0.12008604531486829,\n",
              " 0.1210727437088887,\n",
              " 0.11819178300599258,\n",
              " 0.12219865061342716,\n",
              " 0.12337544436256091,\n",
              " 0.12104628297189872,\n",
              " 0.12642115664978823,\n",
              " 0.1251725684851408,\n",
              " 0.1186303688834111,\n",
              " 0.12020264255503814,\n",
              " 0.11803068096439044,\n",
              " 0.12237323882679145,\n",
              " 0.12355922162532806,\n",
              " 0.11767085827887058,\n",
              " 0.1189340880761544,\n",
              " 0.11779187060892582,\n",
              " 0.11940760413805644,\n",
              " 0.1242935328433911,\n",
              " 0.12087244912981987,\n",
              " 0.12284679835041364,\n",
              " 0.11999396793544292,\n",
              " 0.11682089914878209,\n",
              " 0.11580824789901574,\n",
              " 0.11829910365243752,\n",
              " 0.1151474720487992,\n",
              " 0.11678093795975049,\n",
              " 0.11511222831904888,\n",
              " 0.11557185960312684,\n",
              " 0.11291762876013915,\n",
              " 0.11563835044701894,\n",
              " 0.11708695193131764,\n",
              " 0.11742257078488667,\n",
              " 0.11704905269046624,\n",
              " 0.11482602854569753,\n",
              " 0.11481724431117375,\n",
              " 0.11567108022669952,\n",
              " 0.11664523556828499,\n",
              " 0.11360438478489716,\n",
              " 0.11372227718432744,\n",
              " 0.1190114797403415,\n",
              " 0.11943135720988114,\n",
              " 0.11905686495204766,\n",
              " 0.1186730961004893,\n",
              " 0.1280902661383152,\n",
              " 0.11764702076713245,\n",
              " 0.11784081533551216,\n",
              " 0.11468393417696159,\n",
              " 0.11542464730640252,\n",
              " 0.11053513300915559,\n",
              " 0.11313232531150182,\n",
              " 0.11565907672047615,\n",
              " 0.11329825843373935,\n",
              " 0.11598767712712288,\n",
              " 0.11550234754880269,\n",
              " 0.11303429429729779,\n",
              " 0.11543860286474228,\n",
              " 0.11241962698598702,\n",
              " 0.11030705894033115,\n",
              " 0.11159776585797469,\n",
              " 0.10719938576221466,\n",
              " 0.11453438488145669,\n",
              " 0.11665143445134163,\n",
              " 0.11892777246733506,\n",
              " 0.1198301160087188,\n",
              " 0.12305324214200179,\n",
              " 0.1322023750593265,\n",
              " 0.134363554418087,\n",
              " 0.12633676268160343,\n",
              " 0.12121337776382764,\n",
              " 0.11595634867747624,\n",
              " 0.11600734107196331,\n",
              " 0.12162629266579945,\n",
              " 0.1159049067646265,\n",
              " 0.11550649193425973,\n",
              " 0.1167679193119208,\n",
              " 0.11395041334132354,\n",
              " 0.11205554381012917,\n",
              " 0.1070153812567393,\n",
              " 0.10824805125594139,\n",
              " 0.10785932342211406,\n",
              " 0.10670894881089528,\n",
              " 0.11087867990136147,\n",
              " 0.11046398679415385,\n",
              " 0.10922537557780743,\n",
              " 0.10969814037283261,\n",
              " 0.1069989874958992,\n",
              " 0.11122835924228032,\n",
              " 0.10984739785393079,\n",
              " 0.10647704576452573,\n",
              " 0.10708957600096862,\n",
              " 0.10797490614155929,\n",
              " 0.1066640963157018,\n",
              " 0.10558132703105609,\n",
              " 0.10356476592520873,\n",
              " 0.11017966580887635,\n",
              " 0.10596293210983276,\n",
              " 0.10648328562577565,\n",
              " 0.10556802588204543,\n",
              " 0.104384105031689,\n",
              " 0.10269334663947423,\n",
              " 0.10935796735187371,\n",
              " 0.10378416441380978,\n",
              " 0.10385861247777939,\n",
              " 0.10622537446518739,\n",
              " 0.10604604581991832,\n",
              " 0.10815067278842132,\n",
              " 0.10190043536325295,\n",
              " 0.10657590255141258,\n",
              " 0.10624624540408452,\n",
              " 0.1043878085911274,\n",
              " 0.1055730301886797,\n",
              " 0.1070485133677721,\n",
              " 0.1070162436614434,\n",
              " 0.11088033765554428,\n",
              " 0.11126624109844367,\n",
              " 0.11086513102054596,\n",
              " 0.1091786107669274,\n",
              " 0.12375258778532346,\n",
              " 0.1272255089133978,\n",
              " 0.12755731120705605,\n",
              " 0.12382434432705243,\n",
              " 0.11349447692433993,\n",
              " 0.10718218361337979,\n",
              " 0.10790609071652095,\n",
              " 0.1083507811029752,\n",
              " 0.10725631316502889,\n",
              " 0.10702778088549773,\n",
              " 0.1097439881414175,\n",
              " 0.10347559737662475,\n",
              " 0.10525288246572018,\n",
              " 0.10586564180751641,\n",
              " 0.10406131731967132,\n",
              " 0.10295357679327329,\n",
              " 0.10094595017532508,\n",
              " 0.10406567963461082,\n",
              " 0.09999639975527923,\n",
              " 0.09971595058838527,\n",
              " 0.09855754611392815,\n",
              " 0.10315507712463538,\n",
              " 0.10282306683560212,\n",
              " 0.10448907688260078,\n",
              " 0.10113079783817132,\n",
              " 0.09949133358895779,\n",
              " 0.10150067942837875,\n",
              " 0.10080465860664845,\n",
              " 0.09907788783311844,\n",
              " 0.09730275472005208,\n",
              " 0.09823754616081715,\n",
              " 0.09997659052411716,\n",
              " 0.10552779585123062,\n",
              " 0.10572543616096179,\n",
              " 0.10312564671039581,\n",
              " 0.10252521187067032,\n",
              " 0.10275965804855029,\n",
              " 0.10160443497200806,\n",
              " 0.09957002165416877,\n",
              " 0.10155330536266167,\n",
              " 0.09808342655499776,\n",
              " 0.10355301263431708,\n",
              " 0.10164016485214233,\n",
              " 0.10488443573315938,\n",
              " 0.10213999822735786,\n",
              " 0.10092058094839255,\n",
              " 0.10369367400805156,\n",
              " 0.10281130609412988,\n",
              " 0.10446620297928651,\n",
              " 0.10489520741005738,\n",
              " 0.09993838518857956,\n",
              " 0.09799413879712422,\n",
              " 0.0960261778285106,\n",
              " 0.09738887039323647,\n",
              " 0.09735637716948986,\n",
              " 0.0994207647939523,\n",
              " 0.10264813962082069,\n",
              " 0.10538124665617943,\n",
              " 0.10337711684405804,\n",
              " 0.10547857421139877,\n",
              " 0.09995821056266625,\n",
              " 0.09717773832380772,\n",
              " 0.09545013929406802,\n",
              " 0.09579737422366937,\n",
              " 0.0966459500292937,\n",
              " 0.09610120703776677,\n",
              " 0.09846086489657561,\n",
              " 0.10097652363280456,\n",
              " 0.10421931495269139,\n",
              " 0.10422416279713313,\n",
              " 0.10541766819854577,\n",
              " 0.10412147330741088,\n",
              " 0.10233074550827344,\n",
              " 0.10107427090406418,\n",
              " 0.09738311481972535,\n",
              " 0.09683285032709439,\n",
              " 0.09668298376103242,\n",
              " 0.0935229305177927,\n",
              " 0.09347405843436718,\n",
              " 0.09301586014529069,\n",
              " 0.09369434354205926,\n",
              " 0.0916771199554205,\n",
              " 0.09303191863000393,\n",
              " 0.0922030055274566,\n",
              " 0.09160298357407252,\n",
              " 0.09540489067633946,\n",
              " 0.10117567082246144,\n",
              " 0.10229467911024888,\n",
              " 0.10068140799800555,\n",
              " 0.0954300972322623,\n",
              " 0.09706078159312408,\n",
              " 0.09628672401110332,\n",
              " 0.09865177795290947,\n",
              " 0.0955335795879364,\n",
              " 0.09557158748308818,\n",
              " 0.09419272529582183,\n",
              " 0.09436305488149326,\n",
              " 0.0936084898809592,\n",
              " 0.09431282989680767,\n",
              " 0.09099104379614194,\n",
              " 0.09099568737049897,\n",
              " 0.09490220807492733,\n",
              " 0.09323363254467647,\n",
              " 0.09269931477804978,\n",
              " 0.09144066522518794,\n",
              " 0.09176042551795642,\n",
              " 0.09187833095590274,\n",
              " 0.09213392560680707,\n",
              " 0.09035174921154976,\n",
              " 0.09253379764656226,\n",
              " 0.08799498093624909,\n",
              " 0.08765969549616177,\n",
              " 0.08870977660020192,\n",
              " 0.09498577192425728,\n",
              " 0.09102631422380607,\n",
              " 0.09131903884311517,\n",
              " 0.09197256652017434,\n",
              " 0.09271836156646411,\n",
              " 0.09199694854517777,\n",
              " 0.09250300067166488,\n",
              " 0.09158367849886417,\n",
              " 0.08901284635066986,\n",
              " 0.08981929098566373,\n",
              " 0.0894122285147508,\n",
              " 0.08828786450127761,\n",
              " 0.09400225306550662,\n",
              " 0.08975673218568166,\n",
              " 0.0875336608539025,\n",
              " 0.09124831482768059,\n",
              " 0.09171196011205514,\n",
              " 0.09522027398149173,\n",
              " ...]"
            ]
          },
          "execution_count": 29,
          "metadata": {},
          "output_type": "execute_result"
        }
      ],
      "source": [
        "loss_storage"
      ]
    },
    {
      "cell_type": "markdown",
      "metadata": {
        "id": "pjH1rVzx9T1m"
      },
      "source": [
        "## Plot loss curve during model training"
      ]
    },
    {
      "cell_type": "markdown",
      "metadata": {
        "id": "8b7Jqi989WN9"
      },
      "source": [
        "### Define a function to plot the loss curve"
      ]
    },
    {
      "cell_type": "code",
      "execution_count": 30,
      "metadata": {},
      "outputs": [],
      "source": [
        "import matplotlib.pyplot as plt\n",
        "\n",
        "def plot_loss_curve(loss_storage, tick_interval=50, save_path=None):\n",
        "    plt.figure(figsize=(12, 6))\n",
        "\n",
        "    epochs = list(range(1, len(loss_storage) + 1))\n",
        "\n",
        "    # Plot the loss\n",
        "    plt.plot(\n",
        "        epochs,\n",
        "        loss_storage,\n",
        "        color='royalblue',\n",
        "        marker='o',\n",
        "        linestyle='-',\n",
        "        linewidth=2,\n",
        "        markersize=4,\n",
        "        label='Training Loss'\n",
        "    )\n",
        "\n",
        "    # Title & labels\n",
        "    plt.title(\"Training Loss Curve\", fontsize=18, fontweight='bold')\n",
        "    plt.xlabel(\"Epoch\", fontsize=14)\n",
        "    plt.ylabel(\"Loss\", fontsize=14)\n",
        "\n",
        "    # Show ticks every 50 epochs\n",
        "    tick_positions = list(range(0, len(loss_storage) + 1, tick_interval))\n",
        "    plt.xticks(ticks=tick_positions, labels=[str(t) for t in tick_positions], fontsize=12)\n",
        "    plt.yticks(fontsize=12)\n",
        "\n",
        "    # Grid, legend and layout\n",
        "    plt.grid(True, linestyle='--', linewidth=0.5)\n",
        "    plt.legend(fontsize=12)\n",
        "    plt.tight_layout()\n",
        "\n",
        "    if save_path:\n",
        "        plt.savefig(save_path, dpi=300, bbox_inches='tight')\n",
        "        print(f\"Loss curve saved to: {save_path}\")\n",
        "\n",
        "    plt.show()"
      ]
    },
    {
      "cell_type": "markdown",
      "metadata": {
        "id": "5k0WfEjH9a0f"
      },
      "source": [
        "### Plot the loss curve and save the image"
      ]
    },
    {
      "cell_type": "code",
      "execution_count": 31,
      "metadata": {
        "colab": {
          "base_uri": "https://localhost:8080/",
          "height": 624
        },
        "id": "uFqbs3SY9cFu",
        "outputId": "b0354a2b-54c7-477d-be44-ce4ed290a3b4"
      },
      "outputs": [
        {
          "name": "stdout",
          "output_type": "stream",
          "text": [
            "Loss curve saved to: ../images_model_training_and_eval/seq2seq_autoregressive_GRU_loss_training_curve.png\n"
          ]
        },
        {
          "data": {
            "image/png": "[encoded data removed]",
            "text/plain": [
              "<Figure size 1200x600 with 1 Axes>"
            ]
          },
          "metadata": {},
          "output_type": "display_data"
        }
      ],
      "source": [
        "save_path=\"../images_model_training_and_eval/seq2seq_autoregressive_GRU_loss_training_curve.png\"\n",
        "plot_loss_curve(loss_storage,save_path=save_path)"
      ]
    },
    {
      "cell_type": "markdown",
      "metadata": {
        "id": "_fxbuLWi9uEi"
      },
      "source": [
        "## Model Evaluation"
      ]
    },
    {
      "cell_type": "markdown",
      "metadata": {
        "id": "QXbiluyc9wil"
      },
      "source": [
        "### Define evaluation model function"
      ]
    },
    {
      "cell_type": "code",
      "execution_count": 32,
      "metadata": {
        "id": "Vr_PC6oJE4DB"
      },
      "outputs": [],
      "source": [
        "def evaluate_model(model, dataloader, seed_value):\n",
        "    model.eval()\n",
        "    torch.manual_seed(seed_value)\n",
        "    torch.cuda.manual_seed_all(seed_value)\n",
        "    np.random.seed(seed_value)\n",
        "\n",
        "    inputs, outputs = next(iter(dataloader))\n",
        "    inputs = inputs.to(device)\n",
        "    outputs = outputs.to(device)\n",
        "\n",
        "    inputs_seq = inputs.permute(1, 0, 2)\n",
        "    outputs_seq = outputs.permute(1, 0, 2)\n",
        "\n",
        "    pred = model(inputs_seq)\n",
        "\n",
        "    true_vals = outputs_seq.cpu().numpy()[:, 0, :]\n",
        "    pred_vals = pred.detach().cpu().numpy()[:, 0, :]\n",
        "\n",
        "    print(\"Ground truth:\\n\", true_vals.T)\n",
        "    print(\"Prediction:\\n\", pred_vals.T)\n",
        "    print(\"MAE:\", np.mean(np.abs(true_vals - pred_vals)))\n",
        "\n",
        "    feature_mae = np.mean(np.abs(true_vals - pred_vals), axis=(0, 1))\n",
        "    print(\"Feature-wise MAE:\", feature_mae)"
      ]
    },
    {
      "cell_type": "code",
      "execution_count": 33,
      "metadata": {
        "colab": {
          "base_uri": "https://localhost:8080/"
        },
        "id": "qcy37yO99-y3",
        "outputId": "723ceea1-c9df-410a-a89b-8f350d7bb344"
      },
      "outputs": [
        {
          "name": "stdout",
          "output_type": "stream",
          "text": [
            "Ground truth:\n",
            " [[-1.2752299  -1.3943083  -1.1437798  -1.3417282  -0.9247994  -0.93411076\n",
            "  -1.1712726 ]\n",
            " [ 0.9080867   1.0646194   0.3442977   1.0381919   1.0034971   1.0053803\n",
            "   0.53042036]\n",
            " [-0.47729036 -0.37316027 -0.82754606 -1.0846328   0.6615639   0.28450337\n",
            "   0.49154565]\n",
            " [ 0.02438779  0.03548462  0.04330284  0.03674562  0.01828454  0.01723326\n",
            "   0.027162  ]]\n",
            "Prediction:\n",
            " [[-1.1379404  -0.91279835 -0.73438185 -0.587018   -0.5142636  -0.44762728\n",
            "  -0.44457012]\n",
            " [ 0.43654075 -0.4288886  -0.7044116  -0.591352   -0.3866298  -0.24778375\n",
            "  -0.18899414]\n",
            " [ 0.7361602   0.67708343 -0.43208575 -0.46572173 -0.50330645 -0.3972053\n",
            "  -0.4041193 ]\n",
            " [ 0.5888107   0.01460886  0.21790326 -0.0038197   0.11666155  0.05397654\n",
            "   0.15063214]]\n",
            "MAE: 0.66042864\n",
            "Feature-wise MAE: 0.66042864\n"
          ]
        }
      ],
      "source": [
        "seed_value=187\n",
        "\n",
        "evaluate_model(seq2seq_model,test_dataloader,seed_value)"
      ]
    },
    {
      "cell_type": "markdown",
      "metadata": {
        "id": "HcznHsF1-HER"
      },
      "source": [
        "#### Define function to plot prediction versus ground truth"
      ]
    },
    {
      "cell_type": "code",
      "execution_count": 34,
      "metadata": {
        "id": "it_Lf04A-asC"
      },
      "outputs": [],
      "source": [
        "import matplotlib.pyplot as plt\n",
        "import numpy as np\n",
        "import torch\n",
        "\n",
        "def model_evaluation_and_visualizations(model, dataloader, device, stats=None, indices=[2486, 2986]):\n",
        "    feature_names = ['meantemp', 'humidity', 'wind_speed', 'meanpressure']\n",
        "    colors = ['#1f77b4', '#ff7f0e', '#2ca02c', '#d62728']  # Custom colors per feature\n",
        "\n",
        "    plt.style.use('ggplot')  # Consistent, readable plotting style\n",
        "    model.eval()\n",
        "\n",
        "    num_features = len(feature_names)\n",
        "    num_samples = len(indices)\n",
        "\n",
        "    fig, axs = plt.subplots(num_samples, num_features, figsize=(5 * num_features, 4 * num_samples))\n",
        "\n",
        "    for row, seed in enumerate(indices):\n",
        "        g = torch.Generator()\n",
        "        g.manual_seed(seed)\n",
        "\n",
        "        # Rebuild a deterministic DataLoader with shuffling\n",
        "        data_iter = iter(torch.utils.data.DataLoader(\n",
        "            dataloader.dataset, batch_size=32, shuffle=True, generator=g\n",
        "        ))\n",
        "\n",
        "        inputs, outputs = next(data_iter)\n",
        "        inputs, outputs = inputs.to(device), outputs.to(device)\n",
        "\n",
        "        # Permute for (seq_len, batch, feature)\n",
        "        inputs_seq = inputs.permute(1, 0, 2)      # (T_in, B, F)\n",
        "        outputs_seq = outputs.permute(1, 0, 2)    # (T_out, B, F)\n",
        "        preds = model(inputs_seq)                # (T_out, B, F)\n",
        "\n",
        "        b = 0  # Visualize the first sample in the batch\n",
        "\n",
        "        # Get the data for sample b\n",
        "        x = inputs_seq[:, b, :].detach().cpu().numpy()      # (T_in, F)\n",
        "        y_true = outputs_seq[:, b, :].detach().cpu().numpy()  # (T_out, F)\n",
        "        y_pred = preds[:, b, :].detach().cpu().numpy()        # (T_out, F)\n",
        "\n",
        "        # Denormalize if stats are provided\n",
        "        if stats is not None:\n",
        "            for i, name in enumerate(feature_names):\n",
        "                mean = stats.loc[name, 'mean']\n",
        "                std = stats.loc[name, 'std']\n",
        "                x[:, i] = x[:, i] * std + mean\n",
        "                y_true[:, i] = y_true[:, i] * std + mean\n",
        "                y_pred[:, i] = y_pred[:, i] * std + mean\n",
        "\n",
        "        # Time steps\n",
        "        t_input = list(range(x.shape[0]))\n",
        "        t_output = [x.shape[0] + i + 1 for i in range(y_true.shape[0])]\n",
        "        mse = np.mean((y_true - y_pred) ** 2)\n",
        "\n",
        "        # Plot each feature separately\n",
        "        for col in range(num_features):\n",
        "            ax = axs[row, col] if num_samples > 1 else axs[col]\n",
        "            feature = feature_names[col]\n",
        "            color = colors[col % len(colors)]\n",
        "\n",
        "            # Input sequence\n",
        "            ax.plot(t_input, x[:, col], linestyle='--', linewidth=2, label=\"Input\", color=color)\n",
        "            # Ground truth output\n",
        "            ax.scatter(t_output, y_true[:, col], label=\"True\", color=color, marker='o', s=50, edgecolors='black', linewidth=0.5)\n",
        "            # Predicted output\n",
        "            ax.scatter(t_output, y_pred[:, col], label=\"Pred\", color='black', marker='x', s=60)\n",
        "\n",
        "            ax.set_title(f\"{feature} | seed={seed} | MSE={mse:.4f}\", fontsize=11)\n",
        "            ax.grid(True)\n",
        "\n",
        "            if row == num_samples - 1:\n",
        "                ax.set_xlabel(\"Timestep\")\n",
        "            if col == 0:\n",
        "                ax.set_ylabel(\"Value\")\n",
        "            if row == 0:\n",
        "                ax.legend(loc='upper center', fontsize=8)\n",
        "\n",
        "    plt.tight_layout()\n",
        "    plt.show()\n",
        "\n"
      ]
    },
    {
      "cell_type": "code",
      "execution_count": 35,
      "metadata": {
        "colab": {
          "base_uri": "https://localhost:8080/",
          "height": 527
        },
        "id": "jJVzlAry-fo8",
        "outputId": "96d3e7e9-1a22-424a-d96b-0f23828f8710"
      },
      "outputs": [
        {
          "data": {
            "image/png": "[encoded data removed]",
            "text/plain": [
              "<Figure size 2000x800 with 8 Axes>"
            ]
          },
          "metadata": {},
          "output_type": "display_data"
        }
      ],
      "source": [
        "# Visualize\n",
        "model_evaluation_and_visualizations(seq2seq_model, test_dataloader, device)"
      ]
    }
  ],
  "metadata": {
    "accelerator": "GPU",
    "colab": {
      "gpuType": "T4",
      "machine_shape": "hm",
      "provenance": []
    },
    "kernelspec": {
      "display_name": ".venv",
      "language": "python",
      "name": "python3"
    },
    "language_info": {
      "codemirror_mode": {
        "name": "ipython",
        "version": 3
      },
      "file_extension": ".py",
      "mimetype": "text/x-python",
      "name": "python",
      "nbconvert_exporter": "python",
      "pygments_lexer": "ipython3",
      "version": "3.11.11"
    }
  },
  "nbformat": 4,
  "nbformat_minor": 0
}
