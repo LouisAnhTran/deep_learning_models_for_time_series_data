{
  "cells": [
    {
      "cell_type": "markdown",
      "metadata": {
        "id": "N7u2dQY3sb6N"
      },
      "source": [
        "# Implementing an autoregressive Seq2Seq model using GRU architecture\n",
        "\n",
        "### About this notebook\n",
        "\n",
        "This notebook was created as a deliverable for the group project under 50.039 Deep Learning course at the Singapore University of Technology and Design.\n",
        "\n",
        "**Author:** Group 17 - Cohort 01"
      ]
    },
    {
      "cell_type": "markdown",
      "metadata": {
        "id": "MP_zt6Z-sj5K"
      },
      "source": [
        "## Define device for Torch - preferred CUDA for accelerated computation"
      ]
    },
    {
      "cell_type": "code",
      "execution_count": 7,
      "metadata": {
        "colab": {
          "base_uri": "https://localhost:8080/"
        },
        "id": "Jm9aTM4Dsp7F",
        "outputId": "39c47c21-08b4-4dea-a783-ed758e675d0a"
      },
      "outputs": [
        {
          "name": "stdout",
          "output_type": "stream",
          "text": [
            "CUDA is available: True\n"
          ]
        }
      ],
      "source": [
        "# Matplotlib\n",
        "import torch\n",
        "\n",
        "# Define device for torch\n",
        "use_cuda = True\n",
        "print(\"CUDA is available:\", torch.cuda.is_available())\n",
        "device = torch.device(\"cuda\" if (use_cuda and torch.cuda.is_available()) else \"cpu\")"
      ]
    },
    {
      "cell_type": "markdown",
      "metadata": {
        "id": "zDGEj8Cjs0dt"
      },
      "source": [
        "## Import train and test dataset"
      ]
    },
    {
      "cell_type": "markdown",
      "metadata": {
        "id": "9IWPk8NOs2mU"
      },
      "source": [
        "### Define load dataset function"
      ]
    },
    {
      "cell_type": "code",
      "execution_count": 8,
      "metadata": {
        "id": "6t7CqX5tzPII"
      },
      "outputs": [],
      "source": [
        "import pandas as pd\n",
        "\n",
        "def load_dataset(train_path, test_path):\n",
        "    # Load and drop date column\n",
        "    train_df = pd.read_csv(train_path, parse_dates=['date']).drop(columns=['date'])\n",
        "    test_df = pd.read_csv(test_path, parse_dates=['date']).drop(columns=['date'])\n",
        "\n",
        "    # Normalize using training statistics\n",
        "    stats = train_df.describe().transpose()\n",
        "\n",
        "    def normalize(df):\n",
        "        return (df - stats[\"mean\"]) / stats[\"std\"]\n",
        "\n",
        "    train_norm = normalize(train_df)\n",
        "    test_norm = normalize(test_df)\n",
        "\n",
        "    return train_norm, test_norm, stats"
      ]
    },
    {
      "cell_type": "markdown",
      "metadata": {
        "id": "a1vDADPDtENq"
      },
      "source": [
        "### Load train and test dataset"
      ]
    },
    {
      "cell_type": "code",
      "execution_count": null,
      "metadata": {
        "id": "taRAOhsLxbs9"
      },
      "outputs": [],
      "source": [
        "# Load dataset from file\n",
        "train_file_path = '../dataset/train/DailyDelhiClimateTrain.csv'\n",
        "test_file_path = '../dataset/test/DailyDelhiClimateTest.csv'\n",
        "train_data, test_data, stats = load_dataset(train_file_path, test_file_path)"
      ]
    },
    {
      "cell_type": "code",
      "execution_count": 10,
      "metadata": {
        "colab": {
          "base_uri": "https://localhost:8080/",
          "height": 204
        },
        "id": "ppLCQaAGt2_G",
        "outputId": "e7454241-4b84-4139-af2c-e8da5386a763"
      },
      "outputs": [
        {
          "data": {
            "application/vnd.google.colaboratory.intrinsic+json": {
              "summary": "{\n  \"name\": \"train_data[:5]\",\n  \"rows\": 5,\n  \"fields\": [\n    {\n      \"column\": \"meantemp\",\n      \"properties\": {\n        \"dtype\": \"number\",\n        \"std\": 0.20841408641918516,\n        \"min\": -2.6531366509460907,\n        \"max\": -2.108778447275962,\n        \"num_unique_values\": 5,\n        \"samples\": [\n          -2.462611279661546,\n          -2.6531366509460907,\n          -2.4943655082089697\n        ],\n        \"semantic_type\": \"\",\n        \"description\": \"\"\n      }\n    },\n    {\n      \"column\": \"humidity\",\n      \"properties\": {\n        \"dtype\": \"number\",\n        \"std\": 0.4630251567463648,\n        \"min\": 0.629806246676629,\n        \"max\": 1.862191172481257,\n        \"num_unique_values\": 5,\n        \"samples\": [\n          1.862191172481257,\n          1.5540949410301,\n          1.5640335291414278\n        ],\n        \"semantic_type\": \"\",\n        \"description\": \"\"\n      }\n    },\n    {\n      \"column\": \"wind_speed\",\n      \"properties\": {\n        \"dtype\": \"number\",\n        \"std\": 0.4112300309466513,\n        \"min\": -1.4911885128266216,\n        \"max\": -0.47546351830098127,\n        \"num_unique_values\": 5,\n        \"samples\": [\n          -0.8379092717432243,\n          -0.6800699920183765,\n          -0.47546351830098127\n        ],\n        \"semantic_type\": \"\",\n        \"description\": \"\"\n      }\n    },\n    {\n      \"column\": \"meanpressure\",\n      \"properties\": {\n        \"dtype\": \"number\",\n        \"std\": 0.006413960749790114,\n        \"min\": 0.02531252756337268,\n        \"max\": 0.04195777103054057,\n        \"num_unique_values\": 5,\n        \"samples\": [\n          0.03714914514002536,\n          0.02993620630425286,\n          0.04195777103054057\n        ],\n        \"semantic_type\": \"\",\n        \"description\": \"\"\n      }\n    }\n  ]\n}",
              "type": "dataframe"
            },
            "text/html": [
              "\n",
              "  <div id=\"df-3fa67ca3-0a74-4d75-8537-8aa938f260dd\" class=\"colab-df-container\">\n",
              "    <div>\n",
              "<style scoped>\n",
              "    .dataframe tbody tr th:only-of-type {\n",
              "        vertical-align: middle;\n",
              "    }\n",
              "\n",
              "    .dataframe tbody tr th {\n",
              "        vertical-align: top;\n",
              "    }\n",
              "\n",
              "    .dataframe thead th {\n",
              "        text-align: right;\n",
              "    }\n",
              "</style>\n",
              "<table border=\"1\" class=\"dataframe\">\n",
              "  <thead>\n",
              "    <tr style=\"text-align: right;\">\n",
              "      <th></th>\n",
              "      <th>meantemp</th>\n",
              "      <th>humidity</th>\n",
              "      <th>wind_speed</th>\n",
              "      <th>meanpressure</th>\n",
              "    </tr>\n",
              "  </thead>\n",
              "  <tbody>\n",
              "    <tr>\n",
              "      <th>0</th>\n",
              "      <td>-2.108778</td>\n",
              "      <td>1.414955</td>\n",
              "      <td>-1.491189</td>\n",
              "      <td>0.025313</td>\n",
              "    </tr>\n",
              "    <tr>\n",
              "      <th>1</th>\n",
              "      <td>-2.462611</td>\n",
              "      <td>1.862191</td>\n",
              "      <td>-0.837909</td>\n",
              "      <td>0.037149</td>\n",
              "    </tr>\n",
              "    <tr>\n",
              "      <th>2</th>\n",
              "      <td>-2.494366</td>\n",
              "      <td>1.564034</td>\n",
              "      <td>-0.475464</td>\n",
              "      <td>0.041958</td>\n",
              "    </tr>\n",
              "    <tr>\n",
              "      <th>3</th>\n",
              "      <td>-2.290231</td>\n",
              "      <td>0.629806</td>\n",
              "      <td>-1.220816</td>\n",
              "      <td>0.033635</td>\n",
              "    </tr>\n",
              "    <tr>\n",
              "      <th>4</th>\n",
              "      <td>-2.653137</td>\n",
              "      <td>1.554095</td>\n",
              "      <td>-0.680070</td>\n",
              "      <td>0.029936</td>\n",
              "    </tr>\n",
              "  </tbody>\n",
              "</table>\n",
              "</div>\n",
              "    <div class=\"colab-df-buttons\">\n",
              "\n",
              "  <div class=\"colab-df-container\">\n",
              "    <button class=\"colab-df-convert\" onclick=\"convertToInteractive('df-3fa67ca3-0a74-4d75-8537-8aa938f260dd')\"\n",
              "            title=\"Convert this dataframe to an interactive table.\"\n",
              "            style=\"display:none;\">\n",
              "\n",
              "  <svg xmlns=\"http://www.w3.org/2000/svg\" height=\"24px\" viewBox=\"0 -960 960 960\">\n",
              "    <path d=\"M120-120v-720h720v720H120Zm60-500h600v-160H180v160Zm220 220h160v-160H400v160Zm0 220h160v-160H400v160ZM180-400h160v-160H180v160Zm440 0h160v-160H620v160ZM180-180h160v-160H180v160Zm440 0h160v-160H620v160Z\"/>\n",
              "  </svg>\n",
              "    </button>\n",
              "\n",
              "  <style>\n",
              "    .colab-df-container {\n",
              "      display:flex;\n",
              "      gap: 12px;\n",
              "    }\n",
              "\n",
              "    .colab-df-convert {\n",
              "      background-color: #E8F0FE;\n",
              "      border: none;\n",
              "      border-radius: 50%;\n",
              "      cursor: pointer;\n",
              "      display: none;\n",
              "      fill: #1967D2;\n",
              "      height: 32px;\n",
              "      padding: 0 0 0 0;\n",
              "      width: 32px;\n",
              "    }\n",
              "\n",
              "    .colab-df-convert:hover {\n",
              "      background-color: #E2EBFA;\n",
              "      box-shadow: 0px 1px 2px rgba(60, 64, 67, 0.3), 0px 1px 3px 1px rgba(60, 64, 67, 0.15);\n",
              "      fill: #174EA6;\n",
              "    }\n",
              "\n",
              "    .colab-df-buttons div {\n",
              "      margin-bottom: 4px;\n",
              "    }\n",
              "\n",
              "    [theme=dark] .colab-df-convert {\n",
              "      background-color: #3B4455;\n",
              "      fill: #D2E3FC;\n",
              "    }\n",
              "\n",
              "    [theme=dark] .colab-df-convert:hover {\n",
              "      background-color: #434B5C;\n",
              "      box-shadow: 0px 1px 3px 1px rgba(0, 0, 0, 0.15);\n",
              "      filter: drop-shadow(0px 1px 2px rgba(0, 0, 0, 0.3));\n",
              "      fill: #FFFFFF;\n",
              "    }\n",
              "  </style>\n",
              "\n",
              "    <script>\n",
              "      const buttonEl =\n",
              "        document.querySelector('#df-3fa67ca3-0a74-4d75-8537-8aa938f260dd button.colab-df-convert');\n",
              "      buttonEl.style.display =\n",
              "        google.colab.kernel.accessAllowed ? 'block' : 'none';\n",
              "\n",
              "      async function convertToInteractive(key) {\n",
              "        const element = document.querySelector('#df-3fa67ca3-0a74-4d75-8537-8aa938f260dd');\n",
              "        const dataTable =\n",
              "          await google.colab.kernel.invokeFunction('convertToInteractive',\n",
              "                                                    [key], {});\n",
              "        if (!dataTable) return;\n",
              "\n",
              "        const docLinkHtml = 'Like what you see? Visit the ' +\n",
              "          '<a target=\"_blank\" href=https://colab.research.google.com/notebooks/data_table.ipynb>data table notebook</a>'\n",
              "          + ' to learn more about interactive tables.';\n",
              "        element.innerHTML = '';\n",
              "        dataTable['output_type'] = 'display_data';\n",
              "        await google.colab.output.renderOutput(dataTable, element);\n",
              "        const docLink = document.createElement('div');\n",
              "        docLink.innerHTML = docLinkHtml;\n",
              "        element.appendChild(docLink);\n",
              "      }\n",
              "    </script>\n",
              "  </div>\n",
              "\n",
              "\n",
              "<div id=\"df-48c0e311-a63e-4415-bed3-0037469efbeb\">\n",
              "  <button class=\"colab-df-quickchart\" onclick=\"quickchart('df-48c0e311-a63e-4415-bed3-0037469efbeb')\"\n",
              "            title=\"Suggest charts\"\n",
              "            style=\"display:none;\">\n",
              "\n",
              "<svg xmlns=\"http://www.w3.org/2000/svg\" height=\"24px\"viewBox=\"0 0 24 24\"\n",
              "     width=\"24px\">\n",
              "    <g>\n",
              "        <path d=\"M19 3H5c-1.1 0-2 .9-2 2v14c0 1.1.9 2 2 2h14c1.1 0 2-.9 2-2V5c0-1.1-.9-2-2-2zM9 17H7v-7h2v7zm4 0h-2V7h2v10zm4 0h-2v-4h2v4z\"/>\n",
              "    </g>\n",
              "</svg>\n",
              "  </button>\n",
              "\n",
              "<style>\n",
              "  .colab-df-quickchart {\n",
              "      --bg-color: #E8F0FE;\n",
              "      --fill-color: #1967D2;\n",
              "      --hover-bg-color: #E2EBFA;\n",
              "      --hover-fill-color: #174EA6;\n",
              "      --disabled-fill-color: #AAA;\n",
              "      --disabled-bg-color: #DDD;\n",
              "  }\n",
              "\n",
              "  [theme=dark] .colab-df-quickchart {\n",
              "      --bg-color: #3B4455;\n",
              "      --fill-color: #D2E3FC;\n",
              "      --hover-bg-color: #434B5C;\n",
              "      --hover-fill-color: #FFFFFF;\n",
              "      --disabled-bg-color: #3B4455;\n",
              "      --disabled-fill-color: #666;\n",
              "  }\n",
              "\n",
              "  .colab-df-quickchart {\n",
              "    background-color: var(--bg-color);\n",
              "    border: none;\n",
              "    border-radius: 50%;\n",
              "    cursor: pointer;\n",
              "    display: none;\n",
              "    fill: var(--fill-color);\n",
              "    height: 32px;\n",
              "    padding: 0;\n",
              "    width: 32px;\n",
              "  }\n",
              "\n",
              "  .colab-df-quickchart:hover {\n",
              "    background-color: var(--hover-bg-color);\n",
              "    box-shadow: 0 1px 2px rgba(60, 64, 67, 0.3), 0 1px 3px 1px rgba(60, 64, 67, 0.15);\n",
              "    fill: var(--button-hover-fill-color);\n",
              "  }\n",
              "\n",
              "  .colab-df-quickchart-complete:disabled,\n",
              "  .colab-df-quickchart-complete:disabled:hover {\n",
              "    background-color: var(--disabled-bg-color);\n",
              "    fill: var(--disabled-fill-color);\n",
              "    box-shadow: none;\n",
              "  }\n",
              "\n",
              "  .colab-df-spinner {\n",
              "    border: 2px solid var(--fill-color);\n",
              "    border-color: transparent;\n",
              "    border-bottom-color: var(--fill-color);\n",
              "    animation:\n",
              "      spin 1s steps(1) infinite;\n",
              "  }\n",
              "\n",
              "  @keyframes spin {\n",
              "    0% {\n",
              "      border-color: transparent;\n",
              "      border-bottom-color: var(--fill-color);\n",
              "      border-left-color: var(--fill-color);\n",
              "    }\n",
              "    20% {\n",
              "      border-color: transparent;\n",
              "      border-left-color: var(--fill-color);\n",
              "      border-top-color: var(--fill-color);\n",
              "    }\n",
              "    30% {\n",
              "      border-color: transparent;\n",
              "      border-left-color: var(--fill-color);\n",
              "      border-top-color: var(--fill-color);\n",
              "      border-right-color: var(--fill-color);\n",
              "    }\n",
              "    40% {\n",
              "      border-color: transparent;\n",
              "      border-right-color: var(--fill-color);\n",
              "      border-top-color: var(--fill-color);\n",
              "    }\n",
              "    60% {\n",
              "      border-color: transparent;\n",
              "      border-right-color: var(--fill-color);\n",
              "    }\n",
              "    80% {\n",
              "      border-color: transparent;\n",
              "      border-right-color: var(--fill-color);\n",
              "      border-bottom-color: var(--fill-color);\n",
              "    }\n",
              "    90% {\n",
              "      border-color: transparent;\n",
              "      border-bottom-color: var(--fill-color);\n",
              "    }\n",
              "  }\n",
              "</style>\n",
              "\n",
              "  <script>\n",
              "    async function quickchart(key) {\n",
              "      const quickchartButtonEl =\n",
              "        document.querySelector('#' + key + ' button');\n",
              "      quickchartButtonEl.disabled = true;  // To prevent multiple clicks.\n",
              "      quickchartButtonEl.classList.add('colab-df-spinner');\n",
              "      try {\n",
              "        const charts = await google.colab.kernel.invokeFunction(\n",
              "            'suggestCharts', [key], {});\n",
              "      } catch (error) {\n",
              "        console.error('Error during call to suggestCharts:', error);\n",
              "      }\n",
              "      quickchartButtonEl.classList.remove('colab-df-spinner');\n",
              "      quickchartButtonEl.classList.add('colab-df-quickchart-complete');\n",
              "    }\n",
              "    (() => {\n",
              "      let quickchartButtonEl =\n",
              "        document.querySelector('#df-48c0e311-a63e-4415-bed3-0037469efbeb button');\n",
              "      quickchartButtonEl.style.display =\n",
              "        google.colab.kernel.accessAllowed ? 'block' : 'none';\n",
              "    })();\n",
              "  </script>\n",
              "</div>\n",
              "\n",
              "    </div>\n",
              "  </div>\n"
            ],
            "text/plain": [
              "   meantemp  humidity  wind_speed  meanpressure\n",
              "0 -2.108778  1.414955   -1.491189      0.025313\n",
              "1 -2.462611  1.862191   -0.837909      0.037149\n",
              "2 -2.494366  1.564034   -0.475464      0.041958\n",
              "3 -2.290231  0.629806   -1.220816      0.033635\n",
              "4 -2.653137  1.554095   -0.680070      0.029936"
            ]
          },
          "execution_count": 10,
          "metadata": {},
          "output_type": "execute_result"
        }
      ],
      "source": [
        "train_data[:5]"
      ]
    },
    {
      "cell_type": "code",
      "execution_count": 11,
      "metadata": {
        "colab": {
          "base_uri": "https://localhost:8080/"
        },
        "id": "vd6UFFPyt5AQ",
        "outputId": "b3f3acec-7f35-4b86-f019-72e4a364acbf"
      },
      "outputs": [
        {
          "data": {
            "text/plain": [
              "1462"
            ]
          },
          "execution_count": 11,
          "metadata": {},
          "output_type": "execute_result"
        }
      ],
      "source": [
        "# number of samples in train dataset\n",
        "len(train_data)"
      ]
    },
    {
      "cell_type": "markdown",
      "metadata": {
        "id": "8KZkxogdt63a"
      },
      "source": [
        "## Define Pytorch Dataset and Dataloader objects"
      ]
    },
    {
      "cell_type": "code",
      "execution_count": 12,
      "metadata": {
        "id": "g6QY_8vTuFX5"
      },
      "outputs": [],
      "source": [
        "import numpy as np\n",
        "import torch\n",
        "from torch.utils.data import Dataset, DataLoader"
      ]
    },
    {
      "cell_type": "markdown",
      "metadata": {
        "id": "t9EVWI1vuHgH"
      },
      "source": [
        "### Dataset object"
      ]
    },
    {
      "cell_type": "code",
      "execution_count": 13,
      "metadata": {
        "id": "FuPlwmeyz8mC"
      },
      "outputs": [],
      "source": [
        "class CustomDataset(Dataset):\n",
        "    def __init__(self, dataframe, n_inputs, n_outputs):\n",
        "        self.dataframe = dataframe\n",
        "        self.n_inputs = n_inputs\n",
        "        self.n_outputs = n_outputs\n",
        "        self.inputs = []\n",
        "        self.outputs = []\n",
        "        self.define_samples()\n",
        "\n",
        "    def define_samples(self):\n",
        "        data_array = self.dataframe.values\n",
        "        for i in range(len(data_array) - self.n_inputs - self.n_outputs):\n",
        "            input_seq = data_array[i:i+self.n_inputs, :]         # Sequence length of 30, incl all features\n",
        "            output_seq = data_array[i+self.n_inputs:i+self.n_inputs+self.n_outputs, :]  # Sequence length of 7, incl all features\n",
        "            self.inputs.append(input_seq)\n",
        "            self.outputs.append(output_seq)\n",
        "\n",
        "    def __len__(self):\n",
        "        return len(self.inputs)\n",
        "\n",
        "    def __getitem__(self, idx):\n",
        "        x = torch.tensor(self.inputs[idx], dtype=torch.float32)  # Shape: (n_inputs, 4)\n",
        "        y = torch.tensor(self.outputs[idx], dtype=torch.float32) # Shape: (n_outputs,)\n",
        "        return x, y"
      ]
    },
    {
      "cell_type": "code",
      "execution_count": 14,
      "metadata": {
        "id": "2joAhwcbz3s8"
      },
      "outputs": [],
      "source": [
        "n_inputs = 30\n",
        "n_outputs = 7\n",
        "train_dataset = CustomDataset(train_data, n_inputs, n_outputs)\n",
        "test_dataset = CustomDataset(test_data, n_inputs, n_outputs)"
      ]
    },
    {
      "cell_type": "code",
      "execution_count": 15,
      "metadata": {
        "colab": {
          "base_uri": "https://localhost:8080/"
        },
        "id": "RqE7_ibxuXJK",
        "outputId": "bc8ee132-2aec-407e-ccb0-5b99bd0e57e7"
      },
      "outputs": [
        {
          "data": {
            "text/plain": [
              "(tensor([[-2.1088e+00,  1.4150e+00, -1.4912e+00,  2.5313e-02],\n",
              "         [-2.4626e+00,  1.8622e+00, -8.3791e-01,  3.7149e-02],\n",
              "         [-2.4944e+00,  1.5640e+00, -4.7546e-01,  4.1958e-02],\n",
              "         [-2.2902e+00,  6.2981e-01, -1.2208e+00,  3.3635e-02],\n",
              "         [-2.6531e+00,  1.5541e+00, -6.8007e-01,  2.9936e-02],\n",
              "         [-2.5170e+00,  1.3136e+00, -1.1667e+00,  3.8259e-02],\n",
              "         [-2.5170e+00,  1.0631e+00, -1.1009e-01,  4.9356e-02],\n",
              "         [-2.2643e+00,  1.7547e-01,  7.4677e-02,  4.2222e-02],\n",
              "         [-1.5644e+00, -5.6779e-01,  1.2491e+00,  3.2710e-02],\n",
              "         [-1.9727e+00,  7.3245e-02,  1.3105e-01,  2.5313e-02],\n",
              "         [-1.3311e+00, -5.6566e-01,  8.2629e-01,  2.7955e-02],\n",
              "         [-1.5644e+00,  7.8882e-01,  1.4088e+00,  2.4784e-02],\n",
              "         [-1.3149e+00,  8.5839e-01, -4.7546e-01,  1.2366e-02],\n",
              "         [-1.7232e+00,  1.6336e+00, -1.3560e+00,  2.2538e-02],\n",
              "         [-1.4672e+00,  6.6104e-01, -1.3753e+00,  2.6369e-02],\n",
              "         [-1.5871e+00,  1.5442e+00, -1.4912e+00,  3.0861e-02],\n",
              "         [-1.2242e+00,  1.1963e+00, -3.4028e-01,  2.6237e-02],\n",
              "         [-1.5871e+00,  1.8721e+00,  4.7084e-01,  1.8839e-02],\n",
              "         [-1.7686e+00,  9.4784e-01, -2.0144e-01,  5.8603e-02],\n",
              "         [-1.9338e+00,  8.6549e-01,  3.6593e-01,  5.0941e-02],\n",
              "         [-1.9455e+00,  9.6772e-01, -1.0045e+00,  5.4904e-02],\n",
              "         [-2.1768e+00,  1.1267e+00, -8.1526e-01,  5.9343e-02],\n",
              "         [-1.5644e+00, -3.6079e-02, -6.1065e-01,  5.2130e-02],\n",
              "         [-1.5871e+00, -6.2634e-03, -1.3932e-01,  5.2130e-02],\n",
              "         [-1.8026e+00,  3.7140e-01, -2.7451e-01,  5.3517e-02],\n",
              "         [-1.7459e+00,  2.0245e-01, -4.8420e-04,  4.7506e-02],\n",
              "         [-1.7200e+00,  2.8622e-01, -2.7294e-01,  3.9051e-02],\n",
              "         [-1.4510e+00, -2.8454e-01, -6.8007e-01,  3.7334e-02],\n",
              "         [-1.5474e+00,  2.8196e-01, -7.8146e-01,  3.0630e-02],\n",
              "         [-1.4672e+00,  5.7585e-01, -1.2594e+00,  3.7466e-02]]),\n",
              " tensor([[-1.2650,  0.2879, -0.8423,  0.0405],\n",
              "         [-1.2922,  0.7292, -1.0045,  0.0272],\n",
              "         [-1.2534,  1.0018, -1.1999,  0.0335],\n",
              "         [-1.0201,  0.2862, -1.0841,  0.0232],\n",
              "         [-1.0978,  0.8059,  0.9453,  0.0192],\n",
              "         [-1.2072,  1.8846,  0.6407,  0.0292],\n",
              "         [-1.2015,  0.6298,  0.4014,  0.0420]]))"
            ]
          },
          "execution_count": 15,
          "metadata": {},
          "output_type": "execute_result"
        }
      ],
      "source": [
        "train_dataset[0]"
      ]
    },
    {
      "cell_type": "markdown",
      "metadata": {
        "id": "55AUsQGruap8"
      },
      "source": [
        "### Dataloader Object"
      ]
    },
    {
      "cell_type": "code",
      "execution_count": 16,
      "metadata": {
        "id": "Z1kkxtmP3cpG"
      },
      "outputs": [],
      "source": [
        "# Define batch size\n",
        "batch_size = 128\n",
        "\n",
        "# Random number generator (for reproducibility)\n",
        "generator = torch.Generator()  # Defaults to CPU, which DataLoader expects\n",
        "\n",
        "# Create DataLoader\n",
        "train_dataloader = DataLoader(\n",
        "    train_dataset,\n",
        "    batch_size=batch_size,\n",
        "    shuffle=True,\n",
        "    generator=generator\n",
        ")\n",
        "\n",
        "test_dataloader = DataLoader(\n",
        "    test_dataset,\n",
        "    batch_size=batch_size,\n",
        "    shuffle=False,  # Important: don't shuffle test data\n",
        "    generator=generator\n",
        ")"
      ]
    },
    {
      "cell_type": "code",
      "execution_count": 17,
      "metadata": {
        "colab": {
          "base_uri": "https://localhost:8080/"
        },
        "id": "uYd2irWlug20",
        "outputId": "4afe775b-9854-4757-8f14-2955a0bcb67d"
      },
      "outputs": [
        {
          "name": "stdout",
          "output_type": "stream",
          "text": [
            "Input shape: torch.Size([128, 30, 4])\n",
            "Output shape: torch.Size([128, 7, 4])\n"
          ]
        }
      ],
      "source": [
        "# Visualize a sample\n",
        "sample = next(iter(train_dataloader))\n",
        "input_sample, output_sample = sample\n",
        "print(\"Input shape:\", input_sample.shape)\n",
        "print(\"Output shape:\", output_sample.shape)\n"
      ]
    },
    {
      "cell_type": "code",
      "execution_count": 18,
      "metadata": {
        "colab": {
          "base_uri": "https://localhost:8080/"
        },
        "id": "D6y-KAk3unqg",
        "outputId": "3e239ef4-10e1-47e0-fb87-5422aadf0a58"
      },
      "outputs": [
        {
          "data": {
            "text/plain": [
              "12"
            ]
          },
          "execution_count": 18,
          "metadata": {},
          "output_type": "execute_result"
        }
      ],
      "source": [
        "len(train_dataloader)"
      ]
    },
    {
      "cell_type": "markdown",
      "metadata": {
        "id": "VsOnZ-HouqDe"
      },
      "source": [
        "## Define Model Architecture"
      ]
    },
    {
      "cell_type": "markdown",
      "metadata": {
        "id": "jmh7PjlyvNr2"
      },
      "source": [
        "### Our Encoder Model\n",
        "\n",
        "The EncoderGRU below processes input sequences using a Gated Recurrent Unit (GRU) network. It is designed to capture temporal dependencies and compress the full input sequence into a single hidden state that summarizes the important patterns and dynamics over time.\n",
        "\n",
        "Unlike the LSTM, the GRU architecture uses a simpler gating mechanism, making it computationally more efficient while still effectively learning long-term dependencies. This encoder takes in multivariate weather data (e.g., temperature, humidity, wind speed, pressure) and returns only the final hidden state — a compact representation of the entire sequence.\n",
        "\n",
        "This hidden state is then used to initialize the decoder in the sequence-to-sequence architecture, enabling the model to generate future predictions based on the learned context of the input sequence."
      ]
    },
    {
      "cell_type": "markdown",
      "metadata": {
        "id": "zjb0E2uy4QH7"
      },
      "source": [
        "#### Define Encoder class"
      ]
    },
    {
      "cell_type": "code",
      "execution_count": 19,
      "metadata": {
        "id": "ay2_O7__vqUE"
      },
      "outputs": [],
      "source": [
        "# Numpy\n",
        "import numpy as np\n",
        "# Torch\n",
        "import torch\n",
        "import torch.nn as nn"
      ]
    },
    {
      "cell_type": "code",
      "execution_count": 20,
      "metadata": {
        "id": "efgfQs-C4PdC"
      },
      "outputs": [],
      "source": [
        "class EncoderGRU(nn.Module):\n",
        "    def __init__(self, input_size, hidden_size, num_layers = 1, dropout = 0.0):\n",
        "        super(EncoderGRU, self).__init__()\n",
        "\n",
        "        self.hidden_size = hidden_size\n",
        "        self.num_layers = num_layers\n",
        "\n",
        "        self.gru = nn.GRU(input_size, hidden_size,\n",
        "                          num_layers = num_layers,\n",
        "                          dropout = dropout if num_layers > 1 else 0.0,\n",
        "                          batch_first = False)\n",
        "\n",
        "    def forward(self, input_seq):\n",
        "        # input_seq: (seq_len, batch_size, input_size)\n",
        "        output, hidden = self.gru(input_seq)\n",
        "        return hidden"
      ]
    },
    {
      "cell_type": "code",
      "execution_count": 21,
      "metadata": {
        "colab": {
          "base_uri": "https://localhost:8080/"
        },
        "id": "7uhXWtb46Sz2",
        "outputId": "16cefdb0-e18e-4a7b-c41c-8051acb843a7"
      },
      "outputs": [
        {
          "name": "stdout",
          "output_type": "stream",
          "text": [
            "EncoderGRU(\n",
            "  (gru): GRU(4, 64)\n",
            ")\n"
          ]
        }
      ],
      "source": [
        "# Defining our EncoderRNN model\n",
        "hidden_size = 64\n",
        "encoder_model = EncoderGRU(4, hidden_size)\n",
        "print(encoder_model)"
      ]
    },
    {
      "cell_type": "markdown",
      "metadata": {
        "id": "yXzAz8MMw1oV"
      },
      "source": [
        "#### Testing Encoder model"
      ]
    },
    {
      "cell_type": "code",
      "execution_count": 22,
      "metadata": {
        "colab": {
          "base_uri": "https://localhost:8080/"
        },
        "id": "sPZ8F6Ua6c0f",
        "outputId": "d7bb1d10-f74a-4ced-9ead-1088df48e18a"
      },
      "outputs": [
        {
          "name": "stdout",
          "output_type": "stream",
          "text": [
            "Input shape to encoder: torch.Size([30, 128, 4])\n",
            "Encoder output (last hidden state) shape: torch.Size([1, 128, 64])\n",
            "Sample vector: tensor([[ 0.1068, -0.1208,  0.1347,  ..., -0.0260,  0.1548,  0.0319],\n",
            "        [-0.1725,  0.2703, -0.1120,  ...,  0.0469,  0.0005,  0.0953],\n",
            "        [ 0.0257, -0.2216,  0.0882,  ...,  0.0756,  0.1229,  0.0302],\n",
            "        ...,\n",
            "        [-0.0832,  0.0364, -0.0303,  ...,  0.0550,  0.0295,  0.0313],\n",
            "        [ 0.1000, -0.0523,  0.1064,  ..., -0.0376,  0.0838, -0.0090],\n",
            "        [-0.0324, -0.1447, -0.0141,  ...,  0.0915,  0.0354,  0.0626]],\n",
            "       grad_fn=<SelectBackward0>)\n"
          ]
        }
      ],
      "source": [
        "# Grab one batch from the train dataloader\n",
        "inputs, _ = next(iter(train_dataloader))  # inputs shape: (batch_size, seq_len, input_size)\n",
        "\n",
        "# Rearrange for GRU: (seq_len, batch_size, input_size)\n",
        "inputs = inputs.permute(1, 0, 2)  # (seq_len, batch_size, input_size)\n",
        "\n",
        "print(\"Input shape to encoder:\", inputs.shape)  # Should be (seq_len, batch_size, 4)\n",
        "\n",
        "# Pass through encoder\n",
        "encoder_out = encoder_model(inputs)\n",
        "\n",
        "print(\"Encoder output (last hidden state) shape:\", encoder_out.shape)  # (1, batch_size, hidden_size)\n",
        "print(\"Sample vector:\", encoder_out[0])"
      ]
    },
    {
      "cell_type": "markdown",
      "metadata": {
        "id": "Fcu36kIQ8OgR"
      },
      "source": [
        "### Our Decoder Model\n",
        "\n",
        "The DecoderGRU class is a PyTorch module designed to serve as the decoder in a sequence-to-sequence architecture. It processes input sequences using a Gated Recurrent Unit (GRU), which efficiently models temporal dependencies with a simpler structure than LSTM.\n",
        "\n",
        "At each decoding step, the model takes in a multivariate feature vector (e.g., temperature, humidity, wind speed, pressure) and a hidden state from the encoder. It produces the next predicted output through a linear layer that maps the GRU’s hidden state to the desired feature space.\n",
        "\n",
        "The decoder supports teacher forcing during training, using either the ground-truth features or its own previous prediction as input for the next step. This design enables it to generate multi-step forecasts in an autoregressive manner while retaining the context learned by the encoder."
      ]
    },
    {
      "cell_type": "markdown",
      "metadata": {
        "id": "sYc02pSlytwO"
      },
      "source": [
        "#### Define Decoder class"
      ]
    },
    {
      "cell_type": "code",
      "execution_count": 23,
      "metadata": {
        "id": "Tle-kYjf8AM9"
      },
      "outputs": [],
      "source": [
        "class DecoderGRU(nn.Module):\n",
        "    def __init__(self, hidden_size, feature_size, num_layers = 1, dropout = 0.0):\n",
        "        super(DecoderGRU, self).__init__()\n",
        "        self.hidden_size = hidden_size\n",
        "        self.feature_size = feature_size # 4 features\n",
        "\n",
        "        self.gru = nn.GRU(input_size=feature_size,\n",
        "                          hidden_size=hidden_size,\n",
        "                          dropout = dropout if num_layers > 1 else 0.0,\n",
        "                          batch_first=False)\n",
        "\n",
        "        self.linear = nn.Linear(hidden_size, feature_size)\n",
        "\n",
        "    def forward(self, x, hidden, output_length, target=None):\n",
        "        outputs = []\n",
        "        decoder_input = x  # shape: (1, batch_size, 4)\n",
        "\n",
        "        for i in range(output_length):\n",
        "            # One step forward through GRU\n",
        "            decoder_output, hidden = self.gru(decoder_input, hidden)\n",
        "            decoder_output = self.linear(decoder_output)  # shape: (1, batch_size, 4)\n",
        "            outputs.append(decoder_output)\n",
        "\n",
        "            if target is not None:\n",
        "                # Teacher forcing: use actual target\n",
        "                decoder_input = target[i].unsqueeze(0)  # shape: (1, batch_size, 4)\n",
        "            else:\n",
        "                # Auto-regressive: use own prediction\n",
        "                decoder_input = decoder_output.detach()  # detach to prevent gradient flow\n",
        "\n",
        "        return torch.cat(outputs, dim=0)  # shape: (output_length, batch_size, 4)"
      ]
    },
    {
      "cell_type": "code",
      "execution_count": 24,
      "metadata": {
        "colab": {
          "base_uri": "https://localhost:8080/"
        },
        "id": "M8E7-KNs8yQE",
        "outputId": "0d5dfdf8-286b-4446-f07e-832f1d359e9e"
      },
      "outputs": [
        {
          "name": "stdout",
          "output_type": "stream",
          "text": [
            "DecoderGRU(\n",
            "  (gru): GRU(4, 64)\n",
            "  (linear): Linear(in_features=64, out_features=4, bias=True)\n",
            ")\n"
          ]
        }
      ],
      "source": [
        "# Defining our DecoderRNN model\n",
        "decoder_model = DecoderGRU(hidden_size = hidden_size, feature_size = 4)\n",
        "print(decoder_model)"
      ]
    },
    {
      "cell_type": "markdown",
      "metadata": {
        "id": "36qOgPg3yw2r"
      },
      "source": [
        "#### Testing Decoder model"
      ]
    },
    {
      "cell_type": "code",
      "execution_count": 25,
      "metadata": {
        "colab": {
          "base_uri": "https://localhost:8080/"
        },
        "id": "iJDTmEKx96Mg",
        "outputId": "546c3523-da0b-4c27-822b-7365e2c1b22e"
      },
      "outputs": [
        {
          "name": "stdout",
          "output_type": "stream",
          "text": [
            "Decoder output shape: torch.Size([7, 128, 4])\n"
          ]
        }
      ],
      "source": [
        "# Testing our DecoderRNN model\n",
        "\n",
        "# Get a batch from dataloader\n",
        "inputs, _ = next(iter(train_dataloader))  # inputs: (batch_size, seq_length, input_size)\n",
        "\n",
        "# Permute for encoder: (seq_length, batch_size, input_size)\n",
        "encoder_input = inputs.permute(1, 0, 2)\n",
        "\n",
        "# Pass through encoder\n",
        "encoder_hidden = encoder_model(encoder_input)  # shape: (1, batch_size, hidden_size)\n",
        "\n",
        "# Initial decoder input: zeros, shape (1, batch_size, 1)\n",
        "decoder_input = torch.zeros(1, inputs.size(0), 4).to(encoder_input.device)\n",
        "\n",
        "# Run decoder\n",
        "decoder_output = decoder_model(decoder_input, encoder_hidden, n_outputs)\n",
        "\n",
        "# Output shape: (T_out, B, 1)\n",
        "print(\"Decoder output shape:\", decoder_output.shape)"
      ]
    },
    {
      "cell_type": "markdown",
      "metadata": {
        "id": "oVmud6MSy3FG"
      },
      "source": [
        "### Our Seq2Seq Model\n",
        "\n",
        "By assembling the EncoderGRU and DecoderGRU classes, the Seq2SeqGRU class implements a sequence-to-sequence model using an encoder-decoder architecture built with GRUs.\n",
        "\n",
        "The encoder processes the entire input sequence — consisting of multiple time steps and multiple weather features — and compresses it into a final hidden state. This hidden state captures the temporal patterns and context of the input data and serves as the initial memory for the decoder.\n",
        "\n",
        "The decoder then uses this context to generate the output sequence one timestep at a time, predicting all target features (e.g., temperature, humidity, wind speed, pressure) for each future step. During training, it can optionally use teacher forcing, feeding the ground-truth values into subsequent steps to improve convergence.\n",
        "\n",
        "This design enables the model to make informed, multi-step forecasts of all relevant features based on learned temporal dynamics from the input sequence."
      ]
    },
    {
      "cell_type": "markdown",
      "metadata": {
        "id": "ISTxq5dazrZp"
      },
      "source": [
        "#### Define Seq2Seq class"
      ]
    },
    {
      "cell_type": "code",
      "execution_count": 26,
      "metadata": {
        "id": "LM1wdc2P-0Y0"
      },
      "outputs": [],
      "source": [
        "class Seq2SeqGRU(nn.Module):\n",
        "    def __init__(self, hidden_size, feature_size, output_size, num_layers=1):\n",
        "        super(Seq2SeqGRU, self).__init__()\n",
        "\n",
        "        self.output_length = output_size\n",
        "\n",
        "        self.encoder = EncoderGRU(input_size=feature_size, # 4 features\n",
        "                                  hidden_size=hidden_size,\n",
        "                                  num_layers= num_layers)\n",
        "\n",
        "        self.decoder = DecoderGRU(hidden_size=hidden_size,\n",
        "                                  feature_size=feature_size,\n",
        "                                  num_layers=num_layers)  # 4 features\n",
        "\n",
        "    def forward(self, inputs, outputs=None):\n",
        "        \"\"\"\n",
        "        Args:\n",
        "            inputs: shape (seq_len, batch_size, input_size=4)\n",
        "            outputs: optional teacher forcing target, shape (output_length, batch_size, 1)\n",
        "        \"\"\"\n",
        "        hidden = self.encoder(inputs)  # returns (1, batch_size, hidden_size)\n",
        "\n",
        "        # Initial decoder input: zeros (1, batch_size, 4)\n",
        "        decoder_input = torch.zeros(1, inputs.shape[1], self.decoder.feature_size).to(inputs.device)\n",
        "\n",
        "        # Pass to decoder\n",
        "        output = self.decoder(decoder_input, hidden, self.output_length, outputs)\n",
        "        return output  # shape: (output_length, batch_size, 1)"
      ]
    },
    {
      "cell_type": "code",
      "execution_count": 27,
      "metadata": {
        "colab": {
          "base_uri": "https://localhost:8080/"
        },
        "id": "q_jTm_nWAsxB",
        "outputId": "9fd0f8ea-ab39-4fbd-d447-cd30f2843aa0"
      },
      "outputs": [
        {
          "name": "stdout",
          "output_type": "stream",
          "text": [
            "Seq2SeqGRU(\n",
            "  (encoder): EncoderGRU(\n",
            "    (gru): GRU(4, 64)\n",
            "  )\n",
            "  (decoder): DecoderGRU(\n",
            "    (gru): GRU(4, 64)\n",
            "    (linear): Linear(in_features=64, out_features=4, bias=True)\n",
            "  )\n",
            ")\n"
          ]
        }
      ],
      "source": [
        "# Defining our Seq2Seq model\n",
        "seq2seq_model = Seq2SeqGRU(hidden_size = hidden_size, \\\n",
        "                          feature_size = 4, \\\n",
        "                          output_size = n_outputs)\n",
        "print(seq2seq_model)"
      ]
    },
    {
      "cell_type": "markdown",
      "metadata": {
        "id": "4VFe3IH43Frj"
      },
      "source": [
        "#### Testing seq2seq model"
      ]
    },
    {
      "cell_type": "code",
      "execution_count": 28,
      "metadata": {
        "colab": {
          "base_uri": "https://localhost:8080/"
        },
        "id": "I4527_oiAwig",
        "outputId": "139e545d-04e9-4806-c3bb-5928fb342ed4"
      },
      "outputs": [
        {
          "name": "stdout",
          "output_type": "stream",
          "text": [
            "Input shape: torch.Size([30, 128, 4])\n",
            "Target shape: torch.Size([7, 128, 4])\n",
            "Output shape: torch.Size([7, 128, 4])\n"
          ]
        }
      ],
      "source": [
        "# Instantiate model\n",
        "seq2seq_model = Seq2SeqGRU(hidden_size=hidden_size, feature_size = 4, output_size=n_outputs).to(device)\n",
        "\n",
        "# Get a batch from the dataloader\n",
        "inputs, outputs = next(iter(train_dataloader))  # shapes: (B, T_in, 4), (B, T_out)\n",
        "\n",
        "inputs = inputs.to(device)\n",
        "outputs = outputs.to(device)\n",
        "\n",
        "# Permute to (seq_length, batch_size, input_size)\n",
        "inputs = inputs.permute(1, 0, 2)\n",
        "outputs = outputs.permute(1, 0, 2)\n",
        "\n",
        "print(\"Input shape:\", inputs.shape)   # (input_seq_len, batch_size, 4)\n",
        "print(\"Target shape:\", outputs.shape) # (output_seq_len, batch_size, 1)\n",
        "\n",
        "# Forward pass\n",
        "seq2seq_out = seq2seq_model(inputs, outputs)\n",
        "\n",
        "print(\"Output shape:\", seq2seq_out.shape)  # (output_seq_len, batch_size, 1)"
      ]
    },
    {
      "cell_type": "markdown",
      "metadata": {
        "id": "NCSgP6gY3VhG"
      },
      "source": [
        "## Model training"
      ]
    },
    {
      "cell_type": "markdown",
      "metadata": {
        "id": "vncKaJfE3WWw"
      },
      "source": [
        "### Define function for training\n"
      ]
    },
    {
      "cell_type": "code",
      "execution_count": 29,
      "metadata": {
        "id": "Oo20b4OTBkmO"
      },
      "outputs": [],
      "source": [
        "loss_storage = []\n",
        "\n",
        "def train(dataloader, model, num_epochs, learning_rate, device):\n",
        "    # Set model to training mode\n",
        "    model.train()\n",
        "\n",
        "    criterion = nn.MSELoss()\n",
        "    optimizer = torch.optim.Adam(model.parameters(), lr=learning_rate)\n",
        "\n",
        "    for epoch in range(num_epochs):\n",
        "        total_loss = 0\n",
        "\n",
        "        for inputs, targets in dataloader:\n",
        "            # Move to device\n",
        "            inputs = inputs.to(device)\n",
        "            targets = targets.to(device)\n",
        "\n",
        "            # Reshape to (seq_len, batch_size, input_size)\n",
        "            inputs = inputs.permute(1, 0, 2)  # (T_in, B, 4)\n",
        "            targets = targets.permute(1, 0, 2)  # (T_out, B, 4)\n",
        "\n",
        "            # Zero gradients\n",
        "            optimizer.zero_grad()\n",
        "\n",
        "            # Forward pass without teacher forcing\n",
        "            predictions = model(inputs)\n",
        "\n",
        "            # Compute loss\n",
        "            loss = criterion(predictions, targets)\n",
        "            total_loss += loss.item()\n",
        "\n",
        "            # Backward pass and optimize\n",
        "            loss.backward()\n",
        "            optimizer.step()\n",
        "\n",
        "        avg_loss = total_loss / len(dataloader)\n",
        "        loss_storage.append(avg_loss)\n",
        "\n",
        "        # Print loss periodically\n",
        "        if (epoch + 1) % 25 == 0 or epoch == 0:\n",
        "            print(f\"Epoch {epoch + 1}/{num_epochs}, Avg Loss: {avg_loss:.4f}\")"
      ]
    },
    {
      "cell_type": "markdown",
      "metadata": {
        "id": "ovTHSMzJ5iCc"
      },
      "source": [
        "### Instantiate a model from Seq2Seq class"
      ]
    },
    {
      "cell_type": "code",
      "execution_count": 30,
      "metadata": {
        "id": "HtTLM6dH5t-C"
      },
      "outputs": [],
      "source": [
        "# Hyperparameters\n",
        "hidden_size = 64\n",
        "feature_size = 4\n",
        "num_epochs = 1051\n",
        "num_layers = 1\n",
        "dropout_rate = 0.1\n",
        "\n",
        "seq2seq_model = Seq2SeqGRU(hidden_size=hidden_size,\n",
        "                           feature_size = feature_size,\n",
        "                           output_size=n_outputs,\n",
        "                           num_layers=num_layers).to(device)"
      ]
    },
    {
      "cell_type": "code",
      "execution_count": 31,
      "metadata": {
        "colab": {
          "base_uri": "https://localhost:8080/"
        },
        "id": "s5fRqAso7T_h",
        "outputId": "c180c002-fbc5-4666-be36-435f520f1f5d"
      },
      "outputs": [
        {
          "data": {
            "text/plain": [
              "Seq2SeqGRU(\n",
              "  (encoder): EncoderGRU(\n",
              "    (gru): GRU(4, 64)\n",
              "  )\n",
              "  (decoder): DecoderGRU(\n",
              "    (gru): GRU(4, 64)\n",
              "    (linear): Linear(in_features=64, out_features=4, bias=True)\n",
              "  )\n",
              ")"
            ]
          },
          "execution_count": 31,
          "metadata": {},
          "output_type": "execute_result"
        }
      ],
      "source": [
        "seq2seq_model"
      ]
    },
    {
      "cell_type": "markdown",
      "metadata": {
        "id": "KDOXCMEn7j7T"
      },
      "source": [
        "### Train model"
      ]
    },
    {
      "cell_type": "code",
      "execution_count": 32,
      "metadata": {
        "colab": {
          "base_uri": "https://localhost:8080/"
        },
        "id": "Sgw31xOfC6AY",
        "outputId": "373e432e-234a-4ef5-b06c-0600165522bc"
      },
      "outputs": [
        {
          "name": "stdout",
          "output_type": "stream",
          "text": [
            "Epoch 1/1051, Avg Loss: 0.9494\n",
            "Epoch 25/1051, Avg Loss: 0.5606\n",
            "Epoch 50/1051, Avg Loss: 0.5299\n",
            "Epoch 75/1051, Avg Loss: 0.4995\n",
            "Epoch 100/1051, Avg Loss: 0.4182\n",
            "Epoch 125/1051, Avg Loss: 0.3460\n",
            "Epoch 150/1051, Avg Loss: 0.3990\n",
            "Epoch 175/1051, Avg Loss: 0.2493\n",
            "Epoch 200/1051, Avg Loss: 0.4233\n",
            "Epoch 225/1051, Avg Loss: 0.2272\n",
            "Epoch 250/1051, Avg Loss: 0.2084\n",
            "Epoch 275/1051, Avg Loss: 0.2052\n",
            "Epoch 300/1051, Avg Loss: 0.1921\n",
            "Epoch 325/1051, Avg Loss: 0.1879\n",
            "Epoch 350/1051, Avg Loss: 0.1775\n",
            "Epoch 375/1051, Avg Loss: 0.2823\n",
            "Epoch 400/1051, Avg Loss: 0.1792\n",
            "Epoch 425/1051, Avg Loss: 0.1787\n",
            "Epoch 450/1051, Avg Loss: 0.1729\n",
            "Epoch 475/1051, Avg Loss: 0.1601\n",
            "Epoch 500/1051, Avg Loss: 0.1532\n",
            "Epoch 525/1051, Avg Loss: 0.1534\n",
            "Epoch 550/1051, Avg Loss: 0.1488\n",
            "Epoch 575/1051, Avg Loss: 0.1519\n",
            "Epoch 600/1051, Avg Loss: 0.1361\n",
            "Epoch 625/1051, Avg Loss: 0.1283\n",
            "Epoch 650/1051, Avg Loss: 0.1281\n",
            "Epoch 675/1051, Avg Loss: 0.1281\n",
            "Epoch 700/1051, Avg Loss: 0.1230\n",
            "Epoch 725/1051, Avg Loss: 0.1156\n",
            "Epoch 750/1051, Avg Loss: 0.1103\n",
            "Epoch 775/1051, Avg Loss: 0.1080\n",
            "Epoch 800/1051, Avg Loss: 0.1062\n",
            "Epoch 825/1051, Avg Loss: 0.1030\n",
            "Epoch 850/1051, Avg Loss: 0.0990\n",
            "Epoch 875/1051, Avg Loss: 0.1022\n",
            "Epoch 900/1051, Avg Loss: 0.1101\n",
            "Epoch 925/1051, Avg Loss: 0.0954\n",
            "Epoch 950/1051, Avg Loss: 0.0927\n",
            "Epoch 975/1051, Avg Loss: 0.0867\n",
            "Epoch 1000/1051, Avg Loss: 0.0855\n",
            "Epoch 1025/1051, Avg Loss: 0.0866\n",
            "Epoch 1050/1051, Avg Loss: 0.0801\n",
            "2min 1s ± 0 ns per loop (mean ± std. dev. of 1 run, 1 loop each)\n"
          ]
        }
      ],
      "source": [
        "# Run training for warm-up\n",
        "%timeit -r 1 -n 1 train( dataloader=train_dataloader, model=seq2seq_model, num_epochs=num_epochs, learning_rate=1e-3, device=device)"
      ]
    },
    {
      "cell_type": "markdown",
      "metadata": {
        "id": "YU-CPRVk8EhT"
      },
      "source": [
        "### Save the model parameter"
      ]
    },
    {
      "cell_type": "code",
      "execution_count": null,
      "metadata": {
        "colab": {
          "base_uri": "https://localhost:8080/"
        },
        "id": "PVy_etnL8H1x",
        "outputId": "c8010039-b282-405e-81d7-f0d165f520da"
      },
      "outputs": [
        {
          "name": "stdout",
          "output_type": "stream",
          "text": [
            "Model saved to: seq2seq_autoregressive_GRU\n"
          ]
        }
      ],
      "source": [
        "# save model before eval\n",
        "import torch\n",
        "import os\n",
        "\n",
        "model_name=\"seq2seq_autoregressive_GRU\"\n",
        "\n",
        "# Path to save model\n",
        "model_path = os.path.join(\"../models_weights_storage\", f'{model_name}.pth')\n",
        "\n",
        "# Save the model's state dict\n",
        "torch.save(seq2seq_model.state_dict(), model_path)\n",
        "print(f\"Model saved to: {model_path}\")"
      ]
    },
    {
      "cell_type": "code",
      "execution_count": 35,
      "metadata": {
        "colab": {
          "base_uri": "https://localhost:8080/"
        },
        "id": "BX-8ROTC9QXv",
        "outputId": "53dd3642-94e6-4bd2-e0fc-ac7e335f7469"
      },
      "outputs": [
        {
          "data": {
            "text/plain": [
              "[0.9493880718946457,\n",
              " 0.8785172750552496,\n",
              " 0.6941173026959101,\n",
              " 0.6603428175052007,\n",
              " 0.6272620682915052,\n",
              " 0.6126779069503149,\n",
              " 0.8052308534582456,\n",
              " 0.5846008285880089,\n",
              " 0.7907837604482969,\n",
              " 0.5800524900356928,\n",
              " 0.5760915105541548,\n",
              " 0.5831257452567419,\n",
              " 0.5863592773675919,\n",
              " 0.568226927270492,\n",
              " 0.5791756014029185,\n",
              " 0.5757962564627329,\n",
              " 0.7774226243297259,\n",
              " 0.5744336545467377,\n",
              " 0.564798707763354,\n",
              " 0.5620025470852852,\n",
              " 0.7704605658849081,\n",
              " 0.5581781988342603,\n",
              " 0.5772195185224215,\n",
              " 0.7814849615097046,\n",
              " 0.5606047088901202,\n",
              " 0.7588406478365263,\n",
              " 0.5731801415483156,\n",
              " 0.553329199552536,\n",
              " 0.5575974136590958,\n",
              " 0.5574695244431496,\n",
              " 0.5515793487429619,\n",
              " 0.5529367551207542,\n",
              " 0.5418587028980255,\n",
              " 0.5495104466875395,\n",
              " 0.5465727746486664,\n",
              " 0.5425472818315029,\n",
              " 0.5557657306392988,\n",
              " 0.5569752603769302,\n",
              " 0.5429640064636866,\n",
              " 0.549222968518734,\n",
              " 0.551478145023187,\n",
              " 0.552486777305603,\n",
              " 0.5339151856799921,\n",
              " 0.5382951200008392,\n",
              " 0.5395696684718132,\n",
              " 0.540453682343165,\n",
              " 0.5469940404097239,\n",
              " 0.5438728332519531,\n",
              " 0.5361141090591749,\n",
              " 0.5298565675814947,\n",
              " 0.532920760413011,\n",
              " 0.5339363540212313,\n",
              " 0.534520094593366,\n",
              " 0.5273884559671084,\n",
              " 0.5331015487511953,\n",
              " 0.5368665953477224,\n",
              " 0.5297508463263512,\n",
              " 0.5280883411566416,\n",
              " 0.5208802831669649,\n",
              " 0.5227669253945351,\n",
              " 0.5244273245334625,\n",
              " 0.5163909879823526,\n",
              " 0.5162635420759519,\n",
              " 0.5225829382737478,\n",
              " 0.5157229527831078,\n",
              " 0.5273109798630079,\n",
              " 0.5193578203519186,\n",
              " 0.507444478571415,\n",
              " 0.5059975112477938,\n",
              " 0.5026601292192936,\n",
              " 0.5026040114462376,\n",
              " 0.5168545171618462,\n",
              " 0.6926617523034414,\n",
              " 0.4984651965399583,\n",
              " 0.49954123546679813,\n",
              " 0.6728733306129774,\n",
              " 0.49218297253052395,\n",
              " 0.6864972698191801,\n",
              " 0.49162162467837334,\n",
              " 0.497927928964297,\n",
              " 0.6565669079621633,\n",
              " 0.4962535972396533,\n",
              " 0.4683913228412469,\n",
              " 0.4707396651307742,\n",
              " 0.4661261588335037,\n",
              " 0.46904488156239194,\n",
              " 0.457628866036733,\n",
              " 0.4722428595026334,\n",
              " 0.44671501964330673,\n",
              " 0.4573761473099391,\n",
              " 0.44291020060578984,\n",
              " 0.4426342050234477,\n",
              " 0.6079603880643845,\n",
              " 0.43920786554614705,\n",
              " 0.44136659304300946,\n",
              " 0.432645079990228,\n",
              " 0.43971363082528114,\n",
              " 0.41791605452696484,\n",
              " 0.4099770312507947,\n",
              " 0.4181613152225812,\n",
              " 0.41638391589124996,\n",
              " 0.41864316662152606,\n",
              " 0.4242130306859811,\n",
              " 0.4071401196221511,\n",
              " 0.40063780546188354,\n",
              " 0.3931678235530853,\n",
              " 0.3893936636547248,\n",
              " 0.43183814485867816,\n",
              " 0.4221271735926469,\n",
              " 0.39412714789311093,\n",
              " 0.3964133486151695,\n",
              " 0.38636675849556923,\n",
              " 0.3885038507481416,\n",
              " 0.3693290154139201,\n",
              " 0.3729148805141449,\n",
              " 0.3610839893420537,\n",
              " 0.3520006649196148,\n",
              " 0.34733108679453534,\n",
              " 0.34830087423324585,\n",
              " 0.4232569436232249,\n",
              " 0.3835124137500922,\n",
              " 0.41589167217413586,\n",
              " 0.3831046347816785,\n",
              " 0.40022434418400127,\n",
              " 0.345999289304018,\n",
              " 0.3346836219231288,\n",
              " 0.33715170497695607,\n",
              " 0.3310714599986871,\n",
              " 0.3381204344332218,\n",
              " 0.36911886061231297,\n",
              " 0.3336138998468717,\n",
              " 0.3271676463385423,\n",
              " 0.3478883132338524,\n",
              " 0.34315533315141994,\n",
              " 0.31538310398658115,\n",
              " 0.3074954350789388,\n",
              " 0.29628438999255496,\n",
              " 0.2919961102306843,\n",
              " 0.28990183770656586,\n",
              " 0.2890711749593417,\n",
              " 0.33776870494087535,\n",
              " 0.28559210275610286,\n",
              " 0.2937397522230943,\n",
              " 0.31685489416122437,\n",
              " 0.29444236929217976,\n",
              " 0.3134748960534732,\n",
              " 0.43069447949528694,\n",
              " 0.48103642587860423,\n",
              " 0.4422067614893119,\n",
              " 0.3989749463895957,\n",
              " 0.37965309123198193,\n",
              " 0.37222720434268314,\n",
              " 0.3360166624188423,\n",
              " 0.3320435546338558,\n",
              " 0.32572362571954727,\n",
              " 0.3085724040865898,\n",
              " 0.27894991760452587,\n",
              " 0.28478888670603436,\n",
              " 0.2777186644574006,\n",
              " 0.28439830740292865,\n",
              " 0.2685433452328046,\n",
              " 0.2646092052261035,\n",
              " 0.26266968498627347,\n",
              " 0.2670961891611417,\n",
              " 0.25547589485843974,\n",
              " 0.27037912979722023,\n",
              " 0.2591029765705268,\n",
              " 0.2518357423444589,\n",
              " 0.25543153782685596,\n",
              " 0.26017751544713974,\n",
              " 0.25780920932690304,\n",
              " 0.26081330825885135,\n",
              " 0.250076071669658,\n",
              " 0.2496406945089499,\n",
              " 0.2493205356101195,\n",
              " 0.24868594606717428,\n",
              " 0.2442044566075007,\n",
              " 0.24517892425258955,\n",
              " 0.24753479783733687,\n",
              " 0.2485108238955339,\n",
              " 0.24109521508216858,\n",
              " 0.2465696024398009,\n",
              " 0.24228945126136145,\n",
              " 0.24276981626947722,\n",
              " 0.2508944508930047,\n",
              " 0.30558185155193013,\n",
              " 0.2491826837261518,\n",
              " 0.2794942148029804,\n",
              " 0.2966919119159381,\n",
              " 0.32012413317958516,\n",
              " 0.2969570520023505,\n",
              " 0.2607400454580784,\n",
              " 0.2728295860191186,\n",
              " 0.31189531832933426,\n",
              " 0.31016285965840024,\n",
              " 0.2852885015308857,\n",
              " 0.35808413724104565,\n",
              " 0.37383348122239113,\n",
              " 0.4390662709871928,\n",
              " 0.42325088009238243,\n",
              " 0.3933913893997669,\n",
              " 0.3416817970573902,\n",
              " 0.2992624392112096,\n",
              " 0.2666609659790993,\n",
              " 0.27189798653125763,\n",
              " 0.2856096935768922,\n",
              " 0.2578807050983111,\n",
              " 0.24874824285507202,\n",
              " 0.2516193712751071,\n",
              " 0.24885078022877374,\n",
              " 0.24431777621308962,\n",
              " 0.23322923108935356,\n",
              " 0.23219984769821167,\n",
              " 0.24429182211558023,\n",
              " 0.22900954013069472,\n",
              " 0.23376854757467905,\n",
              " 0.22796379526456198,\n",
              " 0.24266593903303146,\n",
              " 0.23569964617490768,\n",
              " 0.22938765585422516,\n",
              " 0.22363456711173058,\n",
              " 0.22263343259692192,\n",
              " 0.23144236703713736,\n",
              " 0.22258330012361208,\n",
              " 0.22717640673120817,\n",
              " 0.22808961446086565,\n",
              " 0.2339536671837171,\n",
              " 0.22301139558355013,\n",
              " 0.22049364323417345,\n",
              " 0.2169324184457461,\n",
              " 0.21895884349942207,\n",
              " 0.22234748800595602,\n",
              " 0.2226096068819364,\n",
              " 0.2251785695552826,\n",
              " 0.21733620390295982,\n",
              " 0.21707941964268684,\n",
              " 0.22250912711024284,\n",
              " 0.21635314946373305,\n",
              " 0.22023317714532217,\n",
              " 0.2124880589544773,\n",
              " 0.22056224818030992,\n",
              " 0.2124011516571045,\n",
              " 0.21918787558873495,\n",
              " 0.21014305825034776,\n",
              " 0.21463487297296524,\n",
              " 0.2119071880976359,\n",
              " 0.21131941179434457,\n",
              " 0.21402334297696748,\n",
              " 0.2104946735004584,\n",
              " 0.20844455932577452,\n",
              " 0.2147468626499176,\n",
              " 0.20941494901974997,\n",
              " 0.20965958386659622,\n",
              " 0.21629225835204124,\n",
              " 0.2144486034909884,\n",
              " 0.20712817460298538,\n",
              " 0.2034118783970674,\n",
              " 0.21360033378005028,\n",
              " 0.21113303552071253,\n",
              " 0.213577788323164,\n",
              " 0.20816400026281676,\n",
              " 0.20621602733929953,\n",
              " 0.207315473506848,\n",
              " 0.20535714427630106,\n",
              " 0.20871258030335108,\n",
              " 0.20826111113031706,\n",
              " 0.20086171353856722,\n",
              " 0.2042058470348517,\n",
              " 0.21524861206610998,\n",
              " 0.20240393529335657,\n",
              " 0.19901775320370993,\n",
              " 0.20050167913238207,\n",
              " 0.2070578821003437,\n",
              " 0.2008557878434658,\n",
              " 0.20517176513870558,\n",
              " 0.20677069574594498,\n",
              " 0.20343566313385963,\n",
              " 0.2003251388669014,\n",
              " 0.19911511490742365,\n",
              " 0.20324142401417097,\n",
              " 0.20172898471355438,\n",
              " 0.19935461009542146,\n",
              " 0.2102043367922306,\n",
              " 0.21142878259221712,\n",
              " 0.19864933813611665,\n",
              " 0.19756798446178436,\n",
              " 0.20402423664927483,\n",
              " 0.19727465013662973,\n",
              " 0.19496154288450876,\n",
              " 0.19250715399781862,\n",
              " 0.1943594627082348,\n",
              " 0.1921327585975329,\n",
              " 0.19051484142740568,\n",
              " 0.2015755313138167,\n",
              " 0.20764032130440077,\n",
              " 0.20131920526425043,\n",
              " 0.19633080437779427,\n",
              " 0.19155558695395788,\n",
              " 0.19538169105847678,\n",
              " 0.19211695964137712,\n",
              " 0.1890797751645247,\n",
              " 0.1947850522895654,\n",
              " 0.18682276954253516,\n",
              " 0.193823820600907,\n",
              " 0.18925117949644724,\n",
              " 0.1899610956509908,\n",
              " 0.18820406744877496,\n",
              " 0.18850313127040863,\n",
              " 0.19293655330936113,\n",
              " 0.19061634813745817,\n",
              " 0.19111661240458488,\n",
              " 0.18644713858763376,\n",
              " 0.18938426673412323,\n",
              " 0.19115498661994934,\n",
              " 0.1890596163769563,\n",
              " 0.19122970973451933,\n",
              " 0.19012501090765,\n",
              " 0.18806748713056246,\n",
              " 0.18284250050783157,\n",
              " 0.18842995166778564,\n",
              " 0.18427526329954466,\n",
              " 0.18680555621782938,\n",
              " 0.18491138642032942,\n",
              " 0.18611914167801538,\n",
              " 0.18786508962512016,\n",
              " 0.1842056984702746,\n",
              " 0.18609335646033287,\n",
              " 0.18243712186813354,\n",
              " 0.19153261929750443,\n",
              " 0.1820052129526933,\n",
              " 0.18490938221414885,\n",
              " 0.18082041293382645,\n",
              " 0.18783453355232874,\n",
              " 0.18438983708620071,\n",
              " 0.18432171766956648,\n",
              " 0.18092503026127815,\n",
              " 0.1822760080297788,\n",
              " 0.19642539198199907,\n",
              " 0.1881795090933641,\n",
              " 0.18055375665426254,\n",
              " 0.17912535121043524,\n",
              " 0.17720902835329375,\n",
              " 0.18060712019602457,\n",
              " 0.19191022838155428,\n",
              " 0.1776142604649067,\n",
              " 0.1797934646407763,\n",
              " 0.1798136755824089,\n",
              " 0.17334411293268204,\n",
              " 0.17499887819091478,\n",
              " 0.17748501151800156,\n",
              " 0.18624673038721085,\n",
              " 0.18041598672668138,\n",
              " 0.17735383783777556,\n",
              " 0.1781425861020883,\n",
              " 0.17736557001868883,\n",
              " 0.27757525195678073,\n",
              " 0.32420291875799495,\n",
              " 0.3171602388223012,\n",
              " 0.5271244694789251,\n",
              " 0.4820009395480156,\n",
              " 0.45480287199219066,\n",
              " 0.43253349388639134,\n",
              " 0.41676060234506923,\n",
              " 0.4030664178232352,\n",
              " 0.38924429068962735,\n",
              " 0.5812361873686314,\n",
              " 0.4376381089289983,\n",
              " 0.524590921898683,\n",
              " 0.5189008948703607,\n",
              " 0.40046456456184387,\n",
              " 0.36416607225934666,\n",
              " 0.3243554929892222,\n",
              " 0.3264402101437251,\n",
              " 0.3332912176847458,\n",
              " 0.28234703714648884,\n",
              " 0.26815659925341606,\n",
              " 0.2576545439660549,\n",
              " 0.24018525456388792,\n",
              " 0.26385145758589107,\n",
              " 0.21667369330922762,\n",
              " 0.2124593692521254,\n",
              " 0.21969897051652273,\n",
              " 0.2617789680759112,\n",
              " 0.21770743280649185,\n",
              " 0.20351104314128557,\n",
              " 0.19726359595855078,\n",
              " 0.1984084981183211,\n",
              " 0.1902740622560183,\n",
              " 0.19015786796808243,\n",
              " 0.19613751148184141,\n",
              " 0.19115382308761278,\n",
              " 0.195716621975104,\n",
              " 0.19504926229516664,\n",
              " 0.18495900432268778,\n",
              " 0.18446300302942595,\n",
              " 0.19223027552167574,\n",
              " 0.18403747056921324,\n",
              " 0.18093659977118173,\n",
              " 0.18248435482382774,\n",
              " 0.17921262979507446,\n",
              " 0.18077773228287697,\n",
              " 0.1798478215932846,\n",
              " 0.18053078527251878,\n",
              " 0.1818720462421576,\n",
              " 0.18444058547417322,\n",
              " 0.17792055010795593,\n",
              " 0.1779098560412725,\n",
              " 0.17727055152257284,\n",
              " 0.18391088768839836,\n",
              " 0.182034802933534,\n",
              " 0.17759492993354797,\n",
              " 0.17471067855755487,\n",
              " 0.17345715935031572,\n",
              " 0.1783942480882009,\n",
              " 0.17404195417960486,\n",
              " 0.17967842891812325,\n",
              " 0.18714593102534613,\n",
              " 0.1791902519762516,\n",
              " 0.17419460167487463,\n",
              " 0.17310532554984093,\n",
              " 0.1719063880542914,\n",
              " 0.17310075089335442,\n",
              " 0.16962911499043307,\n",
              " 0.1740084377427896,\n",
              " 0.17869626606504121,\n",
              " 0.1717530426879724,\n",
              " 0.1719814551373323,\n",
              " 0.167843301470081,\n",
              " 0.17662431920568147,\n",
              " 0.17082291220625243,\n",
              " 0.17754110818107924,\n",
              " 0.16721483319997787,\n",
              " 0.17317423596978188,\n",
              " 0.1728461595873038,\n",
              " 0.1666031318406264,\n",
              " 0.1716293307642142,\n",
              " 0.16732643296321234,\n",
              " 0.16656631728013357,\n",
              " 0.16954480484127998,\n",
              " 0.17011210322380066,\n",
              " 0.1758875014881293,\n",
              " 0.16637525955835977,\n",
              " 0.16757488995790482,\n",
              " 0.16668198878566423,\n",
              " 0.16512530917922655,\n",
              " 0.16869410748283067,\n",
              " 0.16293793668349585,\n",
              " 0.16676555201411247,\n",
              " 0.1696364233891169,\n",
              " 0.17286648352940878,\n",
              " 0.17309540013472238,\n",
              " 0.16878048330545425,\n",
              " 0.16425674657026926,\n",
              " 0.16249679028987885,\n",
              " 0.16615205258131027,\n",
              " 0.16822036479910216,\n",
              " 0.16482012098034224,\n",
              " 0.1598285405586163,\n",
              " 0.16137580573558807,\n",
              " 0.16533655424912772,\n",
              " 0.16332916170358658,\n",
              " 0.16801170508066812,\n",
              " 0.16166630449394384,\n",
              " 0.1707892119884491,\n",
              " 0.16435549780726433,\n",
              " 0.16528457775712013,\n",
              " 0.16880162184437117,\n",
              " 0.16315131013592085,\n",
              " 0.15858394280076027,\n",
              " 0.17131751154859862,\n",
              " 0.1630805234114329,\n",
              " 0.1641219680507978,\n",
              " 0.16477170834938684,\n",
              " 0.1657762055595716,\n",
              " 0.16010034705201784,\n",
              " 0.15912920609116554,\n",
              " 0.15685233660042286,\n",
              " 0.15684719321628413,\n",
              " 0.16272527476151785,\n",
              " 0.16206554571787515,\n",
              " 0.16122702633341154,\n",
              " 0.161333829164505,\n",
              " 0.16140395030379295,\n",
              " 0.15875274315476418,\n",
              " 0.15655005599061647,\n",
              " 0.1578629861275355,\n",
              " 0.15785040954748789,\n",
              " 0.15793895348906517,\n",
              " 0.15757922331492105,\n",
              " 0.16091457133491835,\n",
              " 0.16489234069983164,\n",
              " 0.16682257130742073,\n",
              " 0.16232938443621,\n",
              " 0.1572884793082873,\n",
              " 0.1544560007750988,\n",
              " 0.15601698805888495,\n",
              " 0.15485552325844765,\n",
              " 0.16090058162808418,\n",
              " 0.1523994766175747,\n",
              " 0.15321393186847368,\n",
              " 0.1627243384718895,\n",
              " 0.15418579677740732,\n",
              " 0.1567022663851579,\n",
              " 0.1604391404738029,\n",
              " 0.1603156439960003,\n",
              " 0.15677725027004877,\n",
              " 0.1552246225376924,\n",
              " 0.1616316226621469,\n",
              " 0.1527041271328926,\n",
              " 0.15851005539298058,\n",
              " 0.15785438319047293,\n",
              " 0.1516803534080585,\n",
              " 0.1512856644888719,\n",
              " 0.15641963109374046,\n",
              " 0.15855059400200844,\n",
              " 0.15139313663045564,\n",
              " 0.15207730109492937,\n",
              " 0.1519786218802134,\n",
              " 0.1541790527602037,\n",
              " 0.1516300638516744,\n",
              " 0.1475678402930498,\n",
              " 0.15227203319470087,\n",
              " 0.15559233476718268,\n",
              " 0.15632422268390656,\n",
              " 0.1533844235042731,\n",
              " 0.15724402417739233,\n",
              " 0.15800882006684938,\n",
              " 0.15426983932654062,\n",
              " 0.15099970127145448,\n",
              " 0.14916540371874967,\n",
              " 0.15241635466615358,\n",
              " 0.15415346870819727,\n",
              " 0.15092881272236505,\n",
              " 0.149697324881951,\n",
              " 0.14669213443994522,\n",
              " 0.14859160780906677,\n",
              " 0.14845836907625198,\n",
              " 0.14634929969906807,\n",
              " 0.14604508876800537,\n",
              " 0.14857091133793196,\n",
              " 0.14611798586944738,\n",
              " 0.14867973575989404,\n",
              " 0.14600083542366823,\n",
              " 0.1444138220200936,\n",
              " 0.14590882261594137,\n",
              " 0.14695346914231777,\n",
              " 0.15051176398992538,\n",
              " 0.15672812114159265,\n",
              " 0.15301256875197092,\n",
              " 0.14883816863099733,\n",
              " 0.14610936120152473,\n",
              " 0.14608481153845787,\n",
              " 0.14283852527538934,\n",
              " 0.14506691321730614,\n",
              " 0.1433069072663784,\n",
              " 0.15064976240197817,\n",
              " 0.14527966702977815,\n",
              " 0.15008484510083994,\n",
              " 0.1470976434648037,\n",
              " 0.14548234082758427,\n",
              " 0.14288397133350372,\n",
              " 0.15201935668786368,\n",
              " 0.1474833463629087,\n",
              " 0.1427928265184164,\n",
              " 0.14013798534870148,\n",
              " 0.14048131431142488,\n",
              " 0.14021041368444762,\n",
              " 0.14648553853233656,\n",
              " 0.14645092065135637,\n",
              " 0.14257932578523955,\n",
              " 0.143135080114007,\n",
              " 0.14380325004458427,\n",
              " 0.14805595142145953,\n",
              " 0.15379921719431877,\n",
              " 0.15193207127352557,\n",
              " 0.14998223632574081,\n",
              " 0.1437410128613313,\n",
              " 0.14563607859114805,\n",
              " 0.1419484013070663,\n",
              " 0.13894177662829557,\n",
              " 0.14173454542954764,\n",
              " 0.13940824816624323,\n",
              " 0.135556781043609,\n",
              " 0.13834465791781744,\n",
              " 0.13617198603848615,\n",
              " 0.14022950952251753,\n",
              " 0.14074372003475824,\n",
              " 0.13980329036712646,\n",
              " 0.14242264131704965,\n",
              " 0.14220567295948663,\n",
              " 0.13991306349635124,\n",
              " 0.1449995512763659,\n",
              " 0.14410335073868433,\n",
              " 0.14243185085554919,\n",
              " 0.14185424832006296,\n",
              " 0.14278746582567692,\n",
              " 0.1401016047845284,\n",
              " 0.1383382442096869,\n",
              " 0.13672767765820026,\n",
              " 0.13613886572420597,\n",
              " 0.14195937849581242,\n",
              " 0.1381551486750444,\n",
              " 0.14610875770449638,\n",
              " 0.13516902923583984,\n",
              " 0.13935272209346294,\n",
              " 0.13395802738765875,\n",
              " 0.1396225237598022,\n",
              " 0.1388996553917726,\n",
              " 0.1437173585096995,\n",
              " 0.1375492655982574,\n",
              " 0.1380635934571425,\n",
              " 0.13608547113835812,\n",
              " 0.13649372632304826,\n",
              " 0.1363463457673788,\n",
              " 0.13683699816465378,\n",
              " 0.144467456266284,\n",
              " 0.1371924945463737,\n",
              " 0.1296782661229372,\n",
              " 0.1347951740026474,\n",
              " 0.13220830510059992,\n",
              " 0.1343368273228407,\n",
              " 0.13186026799182096,\n",
              " 0.13490845883886018,\n",
              " 0.1303833977629741,\n",
              " 0.12825319916009903,\n",
              " 0.13051621802151203,\n",
              " 0.13149299783011278,\n",
              " 0.1336158886551857,\n",
              " 0.13024821939567724,\n",
              " 0.1318567426254352,\n",
              " 0.1320649397869905,\n",
              " 0.1312251811226209,\n",
              " 0.13281473827858767,\n",
              " 0.13436269822220007,\n",
              " 0.13636107121904692,\n",
              " 0.13452602364122868,\n",
              " 0.1318635425219933,\n",
              " 0.12924717801312605,\n",
              " 0.1331084289898475,\n",
              " 0.12941152229905128,\n",
              " 0.1307056024670601,\n",
              " 0.13162249699234962,\n",
              " 0.12986135855317116,\n",
              " 0.14092565948764482,\n",
              " 0.13663642605145773,\n",
              " 0.13487369815508524,\n",
              " 0.13584252571066222,\n",
              " 0.1349560028562943,\n",
              " 0.12967772098879018,\n",
              " 0.12811292024950185,\n",
              " 0.12976839765906334,\n",
              " 0.12532846505443254,\n",
              " 0.12896913352111974,\n",
              " 0.1285178791731596,\n",
              " 0.12602190611263117,\n",
              " 0.12439074491461118,\n",
              " 0.12932188684741655,\n",
              " 0.12604499297837415,\n",
              " 0.13010766915977,\n",
              " 0.12730809239049753,\n",
              " 0.12761860713362694,\n",
              " 0.1260826631138722,\n",
              " 0.12912558826307455,\n",
              " 0.12940496020019054,\n",
              " 0.12628398276865482,\n",
              " 0.12434850571056207,\n",
              " 0.12855672339598337,\n",
              " 0.13435971612731615,\n",
              " 0.13373941307266554,\n",
              " 0.12700383054713407,\n",
              " 0.12646274330715337,\n",
              " 0.12671717380483946,\n",
              " 0.1219910029321909,\n",
              " 0.12116812852521737,\n",
              " 0.128105399509271,\n",
              " 0.1244872584939003,\n",
              " 0.12371673248708248,\n",
              " 0.12468485782543819,\n",
              " 0.12251300426820914,\n",
              " 0.12337248089412849,\n",
              " 0.12486061764260133,\n",
              " 0.12840676556030908,\n",
              " 0.13082859789331755,\n",
              " 0.12872204867502055,\n",
              " 0.12124496636291344,\n",
              " 0.1207294234385093,\n",
              " 0.1208652959515651,\n",
              " 0.11979601283868153,\n",
              " 0.12107480689883232,\n",
              " 0.12026761348048846,\n",
              " 0.1216766070574522,\n",
              " 0.12228825067480405,\n",
              " 0.11991888098418713,\n",
              " 0.12577304864923158,\n",
              " 0.13229836958150068,\n",
              " 0.13331751711666584,\n",
              " 0.1312675147006909,\n",
              " 0.12676749750971794,\n",
              " 0.1244887684782346,\n",
              " 0.12303721656401952,\n",
              " 0.12300525791943073,\n",
              " 0.12172123913963635,\n",
              " 0.12748843058943748,\n",
              " 0.13135328454275927,\n",
              " 0.15721107150117555,\n",
              " 0.14335210248827934,\n",
              " 0.13477281046410403,\n",
              " 0.12441595395406087,\n",
              " 0.12334719486534595,\n",
              " 0.12094756898780663,\n",
              " 0.11640653697152932,\n",
              " 0.11577666612962882,\n",
              " 0.1164676205565532,\n",
              " 0.11687774149080117,\n",
              " 0.11532080546021461,\n",
              " 0.11770021791259448,\n",
              " 0.12035309399167697,\n",
              " 0.11657099612057209,\n",
              " 0.11789503134787083,\n",
              " 0.11775163436929385,\n",
              " 0.1168700351069371,\n",
              " 0.11669955837229888,\n",
              " 0.11338112875819206,\n",
              " 0.11678366363048553,\n",
              " 0.11558274614314239,\n",
              " 0.11892668219904105,\n",
              " 0.11865069344639778,\n",
              " 0.11825544449190299,\n",
              " 0.12764959037303925,\n",
              " 0.12537777051329613,\n",
              " 0.1248973732193311,\n",
              " 0.12139579591651757,\n",
              " 0.11786298267543316,\n",
              " 0.12488861506183942,\n",
              " 0.11932966733972232,\n",
              " 0.12010355293750763,\n",
              " 0.11403219277660052,\n",
              " 0.11688041997452576,\n",
              " 0.11351086447636287,\n",
              " 0.11683134362101555,\n",
              " 0.1132579402377208,\n",
              " 0.11611538069943587,\n",
              " 0.1109456333021323,\n",
              " 0.11236076739927132,\n",
              " 0.11342326117058595,\n",
              " 0.11030478154619534,\n",
              " 0.1100713765869538,\n",
              " 0.11051550197104613,\n",
              " 0.11253307200968266,\n",
              " 0.11031914812823136,\n",
              " 0.11180236376821995,\n",
              " 0.11042260006070137,\n",
              " 0.1096242709706227,\n",
              " 0.1102523406346639,\n",
              " 0.10982089613874753,\n",
              " 0.1119483361641566,\n",
              " 0.11672616625825565,\n",
              " 0.11294982209801674,\n",
              " 0.11915315811832745,\n",
              " 0.11418535746634007,\n",
              " 0.11053995291392009,\n",
              " 0.10899091760317485,\n",
              " 0.10816909062365691,\n",
              " 0.11239117073516051,\n",
              " 0.11163269480069478,\n",
              " 0.11277412436902523,\n",
              " 0.11280088623364766,\n",
              " 0.10849023796617985,\n",
              " 0.108684033776323,\n",
              " 0.10493511334061623,\n",
              " 0.10655681292215984,\n",
              " 0.10934839770197868,\n",
              " 0.10669560978809993,\n",
              " 0.10495617426931858,\n",
              " 0.10800933713714282,\n",
              " 0.11019788744548957,\n",
              " 0.11106093289951484,\n",
              " 0.11122998346885045,\n",
              " 0.11031314668556054,\n",
              " 0.10777982945243518,\n",
              " 0.10688508798678716,\n",
              " 0.10957773340245087,\n",
              " 0.10917683131992817,\n",
              " 0.11036766444643338,\n",
              " 0.10616621499260266,\n",
              " 0.10696227351824443,\n",
              " 0.10693769467373689,\n",
              " 0.10537821675340335,\n",
              " 0.10598597551385562,\n",
              " 0.1053932507832845,\n",
              " 0.10595789551734924,\n",
              " 0.1115763671696186,\n",
              " 0.11377684151132901,\n",
              " 0.11254077591001987,\n",
              " 0.11224235780537128,\n",
              " 0.11957642498115699,\n",
              " 0.11401709417502086,\n",
              " 0.1115179459253947,\n",
              " 0.10767032640675704,\n",
              " 0.1062194040666024,\n",
              " 0.10304768880208333,\n",
              " 0.10789993591606617,\n",
              " 0.10787519936760266,\n",
              " 0.10593172659476598,\n",
              " 0.10894748444358508,\n",
              " 0.11076709317664306,\n",
              " 0.10512121270100276,\n",
              " 0.10543601587414742,\n",
              " 0.10326827814181645,\n",
              " 0.10235804505646229,\n",
              " 0.1042055015762647,\n",
              " 0.10232174955308437,\n",
              " 0.10778497904539108,\n",
              " 0.10506817946831386,\n",
              " 0.10393722107013066,\n",
              " 0.1018755454570055,\n",
              " 0.10191735314826171,\n",
              " 0.10035904496908188,\n",
              " 0.10070617434879144,\n",
              " 0.09973992221057415,\n",
              " 0.10354322257141273,\n",
              " 0.10456890426576138,\n",
              " 0.10220997345944245,\n",
              " 0.10379195710023244,\n",
              " 0.10297342948615551,\n",
              " 0.10080808214843273,\n",
              " 0.10184010863304138,\n",
              " 0.09950212389230728,\n",
              " 0.10129240962366264,\n",
              " 0.10121090772251289,\n",
              " 0.10398254357278347,\n",
              " 0.1058355091760556,\n",
              " 0.10797067048648994,\n",
              " 0.11708138945202033,\n",
              " 0.11339472855130832,\n",
              " 0.10753762225310008,\n",
              " 0.10840404344101746,\n",
              " 0.10316463559865952,\n",
              " 0.10499754299720128,\n",
              " 0.10501404603322347,\n",
              " 0.10725883767008781,\n",
              " 0.10836171731352806,\n",
              " 0.10553798141578834,\n",
              " 0.10295404742161433,\n",
              " 0.09999392554163933,\n",
              " 0.09917534266908963,\n",
              " 0.10048161695400874,\n",
              " 0.09766007401049137,\n",
              " 0.09662020082275073,\n",
              " 0.09903724864125252,\n",
              " 0.10141663687924544,\n",
              " 0.09716002829372883,\n",
              " 0.09995515582462151,\n",
              " 0.09622057154774666,\n",
              " 0.09421078984936078,\n",
              " 0.09705756790935993,\n",
              " 0.09929820398489635,\n",
              " 0.10683818844457467,\n",
              " 0.09834117566545804,\n",
              " 0.09975499846041203,\n",
              " 0.09678012939790885,\n",
              " 0.09454239594439666,\n",
              " 0.09562439533571403,\n",
              " 0.09705377432207267,\n",
              " 0.09908790638049443,\n",
              " 0.10052317442993323,\n",
              " 0.10232082940638065,\n",
              " 0.10143092026313145,\n",
              " 0.10023245215415955,\n",
              " 0.0999533577511708,\n",
              " 0.1066683220366637,\n",
              " 0.10559463500976562,\n",
              " 0.1083772499114275,\n",
              " 0.1099573193738858,\n",
              " 0.10219265272219975,\n",
              " 0.10171303898096085,\n",
              " 0.09869510618348916,\n",
              " 0.09615876773993175,\n",
              " 0.09857361453274886,\n",
              " 0.09869321125249068,\n",
              " 0.09442645559708278,\n",
              " 0.12207917310297489,\n",
              " 0.3157518804073334,\n",
              " 0.35609469066063565,\n",
              " 0.3190755931039651,\n",
              " 0.2869727921982606,\n",
              " 0.2237404522796472,\n",
              " 0.2207049143811067,\n",
              " 0.17826994508504868,\n",
              " 0.19312364545961222,\n",
              " 0.16405751183629036,\n",
              " 0.14439565440018973,\n",
              " 0.1340006279448668,\n",
              " 0.12687870673835278,\n",
              " 0.1220295149832964,\n",
              " 0.11678481722871463,\n",
              " 0.11634382295111816,\n",
              " 0.1125558993468682,\n",
              " 0.10937128402292728,\n",
              " 0.11006219622989495,\n",
              " 0.10896133569379647,\n",
              " 0.10616043272117774,\n",
              " 0.1055908091366291,\n",
              " 0.1034003496170044,\n",
              " 0.10289575097461541,\n",
              " 0.10583867877721786,\n",
              " 0.10190970761080582,\n",
              " 0.10219021824498971,\n",
              " 0.10230215887228648,\n",
              " 0.09974335009853046,\n",
              " 0.1024590985228618,\n",
              " 0.0978043923775355,\n",
              " 0.09899370931088924,\n",
              " 0.10033765062689781,\n",
              " 0.09938909858465195,\n",
              " 0.09806009257833163,\n",
              " 0.0964913001904885,\n",
              " 0.09784636708597343,\n",
              " 0.09902879409492016,\n",
              " 0.09848402068018913,\n",
              " 0.09606232059498628,\n",
              " 0.09539833789070447,\n",
              " 0.09482292085886002,\n",
              " 0.09425573485593002,\n",
              " 0.09538333242138226,\n",
              " 0.09473479042450587,\n",
              " 0.09409222876032193,\n",
              " 0.09364600169161956,\n",
              " 0.09474338715275128,\n",
              " 0.09458619356155396,\n",
              " 0.09447081759572029,\n",
              " 0.09230882239838441,\n",
              " 0.09303373284637928,\n",
              " 0.09371402859687805,\n",
              " 0.09267111557225387,\n",
              " 0.09336833283305168,\n",
              " 0.09557851776480675,\n",
              " 0.09608119043211143,\n",
              " 0.09515188820660114,\n",
              " 0.09359296349187692,\n",
              " 0.0944516509771347,\n",
              " 0.09289745055139065,\n",
              " 0.09134010349710782,\n",
              " 0.09133394745488961,\n",
              " 0.09253545974691708,\n",
              " 0.09171156336863835,\n",
              " 0.09042425826191902,\n",
              " 0.09152629785239697,\n",
              " 0.09149330606063207,\n",
              " 0.09271166349450748,\n",
              " 0.08946012519299984,\n",
              " 0.09063214063644409,\n",
              " 0.09027817038198312,\n",
              " 0.08959448585907619,\n",
              " 0.09079562562207381,\n",
              " 0.09070508865018685,\n",
              " 0.08898834822078545,\n",
              " 0.08981897868216038,\n",
              " 0.08915645691255729,\n",
              " 0.0889746615042289,\n",
              " 0.0897371806204319,\n",
              " 0.08937660790979862,\n",
              " 0.08899129802982013,\n",
              " 0.09077373705804348,\n",
              " 0.08808903644482295,\n",
              " 0.08698283694684505,\n",
              " 0.08690103888511658,\n",
              " 0.0887116367618243,\n",
              " 0.08728712300459544,\n",
              " 0.08592712009946506,\n",
              " 0.08803527802228928,\n",
              " 0.0867164395749569,\n",
              " 0.08751399628818035,\n",
              " 0.08630884252488613,\n",
              " 0.08673338778316975,\n",
              " 0.08741256470481555,\n",
              " 0.08851599382857482,\n",
              " 0.0869449544698,\n",
              " 0.08879302566250165,\n",
              " 0.08567656017839909,\n",
              " 0.08486192114651203,\n",
              " 0.08482812158763409,\n",
              " 0.08691337207953136,\n",
              " 0.08570248261094093,\n",
              " 0.0860962513834238,\n",
              " 0.08806116258104642,\n",
              " 0.08685070089995861,\n",
              " 0.08599905793865521,\n",
              " 0.08881707054873307,\n",
              " 0.08858897412816684,\n",
              " 0.08829502513011296,\n",
              " 0.09137049565712611,\n",
              " 0.09226543766756852,\n",
              " 0.08924897387623787,\n",
              " 0.09318534843623638,\n",
              " 0.09386795448760192,\n",
              " 0.09080891559521358,\n",
              " 0.08872753567993641,\n",
              " 0.08718414480487506,\n",
              " 0.08547038833300273,\n",
              " ...]"
            ]
          },
          "execution_count": 35,
          "metadata": {},
          "output_type": "execute_result"
        }
      ],
      "source": [
        "loss_storage"
      ]
    },
    {
      "cell_type": "markdown",
      "metadata": {
        "id": "pjH1rVzx9T1m"
      },
      "source": [
        "## Plot loss curve during model training"
      ]
    },
    {
      "cell_type": "markdown",
      "metadata": {
        "id": "8b7Jqi989WN9"
      },
      "source": [
        "### Define a function to plot the loss curve"
      ]
    },
    {
      "cell_type": "code",
      "execution_count": 36,
      "metadata": {
        "id": "Ni6syRat9YNk"
      },
      "outputs": [],
      "source": [
        "import matplotlib.pyplot as plt\n",
        "\n",
        "def plot_loss_curve(loss_storage, tick_interval=10,save_path=None):\n",
        "    plt.figure(figsize=(12, 6))\n",
        "\n",
        "    epochs = list(range(1, len(loss_storage) + 1))\n",
        "\n",
        "    # Plot the loss\n",
        "    plt.plot(\n",
        "        epochs,\n",
        "        loss_storage,\n",
        "        color='royalblue',\n",
        "        marker='o',\n",
        "        linestyle='-',\n",
        "        linewidth=2,\n",
        "        markersize=4,\n",
        "        label='Training Loss'\n",
        "    )\n",
        "\n",
        "    # Title & labels\n",
        "    plt.title(\"Training Loss Curve\", fontsize=18, fontweight='bold')\n",
        "    plt.xlabel(\"Epoch\", fontsize=14)\n",
        "    plt.ylabel(\"Loss\", fontsize=14)\n",
        "\n",
        "    # Set x-ticks with wider spacing\n",
        "    plt.xticks(\n",
        "        ticks=range(0, len(loss_storage) + 1, tick_interval),\n",
        "        fontsize=12\n",
        "    )\n",
        "    plt.yticks(fontsize=12)\n",
        "\n",
        "    # Grid, legend and layout\n",
        "    plt.grid(True, linestyle='--', linewidth=0.5)\n",
        "    plt.legend(fontsize=12)\n",
        "    plt.tight_layout()\n",
        "\n",
        "    if save_path:\n",
        "        plt.savefig(save_path, dpi=300, bbox_inches='tight')\n",
        "        print(f\"Loss curve saved to: {save_path}\")\n",
        "\n",
        "    plt.show()\n",
        "\n"
      ]
    },
    {
      "cell_type": "markdown",
      "metadata": {
        "id": "5k0WfEjH9a0f"
      },
      "source": [
        "### Plot the loss curve and save the image"
      ]
    },
    {
      "cell_type": "code",
      "execution_count": null,
      "metadata": {
        "colab": {
          "base_uri": "https://localhost:8080/",
          "height": 624
        },
        "id": "uFqbs3SY9cFu",
        "outputId": "b0354a2b-54c7-477d-be44-ce4ed290a3b4"
      },
      "outputs": [
        {
          "name": "stdout",
          "output_type": "stream",
          "text": [
            "Loss curve saved to: seq2seq_autoregressive_GRU_loss_training_curve.png\n"
          ]
        },
        {
          "data": {
            "image/png": "[encoded data removed]",
            "text/plain": [
              "<Figure size 1200x600 with 1 Axes>"
            ]
          },
          "metadata": {},
          "output_type": "display_data"
        }
      ],
      "source": [
        "save_path=\"../images_model_training_and_eval/seq2seq_autoregressive_GRU_loss_training_curve.png\"\n",
        "plot_loss_curve(loss_storage,save_path=save_path)"
      ]
    },
    {
      "cell_type": "markdown",
      "metadata": {
        "id": "_fxbuLWi9uEi"
      },
      "source": [
        "## Model Evaluation"
      ]
    },
    {
      "cell_type": "markdown",
      "metadata": {
        "id": "QXbiluyc9wil"
      },
      "source": [
        "### Define evaluation model function"
      ]
    },
    {
      "cell_type": "code",
      "execution_count": 39,
      "metadata": {
        "id": "Vr_PC6oJE4DB"
      },
      "outputs": [],
      "source": [
        "def evaluate_model(model, dataloader, seed_value):\n",
        "    model.eval()\n",
        "    torch.manual_seed(seed_value)\n",
        "    torch.cuda.manual_seed_all(seed_value)\n",
        "    np.random.seed(seed_value)\n",
        "\n",
        "    inputs, outputs = next(iter(dataloader))\n",
        "    inputs = inputs.to(device)\n",
        "    outputs = outputs.to(device)\n",
        "\n",
        "    inputs_seq = inputs.permute(1, 0, 2)\n",
        "    outputs_seq = outputs.permute(1, 0, 2)\n",
        "\n",
        "    pred = model(inputs_seq)\n",
        "\n",
        "    true_vals = outputs_seq.cpu().numpy()[:, 0, :]\n",
        "    pred_vals = pred.detach().cpu().numpy()[:, 0, :]\n",
        "\n",
        "    print(\"Ground truth:\\n\", true_vals.T)\n",
        "    print(\"Prediction:\\n\", pred_vals.T)\n",
        "    print(\"MAE:\", np.mean(np.abs(true_vals - pred_vals)))\n",
        "\n",
        "    feature_mae = np.mean(np.abs(true_vals - pred_vals), axis=(0, 1))\n",
        "    print(\"Feature-wise MAE:\", feature_mae)"
      ]
    },
    {
      "cell_type": "code",
      "execution_count": 40,
      "metadata": {
        "colab": {
          "base_uri": "https://localhost:8080/"
        },
        "id": "qcy37yO99-y3",
        "outputId": "723ceea1-c9df-410a-a89b-8f350d7bb344"
      },
      "outputs": [
        {
          "name": "stdout",
          "output_type": "stream",
          "text": [
            "Ground truth:\n",
            " [[-1.2752299  -1.3943083  -1.1437798  -1.3417282  -0.9247994  -0.93411076\n",
            "  -1.1712726 ]\n",
            " [ 0.9080867   1.0646194   0.3442977   1.0381919   1.0034971   1.0053803\n",
            "   0.53042036]\n",
            " [-0.47729036 -0.37316027 -0.82754606 -1.0846328   0.6615639   0.28450337\n",
            "   0.49154565]\n",
            " [ 0.02438779  0.03548462  0.04330284  0.03674562  0.01828454  0.01723326\n",
            "   0.027162  ]]\n",
            "Prediction:\n",
            " [[-0.75491846 -0.6355008  -0.62158334 -0.63356733 -0.55658853 -0.3845299\n",
            "  -0.2632091 ]\n",
            " [ 0.07105719 -0.06805927  0.30865556  0.83704656  1.1742268   1.1615587\n",
            "   0.94815046]\n",
            " [-0.31122062 -0.2938802  -0.89099956 -1.5114595  -1.9778842  -2.1731594\n",
            "  -1.6669812 ]\n",
            " [ 0.24133272  0.17276837  0.2099771  -0.04659919 -0.12564074 -0.04331098\n",
            "  -0.1611595 ]]\n",
            "MAE: 0.5812419\n",
            "Feature-wise MAE: 0.5812419\n"
          ]
        }
      ],
      "source": [
        "seed_value=187\n",
        "\n",
        "evaluate_model(seq2seq_model,test_dataloader,seed_value)"
      ]
    },
    {
      "cell_type": "markdown",
      "metadata": {
        "id": "HcznHsF1-HER"
      },
      "source": [
        "#### Define function to plot prediction versus ground truth"
      ]
    },
    {
      "cell_type": "code",
      "execution_count": 41,
      "metadata": {
        "id": "it_Lf04A-asC"
      },
      "outputs": [],
      "source": [
        "import matplotlib.pyplot as plt\n",
        "import numpy as np\n",
        "import torch\n",
        "\n",
        "def model_evaluation_and_visualizations(model, dataloader, device, stats=None, indices=[2486, 2986]):\n",
        "    feature_names = ['meantemp', 'humidity', 'wind_speed', 'meanpressure']\n",
        "    colors = ['#1f77b4', '#ff7f0e', '#2ca02c', '#d62728']  # Custom colors per feature\n",
        "\n",
        "    plt.style.use('ggplot')  # Consistent, readable plotting style\n",
        "    model.eval()\n",
        "\n",
        "    num_features = len(feature_names)\n",
        "    num_samples = len(indices)\n",
        "\n",
        "    fig, axs = plt.subplots(num_samples, num_features, figsize=(5 * num_features, 4 * num_samples))\n",
        "\n",
        "    for row, seed in enumerate(indices):\n",
        "        g = torch.Generator()\n",
        "        g.manual_seed(seed)\n",
        "\n",
        "        # Rebuild a deterministic DataLoader with shuffling\n",
        "        data_iter = iter(torch.utils.data.DataLoader(\n",
        "            dataloader.dataset, batch_size=32, shuffle=True, generator=g\n",
        "        ))\n",
        "\n",
        "        inputs, outputs = next(data_iter)\n",
        "        inputs, outputs = inputs.to(device), outputs.to(device)\n",
        "\n",
        "        # Permute for (seq_len, batch, feature)\n",
        "        inputs_seq = inputs.permute(1, 0, 2)      # (T_in, B, F)\n",
        "        outputs_seq = outputs.permute(1, 0, 2)    # (T_out, B, F)\n",
        "        preds = model(inputs_seq)                # (T_out, B, F)\n",
        "\n",
        "        b = 0  # Visualize the first sample in the batch\n",
        "\n",
        "        # Get the data for sample b\n",
        "        x = inputs_seq[:, b, :].detach().cpu().numpy()      # (T_in, F)\n",
        "        y_true = outputs_seq[:, b, :].detach().cpu().numpy()  # (T_out, F)\n",
        "        y_pred = preds[:, b, :].detach().cpu().numpy()        # (T_out, F)\n",
        "\n",
        "        # Denormalize if stats are provided\n",
        "        if stats is not None:\n",
        "            for i, name in enumerate(feature_names):\n",
        "                mean = stats.loc[name, 'mean']\n",
        "                std = stats.loc[name, 'std']\n",
        "                x[:, i] = x[:, i] * std + mean\n",
        "                y_true[:, i] = y_true[:, i] * std + mean\n",
        "                y_pred[:, i] = y_pred[:, i] * std + mean\n",
        "\n",
        "        # Time steps\n",
        "        t_input = list(range(x.shape[0]))\n",
        "        t_output = [x.shape[0] + i + 1 for i in range(y_true.shape[0])]\n",
        "        mse = np.mean((y_true - y_pred) ** 2)\n",
        "\n",
        "        # Plot each feature separately\n",
        "        for col in range(num_features):\n",
        "            ax = axs[row, col] if num_samples > 1 else axs[col]\n",
        "            feature = feature_names[col]\n",
        "            color = colors[col % len(colors)]\n",
        "\n",
        "            # Input sequence\n",
        "            ax.plot(t_input, x[:, col], linestyle='--', linewidth=2, label=\"Input\", color=color)\n",
        "            # Ground truth output\n",
        "            ax.scatter(t_output, y_true[:, col], label=\"True\", color=color, marker='o', s=50, edgecolors='black', linewidth=0.5)\n",
        "            # Predicted output\n",
        "            ax.scatter(t_output, y_pred[:, col], label=\"Pred\", color='black', marker='x', s=60)\n",
        "\n",
        "            ax.set_title(f\"{feature} | seed={seed} | MSE={mse:.4f}\", fontsize=11)\n",
        "            ax.grid(True)\n",
        "\n",
        "            if row == num_samples - 1:\n",
        "                ax.set_xlabel(\"Timestep\")\n",
        "            if col == 0:\n",
        "                ax.set_ylabel(\"Value\")\n",
        "            if row == 0:\n",
        "                ax.legend(loc='upper center', fontsize=8)\n",
        "\n",
        "    plt.tight_layout()\n",
        "    plt.show()\n",
        "\n"
      ]
    },
    {
      "cell_type": "code",
      "execution_count": 42,
      "metadata": {
        "colab": {
          "base_uri": "https://localhost:8080/",
          "height": 527
        },
        "id": "jJVzlAry-fo8",
        "outputId": "96d3e7e9-1a22-424a-d96b-0f23828f8710"
      },
      "outputs": [
        {
          "data": {
            "image/png": "[encoded data removed]",
            "text/plain": [
              "<Figure size 2000x800 with 8 Axes>"
            ]
          },
          "metadata": {},
          "output_type": "display_data"
        }
      ],
      "source": [
        "# Visualize\n",
        "model_evaluation_and_visualizations(seq2seq_model, test_dataloader, device)"
      ]
    }
  ],
  "metadata": {
    "accelerator": "GPU",
    "colab": {
      "gpuType": "T4",
      "machine_shape": "hm",
      "provenance": []
    },
    "kernelspec": {
      "display_name": "Python 3",
      "name": "python3"
    },
    "language_info": {
      "name": "python"
    }
  },
  "nbformat": 4,
  "nbformat_minor": 0
}
