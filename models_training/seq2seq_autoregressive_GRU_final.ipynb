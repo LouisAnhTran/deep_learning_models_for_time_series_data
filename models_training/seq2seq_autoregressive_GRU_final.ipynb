{
  "cells": [
    {
      "cell_type": "markdown",
      "metadata": {
        "id": "N7u2dQY3sb6N"
      },
      "source": [
        "# Implementing an autoregressive Seq2Seq model using GRU architecture\n",
        "\n",
        "### About this notebook\n",
        "\n",
        "This notebook was created as a deliverable for the group project under 50.039 Deep Learning course at the Singapore University of Technology and Design.\n",
        "\n",
        "**Author:** Group 17 - Cohort 01"
      ]
    },
    {
      "cell_type": "markdown",
      "metadata": {
        "id": "MP_zt6Z-sj5K"
      },
      "source": [
        "## Define device for Torch - preferred CUDA for accelerated computation"
      ]
    },
    {
      "cell_type": "code",
      "execution_count": 1,
      "metadata": {
        "colab": {
          "base_uri": "https://localhost:8080/"
        },
        "id": "Jm9aTM4Dsp7F",
        "outputId": "c7b32e2b-0d8c-4830-bc7d-1aaf0f59bc09"
      },
      "outputs": [
        {
          "name": "stdout",
          "output_type": "stream",
          "text": [
            "CUDA is available: True\n"
          ]
        }
      ],
      "source": [
        "# Matplotlib\n",
        "import torch\n",
        "\n",
        "# Define device for torch\n",
        "use_cuda = True\n",
        "print(\"CUDA is available:\", torch.cuda.is_available())\n",
        "device = torch.device(\"cuda\" if (use_cuda and torch.cuda.is_available()) else \"cpu\")"
      ]
    },
    {
      "cell_type": "markdown",
      "metadata": {
        "id": "zDGEj8Cjs0dt"
      },
      "source": [
        "## Import train and test dataset"
      ]
    },
    {
      "cell_type": "markdown",
      "metadata": {
        "id": "9IWPk8NOs2mU"
      },
      "source": [
        "### Define load dataset function"
      ]
    },
    {
      "cell_type": "code",
      "execution_count": 2,
      "metadata": {
        "id": "6t7CqX5tzPII"
      },
      "outputs": [],
      "source": [
        "import pandas as pd\n",
        "\n",
        "def load_dataset(train_path, test_path):\n",
        "    # Load and drop date column\n",
        "    train_df = pd.read_csv(train_path, parse_dates=['date']).drop(columns=['date'])\n",
        "    test_df = pd.read_csv(test_path, parse_dates=['date']).drop(columns=['date'])\n",
        "\n",
        "    # Normalize using training statistics\n",
        "    stats = train_df.describe().transpose()\n",
        "\n",
        "    def normalize(df):\n",
        "        return (df - stats[\"mean\"]) / stats[\"std\"]\n",
        "\n",
        "    train_norm = normalize(train_df)\n",
        "    test_norm = normalize(test_df)\n",
        "\n",
        "    return train_norm, test_norm, stats"
      ]
    },
    {
      "cell_type": "markdown",
      "metadata": {
        "id": "a1vDADPDtENq"
      },
      "source": [
        "### Load train and test dataset"
      ]
    },
    {
      "cell_type": "code",
      "execution_count": null,
      "metadata": {
        "id": "taRAOhsLxbs9"
      },
      "outputs": [],
      "source": [
        "# Load dataset from file\n",
        "train_file_path = '../dataset/train/DailyDelhiClimateTrain.csv'\n",
        "test_file_path = '../dataset/test/DailyDelhiClimateTest.csv'\n",
        "train_data, test_data, stats = load_dataset(train_file_path, test_file_path)"
      ]
    },
    {
      "cell_type": "code",
      "execution_count": 4,
      "metadata": {
        "colab": {
          "base_uri": "https://localhost:8080/",
          "height": 204
        },
        "id": "ppLCQaAGt2_G",
        "outputId": "db5cd5c6-052f-4ef6-a0ca-773749d746e0"
      },
      "outputs": [
        {
          "data": {
            "application/vnd.google.colaboratory.intrinsic+json": {
              "summary": "{\n  \"name\": \"train_data[:5]\",\n  \"rows\": 5,\n  \"fields\": [\n    {\n      \"column\": \"meantemp\",\n      \"properties\": {\n        \"dtype\": \"number\",\n        \"std\": 0.20841408641918516,\n        \"min\": -2.6531366509460907,\n        \"max\": -2.108778447275962,\n        \"num_unique_values\": 5,\n        \"samples\": [\n          -2.462611279661546,\n          -2.6531366509460907,\n          -2.4943655082089697\n        ],\n        \"semantic_type\": \"\",\n        \"description\": \"\"\n      }\n    },\n    {\n      \"column\": \"humidity\",\n      \"properties\": {\n        \"dtype\": \"number\",\n        \"std\": 0.4630251567463648,\n        \"min\": 0.629806246676629,\n        \"max\": 1.862191172481257,\n        \"num_unique_values\": 5,\n        \"samples\": [\n          1.862191172481257,\n          1.5540949410301,\n          1.5640335291414278\n        ],\n        \"semantic_type\": \"\",\n        \"description\": \"\"\n      }\n    },\n    {\n      \"column\": \"wind_speed\",\n      \"properties\": {\n        \"dtype\": \"number\",\n        \"std\": 0.4112300309466513,\n        \"min\": -1.4911885128266216,\n        \"max\": -0.47546351830098127,\n        \"num_unique_values\": 5,\n        \"samples\": [\n          -0.8379092717432243,\n          -0.6800699920183765,\n          -0.47546351830098127\n        ],\n        \"semantic_type\": \"\",\n        \"description\": \"\"\n      }\n    },\n    {\n      \"column\": \"meanpressure\",\n      \"properties\": {\n        \"dtype\": \"number\",\n        \"std\": 0.006413960749790114,\n        \"min\": 0.02531252756337268,\n        \"max\": 0.04195777103054057,\n        \"num_unique_values\": 5,\n        \"samples\": [\n          0.03714914514002536,\n          0.02993620630425286,\n          0.04195777103054057\n        ],\n        \"semantic_type\": \"\",\n        \"description\": \"\"\n      }\n    }\n  ]\n}",
              "type": "dataframe"
            },
            "text/html": [
              "\n",
              "  <div id=\"df-cff24159-a004-4604-a875-5f8baab1fbf2\" class=\"colab-df-container\">\n",
              "    <div>\n",
              "<style scoped>\n",
              "    .dataframe tbody tr th:only-of-type {\n",
              "        vertical-align: middle;\n",
              "    }\n",
              "\n",
              "    .dataframe tbody tr th {\n",
              "        vertical-align: top;\n",
              "    }\n",
              "\n",
              "    .dataframe thead th {\n",
              "        text-align: right;\n",
              "    }\n",
              "</style>\n",
              "<table border=\"1\" class=\"dataframe\">\n",
              "  <thead>\n",
              "    <tr style=\"text-align: right;\">\n",
              "      <th></th>\n",
              "      <th>meantemp</th>\n",
              "      <th>humidity</th>\n",
              "      <th>wind_speed</th>\n",
              "      <th>meanpressure</th>\n",
              "    </tr>\n",
              "  </thead>\n",
              "  <tbody>\n",
              "    <tr>\n",
              "      <th>0</th>\n",
              "      <td>-2.108778</td>\n",
              "      <td>1.414955</td>\n",
              "      <td>-1.491189</td>\n",
              "      <td>0.025313</td>\n",
              "    </tr>\n",
              "    <tr>\n",
              "      <th>1</th>\n",
              "      <td>-2.462611</td>\n",
              "      <td>1.862191</td>\n",
              "      <td>-0.837909</td>\n",
              "      <td>0.037149</td>\n",
              "    </tr>\n",
              "    <tr>\n",
              "      <th>2</th>\n",
              "      <td>-2.494366</td>\n",
              "      <td>1.564034</td>\n",
              "      <td>-0.475464</td>\n",
              "      <td>0.041958</td>\n",
              "    </tr>\n",
              "    <tr>\n",
              "      <th>3</th>\n",
              "      <td>-2.290231</td>\n",
              "      <td>0.629806</td>\n",
              "      <td>-1.220816</td>\n",
              "      <td>0.033635</td>\n",
              "    </tr>\n",
              "    <tr>\n",
              "      <th>4</th>\n",
              "      <td>-2.653137</td>\n",
              "      <td>1.554095</td>\n",
              "      <td>-0.680070</td>\n",
              "      <td>0.029936</td>\n",
              "    </tr>\n",
              "  </tbody>\n",
              "</table>\n",
              "</div>\n",
              "    <div class=\"colab-df-buttons\">\n",
              "\n",
              "  <div class=\"colab-df-container\">\n",
              "    <button class=\"colab-df-convert\" onclick=\"convertToInteractive('df-cff24159-a004-4604-a875-5f8baab1fbf2')\"\n",
              "            title=\"Convert this dataframe to an interactive table.\"\n",
              "            style=\"display:none;\">\n",
              "\n",
              "  <svg xmlns=\"http://www.w3.org/2000/svg\" height=\"24px\" viewBox=\"0 -960 960 960\">\n",
              "    <path d=\"M120-120v-720h720v720H120Zm60-500h600v-160H180v160Zm220 220h160v-160H400v160Zm0 220h160v-160H400v160ZM180-400h160v-160H180v160Zm440 0h160v-160H620v160ZM180-180h160v-160H180v160Zm440 0h160v-160H620v160Z\"/>\n",
              "  </svg>\n",
              "    </button>\n",
              "\n",
              "  <style>\n",
              "    .colab-df-container {\n",
              "      display:flex;\n",
              "      gap: 12px;\n",
              "    }\n",
              "\n",
              "    .colab-df-convert {\n",
              "      background-color: #E8F0FE;\n",
              "      border: none;\n",
              "      border-radius: 50%;\n",
              "      cursor: pointer;\n",
              "      display: none;\n",
              "      fill: #1967D2;\n",
              "      height: 32px;\n",
              "      padding: 0 0 0 0;\n",
              "      width: 32px;\n",
              "    }\n",
              "\n",
              "    .colab-df-convert:hover {\n",
              "      background-color: #E2EBFA;\n",
              "      box-shadow: 0px 1px 2px rgba(60, 64, 67, 0.3), 0px 1px 3px 1px rgba(60, 64, 67, 0.15);\n",
              "      fill: #174EA6;\n",
              "    }\n",
              "\n",
              "    .colab-df-buttons div {\n",
              "      margin-bottom: 4px;\n",
              "    }\n",
              "\n",
              "    [theme=dark] .colab-df-convert {\n",
              "      background-color: #3B4455;\n",
              "      fill: #D2E3FC;\n",
              "    }\n",
              "\n",
              "    [theme=dark] .colab-df-convert:hover {\n",
              "      background-color: #434B5C;\n",
              "      box-shadow: 0px 1px 3px 1px rgba(0, 0, 0, 0.15);\n",
              "      filter: drop-shadow(0px 1px 2px rgba(0, 0, 0, 0.3));\n",
              "      fill: #FFFFFF;\n",
              "    }\n",
              "  </style>\n",
              "\n",
              "    <script>\n",
              "      const buttonEl =\n",
              "        document.querySelector('#df-cff24159-a004-4604-a875-5f8baab1fbf2 button.colab-df-convert');\n",
              "      buttonEl.style.display =\n",
              "        google.colab.kernel.accessAllowed ? 'block' : 'none';\n",
              "\n",
              "      async function convertToInteractive(key) {\n",
              "        const element = document.querySelector('#df-cff24159-a004-4604-a875-5f8baab1fbf2');\n",
              "        const dataTable =\n",
              "          await google.colab.kernel.invokeFunction('convertToInteractive',\n",
              "                                                    [key], {});\n",
              "        if (!dataTable) return;\n",
              "\n",
              "        const docLinkHtml = 'Like what you see? Visit the ' +\n",
              "          '<a target=\"_blank\" href=https://colab.research.google.com/notebooks/data_table.ipynb>data table notebook</a>'\n",
              "          + ' to learn more about interactive tables.';\n",
              "        element.innerHTML = '';\n",
              "        dataTable['output_type'] = 'display_data';\n",
              "        await google.colab.output.renderOutput(dataTable, element);\n",
              "        const docLink = document.createElement('div');\n",
              "        docLink.innerHTML = docLinkHtml;\n",
              "        element.appendChild(docLink);\n",
              "      }\n",
              "    </script>\n",
              "  </div>\n",
              "\n",
              "\n",
              "<div id=\"df-3b15b351-bc39-413f-a771-87559be305d2\">\n",
              "  <button class=\"colab-df-quickchart\" onclick=\"quickchart('df-3b15b351-bc39-413f-a771-87559be305d2')\"\n",
              "            title=\"Suggest charts\"\n",
              "            style=\"display:none;\">\n",
              "\n",
              "<svg xmlns=\"http://www.w3.org/2000/svg\" height=\"24px\"viewBox=\"0 0 24 24\"\n",
              "     width=\"24px\">\n",
              "    <g>\n",
              "        <path d=\"M19 3H5c-1.1 0-2 .9-2 2v14c0 1.1.9 2 2 2h14c1.1 0 2-.9 2-2V5c0-1.1-.9-2-2-2zM9 17H7v-7h2v7zm4 0h-2V7h2v10zm4 0h-2v-4h2v4z\"/>\n",
              "    </g>\n",
              "</svg>\n",
              "  </button>\n",
              "\n",
              "<style>\n",
              "  .colab-df-quickchart {\n",
              "      --bg-color: #E8F0FE;\n",
              "      --fill-color: #1967D2;\n",
              "      --hover-bg-color: #E2EBFA;\n",
              "      --hover-fill-color: #174EA6;\n",
              "      --disabled-fill-color: #AAA;\n",
              "      --disabled-bg-color: #DDD;\n",
              "  }\n",
              "\n",
              "  [theme=dark] .colab-df-quickchart {\n",
              "      --bg-color: #3B4455;\n",
              "      --fill-color: #D2E3FC;\n",
              "      --hover-bg-color: #434B5C;\n",
              "      --hover-fill-color: #FFFFFF;\n",
              "      --disabled-bg-color: #3B4455;\n",
              "      --disabled-fill-color: #666;\n",
              "  }\n",
              "\n",
              "  .colab-df-quickchart {\n",
              "    background-color: var(--bg-color);\n",
              "    border: none;\n",
              "    border-radius: 50%;\n",
              "    cursor: pointer;\n",
              "    display: none;\n",
              "    fill: var(--fill-color);\n",
              "    height: 32px;\n",
              "    padding: 0;\n",
              "    width: 32px;\n",
              "  }\n",
              "\n",
              "  .colab-df-quickchart:hover {\n",
              "    background-color: var(--hover-bg-color);\n",
              "    box-shadow: 0 1px 2px rgba(60, 64, 67, 0.3), 0 1px 3px 1px rgba(60, 64, 67, 0.15);\n",
              "    fill: var(--button-hover-fill-color);\n",
              "  }\n",
              "\n",
              "  .colab-df-quickchart-complete:disabled,\n",
              "  .colab-df-quickchart-complete:disabled:hover {\n",
              "    background-color: var(--disabled-bg-color);\n",
              "    fill: var(--disabled-fill-color);\n",
              "    box-shadow: none;\n",
              "  }\n",
              "\n",
              "  .colab-df-spinner {\n",
              "    border: 2px solid var(--fill-color);\n",
              "    border-color: transparent;\n",
              "    border-bottom-color: var(--fill-color);\n",
              "    animation:\n",
              "      spin 1s steps(1) infinite;\n",
              "  }\n",
              "\n",
              "  @keyframes spin {\n",
              "    0% {\n",
              "      border-color: transparent;\n",
              "      border-bottom-color: var(--fill-color);\n",
              "      border-left-color: var(--fill-color);\n",
              "    }\n",
              "    20% {\n",
              "      border-color: transparent;\n",
              "      border-left-color: var(--fill-color);\n",
              "      border-top-color: var(--fill-color);\n",
              "    }\n",
              "    30% {\n",
              "      border-color: transparent;\n",
              "      border-left-color: var(--fill-color);\n",
              "      border-top-color: var(--fill-color);\n",
              "      border-right-color: var(--fill-color);\n",
              "    }\n",
              "    40% {\n",
              "      border-color: transparent;\n",
              "      border-right-color: var(--fill-color);\n",
              "      border-top-color: var(--fill-color);\n",
              "    }\n",
              "    60% {\n",
              "      border-color: transparent;\n",
              "      border-right-color: var(--fill-color);\n",
              "    }\n",
              "    80% {\n",
              "      border-color: transparent;\n",
              "      border-right-color: var(--fill-color);\n",
              "      border-bottom-color: var(--fill-color);\n",
              "    }\n",
              "    90% {\n",
              "      border-color: transparent;\n",
              "      border-bottom-color: var(--fill-color);\n",
              "    }\n",
              "  }\n",
              "</style>\n",
              "\n",
              "  <script>\n",
              "    async function quickchart(key) {\n",
              "      const quickchartButtonEl =\n",
              "        document.querySelector('#' + key + ' button');\n",
              "      quickchartButtonEl.disabled = true;  // To prevent multiple clicks.\n",
              "      quickchartButtonEl.classList.add('colab-df-spinner');\n",
              "      try {\n",
              "        const charts = await google.colab.kernel.invokeFunction(\n",
              "            'suggestCharts', [key], {});\n",
              "      } catch (error) {\n",
              "        console.error('Error during call to suggestCharts:', error);\n",
              "      }\n",
              "      quickchartButtonEl.classList.remove('colab-df-spinner');\n",
              "      quickchartButtonEl.classList.add('colab-df-quickchart-complete');\n",
              "    }\n",
              "    (() => {\n",
              "      let quickchartButtonEl =\n",
              "        document.querySelector('#df-3b15b351-bc39-413f-a771-87559be305d2 button');\n",
              "      quickchartButtonEl.style.display =\n",
              "        google.colab.kernel.accessAllowed ? 'block' : 'none';\n",
              "    })();\n",
              "  </script>\n",
              "</div>\n",
              "\n",
              "    </div>\n",
              "  </div>\n"
            ],
            "text/plain": [
              "   meantemp  humidity  wind_speed  meanpressure\n",
              "0 -2.108778  1.414955   -1.491189      0.025313\n",
              "1 -2.462611  1.862191   -0.837909      0.037149\n",
              "2 -2.494366  1.564034   -0.475464      0.041958\n",
              "3 -2.290231  0.629806   -1.220816      0.033635\n",
              "4 -2.653137  1.554095   -0.680070      0.029936"
            ]
          },
          "execution_count": 4,
          "metadata": {},
          "output_type": "execute_result"
        }
      ],
      "source": [
        "train_data[:5]"
      ]
    },
    {
      "cell_type": "code",
      "execution_count": 5,
      "metadata": {
        "colab": {
          "base_uri": "https://localhost:8080/"
        },
        "id": "vd6UFFPyt5AQ",
        "outputId": "faf081e0-7aea-486a-d27b-61d76b9a8023"
      },
      "outputs": [
        {
          "data": {
            "text/plain": [
              "1462"
            ]
          },
          "execution_count": 5,
          "metadata": {},
          "output_type": "execute_result"
        }
      ],
      "source": [
        "# number of samples in train dataset\n",
        "len(train_data)"
      ]
    },
    {
      "cell_type": "markdown",
      "metadata": {
        "id": "8KZkxogdt63a"
      },
      "source": [
        "## Define Pytorch Dataset and Dataloader objects"
      ]
    },
    {
      "cell_type": "code",
      "execution_count": 6,
      "metadata": {
        "id": "g6QY_8vTuFX5"
      },
      "outputs": [],
      "source": [
        "import numpy as np\n",
        "import torch\n",
        "from torch.utils.data import Dataset, DataLoader"
      ]
    },
    {
      "cell_type": "markdown",
      "metadata": {
        "id": "t9EVWI1vuHgH"
      },
      "source": [
        "### Dataset object"
      ]
    },
    {
      "cell_type": "code",
      "execution_count": 7,
      "metadata": {
        "id": "FuPlwmeyz8mC"
      },
      "outputs": [],
      "source": [
        "class CustomDataset(Dataset):\n",
        "    def __init__(self, dataframe, n_inputs, n_outputs):\n",
        "        self.dataframe = dataframe\n",
        "        self.n_inputs = n_inputs\n",
        "        self.n_outputs = n_outputs\n",
        "        self.inputs = []\n",
        "        self.outputs = []\n",
        "        self.define_samples()\n",
        "\n",
        "    def define_samples(self):\n",
        "        data_array = self.dataframe.values\n",
        "        for i in range(len(data_array) - self.n_inputs - self.n_outputs):\n",
        "            input_seq = data_array[i:i+self.n_inputs, :]         # Sequence length of 30, incl all features\n",
        "            output_seq = data_array[i+self.n_inputs:i+self.n_inputs+self.n_outputs, :]  # Sequence length of 7, incl all features\n",
        "            self.inputs.append(input_seq)\n",
        "            self.outputs.append(output_seq)\n",
        "\n",
        "    def __len__(self):\n",
        "        return len(self.inputs)\n",
        "\n",
        "    def __getitem__(self, idx):\n",
        "        x = torch.tensor(self.inputs[idx], dtype=torch.float32)  # Shape: (n_inputs, 4)\n",
        "        y = torch.tensor(self.outputs[idx], dtype=torch.float32) # Shape: (n_outputs,)\n",
        "        return x, y"
      ]
    },
    {
      "cell_type": "code",
      "execution_count": 8,
      "metadata": {
        "id": "2joAhwcbz3s8"
      },
      "outputs": [],
      "source": [
        "n_inputs = 30\n",
        "n_outputs = 7\n",
        "train_dataset = CustomDataset(train_data, n_inputs, n_outputs)\n",
        "test_dataset = CustomDataset(test_data, n_inputs, n_outputs)"
      ]
    },
    {
      "cell_type": "code",
      "execution_count": 9,
      "metadata": {
        "colab": {
          "base_uri": "https://localhost:8080/"
        },
        "id": "RqE7_ibxuXJK",
        "outputId": "5329d756-6754-41f4-a111-397a7b400239"
      },
      "outputs": [
        {
          "data": {
            "text/plain": [
              "(tensor([[-2.1088e+00,  1.4150e+00, -1.4912e+00,  2.5313e-02],\n",
              "         [-2.4626e+00,  1.8622e+00, -8.3791e-01,  3.7149e-02],\n",
              "         [-2.4944e+00,  1.5640e+00, -4.7546e-01,  4.1958e-02],\n",
              "         [-2.2902e+00,  6.2981e-01, -1.2208e+00,  3.3635e-02],\n",
              "         [-2.6531e+00,  1.5541e+00, -6.8007e-01,  2.9936e-02],\n",
              "         [-2.5170e+00,  1.3136e+00, -1.1667e+00,  3.8259e-02],\n",
              "         [-2.5170e+00,  1.0631e+00, -1.1009e-01,  4.9356e-02],\n",
              "         [-2.2643e+00,  1.7547e-01,  7.4677e-02,  4.2222e-02],\n",
              "         [-1.5644e+00, -5.6779e-01,  1.2491e+00,  3.2710e-02],\n",
              "         [-1.9727e+00,  7.3245e-02,  1.3105e-01,  2.5313e-02],\n",
              "         [-1.3311e+00, -5.6566e-01,  8.2629e-01,  2.7955e-02],\n",
              "         [-1.5644e+00,  7.8882e-01,  1.4088e+00,  2.4784e-02],\n",
              "         [-1.3149e+00,  8.5839e-01, -4.7546e-01,  1.2366e-02],\n",
              "         [-1.7232e+00,  1.6336e+00, -1.3560e+00,  2.2538e-02],\n",
              "         [-1.4672e+00,  6.6104e-01, -1.3753e+00,  2.6369e-02],\n",
              "         [-1.5871e+00,  1.5442e+00, -1.4912e+00,  3.0861e-02],\n",
              "         [-1.2242e+00,  1.1963e+00, -3.4028e-01,  2.6237e-02],\n",
              "         [-1.5871e+00,  1.8721e+00,  4.7084e-01,  1.8839e-02],\n",
              "         [-1.7686e+00,  9.4784e-01, -2.0144e-01,  5.8603e-02],\n",
              "         [-1.9338e+00,  8.6549e-01,  3.6593e-01,  5.0941e-02],\n",
              "         [-1.9455e+00,  9.6772e-01, -1.0045e+00,  5.4904e-02],\n",
              "         [-2.1768e+00,  1.1267e+00, -8.1526e-01,  5.9343e-02],\n",
              "         [-1.5644e+00, -3.6079e-02, -6.1065e-01,  5.2130e-02],\n",
              "         [-1.5871e+00, -6.2634e-03, -1.3932e-01,  5.2130e-02],\n",
              "         [-1.8026e+00,  3.7140e-01, -2.7451e-01,  5.3517e-02],\n",
              "         [-1.7459e+00,  2.0245e-01, -4.8420e-04,  4.7506e-02],\n",
              "         [-1.7200e+00,  2.8622e-01, -2.7294e-01,  3.9051e-02],\n",
              "         [-1.4510e+00, -2.8454e-01, -6.8007e-01,  3.7334e-02],\n",
              "         [-1.5474e+00,  2.8196e-01, -7.8146e-01,  3.0630e-02],\n",
              "         [-1.4672e+00,  5.7585e-01, -1.2594e+00,  3.7466e-02]]),\n",
              " tensor([[-1.2650,  0.2879, -0.8423,  0.0405],\n",
              "         [-1.2922,  0.7292, -1.0045,  0.0272],\n",
              "         [-1.2534,  1.0018, -1.1999,  0.0335],\n",
              "         [-1.0201,  0.2862, -1.0841,  0.0232],\n",
              "         [-1.0978,  0.8059,  0.9453,  0.0192],\n",
              "         [-1.2072,  1.8846,  0.6407,  0.0292],\n",
              "         [-1.2015,  0.6298,  0.4014,  0.0420]]))"
            ]
          },
          "execution_count": 9,
          "metadata": {},
          "output_type": "execute_result"
        }
      ],
      "source": [
        "train_dataset[0]"
      ]
    },
    {
      "cell_type": "markdown",
      "metadata": {
        "id": "55AUsQGruap8"
      },
      "source": [
        "### Dataloader Object"
      ]
    },
    {
      "cell_type": "code",
      "execution_count": 10,
      "metadata": {
        "id": "Z1kkxtmP3cpG"
      },
      "outputs": [],
      "source": [
        "# Define batch size\n",
        "batch_size = 128\n",
        "\n",
        "# Random number generator (for reproducibility)\n",
        "generator = torch.Generator()  # Defaults to CPU, which DataLoader expects\n",
        "\n",
        "# Create DataLoader\n",
        "train_dataloader = DataLoader(\n",
        "    train_dataset,\n",
        "    batch_size=batch_size,\n",
        "    shuffle=True,\n",
        "    generator=generator\n",
        ")\n",
        "\n",
        "test_dataloader = DataLoader(\n",
        "    test_dataset,\n",
        "    batch_size=batch_size,\n",
        "    shuffle=False,  # Important: don't shuffle test data\n",
        "    generator=generator\n",
        ")"
      ]
    },
    {
      "cell_type": "code",
      "execution_count": 11,
      "metadata": {
        "colab": {
          "base_uri": "https://localhost:8080/"
        },
        "id": "uYd2irWlug20",
        "outputId": "a594428a-49b7-4bfc-9f07-76fb4d5aab0c"
      },
      "outputs": [
        {
          "name": "stdout",
          "output_type": "stream",
          "text": [
            "Input shape: torch.Size([128, 30, 4])\n",
            "Output shape: torch.Size([128, 7, 4])\n"
          ]
        }
      ],
      "source": [
        "# Visualize a sample\n",
        "sample = next(iter(train_dataloader))\n",
        "input_sample, output_sample = sample\n",
        "print(\"Input shape:\", input_sample.shape)\n",
        "print(\"Output shape:\", output_sample.shape)\n"
      ]
    },
    {
      "cell_type": "code",
      "execution_count": 12,
      "metadata": {
        "colab": {
          "base_uri": "https://localhost:8080/"
        },
        "id": "D6y-KAk3unqg",
        "outputId": "3fa248ab-acca-4efd-f986-8d0d83ad0dc7"
      },
      "outputs": [
        {
          "data": {
            "text/plain": [
              "12"
            ]
          },
          "execution_count": 12,
          "metadata": {},
          "output_type": "execute_result"
        }
      ],
      "source": [
        "len(train_dataloader)"
      ]
    },
    {
      "cell_type": "markdown",
      "metadata": {
        "id": "VsOnZ-HouqDe"
      },
      "source": [
        "## Define Model Architecture"
      ]
    },
    {
      "cell_type": "markdown",
      "metadata": {
        "id": "jmh7PjlyvNr2"
      },
      "source": [
        "### Our Encoder Model\n",
        "\n",
        "The EncoderGRU below processes input sequences using a Gated Recurrent Unit (GRU) network. It is designed to capture temporal dependencies and compress the full input sequence into a single hidden state that summarizes the important patterns and dynamics over time.\n",
        "\n",
        "Unlike the LSTM, the GRU architecture uses a simpler gating mechanism, making it computationally more efficient while still effectively learning long-term dependencies. This encoder takes in multivariate weather data (e.g., temperature, humidity, wind speed, pressure) and returns only the final hidden state — a compact representation of the entire sequence.\n",
        "\n",
        "This hidden state is then used to initialize the decoder in the sequence-to-sequence architecture, enabling the model to generate future predictions based on the learned context of the input sequence."
      ]
    },
    {
      "cell_type": "markdown",
      "metadata": {
        "id": "zjb0E2uy4QH7"
      },
      "source": [
        "#### Define Encoder class"
      ]
    },
    {
      "cell_type": "code",
      "execution_count": 13,
      "metadata": {
        "id": "ay2_O7__vqUE"
      },
      "outputs": [],
      "source": [
        "# Numpy\n",
        "import numpy as np\n",
        "# Torch\n",
        "import torch\n",
        "import torch.nn as nn"
      ]
    },
    {
      "cell_type": "code",
      "execution_count": 14,
      "metadata": {
        "id": "efgfQs-C4PdC"
      },
      "outputs": [],
      "source": [
        "class EncoderGRU(nn.Module):\n",
        "    def __init__(self, input_size, hidden_size, num_layers = 1, dropout = 0.0):\n",
        "        super(EncoderGRU, self).__init__()\n",
        "\n",
        "        self.hidden_size = hidden_size\n",
        "        self.num_layers = num_layers\n",
        "\n",
        "        self.gru = nn.GRU(input_size, hidden_size,\n",
        "                          num_layers = num_layers,\n",
        "                          dropout = dropout if num_layers > 1 else 0.0,\n",
        "                          batch_first = False)\n",
        "\n",
        "    def forward(self, input_seq):\n",
        "        # input_seq: (seq_len, batch_size, input_size)\n",
        "        output, hidden = self.gru(input_seq)\n",
        "        return hidden"
      ]
    },
    {
      "cell_type": "code",
      "execution_count": 15,
      "metadata": {
        "colab": {
          "base_uri": "https://localhost:8080/"
        },
        "id": "7uhXWtb46Sz2",
        "outputId": "7471197d-5fe8-4835-ea5e-130b9f402350"
      },
      "outputs": [
        {
          "name": "stdout",
          "output_type": "stream",
          "text": [
            "EncoderGRU(\n",
            "  (gru): GRU(4, 64)\n",
            ")\n"
          ]
        }
      ],
      "source": [
        "# Defining our EncoderRNN model\n",
        "hidden_size = 64\n",
        "encoder_model = EncoderGRU(4, hidden_size)\n",
        "print(encoder_model)"
      ]
    },
    {
      "cell_type": "markdown",
      "metadata": {
        "id": "yXzAz8MMw1oV"
      },
      "source": [
        "#### Testing Encoder model"
      ]
    },
    {
      "cell_type": "code",
      "execution_count": 18,
      "metadata": {
        "colab": {
          "base_uri": "https://localhost:8080/"
        },
        "id": "sPZ8F6Ua6c0f",
        "outputId": "d0239c43-4529-4c65-b659-de3542b47905"
      },
      "outputs": [
        {
          "name": "stdout",
          "output_type": "stream",
          "text": [
            "Input shape to encoder: torch.Size([30, 128, 4])\n",
            "Encoder output (last hidden state) shape: torch.Size([1, 128, 64])\n",
            "Sample vector: tensor([[-0.0613,  0.0005,  0.0925,  ..., -0.0968, -0.1059,  0.0902],\n",
            "        [ 0.0585,  0.0454,  0.2465,  ..., -0.1023, -0.1212,  0.1075],\n",
            "        [-0.0395, -0.0707,  0.0620,  ..., -0.0628,  0.1722, -0.0149],\n",
            "        ...,\n",
            "        [-0.0316, -0.0870,  0.1575,  ..., -0.1427,  0.0827, -0.0223],\n",
            "        [-0.1055, -0.0447,  0.1526,  ..., -0.1378, -0.0367,  0.0406],\n",
            "        [-0.0386, -0.0954,  0.0858,  ..., -0.1199,  0.1921, -0.0848]],\n",
            "       grad_fn=<SelectBackward0>)\n"
          ]
        }
      ],
      "source": [
        "# Grab one batch from the train dataloader\n",
        "inputs, _ = next(iter(train_dataloader))  # inputs shape: (batch_size, seq_len, input_size)\n",
        "\n",
        "# Rearrange for GRU: (seq_len, batch_size, input_size)\n",
        "inputs = inputs.permute(1, 0, 2)  # (seq_len, batch_size, input_size)\n",
        "\n",
        "print(\"Input shape to encoder:\", inputs.shape)  # Should be (seq_len, batch_size, 4)\n",
        "\n",
        "# Pass through encoder\n",
        "encoder_out = encoder_model(inputs)\n",
        "\n",
        "print(\"Encoder output (last hidden state) shape:\", encoder_out.shape)  # (1, batch_size, hidden_size)\n",
        "print(\"Sample vector:\", encoder_out[0])"
      ]
    },
    {
      "cell_type": "markdown",
      "metadata": {
        "id": "Fcu36kIQ8OgR"
      },
      "source": [
        "### Our Decoder Model\n",
        "\n",
        "The DecoderGRU class is a PyTorch module designed to serve as the decoder in a sequence-to-sequence architecture. It processes input sequences using a Gated Recurrent Unit (GRU), which efficiently models temporal dependencies with a simpler structure than LSTM.\n",
        "\n",
        "At each decoding step, the model takes in a multivariate feature vector (e.g., temperature, humidity, wind speed, pressure) and a hidden state from the encoder. It produces the next predicted output through a linear layer that maps the GRU’s hidden state to the desired feature space.\n",
        "\n",
        "The decoder supports teacher forcing during training, using either the ground-truth features or its own previous prediction as input for the next step. This design enables it to generate multi-step forecasts in an autoregressive manner while retaining the context learned by the encoder."
      ]
    },
    {
      "cell_type": "markdown",
      "metadata": {
        "id": "sYc02pSlytwO"
      },
      "source": [
        "#### Define Decoder class"
      ]
    },
    {
      "cell_type": "code",
      "execution_count": 23,
      "metadata": {
        "id": "Tle-kYjf8AM9"
      },
      "outputs": [],
      "source": [
        "class DecoderGRU(nn.Module):\n",
        "    def __init__(self, hidden_size, feature_size, num_layers = 1, dropout = 0.0):\n",
        "        super(DecoderGRU, self).__init__()\n",
        "        self.hidden_size = hidden_size\n",
        "        self.feature_size = feature_size # 4 features\n",
        "\n",
        "        self.gru = nn.GRU(input_size=feature_size,\n",
        "                          hidden_size=hidden_size,\n",
        "                          dropout = dropout if num_layers > 1 else 0.0,\n",
        "                          batch_first=False)\n",
        "\n",
        "        self.linear = nn.Linear(hidden_size, feature_size)\n",
        "\n",
        "    def forward(self, x, hidden, output_length, target=None):\n",
        "        outputs = []\n",
        "        decoder_input = x  # shape: (1, batch_size, 4)\n",
        "\n",
        "        for i in range(output_length):\n",
        "            # One step forward through GRU\n",
        "            decoder_output, hidden = self.gru(decoder_input, hidden)\n",
        "            decoder_output = self.linear(decoder_output)  # shape: (1, batch_size, 4)\n",
        "            outputs.append(decoder_output)\n",
        "\n",
        "            if target is not None:\n",
        "                # Teacher forcing: use actual target\n",
        "                decoder_input = target[i].unsqueeze(0)  # shape: (1, batch_size, 4)\n",
        "            else:\n",
        "                # Auto-regressive: use own prediction\n",
        "                decoder_input = decoder_output.detach()  # detach to prevent gradient flow\n",
        "\n",
        "        return torch.cat(outputs, dim=0)  # shape: (output_length, batch_size, 1)"
      ]
    },
    {
      "cell_type": "code",
      "execution_count": 24,
      "metadata": {
        "colab": {
          "base_uri": "https://localhost:8080/"
        },
        "id": "M8E7-KNs8yQE",
        "outputId": "5eadd1f6-a22f-484f-94aa-ccbd933f7eaa"
      },
      "outputs": [
        {
          "name": "stdout",
          "output_type": "stream",
          "text": [
            "DecoderGRU(\n",
            "  (gru): GRU(4, 64)\n",
            "  (linear): Linear(in_features=64, out_features=4, bias=True)\n",
            ")\n"
          ]
        }
      ],
      "source": [
        "# Defining our DecoderRNN model\n",
        "decoder_model = DecoderGRU(hidden_size = hidden_size, feature_size = 4)\n",
        "print(decoder_model)"
      ]
    },
    {
      "cell_type": "markdown",
      "metadata": {
        "id": "36qOgPg3yw2r"
      },
      "source": [
        "#### Testing Decoder model"
      ]
    },
    {
      "cell_type": "code",
      "execution_count": 25,
      "metadata": {
        "colab": {
          "base_uri": "https://localhost:8080/"
        },
        "id": "iJDTmEKx96Mg",
        "outputId": "198e43c8-7353-4afd-ebd4-ac93673cf1ab"
      },
      "outputs": [
        {
          "name": "stdout",
          "output_type": "stream",
          "text": [
            "Decoder output shape: torch.Size([7, 128, 4])\n"
          ]
        }
      ],
      "source": [
        "# Testing our DecoderRNN model\n",
        "\n",
        "# Get a batch from dataloader\n",
        "inputs, _ = next(iter(train_dataloader))  # inputs: (batch_size, seq_length, input_size)\n",
        "\n",
        "# Permute for encoder: (seq_length, batch_size, input_size)\n",
        "encoder_input = inputs.permute(1, 0, 2)\n",
        "\n",
        "# Pass through encoder\n",
        "encoder_hidden = encoder_model(encoder_input)  # shape: (1, batch_size, hidden_size)\n",
        "\n",
        "# Initial decoder input: zeros, shape (1, batch_size, 1)\n",
        "decoder_input = torch.zeros(1, inputs.size(0), 4).to(encoder_input.device)\n",
        "\n",
        "# Run decoder\n",
        "decoder_output = decoder_model(decoder_input, encoder_hidden, n_outputs)\n",
        "\n",
        "# Output shape: (T_out, B, 1)\n",
        "print(\"Decoder output shape:\", decoder_output.shape)"
      ]
    },
    {
      "cell_type": "markdown",
      "metadata": {
        "id": "oVmud6MSy3FG"
      },
      "source": [
        "### Our Seq2Seq Model\n",
        "\n",
        "By assembling the EncoderGRU and DecoderGRU classes, the Seq2SeqGRU class implements a sequence-to-sequence model using an encoder-decoder architecture built with GRUs.\n",
        "\n",
        "The encoder processes the entire input sequence — consisting of multiple time steps and multiple weather features — and compresses it into a final hidden state. This hidden state captures the temporal patterns and context of the input data and serves as the initial memory for the decoder.\n",
        "\n",
        "The decoder then uses this context to generate the output sequence one timestep at a time, predicting all target features (e.g., temperature, humidity, wind speed, pressure) for each future step. During training, it can optionally use teacher forcing, feeding the ground-truth values into subsequent steps to improve convergence.\n",
        "\n",
        "This design enables the model to make informed, multi-step forecasts of all relevant features based on learned temporal dynamics from the input sequence."
      ]
    },
    {
      "cell_type": "markdown",
      "metadata": {
        "id": "ISTxq5dazrZp"
      },
      "source": [
        "#### Define Seq2Seq class"
      ]
    },
    {
      "cell_type": "code",
      "execution_count": 26,
      "metadata": {
        "id": "LM1wdc2P-0Y0"
      },
      "outputs": [],
      "source": [
        "class Seq2SeqGRU(nn.Module):\n",
        "    def __init__(self, hidden_size, feature_size, output_size, num_layers=1):\n",
        "        super(Seq2SeqGRU, self).__init__()\n",
        "\n",
        "        self.output_length = output_size\n",
        "\n",
        "        self.encoder = EncoderGRU(input_size=feature_size, # 4 features\n",
        "                                  hidden_size=hidden_size,\n",
        "                                  num_layers= num_layers)\n",
        "\n",
        "        self.decoder = DecoderGRU(hidden_size=hidden_size,\n",
        "                                  feature_size=feature_size,\n",
        "                                  num_layers=num_layers)  # 4 features\n",
        "\n",
        "    def forward(self, inputs, outputs=None):\n",
        "        \"\"\"\n",
        "        Args:\n",
        "            inputs: shape (seq_len, batch_size, input_size=4)\n",
        "            outputs: optional teacher forcing target, shape (output_length, batch_size, 1)\n",
        "        \"\"\"\n",
        "        hidden = self.encoder(inputs)  # returns (1, batch_size, hidden_size)\n",
        "\n",
        "        # Initial decoder input: zeros (1, batch_size, 4)\n",
        "        decoder_input = torch.zeros(1, inputs.shape[1], self.decoder.feature_size).to(inputs.device)\n",
        "\n",
        "        # Pass to decoder\n",
        "        output = self.decoder(decoder_input, hidden, self.output_length, outputs)\n",
        "        return output  # shape: (output_length, batch_size, 1)"
      ]
    },
    {
      "cell_type": "code",
      "execution_count": 27,
      "metadata": {
        "colab": {
          "base_uri": "https://localhost:8080/"
        },
        "id": "q_jTm_nWAsxB",
        "outputId": "33c2b165-22ad-46cf-cade-3ef6c6a59d7b"
      },
      "outputs": [
        {
          "name": "stdout",
          "output_type": "stream",
          "text": [
            "Seq2SeqGRU(\n",
            "  (encoder): EncoderGRU(\n",
            "    (gru): GRU(4, 64)\n",
            "  )\n",
            "  (decoder): DecoderGRU(\n",
            "    (gru): GRU(4, 64)\n",
            "    (linear): Linear(in_features=64, out_features=4, bias=True)\n",
            "  )\n",
            ")\n"
          ]
        }
      ],
      "source": [
        "# Defining our Seq2Seq model\n",
        "seq2seq_model = Seq2SeqGRU(hidden_size = hidden_size, \\\n",
        "                          feature_size = 4, \\\n",
        "                          output_size = n_outputs)\n",
        "print(seq2seq_model)"
      ]
    },
    {
      "cell_type": "markdown",
      "metadata": {
        "id": "4VFe3IH43Frj"
      },
      "source": [
        "#### Testing seq2seq model"
      ]
    },
    {
      "cell_type": "code",
      "execution_count": 29,
      "metadata": {
        "colab": {
          "base_uri": "https://localhost:8080/"
        },
        "id": "I4527_oiAwig",
        "outputId": "16c06e3d-866f-4062-cadf-a24ab6ea673a"
      },
      "outputs": [
        {
          "name": "stdout",
          "output_type": "stream",
          "text": [
            "Input shape: torch.Size([30, 128, 4])\n",
            "Target shape: torch.Size([7, 128, 4])\n",
            "Output shape: torch.Size([7, 128, 4])\n"
          ]
        }
      ],
      "source": [
        "# Instantiate model\n",
        "seq2seq_model = Seq2SeqGRU(hidden_size=hidden_size, feature_size = 4, output_size=n_outputs).to(device)\n",
        "\n",
        "# Get a batch from the dataloader\n",
        "inputs, outputs = next(iter(train_dataloader))  # shapes: (B, T_in, 4), (B, T_out)\n",
        "\n",
        "inputs = inputs.to(device)\n",
        "outputs = outputs.to(device)\n",
        "\n",
        "# Permute to (seq_length, batch_size, input_size)\n",
        "inputs = inputs.permute(1, 0, 2)\n",
        "outputs = outputs.permute(1, 0, 2)\n",
        "\n",
        "print(\"Input shape:\", inputs.shape)   # (input_seq_len, batch_size, 4)\n",
        "print(\"Target shape:\", outputs.shape) # (output_seq_len, batch_size, 1)\n",
        "\n",
        "# Forward pass\n",
        "seq2seq_out = seq2seq_model(inputs, outputs)\n",
        "\n",
        "print(\"Output shape:\", seq2seq_out.shape)  # (output_seq_len, batch_size, 1)"
      ]
    },
    {
      "cell_type": "markdown",
      "metadata": {
        "id": "NCSgP6gY3VhG"
      },
      "source": [
        "## Model training"
      ]
    },
    {
      "cell_type": "markdown",
      "metadata": {
        "id": "vncKaJfE3WWw"
      },
      "source": [
        "### Define function for training\n"
      ]
    },
    {
      "cell_type": "code",
      "execution_count": 31,
      "metadata": {
        "id": "Oo20b4OTBkmO"
      },
      "outputs": [],
      "source": [
        "loss_storage = []\n",
        "\n",
        "def train(dataloader, model, num_epochs, learning_rate, device):\n",
        "    # Set model to training mode\n",
        "    model.train()\n",
        "\n",
        "    criterion = nn.MSELoss()\n",
        "    optimizer = torch.optim.Adam(model.parameters(), lr=learning_rate)\n",
        "\n",
        "    for epoch in range(num_epochs):\n",
        "        total_loss = 0\n",
        "\n",
        "        for inputs, targets in dataloader:\n",
        "            # Move to device\n",
        "            inputs = inputs.to(device)\n",
        "            targets = targets.to(device)\n",
        "\n",
        "            # Reshape to (seq_len, batch_size, input_size)\n",
        "            inputs = inputs.permute(1, 0, 2)  # (T_in, B, 4)\n",
        "            targets = targets.permute(1, 0, 2)  # (T_out, B, 4)\n",
        "\n",
        "            # Zero gradients\n",
        "            optimizer.zero_grad()\n",
        "\n",
        "            # Forward pass with teacher forcing\n",
        "            predictions = model(inputs, targets)\n",
        "\n",
        "            # Compute loss\n",
        "            loss = criterion(predictions, targets)\n",
        "            total_loss += loss.item()\n",
        "\n",
        "            # Backward pass and optimize\n",
        "            loss.backward()\n",
        "            optimizer.step()\n",
        "\n",
        "        avg_loss = total_loss / len(dataloader)\n",
        "        loss_storage.append(avg_loss)\n",
        "\n",
        "        # Print loss periodically\n",
        "        if (epoch + 1) % 25 == 0 or epoch == 0:\n",
        "            print(f\"Epoch {epoch + 1}/{num_epochs}, Avg Loss: {avg_loss:.4f}\")"
      ]
    },
    {
      "cell_type": "markdown",
      "metadata": {
        "id": "ovTHSMzJ5iCc"
      },
      "source": [
        "### Instantiate a model from Seq2Seq class"
      ]
    },
    {
      "cell_type": "code",
      "execution_count": 32,
      "metadata": {
        "id": "HtTLM6dH5t-C"
      },
      "outputs": [],
      "source": [
        "# Hyperparameters\n",
        "hidden_size = 64\n",
        "feature_size = 4\n",
        "num_epochs = 1051\n",
        "num_layers = 1\n",
        "dropout_rate = 0.1\n",
        "\n",
        "seq2seq_model = Seq2SeqGRU(hidden_size=hidden_size,\n",
        "                           feature_size = feature_size,\n",
        "                           output_size=n_outputs,\n",
        "                           num_layers=num_layers).to(device)"
      ]
    },
    {
      "cell_type": "code",
      "execution_count": 33,
      "metadata": {
        "colab": {
          "base_uri": "https://localhost:8080/"
        },
        "id": "s5fRqAso7T_h",
        "outputId": "c2fe9119-5b86-4c80-d794-3f2b94276f02"
      },
      "outputs": [
        {
          "data": {
            "text/plain": [
              "Seq2SeqGRU(\n",
              "  (encoder): EncoderGRU(\n",
              "    (gru): GRU(4, 64)\n",
              "  )\n",
              "  (decoder): DecoderGRU(\n",
              "    (gru): GRU(4, 64)\n",
              "    (linear): Linear(in_features=64, out_features=4, bias=True)\n",
              "  )\n",
              ")"
            ]
          },
          "execution_count": 33,
          "metadata": {},
          "output_type": "execute_result"
        }
      ],
      "source": [
        "seq2seq_model"
      ]
    },
    {
      "cell_type": "markdown",
      "metadata": {
        "id": "KDOXCMEn7j7T"
      },
      "source": [
        "### Train model"
      ]
    },
    {
      "cell_type": "code",
      "execution_count": 34,
      "metadata": {
        "colab": {
          "base_uri": "https://localhost:8080/"
        },
        "id": "Sgw31xOfC6AY",
        "outputId": "96a2c0c7-13ee-4684-eba7-b58f56d9f3df"
      },
      "outputs": [
        {
          "name": "stdout",
          "output_type": "stream",
          "text": [
            "Epoch 1/1051, Avg Loss: 0.9029\n",
            "Epoch 25/1051, Avg Loss: 0.5065\n",
            "Epoch 50/1051, Avg Loss: 0.4256\n",
            "Epoch 75/1051, Avg Loss: 0.3273\n",
            "Epoch 100/1051, Avg Loss: 0.2497\n",
            "Epoch 125/1051, Avg Loss: 0.2172\n",
            "Epoch 150/1051, Avg Loss: 0.2046\n",
            "Epoch 175/1051, Avg Loss: 0.1914\n",
            "Epoch 200/1051, Avg Loss: 0.1730\n",
            "Epoch 225/1051, Avg Loss: 0.1621\n",
            "Epoch 250/1051, Avg Loss: 0.1614\n",
            "Epoch 275/1051, Avg Loss: 0.1379\n",
            "Epoch 300/1051, Avg Loss: 0.1305\n",
            "Epoch 325/1051, Avg Loss: 0.1225\n",
            "Epoch 350/1051, Avg Loss: 0.1154\n",
            "Epoch 375/1051, Avg Loss: 0.1093\n",
            "Epoch 400/1051, Avg Loss: 0.1071\n",
            "Epoch 425/1051, Avg Loss: 0.0973\n",
            "Epoch 450/1051, Avg Loss: 0.0940\n",
            "Epoch 475/1051, Avg Loss: 0.0899\n",
            "Epoch 500/1051, Avg Loss: 0.0855\n",
            "Epoch 525/1051, Avg Loss: 0.0826\n",
            "Epoch 550/1051, Avg Loss: 0.0769\n",
            "Epoch 575/1051, Avg Loss: 0.0755\n",
            "Epoch 600/1051, Avg Loss: 0.0715\n",
            "Epoch 625/1051, Avg Loss: 0.0704\n",
            "Epoch 650/1051, Avg Loss: 0.0659\n",
            "Epoch 675/1051, Avg Loss: 0.0645\n",
            "Epoch 700/1051, Avg Loss: 0.0633\n",
            "Epoch 725/1051, Avg Loss: 0.0599\n",
            "Epoch 750/1051, Avg Loss: 0.0587\n",
            "Epoch 775/1051, Avg Loss: 0.0532\n",
            "Epoch 800/1051, Avg Loss: 0.0541\n",
            "Epoch 825/1051, Avg Loss: 0.0502\n",
            "Epoch 850/1051, Avg Loss: 0.0561\n",
            "Epoch 875/1051, Avg Loss: 0.0482\n",
            "Epoch 900/1051, Avg Loss: 0.0463\n",
            "Epoch 925/1051, Avg Loss: 0.0472\n",
            "Epoch 950/1051, Avg Loss: 0.0445\n",
            "Epoch 975/1051, Avg Loss: 0.0450\n",
            "Epoch 1000/1051, Avg Loss: 0.0466\n",
            "Epoch 1025/1051, Avg Loss: 0.0398\n",
            "Epoch 1050/1051, Avg Loss: 0.0416\n",
            "2min 6s ± 0 ns per loop (mean ± std. dev. of 1 run, 1 loop each)\n"
          ]
        }
      ],
      "source": [
        "# Run training for warm-up\n",
        "%timeit -r 1 -n 1 train( dataloader=train_dataloader, model=seq2seq_model, num_epochs=num_epochs, learning_rate=1e-3, device=device)"
      ]
    },
    {
      "cell_type": "markdown",
      "metadata": {
        "id": "YU-CPRVk8EhT"
      },
      "source": [
        "### Save the model parameter"
      ]
    },
    {
      "cell_type": "code",
      "execution_count": null,
      "metadata": {
        "colab": {
          "base_uri": "https://localhost:8080/"
        },
        "id": "PVy_etnL8H1x",
        "outputId": "59622a62-3306-4e38-a95b-564c11568415"
      },
      "outputs": [
        {
          "name": "stdout",
          "output_type": "stream",
          "text": [
            "Model saved to: ../models_weights_storage/seq2seq_autoregressive_GRU.pth\n"
          ]
        }
      ],
      "source": [
        "# save model before eval\n",
        "import torch\n",
        "import os\n",
        "\n",
        "model_name=\"seq2seq_autoregressive_GRU\"\n",
        "\n",
        "# Path to save model\n",
        "model_path = os.path.join(\"../models_weights_storage\", f'{model_name}.pth')\n",
        "\n",
        "# Save the model's state dict\n",
        "torch.save(seq2seq_model.state_dict(), model_path)\n",
        "print(f\"Model saved to: {model_path}\")"
      ]
    },
    {
      "cell_type": "code",
      "execution_count": 37,
      "metadata": {
        "colab": {
          "base_uri": "https://localhost:8080/"
        },
        "id": "BX-8ROTC9QXv",
        "outputId": "27cffafe-c0fc-44cb-facf-6aa9faa2bb24"
      },
      "outputs": [
        {
          "data": {
            "text/plain": [
              "[0.9029224663972855,\n",
              " 0.7610846981406212,\n",
              " 0.6231614301602045,\n",
              " 0.5642748773097992,\n",
              " 0.5410257006684939,\n",
              " 0.537746592114369,\n",
              " 0.5291583612561226,\n",
              " 0.5183665206034979,\n",
              " 0.5135171810785929,\n",
              " 0.5133767078320185,\n",
              " 0.5031907086571058,\n",
              " 0.5064944426218668,\n",
              " 0.5025105600555738,\n",
              " 0.49772103875875473,\n",
              " 0.4947575703263283,\n",
              " 0.5091805905103683,\n",
              " 0.49163520336151123,\n",
              " 0.49731194227933884,\n",
              " 0.49095237875978154,\n",
              " 0.4932182307044665,\n",
              " 0.4880551832417647,\n",
              " 0.500492541740338,\n",
              " 0.48657629763086635,\n",
              " 0.6951718740165234,\n",
              " 0.5064723653097948,\n",
              " 0.6854418019453684,\n",
              " 0.4947519525885582,\n",
              " 0.48218640064199764,\n",
              " 0.4779203571379185,\n",
              " 0.4854293887813886,\n",
              " 0.47166676074266434,\n",
              " 0.47282468651731807,\n",
              " 0.6862465043862661,\n",
              " 0.4716090299189091,\n",
              " 0.4760975018143654,\n",
              " 0.47146741797526676,\n",
              " 0.6711217649281025,\n",
              " 0.4736982708175977,\n",
              " 0.4797196375826995,\n",
              " 0.46243572731812793,\n",
              " 0.46175530180335045,\n",
              " 0.46302864452203113,\n",
              " 0.4622560751934846,\n",
              " 0.4610408904651801,\n",
              " 0.4586513539155324,\n",
              " 0.47160330911477405,\n",
              " 0.4504120983183384,\n",
              " 0.4343833823998769,\n",
              " 0.43980934967597324,\n",
              " 0.4256082586944103,\n",
              " 0.4162159065405528,\n",
              " 0.4187011234462261,\n",
              " 0.41073260828852654,\n",
              " 0.401781698067983,\n",
              " 0.6246870085597038,\n",
              " 0.4703221283853054,\n",
              " 0.4633403594295184,\n",
              " 0.4560123297075431,\n",
              " 0.4463128559291363,\n",
              " 0.4380871082345645,\n",
              " 0.42673470452427864,\n",
              " 0.4251689563194911,\n",
              " 0.5331024515132109,\n",
              " 0.3910585530102253,\n",
              " 0.3763616755604744,\n",
              " 0.37188885857661563,\n",
              " 0.36515628919005394,\n",
              " 0.35033515095710754,\n",
              " 0.3577141799032688,\n",
              " 0.34031105662385625,\n",
              " 0.3583892496923606,\n",
              " 0.3404740206897259,\n",
              " 0.3379369874795278,\n",
              " 0.3300487200419108,\n",
              " 0.32732293382287025,\n",
              " 0.325289998203516,\n",
              " 0.31524315600593883,\n",
              " 0.3104822275539239,\n",
              " 0.30509566018978757,\n",
              " 0.30443290372689563,\n",
              " 0.3065585307776928,\n",
              " 0.29013558849692345,\n",
              " 0.29305242002010345,\n",
              " 0.289001206556956,\n",
              " 0.2859005133310954,\n",
              " 0.2809889440735181,\n",
              " 0.27832671999931335,\n",
              " 0.2778113509217898,\n",
              " 0.27914195135235786,\n",
              " 0.27948084473609924,\n",
              " 0.2712627264360587,\n",
              " 0.2755022371808688,\n",
              " 0.2621573234597842,\n",
              " 0.25836655249198276,\n",
              " 0.2582814196745555,\n",
              " 0.2542911432683468,\n",
              " 0.2544621328512828,\n",
              " 0.2592238833506902,\n",
              " 0.300434660166502,\n",
              " 0.2497341533501943,\n",
              " 0.26531005402406055,\n",
              " 0.2695827918748061,\n",
              " 0.27378137906392414,\n",
              " 0.24025672922531763,\n",
              " 0.2556532546877861,\n",
              " 0.2378625931839148,\n",
              " 0.23237908507386842,\n",
              " 0.23485712086160979,\n",
              " 0.23546474799513817,\n",
              " 0.23660320291916528,\n",
              " 0.23594043403863907,\n",
              " 0.24258516107996306,\n",
              " 0.23196658492088318,\n",
              " 0.23101825887958208,\n",
              " 0.23685518031318983,\n",
              " 0.22615708783268929,\n",
              " 0.23485605667034784,\n",
              " 0.22360091656446457,\n",
              " 0.22890803714593252,\n",
              " 0.2223847582936287,\n",
              " 0.21934645002086958,\n",
              " 0.22258860990405083,\n",
              " 0.22458464528123537,\n",
              " 0.22186127677559853,\n",
              " 0.21720502401391664,\n",
              " 0.2204254368940989,\n",
              " 0.2167672999203205,\n",
              " 0.21355541671315828,\n",
              " 0.2143820015092691,\n",
              " 0.2138015516102314,\n",
              " 0.21181129912535349,\n",
              " 0.2133637989560763,\n",
              " 0.21368441234032312,\n",
              " 0.20978282392024994,\n",
              " 0.20932700609167418,\n",
              " 0.2176917331914107,\n",
              " 0.21019591142733893,\n",
              " 0.20900807405511537,\n",
              " 0.20924744134147963,\n",
              " 0.20528619363904,\n",
              " 0.2052551805973053,\n",
              " 0.2050931751728058,\n",
              " 0.20538119847575823,\n",
              " 0.20039150739709535,\n",
              " 0.20067899425824484,\n",
              " 0.20166116083661714,\n",
              " 0.20647687589128813,\n",
              " 0.2046549084285895,\n",
              " 0.20393471295634905,\n",
              " 0.20458157484730086,\n",
              " 0.20593114073077837,\n",
              " 0.19845625882347426,\n",
              " 0.20101345206300417,\n",
              " 0.20568465441465378,\n",
              " 0.19895549615224203,\n",
              " 0.20859205598632494,\n",
              " 0.1970964359740416,\n",
              " 0.19426540409525236,\n",
              " 0.19842862834533057,\n",
              " 0.1936894953250885,\n",
              " 0.19212369744976363,\n",
              " 0.19698694224158922,\n",
              " 0.19424489264686903,\n",
              " 0.1929748815794786,\n",
              " 0.19224177300930023,\n",
              " 0.18933769563833872,\n",
              " 0.18962290386358896,\n",
              " 0.19078409920136133,\n",
              " 0.18682232995827994,\n",
              " 0.18918536603450775,\n",
              " 0.18759724497795105,\n",
              " 0.1865407389899095,\n",
              " 0.18664597595731416,\n",
              " 0.1901918724179268,\n",
              " 0.19144881392518678,\n",
              " 0.18358974158763885,\n",
              " 0.1856098361313343,\n",
              " 0.18553492923577627,\n",
              " 0.1869227116306623,\n",
              " 0.1818202572564284,\n",
              " 0.18137268597880998,\n",
              " 0.1783708818256855,\n",
              " 0.18185933430989584,\n",
              " 0.17885826155543327,\n",
              " 0.19214078659812608,\n",
              " 0.18738352631529173,\n",
              " 0.17904439071814218,\n",
              " 0.17929102977116904,\n",
              " 0.17608235031366348,\n",
              " 0.18017846470077833,\n",
              " 0.17869340255856514,\n",
              " 0.17698035637537637,\n",
              " 0.17779084667563438,\n",
              " 0.17740230883161226,\n",
              " 0.1770744944612185,\n",
              " 0.17311697949965796,\n",
              " 0.17561285818616548,\n",
              " 0.17432808006803194,\n",
              " 0.16910769790410995,\n",
              " 0.17296419913570085,\n",
              " 0.17222005128860474,\n",
              " 0.17308272421360016,\n",
              " 0.17308600495258966,\n",
              " 0.17139552409450212,\n",
              " 0.17340788121024767,\n",
              " 0.17112607633074126,\n",
              " 0.16768096139033636,\n",
              " 0.16913521165649095,\n",
              " 0.1670610619088014,\n",
              " 0.16911243771513304,\n",
              " 0.16658923899134,\n",
              " 0.16705921043952307,\n",
              " 0.16412963966528574,\n",
              " 0.16267711172501245,\n",
              " 0.16225666925311089,\n",
              " 0.16543296972910562,\n",
              " 0.16532917569080988,\n",
              " 0.16893518343567848,\n",
              " 0.16287145391106606,\n",
              " 0.16841387872894606,\n",
              " 0.16045433531204858,\n",
              " 0.16002574438850084,\n",
              " 0.16053099930286407,\n",
              " 0.15869171917438507,\n",
              " 0.16209029157956442,\n",
              " 0.15556542575359344,\n",
              " 0.15789989257852236,\n",
              " 0.15926016867160797,\n",
              " 0.15802130475640297,\n",
              " 0.157244344552358,\n",
              " 0.1578734964132309,\n",
              " 0.1538644420603911,\n",
              " 0.1518684228261312,\n",
              " 0.15442600597937903,\n",
              " 0.16067443042993546,\n",
              " 0.15638011073072752,\n",
              " 0.15787723287940025,\n",
              " 0.15862124289075533,\n",
              " 0.15260164563854536,\n",
              " 0.15403221920132637,\n",
              " 0.1517908088862896,\n",
              " 0.14619089973469576,\n",
              " 0.1487799622118473,\n",
              " 0.14903931443889937,\n",
              " 0.15168065081040064,\n",
              " 0.1545131355524063,\n",
              " 0.15301730607946715,\n",
              " 0.14947841440637907,\n",
              " 0.15416804949442545,\n",
              " 0.1614408791065216,\n",
              " 0.15472503503163657,\n",
              " 0.15029613425334296,\n",
              " 0.14677254234751066,\n",
              " 0.1464401309688886,\n",
              " 0.14899618302782378,\n",
              " 0.1465724507967631,\n",
              " 0.1448113638907671,\n",
              " 0.14178622948626676,\n",
              " 0.14639929185311,\n",
              " 0.14218284313877425,\n",
              " 0.14437101284662882,\n",
              " 0.14232057891786098,\n",
              " 0.14021193670729795,\n",
              " 0.14171748732527098,\n",
              " 0.14406762396295866,\n",
              " 0.14335166538755098,\n",
              " 0.14006171996394792,\n",
              " 0.14635641872882843,\n",
              " 0.13889742332200208,\n",
              " 0.1401074081659317,\n",
              " 0.137404037018617,\n",
              " 0.13887371122837067,\n",
              " 0.13981670575837293,\n",
              " 0.13783963148792586,\n",
              " 0.13786695897579193,\n",
              " 0.14181428402662277,\n",
              " 0.13845345129569372,\n",
              " 0.1362663016964992,\n",
              " 0.13957384849588075,\n",
              " 0.13516170096894106,\n",
              " 0.13702799876530966,\n",
              " 0.1345166756461064,\n",
              " 0.13422660902142525,\n",
              " 0.13667713105678558,\n",
              " 0.13786189754803976,\n",
              " 0.13527563028037548,\n",
              " 0.13318556981782118,\n",
              " 0.1306948730101188,\n",
              " 0.13106737720469633,\n",
              " 0.13213930713633695,\n",
              " 0.1374063603579998,\n",
              " 0.14124249666929245,\n",
              " 0.13548063610990843,\n",
              " 0.13103391540547213,\n",
              " 0.1297970780481895,\n",
              " 0.13206944800913334,\n",
              " 0.13122022151947021,\n",
              " 0.1332326785971721,\n",
              " 0.13272938380638757,\n",
              " 0.1304574596385161,\n",
              " 0.12861626533170542,\n",
              " 0.12875623938937983,\n",
              " 0.13035941434403261,\n",
              " 0.13015916446844736,\n",
              " 0.13023332382241884,\n",
              " 0.13054238942762217,\n",
              " 0.12970969143013159,\n",
              " 0.1293830598394076,\n",
              " 0.12623994859556356,\n",
              " 0.12820667711397013,\n",
              " 0.1262055573364099,\n",
              " 0.1265231209496657,\n",
              " 0.12874745267132917,\n",
              " 0.1292305209984382,\n",
              " 0.12641315534710884,\n",
              " 0.12952153322597346,\n",
              " 0.12674351905783018,\n",
              " 0.12675230763852596,\n",
              " 0.1237593051046133,\n",
              " 0.12429866567254066,\n",
              " 0.1255968747039636,\n",
              " 0.12195470370352268,\n",
              " 0.12358069295684497,\n",
              " 0.11918759408096473,\n",
              " 0.12254600723584493,\n",
              " 0.12158345058560371,\n",
              " 0.12367556802928448,\n",
              " 0.11898599999646346,\n",
              " 0.1197224414596955,\n",
              " 0.11838203358153503,\n",
              " 0.11934789394338925,\n",
              " 0.12266985885798931,\n",
              " 0.12258304407199223,\n",
              " 0.11863245132068793,\n",
              " 0.12057776066164176,\n",
              " 0.1288293730467558,\n",
              " 0.12515636533498764,\n",
              " 0.12182565095523994,\n",
              " 0.11842776462435722,\n",
              " 0.1190263672421376,\n",
              " 0.11973700299859047,\n",
              " 0.11673688826461633,\n",
              " 0.11747427036364873,\n",
              " 0.11794225871562958,\n",
              " 0.11957162494460742,\n",
              " 0.11869964810709159,\n",
              " 0.11772631915907066,\n",
              " 0.11571553597847621,\n",
              " 0.11565845397611459,\n",
              " 0.11537597452600797,\n",
              " 0.11562894284725189,\n",
              " 0.11587951208154361,\n",
              " 0.11459634825587273,\n",
              " 0.11198458882669608,\n",
              " 0.11374980645875137,\n",
              " 0.11182134412229061,\n",
              " 0.1133491067836682,\n",
              " 0.11472607962787151,\n",
              " 0.11261461550990741,\n",
              " 0.11732350972791512,\n",
              " 0.11544833518564701,\n",
              " 0.11457883504529794,\n",
              " 0.11484091108043988,\n",
              " 0.11461777240037918,\n",
              " 0.11550257913768291,\n",
              " 0.11437789723277092,\n",
              " 0.1107076567908128,\n",
              " 0.11117100281020005,\n",
              " 0.11269766589005788,\n",
              " 0.11095391089717548,\n",
              " 0.11526082394023736,\n",
              " 0.11548706392447154,\n",
              " 0.11004782778521378,\n",
              " 0.10988085282345612,\n",
              " 0.109325485303998,\n",
              " 0.10574639216065407,\n",
              " 0.1067578320701917,\n",
              " 0.10705515183508396,\n",
              " 0.10748147157331307,\n",
              " 0.10775580753882726,\n",
              " 0.10672921687364578,\n",
              " 0.11294289367894332,\n",
              " 0.10907607401410739,\n",
              " 0.10714898817241192,\n",
              " 0.10860962606966496,\n",
              " 0.10820445666710536,\n",
              " 0.10735038295388222,\n",
              " 0.10563861454526584,\n",
              " 0.11003310605883598,\n",
              " 0.10778206090132396,\n",
              " 0.1074671180297931,\n",
              " 0.1054949810107549,\n",
              " 0.10465812993546326,\n",
              " 0.10319316945970058,\n",
              " 0.10697550264497598,\n",
              " 0.10461790052553017,\n",
              " 0.1061617483695348,\n",
              " 0.10472752153873444,\n",
              " 0.10316283690432708,\n",
              " 0.10711480304598808,\n",
              " 0.12003681249916553,\n",
              " 0.12898621583978334,\n",
              " 0.1194692961871624,\n",
              " 0.11189463424185912,\n",
              " 0.10732612696786721,\n",
              " 0.1050680677096049,\n",
              " 0.10247392517824967,\n",
              " 0.10085365052024524,\n",
              " 0.09935604594647884,\n",
              " 0.10001684166491032,\n",
              " 0.10071875154972076,\n",
              " 0.10081867563227813,\n",
              " 0.1001528383543094,\n",
              " 0.09940098226070404,\n",
              " 0.0995233232776324,\n",
              " 0.09933078785737355,\n",
              " 0.10028076730668545,\n",
              " 0.09800761193037033,\n",
              " 0.0983261192838351,\n",
              " 0.09754994635780652,\n",
              " 0.09807812298337619,\n",
              " 0.09602832794189453,\n",
              " 0.09715504509707291,\n",
              " 0.09828939599295457,\n",
              " 0.09733984929819901,\n",
              " 0.09821683975557487,\n",
              " 0.1003559169669946,\n",
              " 0.09908002677063148,\n",
              " 0.09833589444557826,\n",
              " 0.09632142012317975,\n",
              " 0.09893207314113776,\n",
              " 0.1006575624148051,\n",
              " 0.10192370973527431,\n",
              " 0.09888793031374614,\n",
              " 0.09566053127249081,\n",
              " 0.09949407912790775,\n",
              " 0.0990476906299591,\n",
              " 0.0963361281901598,\n",
              " 0.09588280382255714,\n",
              " 0.09926870154837768,\n",
              " 0.09589529037475586,\n",
              " 0.09840990168352921,\n",
              " 0.09584919363260269,\n",
              " 0.09601497029264768,\n",
              " 0.09288850302497546,\n",
              " 0.09311080972353618,\n",
              " 0.09310869127511978,\n",
              " 0.0934356984992822,\n",
              " 0.09339960354069869,\n",
              " 0.09396061984201272,\n",
              " 0.09219197990993659,\n",
              " 0.09372964625557263,\n",
              " 0.09496498542527358,\n",
              " 0.0953858798990647,\n",
              " 0.09394221939146519,\n",
              " 0.09267045681675275,\n",
              " 0.0906724991897742,\n",
              " 0.09236103979249795,\n",
              " 0.09007163966695468,\n",
              " 0.0954992026090622,\n",
              " 0.09625896066427231,\n",
              " 0.0950858648866415,\n",
              " 0.093479140351216,\n",
              " 0.09422635411222775,\n",
              " 0.09152573595444362,\n",
              " 0.09055739579101403,\n",
              " 0.08935005155702432,\n",
              " 0.09096443839371204,\n",
              " 0.09152571794887383,\n",
              " 0.08970246588190396,\n",
              " 0.09356224412719409,\n",
              " 0.09599851941068967,\n",
              " 0.09660810666779678,\n",
              " 0.0926756535967191,\n",
              " 0.08994509155551593,\n",
              " 0.08920903193453948,\n",
              " 0.0905320333937804,\n",
              " 0.09211836196482182,\n",
              " 0.09112303828199704,\n",
              " 0.08802551093200843,\n",
              " 0.08896126349767049,\n",
              " 0.08767509584625562,\n",
              " 0.08494140704472859,\n",
              " 0.08507359897096951,\n",
              " 0.08486343547701836,\n",
              " 0.08636074885725975,\n",
              " 0.08553661964833736,\n",
              " 0.08700955224533875,\n",
              " 0.08632140730818112,\n",
              " 0.08585420623421669,\n",
              " 0.08415272707740466,\n",
              " 0.08670649739603202,\n",
              " 0.08618716150522232,\n",
              " 0.08574695574740569,\n",
              " 0.08717623104651769,\n",
              " 0.08664173508683841,\n",
              " 0.08783625873426597,\n",
              " 0.08476249811549981,\n",
              " 0.08417197689414024,\n",
              " 0.08550300883750121,\n",
              " 0.08637475967407227,\n",
              " 0.08642720555265744,\n",
              " 0.08615659922361374,\n",
              " 0.0842582496503989,\n",
              " 0.08610903844237328,\n",
              " 0.08723228611052036,\n",
              " 0.08572784190376599,\n",
              " 0.08595179207623005,\n",
              " 0.0850769920895497,\n",
              " 0.08601925397912662,\n",
              " 0.08605620016654332,\n",
              " 0.08405489971240361,\n",
              " 0.08515390940010548,\n",
              " 0.08425656519830227,\n",
              " 0.08092051992813747,\n",
              " 0.08262653710941474,\n",
              " 0.0814705944309632,\n",
              " 0.08162926944593589,\n",
              " 0.08304941716293494,\n",
              " 0.08279712746540706,\n",
              " 0.08154790662229061,\n",
              " 0.0838816724717617,\n",
              " 0.08386283616224925,\n",
              " 0.08290162247916062,\n",
              " 0.08258052666982015,\n",
              " 0.08457914926111698,\n",
              " 0.0841561413059632,\n",
              " 0.08141198754310608,\n",
              " 0.08227416127920151,\n",
              " 0.08208172830442588,\n",
              " 0.0818093071381251,\n",
              " 0.0793726524959008,\n",
              " 0.07975102898975213,\n",
              " 0.0797236729413271,\n",
              " 0.07882743204633395,\n",
              " 0.07931975089013577,\n",
              " 0.07996705422798793,\n",
              " 0.07961554204424222,\n",
              " 0.07996571933229764,\n",
              " 0.08347285849352677,\n",
              " 0.08190640062093735,\n",
              " 0.07975607179105282,\n",
              " 0.08069227325419585,\n",
              " 0.08369150819877784,\n",
              " 0.0932694636285305,\n",
              " 0.08660947158932686,\n",
              " 0.08122434901694457,\n",
              " 0.07785039333005746,\n",
              " 0.07679004160066445,\n",
              " 0.07693887626131375,\n",
              " 0.07622279785573483,\n",
              " 0.07712070705989997,\n",
              " 0.07661152072250843,\n",
              " 0.07631214149296284,\n",
              " 0.07515470342089732,\n",
              " 0.07565678283572197,\n",
              " 0.07442330817381541,\n",
              " 0.07384369273980458,\n",
              " 0.07666767326494058,\n",
              " 0.07574344923098882,\n",
              " 0.0770782008767128,\n",
              " 0.07582132456203301,\n",
              " 0.07530417541662852,\n",
              " 0.0775541899104913,\n",
              " 0.0774793221304814,\n",
              " 0.07605489840110143,\n",
              " 0.07586348863939445,\n",
              " 0.07522738010933001,\n",
              " 0.0755564911911885,\n",
              " 0.0744100163380305,\n",
              " 0.07444131250182788,\n",
              " 0.07776317683358987,\n",
              " 0.07937224954366684,\n",
              " 0.07589062800010045,\n",
              " 0.07548766396939754,\n",
              " 0.074229350934426,\n",
              " 0.07244332196811835,\n",
              " 0.07403979698816936,\n",
              " 0.07441358330349128,\n",
              " 0.07213640895982583,\n",
              " 0.07685779655973117,\n",
              " 0.07752790364126365,\n",
              " 0.07858857947091262,\n",
              " 0.07849687399963538,\n",
              " 0.0742310422162215,\n",
              " 0.07349909966190656,\n",
              " 0.07501726597547531,\n",
              " 0.07438776704172294,\n",
              " 0.07303302300473054,\n",
              " 0.0732237317909797,\n",
              " 0.07200869545340538,\n",
              " 0.07252537148694198,\n",
              " 0.07268471332887809,\n",
              " 0.07142503373324871,\n",
              " 0.07260386769970258,\n",
              " 0.07190008834004402,\n",
              " 0.0725223192324241,\n",
              " 0.07271614857017994,\n",
              " 0.07194559027751286,\n",
              " 0.07149038401742776,\n",
              " 0.0709900992612044,\n",
              " 0.07238127912084262,\n",
              " 0.07117010653018951,\n",
              " 0.07084431250890096,\n",
              " 0.07062181892494361,\n",
              " 0.07225049659609795,\n",
              " 0.07000968263794978,\n",
              " 0.0707730067272981,\n",
              " 0.07356276052693526,\n",
              " 0.07235214735070865,\n",
              " 0.07155062506596248,\n",
              " 0.07107477635145187,\n",
              " 0.07135878192881744,\n",
              " 0.07012786033252875,\n",
              " 0.06905831582844257,\n",
              " 0.07218921308716138,\n",
              " 0.07081457662085693,\n",
              " 0.0682377874230345,\n",
              " 0.06834668293595314,\n",
              " 0.06755077621589105,\n",
              " 0.06847429648041725,\n",
              " 0.07025007034341495,\n",
              " 0.06914578595509131,\n",
              " 0.07060352216164271,\n",
              " 0.0703670351455609,\n",
              " 0.06941294173399608,\n",
              " 0.0689947201559941,\n",
              " 0.0691287349909544,\n",
              " 0.06918757843474548,\n",
              " 0.06717225319395463,\n",
              " 0.06987611452738444,\n",
              " 0.06867004868884881,\n",
              " 0.06886894255876541,\n",
              " 0.06854478207727273,\n",
              " 0.06716674845665693,\n",
              " 0.06773407788326342,\n",
              " 0.07242362201213837,\n",
              " 0.07164008604983489,\n",
              " 0.07240616468091805,\n",
              " 0.06942487880587578,\n",
              " 0.06778156384825706,\n",
              " 0.06707766838371754,\n",
              " 0.06633807284136613,\n",
              " 0.06626250005016725,\n",
              " 0.06746119819581509,\n",
              " 0.06649886847784121,\n",
              " 0.0662533063441515,\n",
              " 0.06567446980625391,\n",
              " 0.06663819837073486,\n",
              " 0.06587855797261,\n",
              " 0.06538881019999583,\n",
              " 0.06831534579396248,\n",
              " 0.06944693252444267,\n",
              " 0.06617771089076996,\n",
              " 0.06687580080082019,\n",
              " 0.06549110449850559,\n",
              " 0.06830366731931765,\n",
              " 0.06643631154050429,\n",
              " 0.06461194685349862,\n",
              " 0.0643197965497772,\n",
              " 0.06529367808252573,\n",
              " 0.06457855397214492,\n",
              " 0.0644643409177661,\n",
              " 0.06480915937572718,\n",
              " 0.06433463810632627,\n",
              " 0.06652226547400157,\n",
              " 0.06362903801103433,\n",
              " 0.06304780921588342,\n",
              " 0.06431821609536807,\n",
              " 0.06366736969600122,\n",
              " 0.06305353747059901,\n",
              " 0.06444225832819939,\n",
              " 0.06538423088689645,\n",
              " 0.06531965887794892,\n",
              " 0.06449550421287616,\n",
              " 0.06492148681233327,\n",
              " 0.06405026248345773,\n",
              " 0.06422992112735908,\n",
              " 0.06336900064100821,\n",
              " 0.06249810258547465,\n",
              " 0.0618630296861132,\n",
              " 0.06305543519556522,\n",
              " 0.06220345261196295,\n",
              " 0.0618375384559234,\n",
              " 0.062355817606051765,\n",
              " 0.062177251713971295,\n",
              " 0.062442065527041755,\n",
              " 0.061648295571406685,\n",
              " 0.06124810905506214,\n",
              " 0.060954389783243336,\n",
              " 0.06090835481882095,\n",
              " 0.060587381633619465,\n",
              " 0.06252421128253143,\n",
              " 0.0668884813785553,\n",
              " 0.06947939718763034,\n",
              " 0.06740809790790081,\n",
              " 0.06914613706370194,\n",
              " 0.0681610597918431,\n",
              " 0.06575351549933355,\n",
              " 0.06329515638450782,\n",
              " 0.06355196051299572,\n",
              " 0.06234984348217646,\n",
              " 0.06190536047021548,\n",
              " 0.06075775157660246,\n",
              " 0.06168866033355395,\n",
              " 0.06156895620127519,\n",
              " 0.0625328744451205,\n",
              " 0.060661470207075276,\n",
              " 0.05991146775583426,\n",
              " 0.06027426819006602,\n",
              " 0.05970967747271061,\n",
              " 0.059284660033881664,\n",
              " 0.05976379103958607,\n",
              " 0.05938798934221268,\n",
              " 0.05907671215633551,\n",
              " 0.05968767466644446,\n",
              " 0.059817854315042496,\n",
              " 0.05915400634209315,\n",
              " 0.05891953377674023,\n",
              " 0.05914818402379751,\n",
              " 0.05840683107574781,\n",
              " 0.0589957128589352,\n",
              " 0.060333218735953174,\n",
              " 0.059283921805520855,\n",
              " 0.05989241817345222,\n",
              " 0.059797461765507855,\n",
              " 0.05979817050198714,\n",
              " 0.06050502664099137,\n",
              " 0.05893858025471369,\n",
              " 0.059469194461901985,\n",
              " 0.06146829078594843,\n",
              " 0.06006189901381731,\n",
              " 0.06051709409803152,\n",
              " 0.05906544408450524,\n",
              " 0.057448443646232285,\n",
              " 0.05752861530830463,\n",
              " 0.057421320118010044,\n",
              " 0.05705223015199105,\n",
              " 0.05701433805127939,\n",
              " 0.057495315869649254,\n",
              " 0.05720504466444254,\n",
              " 0.05631505729009708,\n",
              " 0.055529870403309665,\n",
              " 0.05665287468582392,\n",
              " 0.05595051714529594,\n",
              " 0.055755176271001496,\n",
              " 0.05588517306993405,\n",
              " 0.05874126963317394,\n",
              " 0.05977894583096107,\n",
              " 0.058726527417699494,\n",
              " 0.05902765939633051,\n",
              " 0.056970901476840176,\n",
              " 0.05693501109878222,\n",
              " 0.05552611748377482,\n",
              " 0.0546518104771773,\n",
              " 0.05468415624151627,\n",
              " 0.05604024417698383,\n",
              " 0.0595102496445179,\n",
              " 0.05793817558636268,\n",
              " 0.05739635912080606,\n",
              " 0.059295689687132835,\n",
              " 0.059351689803103604,\n",
              " 0.05825770149628321,\n",
              " 0.05670585855841637,\n",
              " 0.05765660169223944,\n",
              " 0.05740206812818845,\n",
              " 0.056323640048503876,\n",
              " 0.055059039033949375,\n",
              " 0.05481718387454748,\n",
              " 0.05436799333741268,\n",
              " 0.05439708319803079,\n",
              " 0.053609538512925305,\n",
              " 0.054082587050894894,\n",
              " 0.05341413772354523,\n",
              " 0.05321175449838241,\n",
              " 0.05327205980817477,\n",
              " 0.055233921855688095,\n",
              " 0.058332763922711216,\n",
              " 0.058139932341873646,\n",
              " 0.059357873164117336,\n",
              " 0.06020051830758651,\n",
              " 0.057649199229975544,\n",
              " 0.056131080413858093,\n",
              " 0.05524533210943142,\n",
              " 0.05442371809234222,\n",
              " 0.05550642404705286,\n",
              " 0.05396107925722996,\n",
              " 0.0548013998195529,\n",
              " 0.05362614865104357,\n",
              " 0.05387018248438835,\n",
              " 0.0535576573262612,\n",
              " 0.05385310699542364,\n",
              " 0.05285589179644982,\n",
              " 0.05284588939199845,\n",
              " 0.05393365646402041,\n",
              " 0.05293629877269268,\n",
              " 0.054640378803014755,\n",
              " 0.05462613111982743,\n",
              " 0.053949110209941864,\n",
              " 0.05411286869396766,\n",
              " 0.05371653909484545,\n",
              " 0.05331843843062719,\n",
              " 0.053325557770828404,\n",
              " 0.05429091894378265,\n",
              " 0.054061995819211006,\n",
              " 0.05343799665570259,\n",
              " 0.05324609763920307,\n",
              " 0.05287963462372621,\n",
              " 0.05316093098372221,\n",
              " 0.05450103307763735,\n",
              " 0.05200883808235327,\n",
              " 0.05139493259290854,\n",
              " 0.05198695013920466,\n",
              " 0.05334895942360163,\n",
              " 0.05214690696448088,\n",
              " 0.055149463626245655,\n",
              " 0.0548395241300265,\n",
              " 0.05359961620221535,\n",
              " 0.054013507751127086,\n",
              " 0.05341786642869314,\n",
              " 0.05340716273834308,\n",
              " 0.051227657434841,\n",
              " 0.05059795671453079,\n",
              " 0.05079750996083021,\n",
              " 0.050245218289395176,\n",
              " 0.05067371390759945,\n",
              " 0.053840807949503265,\n",
              " 0.05269711806128422,\n",
              " 0.05322189815342426,\n",
              " 0.0530214486643672,\n",
              " 0.053061915251115956,\n",
              " 0.05709549350043138,\n",
              " 0.057677668519318104,\n",
              " 0.05409743574758371,\n",
              " 0.051468774365882076,\n",
              " 0.051449380504588284,\n",
              " 0.050687339156866074,\n",
              " 0.050345685022572674,\n",
              " 0.049787016895910106,\n",
              " 0.04993909224867821,\n",
              " 0.04955404934783777,\n",
              " 0.04887988604605198,\n",
              " 0.04878940029690663,\n",
              " 0.04820994567126036,\n",
              " 0.0491134620582064,\n",
              " 0.04932218138128519,\n",
              " 0.051050180258850254,\n",
              " 0.05153781703362862,\n",
              " 0.05407615719983975,\n",
              " 0.056057557774086796,\n",
              " 0.05389480230708917,\n",
              " 0.0525160813704133,\n",
              " 0.050727877765893936,\n",
              " 0.04987291060388088,\n",
              " 0.04933886912961801,\n",
              " 0.0489118667319417,\n",
              " 0.049291615995268025,\n",
              " 0.04838454878578583,\n",
              " 0.049045978424449764,\n",
              " 0.04930906215061744,\n",
              " 0.04907465477784475,\n",
              " 0.050111793292065464,\n",
              " 0.05032452133794626,\n",
              " 0.04895610207070907,\n",
              " 0.0487611268957456,\n",
              " 0.048410539515316486,\n",
              " 0.049126564525067806,\n",
              " 0.048557741877933346,\n",
              " 0.04885825732101997,\n",
              " 0.04994248505681753,\n",
              " 0.051058895575503506,\n",
              " 0.049952362974484764,\n",
              " 0.048810806746284165,\n",
              " 0.048309292954703174,\n",
              " 0.04823591777433952,\n",
              " 0.04752215277403593,\n",
              " 0.047603859255711235,\n",
              " 0.04747907320658366,\n",
              " 0.04806458981086811,\n",
              " 0.04817625042051077,\n",
              " 0.04775606747716665,\n",
              " 0.04694572618852059,\n",
              " 0.04714441392570734,\n",
              " 0.0478261886164546,\n",
              " 0.047925990695754685,\n",
              " 0.04822552825013796,\n",
              " 0.04838532737145821,\n",
              " 0.049440074091156326,\n",
              " 0.04995384439826012,\n",
              " 0.0485907681286335,\n",
              " 0.04789996271332105,\n",
              " 0.04756058442095915,\n",
              " 0.04853538858393828,\n",
              " 0.04813260305672884,\n",
              " 0.04667229360590378,\n",
              " 0.0465485630556941,\n",
              " 0.04632823200275501,\n",
              " 0.046027060908575855,\n",
              " 0.045136366970837116,\n",
              " 0.04629948455840349,\n",
              " 0.04654804772386948,\n",
              " 0.047314535516003765,\n",
              " 0.046413361094892025,\n",
              " 0.046124590250353016,\n",
              " 0.04728225618600845,\n",
              " 0.04837748191008965,\n",
              " 0.04928539600223303,\n",
              " 0.04707540199160576,\n",
              " 0.04587773916622003,\n",
              " 0.04589877836406231,\n",
              " 0.04642070767780145,\n",
              " 0.04571607615798712,\n",
              " 0.04611564427614212,\n",
              " 0.04525079609205326,\n",
              " 0.04606825796266397,\n",
              " 0.046755973560114704,\n",
              " 0.04751879877100388,\n",
              " 0.04650792106986046,\n",
              " 0.0456772247950236,\n",
              " 0.04506260622292757,\n",
              " 0.045754934661090374,\n",
              " 0.0453103743493557,\n",
              " 0.04601516885062059,\n",
              " 0.048459816413621105,\n",
              " 0.04718294025709232,\n",
              " 0.0466045131906867,\n",
              " 0.04575982907166084,\n",
              " 0.045790521117548146,\n",
              " 0.04415759940942129,\n",
              " 0.044918677459160485,\n",
              " 0.044680653139948845,\n",
              " 0.04606974901010593,\n",
              " 0.047039698188503586,\n",
              " 0.05369385456045469,\n",
              " 0.05138758880396684,\n",
              " 0.04949306106815735,\n",
              " 0.04852158141632875,\n",
              " 0.04782374824086825,\n",
              " 0.046118621403972306,\n",
              " 0.04552569023023049,\n",
              " 0.045352983909348644,\n",
              " 0.045450124268730484,\n",
              " 0.04479570624728998,\n",
              " 0.04487831176569065,\n",
              " 0.04684479876110951,\n",
              " 0.047181338692704834,\n",
              " 0.04522269746909539,\n",
              " 0.04457838460803032,\n",
              " 0.04439226475854715,\n",
              " 0.04447838726143042,\n",
              " 0.043400765086213745,\n",
              " 0.04368949681520462,\n",
              " 0.04351176911344131,\n",
              " 0.04332010572155317,\n",
              " 0.04333049866060416,\n",
              " 0.04267305756608645,\n",
              " 0.042737577420969806,\n",
              " 0.04256337850044171,\n",
              " 0.043230164175232254,\n",
              " 0.04247096957017978,\n",
              " 0.0436427698781093,\n",
              " 0.04355955279121796,\n",
              " 0.04474156039456526,\n",
              " 0.04368018979827563,\n",
              " 0.04429854825139046,\n",
              " 0.04421252726266781,\n",
              " 0.044407290096084275,\n",
              " 0.04513634151468674,\n",
              " 0.04472078662365675,\n",
              " 0.043271212838590145,\n",
              " 0.04257993120700121,\n",
              " 0.04296358426411947,\n",
              " 0.044012971222400665,\n",
              " 0.044599348989625774,\n",
              " 0.04497487346331278,\n",
              " 0.0430823074032863,\n",
              " 0.04254363663494587,\n",
              " 0.04261692396054665,\n",
              " 0.042505873988072075,\n",
              " 0.04288440911720196,\n",
              " 0.04348503611981869,\n",
              " 0.04436361572394768,\n",
              " 0.04362674926718076,\n",
              " 0.0432465486228466,\n",
              " 0.04286255035549402,\n",
              " 0.04223752828935782,\n",
              " 0.0424451120197773,\n",
              " 0.04253923644622167,\n",
              " 0.04216812023272117,\n",
              " 0.043788034468889236,\n",
              " 0.044424641566971936,\n",
              " 0.04361575283110142,\n",
              " 0.04325269473095735,\n",
              " 0.04254321878155073,\n",
              " 0.041262621680895485,\n",
              " 0.040815068719287716,\n",
              " 0.04189157703270515,\n",
              " 0.042249674598375954,\n",
              " 0.04208686202764511,\n",
              " 0.04657001420855522,\n",
              " ...]"
            ]
          },
          "execution_count": 37,
          "metadata": {},
          "output_type": "execute_result"
        }
      ],
      "source": [
        "loss_storage"
      ]
    },
    {
      "cell_type": "markdown",
      "metadata": {
        "id": "pjH1rVzx9T1m"
      },
      "source": [
        "## Plot loss curve during model training"
      ]
    },
    {
      "cell_type": "markdown",
      "metadata": {
        "id": "8b7Jqi989WN9"
      },
      "source": [
        "### Define a function to plot the loss curve"
      ]
    },
    {
      "cell_type": "code",
      "execution_count": 38,
      "metadata": {
        "id": "Ni6syRat9YNk"
      },
      "outputs": [],
      "source": [
        "import matplotlib.pyplot as plt\n",
        "\n",
        "def plot_loss_curve(loss_storage, tick_interval=10,save_path=None):\n",
        "    plt.figure(figsize=(12, 6))\n",
        "\n",
        "    epochs = list(range(1, len(loss_storage) + 1))\n",
        "\n",
        "    # Plot the loss\n",
        "    plt.plot(\n",
        "        epochs,\n",
        "        loss_storage,\n",
        "        color='royalblue',\n",
        "        marker='o',\n",
        "        linestyle='-',\n",
        "        linewidth=2,\n",
        "        markersize=4,\n",
        "        label='Training Loss'\n",
        "    )\n",
        "\n",
        "    # Title & labels\n",
        "    plt.title(\"Training Loss Curve\", fontsize=18, fontweight='bold')\n",
        "    plt.xlabel(\"Epoch\", fontsize=14)\n",
        "    plt.ylabel(\"Loss\", fontsize=14)\n",
        "\n",
        "    # Set x-ticks with wider spacing\n",
        "    plt.xticks(\n",
        "        ticks=range(0, len(loss_storage) + 1, tick_interval),\n",
        "        fontsize=12\n",
        "    )\n",
        "    plt.yticks(fontsize=12)\n",
        "\n",
        "    # Grid, legend and layout\n",
        "    plt.grid(True, linestyle='--', linewidth=0.5)\n",
        "    plt.legend(fontsize=12)\n",
        "    plt.tight_layout()\n",
        "\n",
        "    if save_path:\n",
        "        plt.savefig(save_path, dpi=300, bbox_inches='tight')\n",
        "        print(f\"Loss curve saved to: {save_path}\")\n",
        "\n",
        "    plt.show()\n",
        "\n"
      ]
    },
    {
      "cell_type": "markdown",
      "metadata": {
        "id": "5k0WfEjH9a0f"
      },
      "source": [
        "### Plot the loss curve and save the image"
      ]
    },
    {
      "cell_type": "code",
      "execution_count": null,
      "metadata": {
        "colab": {
          "base_uri": "https://localhost:8080/",
          "height": 397
        },
        "id": "uFqbs3SY9cFu",
        "outputId": "3d7944a0-492e-4c85-de45-5fb783c69894"
      },
      "outputs": [
        {
          "name": "stdout",
          "output_type": "stream",
          "text": [
            "Loss curve saved to: seq2seq_autoregressive_LSTM_loss_training_curve.png\n"
          ]
        },
        {
          "data": {
            "image/png": "[encoded data removed]",
            "text/plain": [
              "<Figure size 1200x600 with 1 Axes>"
            ]
          },
          "metadata": {},
          "output_type": "display_data"
        }
      ],
      "source": [
        "save_path=\"../images_model_training_and_eval/seq2seq_autoregressive_GRU_loss_training_curve.png\"\n",
        "\n",
        "plot_loss_curve(loss_storage,save_path=save_path)"
      ]
    },
    {
      "cell_type": "markdown",
      "metadata": {
        "id": "_fxbuLWi9uEi"
      },
      "source": [
        "## Model Evaluation"
      ]
    },
    {
      "cell_type": "markdown",
      "metadata": {
        "id": "QXbiluyc9wil"
      },
      "source": [
        "### Define evaluation model function"
      ]
    },
    {
      "cell_type": "code",
      "execution_count": 40,
      "metadata": {
        "id": "Vr_PC6oJE4DB"
      },
      "outputs": [],
      "source": [
        "def evaluate_model(model, dataloader, seed_value):\n",
        "    model.eval()\n",
        "    torch.manual_seed(seed_value)\n",
        "    torch.cuda.manual_seed_all(seed_value)\n",
        "    np.random.seed(seed_value)\n",
        "\n",
        "    inputs, outputs = next(iter(dataloader))\n",
        "    inputs = inputs.to(device)\n",
        "    outputs = outputs.to(device)\n",
        "\n",
        "    inputs_seq = inputs.permute(1, 0, 2)\n",
        "    outputs_seq = outputs.permute(1, 0, 2)\n",
        "\n",
        "    pred = model(inputs_seq)\n",
        "\n",
        "    true_vals = outputs_seq.cpu().numpy()[:, 0, :]\n",
        "    pred_vals = pred.detach().cpu().numpy()[:, 0, :]\n",
        "\n",
        "    print(\"Ground truth:\\n\", true_vals.T)\n",
        "    print(\"Prediction:\\n\", pred_vals.T)\n",
        "    print(\"MAE:\", np.mean(np.abs(true_vals - pred_vals)))\n",
        "\n",
        "    feature_mae = np.mean(np.abs(true_vals - pred_vals), axis=(0, 1))\n",
        "    print(\"Feature-wise MAE:\", feature_mae)"
      ]
    },
    {
      "cell_type": "code",
      "execution_count": 41,
      "metadata": {
        "colab": {
          "base_uri": "https://localhost:8080/"
        },
        "id": "qcy37yO99-y3",
        "outputId": "bbded23c-223e-4e18-a9a1-c9eb55588560"
      },
      "outputs": [
        {
          "name": "stdout",
          "output_type": "stream",
          "text": [
            "Ground truth:\n",
            " [[-1.2752299  -1.3943083  -1.1437798  -1.3417282  -0.9247994  -0.93411076\n",
            "  -1.1712726 ]\n",
            " [ 0.9080867   1.0646194   0.3442977   1.0381919   1.0034971   1.0053803\n",
            "   0.53042036]\n",
            " [-0.47729036 -0.37316027 -0.82754606 -1.0846328   0.6615639   0.28450337\n",
            "   0.49154565]\n",
            " [ 0.02438779  0.03548462  0.04330284  0.03674562  0.01828454  0.01723326\n",
            "   0.027162  ]]\n",
            "Prediction:\n",
            " [[-0.99984455 -0.9435886  -0.8964366  -0.9496924  -1.2408503  -1.1738461\n",
            "  -1.1011612 ]\n",
            " [ 0.37409744  0.2804373   0.32042342  0.31891286  0.7921205   0.64430064\n",
            "   0.25834158]\n",
            " [-0.3444062  -0.6141616  -0.96335477  0.18131952  0.29912668 -0.974649\n",
            "  -0.36963958]\n",
            " [-0.27213556 -0.27508444 -0.12224311  0.06529632 -0.05558211  0.16858989\n",
            "  -0.22016019]]\n",
            "MAE: 0.3724785\n",
            "Feature-wise MAE: 0.3724785\n"
          ]
        }
      ],
      "source": [
        "seed_value=187\n",
        "\n",
        "evaluate_model(seq2seq_model,test_dataloader,seed_value)"
      ]
    },
    {
      "cell_type": "markdown",
      "metadata": {
        "id": "HcznHsF1-HER"
      },
      "source": [
        "#### Define function to plot prediction versus ground truth"
      ]
    },
    {
      "cell_type": "code",
      "execution_count": 43,
      "metadata": {
        "id": "it_Lf04A-asC"
      },
      "outputs": [],
      "source": [
        "import matplotlib.pyplot as plt\n",
        "import numpy as np\n",
        "import torch\n",
        "\n",
        "def model_evaluation_and_visualizations(model, dataloader, device, stats=None, indices=[2486, 2986]):\n",
        "    feature_names = ['meantemp', 'humidity', 'wind_speed', 'meanpressure']\n",
        "    colors = ['#1f77b4', '#ff7f0e', '#2ca02c', '#d62728']  # Custom colors per feature\n",
        "\n",
        "    plt.style.use('ggplot')  # Consistent, readable plotting style\n",
        "    model.eval()\n",
        "\n",
        "    num_features = len(feature_names)\n",
        "    num_samples = len(indices)\n",
        "\n",
        "    fig, axs = plt.subplots(num_samples, num_features, figsize=(5 * num_features, 4 * num_samples))\n",
        "\n",
        "    for row, seed in enumerate(indices):\n",
        "        g = torch.Generator()\n",
        "        g.manual_seed(seed)\n",
        "\n",
        "        # Rebuild a deterministic DataLoader with shuffling\n",
        "        data_iter = iter(torch.utils.data.DataLoader(\n",
        "            dataloader.dataset, batch_size=32, shuffle=True, generator=g\n",
        "        ))\n",
        "\n",
        "        inputs, outputs = next(data_iter)\n",
        "        inputs, outputs = inputs.to(device), outputs.to(device)\n",
        "\n",
        "        # Permute for (seq_len, batch, feature)\n",
        "        inputs_seq = inputs.permute(1, 0, 2)      # (T_in, B, F)\n",
        "        outputs_seq = outputs.permute(1, 0, 2)    # (T_out, B, F)\n",
        "        preds = model(inputs_seq)                # (T_out, B, F)\n",
        "\n",
        "        b = 0  # Visualize the first sample in the batch\n",
        "\n",
        "        # Get the data for sample b\n",
        "        x = inputs_seq[:, b, :].detach().cpu().numpy()      # (T_in, F)\n",
        "        y_true = outputs_seq[:, b, :].detach().cpu().numpy()  # (T_out, F)\n",
        "        y_pred = preds[:, b, :].detach().cpu().numpy()        # (T_out, F)\n",
        "\n",
        "        # Denormalize if stats are provided\n",
        "        if stats is not None:\n",
        "            for i, name in enumerate(feature_names):\n",
        "                mean = stats.loc[name, 'mean']\n",
        "                std = stats.loc[name, 'std']\n",
        "                x[:, i] = x[:, i] * std + mean\n",
        "                y_true[:, i] = y_true[:, i] * std + mean\n",
        "                y_pred[:, i] = y_pred[:, i] * std + mean\n",
        "\n",
        "        # Time steps\n",
        "        t_input = list(range(x.shape[0]))\n",
        "        t_output = [x.shape[0] + i + 1 for i in range(y_true.shape[0])]\n",
        "        mse = np.mean((y_true - y_pred) ** 2)\n",
        "\n",
        "        # Plot each feature separately\n",
        "        for col in range(num_features):\n",
        "            ax = axs[row, col] if num_samples > 1 else axs[col]\n",
        "            feature = feature_names[col]\n",
        "            color = colors[col % len(colors)]\n",
        "\n",
        "            # Input sequence\n",
        "            ax.plot(t_input, x[:, col], linestyle='--', linewidth=2, label=\"Input\", color=color)\n",
        "            # Ground truth output\n",
        "            ax.scatter(t_output, y_true[:, col], label=\"True\", color=color, marker='o', s=50, edgecolors='black', linewidth=0.5)\n",
        "            # Predicted output\n",
        "            ax.scatter(t_output, y_pred[:, col], label=\"Pred\", color='black', marker='x', s=60)\n",
        "\n",
        "            ax.set_title(f\"{feature} | seed={seed} | MSE={mse:.4f}\", fontsize=11)\n",
        "            ax.grid(True)\n",
        "\n",
        "            if row == num_samples - 1:\n",
        "                ax.set_xlabel(\"Timestep\")\n",
        "            if col == 0:\n",
        "                ax.set_ylabel(\"Value\")\n",
        "            if row == 0:\n",
        "                ax.legend(loc='upper center', fontsize=8)\n",
        "\n",
        "    plt.tight_layout()\n",
        "    plt.show()\n",
        "\n"
      ]
    },
    {
      "cell_type": "code",
      "execution_count": 44,
      "metadata": {
        "colab": {
          "base_uri": "https://localhost:8080/",
          "height": 307
        },
        "id": "jJVzlAry-fo8",
        "outputId": "4fc6a7c6-7442-436d-f176-e5434e4aa6f0"
      },
      "outputs": [
        {
          "data": {
            "image/png": "[encoded data removed]",
            "text/plain": [
              "<Figure size 2000x800 with 8 Axes>"
            ]
          },
          "metadata": {},
          "output_type": "display_data"
        }
      ],
      "source": [
        "# Visualize\n",
        "model_evaluation_and_visualizations(seq2seq_model, test_dataloader, device)"
      ]
    }
  ],
  "metadata": {
    "accelerator": "GPU",
    "colab": {
      "gpuType": "T4",
      "machine_shape": "hm",
      "provenance": []
    },
    "kernelspec": {
      "display_name": "Python 3",
      "name": "python3"
    },
    "language_info": {
      "name": "python"
    }
  },
  "nbformat": 4,
  "nbformat_minor": 0
}
