{
 "cells": [
  {
   "cell_type": "markdown",
   "metadata": {},
   "source": [
    "## Load models for cross evaluation"
   ]
  },
  {
   "cell_type": "code",
   "execution_count": 1,
   "metadata": {},
   "outputs": [
    {
     "data": {
      "text/plain": [
       "Seq2Seq(\n",
       "  (encoder): EncoderRNN(\n",
       "    (rnn): LSTM(4, 300, num_layers=3, batch_first=True, dropout=0.1)\n",
       "  )\n",
       "  (decoder): DecoderRNN(\n",
       "    (rnn): LSTM(4, 300, num_layers=3, batch_first=True, dropout=0.1)\n",
       "    (linear): Linear(in_features=300, out_features=4, bias=True)\n",
       "  )\n",
       ")"
      ]
     },
     "execution_count": 1,
     "metadata": {},
     "output_type": "execute_result"
    }
   ],
   "source": [
    "import torch\n",
    "\n",
    "# Step 1: Rebuild the model architecture\n",
    "from model_architecture_definition.seq2seq_non_autoregressive_LSTM import Seq2Seq  # update this line accordingly\n",
    "\n",
    "# Hyperparameters\n",
    "input_size = 4 \n",
    "hidden_size = 300\n",
    "output_size = 4\n",
    "learning_rate = 0.001\n",
    "num_epochs = 100\n",
    "num_layers = 3\n",
    "dropout_rate = 0.1\n",
    "\n",
    "# Initialize Seq2Seq Model\n",
    "seq2seq_model = Seq2Seq(input_size, hidden_size, output_size, num_layers, dropout_rate)\n",
    "seq2seq_model.load_state_dict(torch.load('./models_weights_storage/seq2seq_non_autoregressive_LSTM.pth'))\n",
    "seq2seq_model.eval()  # important for inference mode\n"
   ]
  }
 ],
 "metadata": {
  "kernelspec": {
   "display_name": "3.11.5",
   "language": "python",
   "name": "python3"
  },
  "language_info": {
   "codemirror_mode": {
    "name": "ipython",
    "version": 3
   },
   "file_extension": ".py",
   "mimetype": "text/x-python",
   "name": "python",
   "nbconvert_exporter": "python",
   "pygments_lexer": "ipython3",
   "version": "3.11.5"
  }
 },
 "nbformat": 4,
 "nbformat_minor": 2
}
